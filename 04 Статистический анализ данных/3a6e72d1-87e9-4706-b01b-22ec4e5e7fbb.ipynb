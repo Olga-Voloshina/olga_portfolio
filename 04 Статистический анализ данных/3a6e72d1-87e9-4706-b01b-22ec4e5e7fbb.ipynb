{
 "cells": [
  {
   "cell_type": "markdown",
   "metadata": {},
   "source": [
    "<div class=\"alert alert-success\">\n",
    "<b> Комментарий от ревьюера 2 ✔️</b>\n",
    "\n",
    "Привет еще раз. Оформление комментариев по работе сохраняется. Только обозначим, что это вторая итерация. \n",
    "\n",
    "</div>"
   ]
  },
  {
   "cell_type": "markdown",
   "metadata": {},
   "source": [
    "<b>Комментарий от ревьюера</b>\n",
    "\n",
    "Привет! Меня зовут Ярослав Кальманов, я буду делать ревью твоего проекта. Давай будем общаться на «ты».\n",
    "\n",
    "Мои комментарии будут в ячейках \"Комментарий от ревьюера\".\n",
    "\n",
    "<div class=\"alert alert-danger\"> \n",
    "\n",
    "<b> Комментарий от ревьюера ❗</b>\n",
    "\n",
    "Красным цветом обозначены комментарии, на которые тебе нужно обратить внимание в первую очередь, чтобы я принял проект. \n",
    "</div>\n",
    "<div class=\"alert alert-warning\">\n",
    "\n",
    "<b> Комментарий от ревьюера ⚠️</b>\n",
    "\n",
    "Желтым цветом отмечено то, что ты можешь сделать немного по-другому. Ты можешь учесть эти комментарии при выполнении следующих проектов.\n",
    "</div>\n",
    "<div class=\"alert alert-success\">\n",
    "\n",
    "<b> Комментарий от ревьюера ✔️</b>\n",
    "\n",
    "Зелёным цветом обозначены твои удачные решения, которые ты без сомнения можешь применять в будущих проектах.  \n",
    "</div>\n",
    "\n",
    "Если ты вносишь изменения в проект по моим рекомендациям, указывай, пожалуйста, это в своих комментариях. Будет удобно, если обозначишь свои комментарии заметным цветом или поместишь \n",
    "\n",
    "<div class=\"alert alert-info\">\n",
    "    \n",
    "в такую ячейку\n",
    "</div>\n",
    "\n",
    "Давай при работе с проектом мы будем общаться с тобой в диалоге, поэтому не удаляй и не перемещай мои комментарии, это поможет мне сделать повторную  проверку проекта быстрее.\n",
    "___"
   ]
  },
  {
   "cell_type": "markdown",
   "metadata": {},
   "source": [
    "<div class=\"alert alert-info\">\n",
    "Привет, Ярослав! я все переделала.\n",
    "</div>"
   ]
  },
  {
   "cell_type": "markdown",
   "metadata": {},
   "source": [
    "<div class=\"alert alert-success\">\n",
    "    \n",
    "<b> Комментарий от ревьюера 2 ✔️</b>\n",
    "\n",
    "👍\n",
    "\n",
    "</div>"
   ]
  },
  {
   "cell_type": "markdown",
   "metadata": {},
   "source": [
    "## Общая информация о данных"
   ]
  },
  {
   "cell_type": "markdown",
   "metadata": {},
   "source": [
    "Компания «Мегалайн», федеральный оператор сотовой связи, просит провести анализ двух новых тарифных планов - «Смарт» и «Ультра». Чтобы скорректировать рекламный бюджет, коммерческий департамент хочет понять, какой тариф приносит больше денег.\n",
    "Предстоит сделать предварительный анализ тарифов на небольшой выборке клиентов. В нашем распоряжении данные 500 пользователей «Мегалайна»: кто они, откуда, каким тарифом пользуются, сколько звонков и сообщений каждый отправил за 2018 год. Нужно проанализировать поведение клиентов и сделать вывод — какой тариф лучше."
   ]
  },
  {
   "cell_type": "markdown",
   "metadata": {},
   "source": [
    "<div class=\"alert alert-warning\">\n",
    "    \n",
    "<b> Комментарий от ревьюера ⚠️</b>\n",
    "    \n",
    "В начале работы стоит добавить описание проекта, чтобы твои коллеги понимали цели исследования. Это поможет и тебе самому, если ты вернешься к проекту спустя время.\n",
    "    \n",
    "Еще сюда можно добавить описание данных и оглавление. Описание поможет быстрее разобраться, что у нас лежит в датафрейме, а оглавление позволит понять охваченные вопросы и поможет сразу перейти к нужному разделу.\n",
    "</div>"
   ]
  },
  {
   "cell_type": "markdown",
   "metadata": {},
   "source": [
    "<div class=\"alert alert-info\">\n",
    "Добавила краткое описание.\n",
    "</div>"
   ]
  },
  {
   "cell_type": "markdown",
   "metadata": {},
   "source": [
    "<div class=\"alert alert-success\">\n",
    "    \n",
    "<b> Комментарий от ревьюера 2 ✔️</b>\n",
    "\n",
    "Супер!\n",
    "\n",
    "</div>\n"
   ]
  },
  {
   "cell_type": "markdown",
   "metadata": {},
   "source": [
    "Начнем работу с общей характеристики данных, которые нам поступили. Для анализа имеются файлы расширения .csv, откроем их и рассмотрим, используя методы из библиотеки pandas."
   ]
  },
  {
   "cell_type": "markdown",
   "metadata": {},
   "source": [
    "Файл, несущий информацию о тарифах, содержит две строки, описывающие тарифные планы \"Смарт\" и \"Ультра\". "
   ]
  },
  {
   "cell_type": "code",
   "execution_count": 1,
   "metadata": {},
   "outputs": [],
   "source": [
    "import pandas as pd\n",
    "import numpy as np\n",
    "import matplotlib as mpl\n",
    "import matplotlib.pyplot as plt\n",
    "from scipy import stats as st"
   ]
  },
  {
   "cell_type": "code",
   "execution_count": 2,
   "metadata": {
    "scrolled": true
   },
   "outputs": [
    {
     "data": {
      "text/html": [
       "<div>\n",
       "<style scoped>\n",
       "    .dataframe tbody tr th:only-of-type {\n",
       "        vertical-align: middle;\n",
       "    }\n",
       "\n",
       "    .dataframe tbody tr th {\n",
       "        vertical-align: top;\n",
       "    }\n",
       "\n",
       "    .dataframe thead th {\n",
       "        text-align: right;\n",
       "    }\n",
       "</style>\n",
       "<table border=\"1\" class=\"dataframe\">\n",
       "  <thead>\n",
       "    <tr style=\"text-align: right;\">\n",
       "      <th></th>\n",
       "      <th>messages_included</th>\n",
       "      <th>mb_per_month_included</th>\n",
       "      <th>minutes_included</th>\n",
       "      <th>rub_monthly_fee</th>\n",
       "      <th>rub_per_gb</th>\n",
       "      <th>rub_per_message</th>\n",
       "      <th>rub_per_minute</th>\n",
       "      <th>tariff_name</th>\n",
       "    </tr>\n",
       "  </thead>\n",
       "  <tbody>\n",
       "    <tr>\n",
       "      <td>0</td>\n",
       "      <td>50</td>\n",
       "      <td>15360</td>\n",
       "      <td>500</td>\n",
       "      <td>550</td>\n",
       "      <td>200</td>\n",
       "      <td>3</td>\n",
       "      <td>3</td>\n",
       "      <td>smart</td>\n",
       "    </tr>\n",
       "    <tr>\n",
       "      <td>1</td>\n",
       "      <td>1000</td>\n",
       "      <td>30720</td>\n",
       "      <td>3000</td>\n",
       "      <td>1950</td>\n",
       "      <td>150</td>\n",
       "      <td>1</td>\n",
       "      <td>1</td>\n",
       "      <td>ultra</td>\n",
       "    </tr>\n",
       "  </tbody>\n",
       "</table>\n",
       "</div>"
      ],
      "text/plain": [
       "   messages_included  mb_per_month_included  minutes_included  \\\n",
       "0                 50                  15360               500   \n",
       "1               1000                  30720              3000   \n",
       "\n",
       "   rub_monthly_fee  rub_per_gb  rub_per_message  rub_per_minute tariff_name  \n",
       "0              550         200                3               3       smart  \n",
       "1             1950         150                1               1       ultra  "
      ]
     },
     "execution_count": 2,
     "metadata": {},
     "output_type": "execute_result"
    }
   ],
   "source": [
    "tariffs = pd.read_csv('/datasets/tariffs.csv')\n",
    "tariffs.head()"
   ]
  },
  {
   "cell_type": "markdown",
   "metadata": {},
   "source": [
    "Таблица с данными о звонках содержит информацию о ~202 тысячах звонков. Каджому звонку присвоен id. Звонки в среднем длятся от 5 до 6 минут, максимальное время - 38 минут. Интересно отметить, что сохранены дробные значения, в то время как «Мегалайн» всегда округляет время звонка до минут вверх. В таблице указан id клиента, который совершал звонок. Есть информация о дате звонка, данные из этой колонки имеют строковый тип, для работы удобно будет перевести их в тип datatime.  "
   ]
  },
  {
   "cell_type": "code",
   "execution_count": 3,
   "metadata": {},
   "outputs": [
    {
     "data": {
      "text/html": [
       "<div>\n",
       "<style scoped>\n",
       "    .dataframe tbody tr th:only-of-type {\n",
       "        vertical-align: middle;\n",
       "    }\n",
       "\n",
       "    .dataframe tbody tr th {\n",
       "        vertical-align: top;\n",
       "    }\n",
       "\n",
       "    .dataframe thead th {\n",
       "        text-align: right;\n",
       "    }\n",
       "</style>\n",
       "<table border=\"1\" class=\"dataframe\">\n",
       "  <thead>\n",
       "    <tr style=\"text-align: right;\">\n",
       "      <th></th>\n",
       "      <th>id</th>\n",
       "      <th>call_date</th>\n",
       "      <th>duration</th>\n",
       "      <th>user_id</th>\n",
       "    </tr>\n",
       "  </thead>\n",
       "  <tbody>\n",
       "    <tr>\n",
       "      <td>0</td>\n",
       "      <td>1000_0</td>\n",
       "      <td>2018-07-25</td>\n",
       "      <td>0.00</td>\n",
       "      <td>1000</td>\n",
       "    </tr>\n",
       "    <tr>\n",
       "      <td>1</td>\n",
       "      <td>1000_1</td>\n",
       "      <td>2018-08-17</td>\n",
       "      <td>0.00</td>\n",
       "      <td>1000</td>\n",
       "    </tr>\n",
       "    <tr>\n",
       "      <td>2</td>\n",
       "      <td>1000_2</td>\n",
       "      <td>2018-06-11</td>\n",
       "      <td>2.85</td>\n",
       "      <td>1000</td>\n",
       "    </tr>\n",
       "    <tr>\n",
       "      <td>3</td>\n",
       "      <td>1000_3</td>\n",
       "      <td>2018-09-21</td>\n",
       "      <td>13.80</td>\n",
       "      <td>1000</td>\n",
       "    </tr>\n",
       "    <tr>\n",
       "      <td>4</td>\n",
       "      <td>1000_4</td>\n",
       "      <td>2018-12-15</td>\n",
       "      <td>5.18</td>\n",
       "      <td>1000</td>\n",
       "    </tr>\n",
       "  </tbody>\n",
       "</table>\n",
       "</div>"
      ],
      "text/plain": [
       "       id   call_date  duration  user_id\n",
       "0  1000_0  2018-07-25      0.00     1000\n",
       "1  1000_1  2018-08-17      0.00     1000\n",
       "2  1000_2  2018-06-11      2.85     1000\n",
       "3  1000_3  2018-09-21     13.80     1000\n",
       "4  1000_4  2018-12-15      5.18     1000"
      ]
     },
     "execution_count": 3,
     "metadata": {},
     "output_type": "execute_result"
    }
   ],
   "source": [
    "calls = pd.read_csv('/datasets/calls.csv')\n",
    "calls.head()"
   ]
  },
  {
   "cell_type": "code",
   "execution_count": 4,
   "metadata": {},
   "outputs": [
    {
     "name": "stdout",
     "output_type": "stream",
     "text": [
      "<class 'pandas.core.frame.DataFrame'>\n",
      "RangeIndex: 202607 entries, 0 to 202606\n",
      "Data columns (total 4 columns):\n",
      "id           202607 non-null object\n",
      "call_date    202607 non-null object\n",
      "duration     202607 non-null float64\n",
      "user_id      202607 non-null int64\n",
      "dtypes: float64(1), int64(1), object(2)\n",
      "memory usage: 6.2+ MB\n"
     ]
    },
    {
     "data": {
      "text/html": [
       "<div>\n",
       "<style scoped>\n",
       "    .dataframe tbody tr th:only-of-type {\n",
       "        vertical-align: middle;\n",
       "    }\n",
       "\n",
       "    .dataframe tbody tr th {\n",
       "        vertical-align: top;\n",
       "    }\n",
       "\n",
       "    .dataframe thead th {\n",
       "        text-align: right;\n",
       "    }\n",
       "</style>\n",
       "<table border=\"1\" class=\"dataframe\">\n",
       "  <thead>\n",
       "    <tr style=\"text-align: right;\">\n",
       "      <th></th>\n",
       "      <th>duration</th>\n",
       "      <th>user_id</th>\n",
       "    </tr>\n",
       "  </thead>\n",
       "  <tbody>\n",
       "    <tr>\n",
       "      <td>count</td>\n",
       "      <td>202607.000000</td>\n",
       "      <td>202607.000000</td>\n",
       "    </tr>\n",
       "    <tr>\n",
       "      <td>mean</td>\n",
       "      <td>6.755887</td>\n",
       "      <td>1253.940619</td>\n",
       "    </tr>\n",
       "    <tr>\n",
       "      <td>std</td>\n",
       "      <td>5.843365</td>\n",
       "      <td>144.722751</td>\n",
       "    </tr>\n",
       "    <tr>\n",
       "      <td>min</td>\n",
       "      <td>0.000000</td>\n",
       "      <td>1000.000000</td>\n",
       "    </tr>\n",
       "    <tr>\n",
       "      <td>25%</td>\n",
       "      <td>1.300000</td>\n",
       "      <td>1126.000000</td>\n",
       "    </tr>\n",
       "    <tr>\n",
       "      <td>50%</td>\n",
       "      <td>6.000000</td>\n",
       "      <td>1260.000000</td>\n",
       "    </tr>\n",
       "    <tr>\n",
       "      <td>75%</td>\n",
       "      <td>10.700000</td>\n",
       "      <td>1379.000000</td>\n",
       "    </tr>\n",
       "    <tr>\n",
       "      <td>max</td>\n",
       "      <td>38.000000</td>\n",
       "      <td>1499.000000</td>\n",
       "    </tr>\n",
       "  </tbody>\n",
       "</table>\n",
       "</div>"
      ],
      "text/plain": [
       "            duration        user_id\n",
       "count  202607.000000  202607.000000\n",
       "mean        6.755887    1253.940619\n",
       "std         5.843365     144.722751\n",
       "min         0.000000    1000.000000\n",
       "25%         1.300000    1126.000000\n",
       "50%         6.000000    1260.000000\n",
       "75%        10.700000    1379.000000\n",
       "max        38.000000    1499.000000"
      ]
     },
     "execution_count": 4,
     "metadata": {},
     "output_type": "execute_result"
    }
   ],
   "source": [
    "calls.info()\n",
    "calls.describe()"
   ]
  },
  {
   "cell_type": "markdown",
   "metadata": {},
   "source": [
    "Таблица об использовании интернет-трафика содержит информацию о количестве мегабайт, израсходованных за каждую из ~150 тысяч сессий. В среднем за сессию расходуется ~350 Мб, а иногда и до 1.5 Гб. Это адекватные значения. Каждой сессии присвоен id, указана дата и id клиента."
   ]
  },
  {
   "cell_type": "code",
   "execution_count": 5,
   "metadata": {
    "scrolled": true
   },
   "outputs": [
    {
     "data": {
      "text/html": [
       "<div>\n",
       "<style scoped>\n",
       "    .dataframe tbody tr th:only-of-type {\n",
       "        vertical-align: middle;\n",
       "    }\n",
       "\n",
       "    .dataframe tbody tr th {\n",
       "        vertical-align: top;\n",
       "    }\n",
       "\n",
       "    .dataframe thead th {\n",
       "        text-align: right;\n",
       "    }\n",
       "</style>\n",
       "<table border=\"1\" class=\"dataframe\">\n",
       "  <thead>\n",
       "    <tr style=\"text-align: right;\">\n",
       "      <th></th>\n",
       "      <th>Unnamed: 0</th>\n",
       "      <th>id</th>\n",
       "      <th>mb_used</th>\n",
       "      <th>session_date</th>\n",
       "      <th>user_id</th>\n",
       "    </tr>\n",
       "  </thead>\n",
       "  <tbody>\n",
       "    <tr>\n",
       "      <td>0</td>\n",
       "      <td>0</td>\n",
       "      <td>1000_0</td>\n",
       "      <td>112.95</td>\n",
       "      <td>2018-11-25</td>\n",
       "      <td>1000</td>\n",
       "    </tr>\n",
       "    <tr>\n",
       "      <td>1</td>\n",
       "      <td>1</td>\n",
       "      <td>1000_1</td>\n",
       "      <td>1052.81</td>\n",
       "      <td>2018-09-07</td>\n",
       "      <td>1000</td>\n",
       "    </tr>\n",
       "    <tr>\n",
       "      <td>2</td>\n",
       "      <td>2</td>\n",
       "      <td>1000_2</td>\n",
       "      <td>1197.26</td>\n",
       "      <td>2018-06-25</td>\n",
       "      <td>1000</td>\n",
       "    </tr>\n",
       "    <tr>\n",
       "      <td>3</td>\n",
       "      <td>3</td>\n",
       "      <td>1000_3</td>\n",
       "      <td>550.27</td>\n",
       "      <td>2018-08-22</td>\n",
       "      <td>1000</td>\n",
       "    </tr>\n",
       "    <tr>\n",
       "      <td>4</td>\n",
       "      <td>4</td>\n",
       "      <td>1000_4</td>\n",
       "      <td>302.56</td>\n",
       "      <td>2018-09-24</td>\n",
       "      <td>1000</td>\n",
       "    </tr>\n",
       "  </tbody>\n",
       "</table>\n",
       "</div>"
      ],
      "text/plain": [
       "   Unnamed: 0      id  mb_used session_date  user_id\n",
       "0           0  1000_0   112.95   2018-11-25     1000\n",
       "1           1  1000_1  1052.81   2018-09-07     1000\n",
       "2           2  1000_2  1197.26   2018-06-25     1000\n",
       "3           3  1000_3   550.27   2018-08-22     1000\n",
       "4           4  1000_4   302.56   2018-09-24     1000"
      ]
     },
     "execution_count": 5,
     "metadata": {},
     "output_type": "execute_result"
    }
   ],
   "source": [
    "internet = pd.read_csv('/datasets/internet.csv')\n",
    "internet.head()"
   ]
  },
  {
   "cell_type": "code",
   "execution_count": 6,
   "metadata": {},
   "outputs": [
    {
     "name": "stdout",
     "output_type": "stream",
     "text": [
      "<class 'pandas.core.frame.DataFrame'>\n",
      "RangeIndex: 149396 entries, 0 to 149395\n",
      "Data columns (total 5 columns):\n",
      "Unnamed: 0      149396 non-null int64\n",
      "id              149396 non-null object\n",
      "mb_used         149396 non-null float64\n",
      "session_date    149396 non-null object\n",
      "user_id         149396 non-null int64\n",
      "dtypes: float64(1), int64(2), object(2)\n",
      "memory usage: 5.7+ MB\n"
     ]
    },
    {
     "data": {
      "text/html": [
       "<div>\n",
       "<style scoped>\n",
       "    .dataframe tbody tr th:only-of-type {\n",
       "        vertical-align: middle;\n",
       "    }\n",
       "\n",
       "    .dataframe tbody tr th {\n",
       "        vertical-align: top;\n",
       "    }\n",
       "\n",
       "    .dataframe thead th {\n",
       "        text-align: right;\n",
       "    }\n",
       "</style>\n",
       "<table border=\"1\" class=\"dataframe\">\n",
       "  <thead>\n",
       "    <tr style=\"text-align: right;\">\n",
       "      <th></th>\n",
       "      <th>Unnamed: 0</th>\n",
       "      <th>mb_used</th>\n",
       "      <th>user_id</th>\n",
       "    </tr>\n",
       "  </thead>\n",
       "  <tbody>\n",
       "    <tr>\n",
       "      <td>count</td>\n",
       "      <td>149396.000000</td>\n",
       "      <td>149396.000000</td>\n",
       "      <td>149396.000000</td>\n",
       "    </tr>\n",
       "    <tr>\n",
       "      <td>mean</td>\n",
       "      <td>74697.500000</td>\n",
       "      <td>370.192426</td>\n",
       "      <td>1252.099842</td>\n",
       "    </tr>\n",
       "    <tr>\n",
       "      <td>std</td>\n",
       "      <td>43127.054745</td>\n",
       "      <td>278.300951</td>\n",
       "      <td>144.050823</td>\n",
       "    </tr>\n",
       "    <tr>\n",
       "      <td>min</td>\n",
       "      <td>0.000000</td>\n",
       "      <td>0.000000</td>\n",
       "      <td>1000.000000</td>\n",
       "    </tr>\n",
       "    <tr>\n",
       "      <td>25%</td>\n",
       "      <td>37348.750000</td>\n",
       "      <td>138.187500</td>\n",
       "      <td>1130.000000</td>\n",
       "    </tr>\n",
       "    <tr>\n",
       "      <td>50%</td>\n",
       "      <td>74697.500000</td>\n",
       "      <td>348.015000</td>\n",
       "      <td>1251.000000</td>\n",
       "    </tr>\n",
       "    <tr>\n",
       "      <td>75%</td>\n",
       "      <td>112046.250000</td>\n",
       "      <td>559.552500</td>\n",
       "      <td>1380.000000</td>\n",
       "    </tr>\n",
       "    <tr>\n",
       "      <td>max</td>\n",
       "      <td>149395.000000</td>\n",
       "      <td>1724.830000</td>\n",
       "      <td>1499.000000</td>\n",
       "    </tr>\n",
       "  </tbody>\n",
       "</table>\n",
       "</div>"
      ],
      "text/plain": [
       "          Unnamed: 0        mb_used        user_id\n",
       "count  149396.000000  149396.000000  149396.000000\n",
       "mean    74697.500000     370.192426    1252.099842\n",
       "std     43127.054745     278.300951     144.050823\n",
       "min         0.000000       0.000000    1000.000000\n",
       "25%     37348.750000     138.187500    1130.000000\n",
       "50%     74697.500000     348.015000    1251.000000\n",
       "75%    112046.250000     559.552500    1380.000000\n",
       "max    149395.000000    1724.830000    1499.000000"
      ]
     },
     "execution_count": 6,
     "metadata": {},
     "output_type": "execute_result"
    }
   ],
   "source": [
    "internet.info()\n",
    "internet.describe()"
   ]
  },
  {
   "cell_type": "markdown",
   "metadata": {},
   "source": [
    "Таблица о сообщениях содержит 123 тысячи строки. Каждму сообщению присвоен id, указана дата и id клиента."
   ]
  },
  {
   "cell_type": "code",
   "execution_count": 7,
   "metadata": {
    "scrolled": true
   },
   "outputs": [
    {
     "data": {
      "text/html": [
       "<div>\n",
       "<style scoped>\n",
       "    .dataframe tbody tr th:only-of-type {\n",
       "        vertical-align: middle;\n",
       "    }\n",
       "\n",
       "    .dataframe tbody tr th {\n",
       "        vertical-align: top;\n",
       "    }\n",
       "\n",
       "    .dataframe thead th {\n",
       "        text-align: right;\n",
       "    }\n",
       "</style>\n",
       "<table border=\"1\" class=\"dataframe\">\n",
       "  <thead>\n",
       "    <tr style=\"text-align: right;\">\n",
       "      <th></th>\n",
       "      <th>id</th>\n",
       "      <th>message_date</th>\n",
       "      <th>user_id</th>\n",
       "    </tr>\n",
       "  </thead>\n",
       "  <tbody>\n",
       "    <tr>\n",
       "      <td>0</td>\n",
       "      <td>1000_0</td>\n",
       "      <td>2018-06-27</td>\n",
       "      <td>1000</td>\n",
       "    </tr>\n",
       "    <tr>\n",
       "      <td>1</td>\n",
       "      <td>1000_1</td>\n",
       "      <td>2018-10-08</td>\n",
       "      <td>1000</td>\n",
       "    </tr>\n",
       "    <tr>\n",
       "      <td>2</td>\n",
       "      <td>1000_2</td>\n",
       "      <td>2018-08-04</td>\n",
       "      <td>1000</td>\n",
       "    </tr>\n",
       "    <tr>\n",
       "      <td>3</td>\n",
       "      <td>1000_3</td>\n",
       "      <td>2018-06-16</td>\n",
       "      <td>1000</td>\n",
       "    </tr>\n",
       "    <tr>\n",
       "      <td>4</td>\n",
       "      <td>1000_4</td>\n",
       "      <td>2018-12-05</td>\n",
       "      <td>1000</td>\n",
       "    </tr>\n",
       "  </tbody>\n",
       "</table>\n",
       "</div>"
      ],
      "text/plain": [
       "       id message_date  user_id\n",
       "0  1000_0   2018-06-27     1000\n",
       "1  1000_1   2018-10-08     1000\n",
       "2  1000_2   2018-08-04     1000\n",
       "3  1000_3   2018-06-16     1000\n",
       "4  1000_4   2018-12-05     1000"
      ]
     },
     "execution_count": 7,
     "metadata": {},
     "output_type": "execute_result"
    }
   ],
   "source": [
    "messages = pd.read_csv('/datasets/messages.csv')\n",
    "messages.head()"
   ]
  },
  {
   "cell_type": "code",
   "execution_count": 8,
   "metadata": {},
   "outputs": [
    {
     "name": "stdout",
     "output_type": "stream",
     "text": [
      "<class 'pandas.core.frame.DataFrame'>\n",
      "RangeIndex: 123036 entries, 0 to 123035\n",
      "Data columns (total 3 columns):\n",
      "id              123036 non-null object\n",
      "message_date    123036 non-null object\n",
      "user_id         123036 non-null int64\n",
      "dtypes: int64(1), object(2)\n",
      "memory usage: 2.8+ MB\n"
     ]
    }
   ],
   "source": [
    "messages.info()\n",
    "#messages.describe()"
   ]
  },
  {
   "cell_type": "markdown",
   "metadata": {},
   "source": [
    "Также в нашем распоряжении есть данные о 500 клиентах: имя, возраст, город регистрации. Каждому клиенту присвоен уникальный id, указан тарифный план, дата регистрации и дата прекращения пользования тарифом (если есть)."
   ]
  },
  {
   "cell_type": "code",
   "execution_count": 9,
   "metadata": {
    "scrolled": true
   },
   "outputs": [
    {
     "data": {
      "text/html": [
       "<div>\n",
       "<style scoped>\n",
       "    .dataframe tbody tr th:only-of-type {\n",
       "        vertical-align: middle;\n",
       "    }\n",
       "\n",
       "    .dataframe tbody tr th {\n",
       "        vertical-align: top;\n",
       "    }\n",
       "\n",
       "    .dataframe thead th {\n",
       "        text-align: right;\n",
       "    }\n",
       "</style>\n",
       "<table border=\"1\" class=\"dataframe\">\n",
       "  <thead>\n",
       "    <tr style=\"text-align: right;\">\n",
       "      <th></th>\n",
       "      <th>user_id</th>\n",
       "      <th>age</th>\n",
       "      <th>churn_date</th>\n",
       "      <th>city</th>\n",
       "      <th>first_name</th>\n",
       "      <th>last_name</th>\n",
       "      <th>reg_date</th>\n",
       "      <th>tariff</th>\n",
       "    </tr>\n",
       "  </thead>\n",
       "  <tbody>\n",
       "    <tr>\n",
       "      <td>0</td>\n",
       "      <td>1000</td>\n",
       "      <td>52</td>\n",
       "      <td>NaN</td>\n",
       "      <td>Краснодар</td>\n",
       "      <td>Рафаил</td>\n",
       "      <td>Верещагин</td>\n",
       "      <td>2018-05-25</td>\n",
       "      <td>ultra</td>\n",
       "    </tr>\n",
       "    <tr>\n",
       "      <td>1</td>\n",
       "      <td>1001</td>\n",
       "      <td>41</td>\n",
       "      <td>NaN</td>\n",
       "      <td>Москва</td>\n",
       "      <td>Иван</td>\n",
       "      <td>Ежов</td>\n",
       "      <td>2018-11-01</td>\n",
       "      <td>smart</td>\n",
       "    </tr>\n",
       "    <tr>\n",
       "      <td>2</td>\n",
       "      <td>1002</td>\n",
       "      <td>59</td>\n",
       "      <td>NaN</td>\n",
       "      <td>Стерлитамак</td>\n",
       "      <td>Евгений</td>\n",
       "      <td>Абрамович</td>\n",
       "      <td>2018-06-17</td>\n",
       "      <td>smart</td>\n",
       "    </tr>\n",
       "    <tr>\n",
       "      <td>3</td>\n",
       "      <td>1003</td>\n",
       "      <td>23</td>\n",
       "      <td>NaN</td>\n",
       "      <td>Москва</td>\n",
       "      <td>Белла</td>\n",
       "      <td>Белякова</td>\n",
       "      <td>2018-08-17</td>\n",
       "      <td>ultra</td>\n",
       "    </tr>\n",
       "    <tr>\n",
       "      <td>4</td>\n",
       "      <td>1004</td>\n",
       "      <td>68</td>\n",
       "      <td>NaN</td>\n",
       "      <td>Новокузнецк</td>\n",
       "      <td>Татьяна</td>\n",
       "      <td>Авдеенко</td>\n",
       "      <td>2018-05-14</td>\n",
       "      <td>ultra</td>\n",
       "    </tr>\n",
       "  </tbody>\n",
       "</table>\n",
       "</div>"
      ],
      "text/plain": [
       "   user_id  age churn_date         city first_name  last_name    reg_date  \\\n",
       "0     1000   52        NaN    Краснодар     Рафаил  Верещагин  2018-05-25   \n",
       "1     1001   41        NaN       Москва       Иван       Ежов  2018-11-01   \n",
       "2     1002   59        NaN  Стерлитамак    Евгений  Абрамович  2018-06-17   \n",
       "3     1003   23        NaN       Москва      Белла   Белякова  2018-08-17   \n",
       "4     1004   68        NaN  Новокузнецк    Татьяна   Авдеенко  2018-05-14   \n",
       "\n",
       "  tariff  \n",
       "0  ultra  \n",
       "1  smart  \n",
       "2  smart  \n",
       "3  ultra  \n",
       "4  ultra  "
      ]
     },
     "execution_count": 9,
     "metadata": {},
     "output_type": "execute_result"
    }
   ],
   "source": [
    "users = pd.read_csv('/datasets/users.csv')\n",
    "users.head()"
   ]
  },
  {
   "cell_type": "code",
   "execution_count": 10,
   "metadata": {
    "scrolled": true
   },
   "outputs": [
    {
     "name": "stdout",
     "output_type": "stream",
     "text": [
      "<class 'pandas.core.frame.DataFrame'>\n",
      "RangeIndex: 500 entries, 0 to 499\n",
      "Data columns (total 8 columns):\n",
      "user_id       500 non-null int64\n",
      "age           500 non-null int64\n",
      "churn_date    38 non-null object\n",
      "city          500 non-null object\n",
      "first_name    500 non-null object\n",
      "last_name     500 non-null object\n",
      "reg_date      500 non-null object\n",
      "tariff        500 non-null object\n",
      "dtypes: int64(2), object(6)\n",
      "memory usage: 31.4+ KB\n"
     ]
    },
    {
     "data": {
      "text/html": [
       "<div>\n",
       "<style scoped>\n",
       "    .dataframe tbody tr th:only-of-type {\n",
       "        vertical-align: middle;\n",
       "    }\n",
       "\n",
       "    .dataframe tbody tr th {\n",
       "        vertical-align: top;\n",
       "    }\n",
       "\n",
       "    .dataframe thead th {\n",
       "        text-align: right;\n",
       "    }\n",
       "</style>\n",
       "<table border=\"1\" class=\"dataframe\">\n",
       "  <thead>\n",
       "    <tr style=\"text-align: right;\">\n",
       "      <th></th>\n",
       "      <th>user_id</th>\n",
       "      <th>age</th>\n",
       "    </tr>\n",
       "  </thead>\n",
       "  <tbody>\n",
       "    <tr>\n",
       "      <td>count</td>\n",
       "      <td>500.000000</td>\n",
       "      <td>500.00000</td>\n",
       "    </tr>\n",
       "    <tr>\n",
       "      <td>mean</td>\n",
       "      <td>1249.500000</td>\n",
       "      <td>46.58800</td>\n",
       "    </tr>\n",
       "    <tr>\n",
       "      <td>std</td>\n",
       "      <td>144.481833</td>\n",
       "      <td>16.66763</td>\n",
       "    </tr>\n",
       "    <tr>\n",
       "      <td>min</td>\n",
       "      <td>1000.000000</td>\n",
       "      <td>18.00000</td>\n",
       "    </tr>\n",
       "    <tr>\n",
       "      <td>25%</td>\n",
       "      <td>1124.750000</td>\n",
       "      <td>32.00000</td>\n",
       "    </tr>\n",
       "    <tr>\n",
       "      <td>50%</td>\n",
       "      <td>1249.500000</td>\n",
       "      <td>46.00000</td>\n",
       "    </tr>\n",
       "    <tr>\n",
       "      <td>75%</td>\n",
       "      <td>1374.250000</td>\n",
       "      <td>62.00000</td>\n",
       "    </tr>\n",
       "    <tr>\n",
       "      <td>max</td>\n",
       "      <td>1499.000000</td>\n",
       "      <td>75.00000</td>\n",
       "    </tr>\n",
       "  </tbody>\n",
       "</table>\n",
       "</div>"
      ],
      "text/plain": [
       "           user_id        age\n",
       "count   500.000000  500.00000\n",
       "mean   1249.500000   46.58800\n",
       "std     144.481833   16.66763\n",
       "min    1000.000000   18.00000\n",
       "25%    1124.750000   32.00000\n",
       "50%    1249.500000   46.00000\n",
       "75%    1374.250000   62.00000\n",
       "max    1499.000000   75.00000"
      ]
     },
     "execution_count": 10,
     "metadata": {},
     "output_type": "execute_result"
    }
   ],
   "source": [
    "users.info()\n",
    "users.describe()"
   ]
  },
  {
   "cell_type": "markdown",
   "metadata": {},
   "source": [
    "### Вывод"
   ]
  },
  {
   "cell_type": "markdown",
   "metadata": {},
   "source": [
    "Для проведения анализа были получены файлы, содержащие информацию о тарифных планах, пользователях и совершаемых действиях. При поверхностном просмотре данных были сделаны следующие выводы:\n",
    "- В представленных таблицах нет пропущенных значений, кроме столбца о дате снятия с регистрации, где пропущенные значения должны быть.\n",
    "- Все значения соответствуют здравому смыслу, очевидных выбросов нет.\n",
    "- Информация о датах во всех таблицах имеет строковый тип, при этом мы ожидаем тип datatime. \n",
    "- Имеющиеся данные могут быть использованы для решения поставленной задачи."
   ]
  },
  {
   "cell_type": "markdown",
   "metadata": {},
   "source": [
    "<div class=\"alert alert-success\">\n",
    "    \n",
    "<b> Комментарий от ревьюера ✔️</b>\n",
    "    \n",
    "С изучением загруженных данных все отлично!\n",
    "</div>"
   ]
  },
  {
   "cell_type": "markdown",
   "metadata": {},
   "source": [
    "## Подготовка данных"
   ]
  },
  {
   "cell_type": "markdown",
   "metadata": {},
   "source": [
    "### Поиск дублирующихся строк"
   ]
  },
  {
   "cell_type": "markdown",
   "metadata": {},
   "source": [
    "Дублирующихся строк в таблицах о действиях пользователей не обнаружено"
   ]
  },
  {
   "cell_type": "code",
   "execution_count": 11,
   "metadata": {
    "scrolled": true
   },
   "outputs": [
    {
     "data": {
      "text/plain": [
       "0"
      ]
     },
     "execution_count": 11,
     "metadata": {},
     "output_type": "execute_result"
    }
   ],
   "source": [
    "calls.duplicated().sum()"
   ]
  },
  {
   "cell_type": "code",
   "execution_count": 12,
   "metadata": {},
   "outputs": [
    {
     "data": {
      "text/plain": [
       "0"
      ]
     },
     "execution_count": 12,
     "metadata": {},
     "output_type": "execute_result"
    }
   ],
   "source": [
    "internet.duplicated().sum()"
   ]
  },
  {
   "cell_type": "code",
   "execution_count": 13,
   "metadata": {},
   "outputs": [
    {
     "data": {
      "text/plain": [
       "0"
      ]
     },
     "execution_count": 13,
     "metadata": {},
     "output_type": "execute_result"
    }
   ],
   "source": [
    "messages.duplicated().sum()"
   ]
  },
  {
   "cell_type": "markdown",
   "metadata": {},
   "source": [
    "### Приведение данных к соответствующему типу"
   ]
  },
  {
   "cell_type": "markdown",
   "metadata": {},
   "source": [
    "Все столбцы, касающиеся даты, имеют строковый формат тип, при этом мы ожидаем тип datatime. Приведем эти данные к соответствующему типу."
   ]
  },
  {
   "cell_type": "code",
   "execution_count": 14,
   "metadata": {},
   "outputs": [],
   "source": [
    "calls['call_date'] = pd.to_datetime(calls['call_date'], format='%Y-%m-%d')\n",
    "internet['session_date'] = pd.to_datetime(internet['session_date'], format='%Y-%m-%d')\n",
    "messages['message_date'] = pd.to_datetime(messages['message_date'], format='%Y-%m-%d')\n",
    "users['reg_date'] = pd.to_datetime(users['reg_date'], format='%Y-%m-%d')\n",
    "users['churn_date'] = pd.to_datetime(users['churn_date'], format='%Y-%m-%d')"
   ]
  },
  {
   "cell_type": "markdown",
   "metadata": {},
   "source": [
    "Столбец 'duration' в таблице с информацией о звонках имеет тип float, и дробные значения. При этом известно, что «Мегалайн» всегда округляет секунды до минут, то есть при расчете длительности звонка используется целое число. Округлим значения в столбце в большую сторону и переведем данные в целочисленный тип. "
   ]
  },
  {
   "cell_type": "code",
   "execution_count": 15,
   "metadata": {
    "scrolled": true
   },
   "outputs": [
    {
     "data": {
      "text/html": [
       "<div>\n",
       "<style scoped>\n",
       "    .dataframe tbody tr th:only-of-type {\n",
       "        vertical-align: middle;\n",
       "    }\n",
       "\n",
       "    .dataframe tbody tr th {\n",
       "        vertical-align: top;\n",
       "    }\n",
       "\n",
       "    .dataframe thead th {\n",
       "        text-align: right;\n",
       "    }\n",
       "</style>\n",
       "<table border=\"1\" class=\"dataframe\">\n",
       "  <thead>\n",
       "    <tr style=\"text-align: right;\">\n",
       "      <th></th>\n",
       "      <th>id</th>\n",
       "      <th>call_date</th>\n",
       "      <th>duration</th>\n",
       "      <th>user_id</th>\n",
       "    </tr>\n",
       "  </thead>\n",
       "  <tbody>\n",
       "    <tr>\n",
       "      <td>0</td>\n",
       "      <td>1000_0</td>\n",
       "      <td>2018-07-25</td>\n",
       "      <td>0</td>\n",
       "      <td>1000</td>\n",
       "    </tr>\n",
       "    <tr>\n",
       "      <td>1</td>\n",
       "      <td>1000_1</td>\n",
       "      <td>2018-08-17</td>\n",
       "      <td>0</td>\n",
       "      <td>1000</td>\n",
       "    </tr>\n",
       "    <tr>\n",
       "      <td>2</td>\n",
       "      <td>1000_2</td>\n",
       "      <td>2018-06-11</td>\n",
       "      <td>3</td>\n",
       "      <td>1000</td>\n",
       "    </tr>\n",
       "    <tr>\n",
       "      <td>3</td>\n",
       "      <td>1000_3</td>\n",
       "      <td>2018-09-21</td>\n",
       "      <td>14</td>\n",
       "      <td>1000</td>\n",
       "    </tr>\n",
       "    <tr>\n",
       "      <td>4</td>\n",
       "      <td>1000_4</td>\n",
       "      <td>2018-12-15</td>\n",
       "      <td>6</td>\n",
       "      <td>1000</td>\n",
       "    </tr>\n",
       "  </tbody>\n",
       "</table>\n",
       "</div>"
      ],
      "text/plain": [
       "       id  call_date  duration  user_id\n",
       "0  1000_0 2018-07-25         0     1000\n",
       "1  1000_1 2018-08-17         0     1000\n",
       "2  1000_2 2018-06-11         3     1000\n",
       "3  1000_3 2018-09-21        14     1000\n",
       "4  1000_4 2018-12-15         6     1000"
      ]
     },
     "execution_count": 15,
     "metadata": {},
     "output_type": "execute_result"
    }
   ],
   "source": [
    "calls['duration'] = np.ceil(calls['duration']).astype('int')\n",
    "calls.head()"
   ]
  },
  {
   "cell_type": "markdown",
   "metadata": {},
   "source": [
    "<div class=\"alert alert-success\">\n",
    "    \n",
    "<b> Комментарий от ревьюера ✔️</b>\n",
    "    \n",
    "Хорошее решение\n",
    "</div>"
   ]
  },
  {
   "cell_type": "markdown",
   "metadata": {},
   "source": [
    "<div class=\"alert alert-warning\">\n",
    "    \n",
    "<b> Комментарий от ревьюера ⚠️</b>\n",
    "    \n",
    "Все библиотеки лучше импортировать в начале файла. Об этом говорится в [стилевом гайде по питону](https://www.python.org/dev/peps/pep-0008/#imports)\n",
    "    \n",
    "    Imports are always put at the top of the file, just after any module comments and docstrings, and before module globals and constants.\n",
    "</div>"
   ]
  },
  {
   "cell_type": "markdown",
   "metadata": {},
   "source": [
    "<div class=\"alert alert-info\">\n",
    "Перенесла строчку с библиотекой в первую ячейку.\n",
    "</div>"
   ]
  },
  {
   "cell_type": "markdown",
   "metadata": {},
   "source": [
    "<div class=\"alert alert-success\">\n",
    "    \n",
    "<b> Комментарий от ревьюера 2 ✔️</b>\n",
    "\n",
    "Отлично!\n",
    "\n",
    "</div>"
   ]
  },
  {
   "cell_type": "markdown",
   "metadata": {},
   "source": [
    "Столбец 'user_id' в таблицах имеет целочисленный тип, хотя по сути должен быть строковым. Тип данных ни на что не влияет в этом случае, и мы не будем совершать лишних действий."
   ]
  },
  {
   "cell_type": "markdown",
   "metadata": {},
   "source": [
    "### Исправление ошибок в данных"
   ]
  },
  {
   "cell_type": "markdown",
   "metadata": {},
   "source": [
    "Таблица об использовании интернета содержит столбец 'Unnamed: 0'. Похоже этот столбец дублирует индексы и мы можем от него избавиться."
   ]
  },
  {
   "cell_type": "code",
   "execution_count": 16,
   "metadata": {
    "scrolled": false
   },
   "outputs": [
    {
     "data": {
      "text/html": [
       "<div>\n",
       "<style scoped>\n",
       "    .dataframe tbody tr th:only-of-type {\n",
       "        vertical-align: middle;\n",
       "    }\n",
       "\n",
       "    .dataframe tbody tr th {\n",
       "        vertical-align: top;\n",
       "    }\n",
       "\n",
       "    .dataframe thead th {\n",
       "        text-align: right;\n",
       "    }\n",
       "</style>\n",
       "<table border=\"1\" class=\"dataframe\">\n",
       "  <thead>\n",
       "    <tr style=\"text-align: right;\">\n",
       "      <th></th>\n",
       "      <th>id</th>\n",
       "      <th>mb_used</th>\n",
       "      <th>session_date</th>\n",
       "      <th>user_id</th>\n",
       "    </tr>\n",
       "  </thead>\n",
       "  <tbody>\n",
       "    <tr>\n",
       "      <td>0</td>\n",
       "      <td>1000_0</td>\n",
       "      <td>112.95</td>\n",
       "      <td>2018-11-25</td>\n",
       "      <td>1000</td>\n",
       "    </tr>\n",
       "    <tr>\n",
       "      <td>1</td>\n",
       "      <td>1000_1</td>\n",
       "      <td>1052.81</td>\n",
       "      <td>2018-09-07</td>\n",
       "      <td>1000</td>\n",
       "    </tr>\n",
       "    <tr>\n",
       "      <td>2</td>\n",
       "      <td>1000_2</td>\n",
       "      <td>1197.26</td>\n",
       "      <td>2018-06-25</td>\n",
       "      <td>1000</td>\n",
       "    </tr>\n",
       "    <tr>\n",
       "      <td>3</td>\n",
       "      <td>1000_3</td>\n",
       "      <td>550.27</td>\n",
       "      <td>2018-08-22</td>\n",
       "      <td>1000</td>\n",
       "    </tr>\n",
       "    <tr>\n",
       "      <td>4</td>\n",
       "      <td>1000_4</td>\n",
       "      <td>302.56</td>\n",
       "      <td>2018-09-24</td>\n",
       "      <td>1000</td>\n",
       "    </tr>\n",
       "  </tbody>\n",
       "</table>\n",
       "</div>"
      ],
      "text/plain": [
       "       id  mb_used session_date  user_id\n",
       "0  1000_0   112.95   2018-11-25     1000\n",
       "1  1000_1  1052.81   2018-09-07     1000\n",
       "2  1000_2  1197.26   2018-06-25     1000\n",
       "3  1000_3   550.27   2018-08-22     1000\n",
       "4  1000_4   302.56   2018-09-24     1000"
      ]
     },
     "execution_count": 16,
     "metadata": {},
     "output_type": "execute_result"
    }
   ],
   "source": [
    "internet = internet.drop(['Unnamed: 0'], axis=1)\n",
    "internet.head()"
   ]
  },
  {
   "cell_type": "markdown",
   "metadata": {},
   "source": [
    "<div class=\"alert alert-success\">\n",
    "    \n",
    "<b> Комментарий от ревьюера ✔️</b>\n",
    "    \n",
    "Кстати, можно указать столбец Unnamed: 0 в качестве индекса таблицы при загрузке данных\n",
    "    \n",
    "`pd.read_csv('/datasets/internet.csv', index_col=[0])`\n",
    "</div>\n"
   ]
  },
  {
   "cell_type": "markdown",
   "metadata": {},
   "source": [
    "<div class=\"alert alert-info\">\n",
    "тогда в этом пункте будет пустовато ;))).\n",
    "</div>"
   ]
  },
  {
   "cell_type": "markdown",
   "metadata": {},
   "source": [
    "Проверим данные о городах проживания клиентов. Подобная информация часто имеет ошибки или скрытые повторы, так как такие данные часто заполняются вручную и имеют строковый формат.\n",
    "Похоже, в наших данных нет ошибок."
   ]
  },
  {
   "cell_type": "code",
   "execution_count": 17,
   "metadata": {},
   "outputs": [
    {
     "data": {
      "text/plain": [
       "array(['Краснодар', 'Москва', 'Стерлитамак', 'Новокузнецк',\n",
       "       'Набережные Челны', 'Ульяновск', 'Челябинск', 'Пермь', 'Тюмень',\n",
       "       'Самара', 'Санкт-Петербург', 'Иваново', 'Чебоксары', 'Омск', 'Уфа',\n",
       "       'Томск', 'Чита', 'Мурманск', 'Петрозаводск', 'Тверь',\n",
       "       'Екатеринбург', 'Махачкала', 'Вологда', 'Череповец', 'Ярославль',\n",
       "       'Сочи', 'Хабаровск', 'Ставрополь', 'Рязань', 'Улан-Удэ', 'Тула',\n",
       "       'Саратов', 'Ростов-на-Дону', 'Казань', 'Иркутск', 'Курск',\n",
       "       'Калуга', 'Якутск', 'Астрахань', 'Химки', 'Владикавказ',\n",
       "       'Волгоград', 'Саранск', 'Ижевск', 'Новосибирск', 'Брянск',\n",
       "       'Тольятти', 'Нижний Тагил', 'Орёл', 'Белгород', 'Воронеж',\n",
       "       'Волжский', 'Курган', 'Барнаул', 'Красноярск', 'Архангельск',\n",
       "       'Липецк', 'Кемерово', 'Киров', 'Сургут', 'Пенза', 'Магнитогорск',\n",
       "       'Нижний Новгород', 'Кострома', 'Владивосток', 'Тамбов', 'Балашиха',\n",
       "       'Севастополь', 'Калининград', 'Оренбург', 'Смоленск',\n",
       "       'Нижневартовск', 'Владимир', 'Новороссийск', 'Грозный', 'Подольск'],\n",
       "      dtype=object)"
      ]
     },
     "execution_count": 17,
     "metadata": {},
     "output_type": "execute_result"
    }
   ],
   "source": [
    "users['city'].unique()"
   ]
  },
  {
   "cell_type": "markdown",
   "metadata": {},
   "source": [
    "### Предварительные рассчеты"
   ]
  },
  {
   "cell_type": "markdown",
   "metadata": {},
   "source": [
    "Основная задача заключается в сравнении прибыльности двух тарифных планов. Для сравнения необходимо разделить всех клиентов (и все данные об их действиях) по тарифу, которым они пользуются. "
   ]
  },
  {
   "cell_type": "markdown",
   "metadata": {},
   "source": [
    "Oтметим, что рассчет действий и оплата производится по месяцам. Примем предположение, что клиенты пользуются услугами примерно одинаково/ровно в течение всего времени. Тогда использование трафика, звонков и сообщений за календарный месяц будет адекватно отражать использование этих услуг за рассчетный месяц. Таким образом, можно группировать все данные по календарным месяцам и использовать рассчеты для анализа.\n",
    "<br>Добавим в таблицы информацию о месяцах."
   ]
  },
  {
   "cell_type": "code",
   "execution_count": 18,
   "metadata": {},
   "outputs": [],
   "source": [
    "calls['month'] = calls['call_date'].dt.month\n",
    "messages['month'] = messages['message_date'].dt.month\n",
    "internet['month'] = internet['session_date'].dt.month\n",
    "users['reg_month'] = users['reg_date'].dt.month\n",
    "users['churn_month'] = users['churn_date'].dt.month"
   ]
  },
  {
   "cell_type": "markdown",
   "metadata": {},
   "source": [
    "Заметим, что все пользователи в наших данных были зарегистрированы в 2018 году. Дата прекращения пользования тарифом также указана за 2018 год. Это означает, что данные о пользовании мобильной связью для разных клиентов есть за разный период. Клиенты не пользовались изучаемыми тарифами часть 2018 года, и для каждого клиента эта часть разная. "
   ]
  },
  {
   "cell_type": "code",
   "execution_count": 19,
   "metadata": {},
   "outputs": [
    {
     "data": {
      "text/plain": [
       "array([2018])"
      ]
     },
     "execution_count": 19,
     "metadata": {},
     "output_type": "execute_result"
    }
   ],
   "source": [
    "users['reg_date'].dt.year.unique()"
   ]
  },
  {
   "cell_type": "code",
   "execution_count": 20,
   "metadata": {
    "scrolled": true
   },
   "outputs": [
    {
     "data": {
      "text/plain": [
       "array([  nan, 2018.])"
      ]
     },
     "execution_count": 20,
     "metadata": {},
     "output_type": "execute_result"
    }
   ],
   "source": [
    "users['churn_date'].dt.year.unique()"
   ]
  },
  {
   "cell_type": "markdown",
   "metadata": {},
   "source": [
    "Найдем количество сделанных звонков и израсходованных минут разговора по месяцам для каждого пользователя. Данные о минутах разделим на две части по тарифному плану."
   ]
  },
  {
   "cell_type": "markdown",
   "metadata": {},
   "source": [
    "<div class=\"alert alert-danger\">\n",
    "    \n",
    "<b> Комментарий от ревьюера ❗</b>\n",
    "    \n",
    "Давай переделаем с нуля все, что идет дальше.\n",
    "    \n",
    "1. Сейчас мы работаем с данными в формате сводных таблиц, это не очень удобно. Давай попробуем сгруппировать данные так, чтобы получить плоскую таблицу вроде такой\n",
    "    \n",
    "    | user_id | month | tariff | duration | messages | internet | payment |\n",
    "    |---------|-------|--------|----------|----------|----------|---------|\n",
    "    | 1000    | 10    | smart  | 400      | 10       | 2        | 550     |\n",
    "\n",
    "1. Для анализа данных и проверки гипотез не нужно группировать данные по user_id. Я понимаю, что при текущей структуре данных такое решение выглядит наиболее удобным, но мы сильно уменьшаем выборку и меняем распределение признака, потому что некоторые клиенты пользовались нашими услугами 2 месяца, а некоторые - 12 месяцев.\n",
    "    \n",
    "Обнови данные, и я смогу продолжить проверку работы\n",
    "    \n",
    "</div>"
   ]
  },
  {
   "cell_type": "markdown",
   "metadata": {},
   "source": [
    "<div class=\"alert alert-info\">\n",
    "Переделала.\n",
    "</div>"
   ]
  },
  {
   "cell_type": "markdown",
   "metadata": {},
   "source": [
    "Сведем данные в таблицу, где посчитаем для каждого пользователя:\n",
    "- количество сделанных звонков и израсходованных минут разговора по месяцам;\n",
    "- количество отправленных сообщений по месяцам;\n",
    "- объем израсходованного интернет-трафика по месяцам;"
   ]
  },
  {
   "cell_type": "code",
   "execution_count": 21,
   "metadata": {},
   "outputs": [],
   "source": [
    "#интернет и длительность звонков\n",
    "data = pd.merge(\n",
    "    internet.groupby(['user_id', 'month'])['mb_used'].sum(), \n",
    "    calls.groupby(['user_id', 'month'])['duration'].sum(), \n",
    "    how = 'outer',\n",
    "    on=['user_id', 'month']\n",
    ")"
   ]
  },
  {
   "cell_type": "code",
   "execution_count": 22,
   "metadata": {},
   "outputs": [],
   "source": [
    "#плюс количество звонков\n",
    "data = data.merge(\n",
    "    calls.groupby(['user_id', 'month'])['duration'].count(), \n",
    "    how = 'outer', \n",
    "    on=['user_id', 'month']\n",
    ")"
   ]
  },
  {
   "cell_type": "code",
   "execution_count": 23,
   "metadata": {},
   "outputs": [],
   "source": [
    "# и добавим сообщения\n",
    "data = data.merge(\n",
    "    messages.groupby(['user_id', 'month'])['message_date'].count(),\n",
    "    how = 'outer',\n",
    "    on=['user_id', 'month']\n",
    ")"
   ]
  },
  {
   "cell_type": "markdown",
   "metadata": {},
   "source": [
    "Посмотрим на таблицу, которая у нас получилась. Мы видим пропуски в столбцах о минутах, сообщениях и гигабайтах. В эти месяцы пользователи не совершали соответствующих действий. Заполним их нулями."
   ]
  },
  {
   "cell_type": "code",
   "execution_count": 24,
   "metadata": {},
   "outputs": [
    {
     "data": {
      "text/html": [
       "<div>\n",
       "<style scoped>\n",
       "    .dataframe tbody tr th:only-of-type {\n",
       "        vertical-align: middle;\n",
       "    }\n",
       "\n",
       "    .dataframe tbody tr th {\n",
       "        vertical-align: top;\n",
       "    }\n",
       "\n",
       "    .dataframe thead th {\n",
       "        text-align: right;\n",
       "    }\n",
       "</style>\n",
       "<table border=\"1\" class=\"dataframe\">\n",
       "  <thead>\n",
       "    <tr style=\"text-align: right;\">\n",
       "      <th></th>\n",
       "      <th></th>\n",
       "      <th>mb_used</th>\n",
       "      <th>duration_x</th>\n",
       "      <th>duration_y</th>\n",
       "      <th>message_date</th>\n",
       "    </tr>\n",
       "    <tr>\n",
       "      <th>user_id</th>\n",
       "      <th>month</th>\n",
       "      <th></th>\n",
       "      <th></th>\n",
       "      <th></th>\n",
       "      <th></th>\n",
       "    </tr>\n",
       "  </thead>\n",
       "  <tbody>\n",
       "    <tr>\n",
       "      <td rowspan=\"5\" valign=\"top\">1000</td>\n",
       "      <td>5</td>\n",
       "      <td>2253.49</td>\n",
       "      <td>159.0</td>\n",
       "      <td>22.0</td>\n",
       "      <td>22.0</td>\n",
       "    </tr>\n",
       "    <tr>\n",
       "      <td>6</td>\n",
       "      <td>23233.77</td>\n",
       "      <td>172.0</td>\n",
       "      <td>43.0</td>\n",
       "      <td>60.0</td>\n",
       "    </tr>\n",
       "    <tr>\n",
       "      <td>7</td>\n",
       "      <td>14003.64</td>\n",
       "      <td>340.0</td>\n",
       "      <td>47.0</td>\n",
       "      <td>75.0</td>\n",
       "    </tr>\n",
       "    <tr>\n",
       "      <td>8</td>\n",
       "      <td>14055.93</td>\n",
       "      <td>408.0</td>\n",
       "      <td>52.0</td>\n",
       "      <td>81.0</td>\n",
       "    </tr>\n",
       "    <tr>\n",
       "      <td>9</td>\n",
       "      <td>14568.91</td>\n",
       "      <td>466.0</td>\n",
       "      <td>58.0</td>\n",
       "      <td>57.0</td>\n",
       "    </tr>\n",
       "  </tbody>\n",
       "</table>\n",
       "</div>"
      ],
      "text/plain": [
       "                mb_used  duration_x  duration_y  message_date\n",
       "user_id month                                                \n",
       "1000    5       2253.49       159.0        22.0          22.0\n",
       "        6      23233.77       172.0        43.0          60.0\n",
       "        7      14003.64       340.0        47.0          75.0\n",
       "        8      14055.93       408.0        52.0          81.0\n",
       "        9      14568.91       466.0        58.0          57.0"
      ]
     },
     "execution_count": 24,
     "metadata": {},
     "output_type": "execute_result"
    }
   ],
   "source": [
    "data.head()"
   ]
  },
  {
   "cell_type": "code",
   "execution_count": 25,
   "metadata": {
    "scrolled": true
   },
   "outputs": [
    {
     "name": "stdout",
     "output_type": "stream",
     "text": [
      "<class 'pandas.core.frame.DataFrame'>\n",
      "MultiIndex: 3214 entries, (1000, 5) to (1446, 8)\n",
      "Data columns (total 4 columns):\n",
      "mb_used         3203 non-null float64\n",
      "duration_x      3174 non-null float64\n",
      "duration_y      3174 non-null float64\n",
      "message_date    2717 non-null float64\n",
      "dtypes: float64(4)\n",
      "memory usage: 113.9 KB\n"
     ]
    }
   ],
   "source": [
    "data.info()"
   ]
  },
  {
   "cell_type": "code",
   "execution_count": 26,
   "metadata": {
    "scrolled": false
   },
   "outputs": [
    {
     "data": {
      "text/plain": [
       "3216.0"
      ]
     },
     "execution_count": 26,
     "metadata": {},
     "output_type": "execute_result"
    }
   ],
   "source": [
    "#Похоже мы потеряли пару месяцев данных, но это меньше 0.1%, не будем из-за них перерисовывать таблицу\n",
    "#Кстати, буду рада подсказке как можно это исправить. Я поковырялась с генераторами словарей, но решила что игра не стоит свеч\n",
    "sum(users['churn_month'].fillna(12)-users['reg_month']+1)"
   ]
  },
  {
   "cell_type": "markdown",
   "metadata": {},
   "source": [
    "<div class=\"alert alert-success\">\n",
    "    \n",
    "<b> Комментарий от ревьюера 2 ✔️</b>\n",
    "\n",
    "> Похоже мы потеряли пару месяцев данных,\n",
    "    \n",
    "Если объединим данные с таблицей users, появятся два клиента, которые не пользовались услугами связи \n",
    "    \n",
    "    users_new = users.reset_index(drop=True)\n",
    "    data.merge(users_new[['user_id','city','tariff']], on ='user_id', how='outer')\n",
    "\n",
    "</div>"
   ]
  },
  {
   "cell_type": "code",
   "execution_count": 27,
   "metadata": {},
   "outputs": [],
   "source": [
    "data = data.fillna(0)"
   ]
  },
  {
   "cell_type": "markdown",
   "metadata": {},
   "source": [
    "Вспомним, что помесячная оплата за интернет снимается за потраченные гигабайты с округлением вверх. Пересчитаем данные в соответствующем столбце. Приведем в порядок назввния колонок."
   ]
  },
  {
   "cell_type": "code",
   "execution_count": 28,
   "metadata": {},
   "outputs": [],
   "source": [
    "data['mb_used'] = np.ceil(data['mb_used']/1024)"
   ]
  },
  {
   "cell_type": "code",
   "execution_count": 29,
   "metadata": {},
   "outputs": [],
   "source": [
    "data.columns = ['gb', 'minutes', 'calls_count', 'messages']"
   ]
  },
  {
   "cell_type": "markdown",
   "metadata": {},
   "source": [
    "### Рассчет помесячной выручки с каждого пользователя"
   ]
  },
  {
   "cell_type": "markdown",
   "metadata": {},
   "source": [
    "Для подсчета прибыли нужно ввевсти в данные тарифный план для каждого пользователя."
   ]
  },
  {
   "cell_type": "code",
   "execution_count": 30,
   "metadata": {},
   "outputs": [],
   "source": [
    "users.index = users['user_id']\n",
    "data = data.reset_index(level='month')\n",
    "data['tariff'] = users['tariff']"
   ]
  },
  {
   "cell_type": "markdown",
   "metadata": {},
   "source": [
    "Напишем функцию для подсчета прибыли и применим её к таблице. Результат сохраним в отдельной колонке."
   ]
  },
  {
   "cell_type": "code",
   "execution_count": 31,
   "metadata": {},
   "outputs": [],
   "source": [
    "def payment(row):\n",
    "    tariff = row['tariff']\n",
    "    res=0\n",
    "    if tariff == 'smart':\n",
    "        res = np.clip(((row['gb']-15)*200), 0, None)\n",
    "        res += np.clip(((row['minutes']-500)*3), 0, None)\n",
    "        res += np.clip(((row['messages']-50)*3), 0, None)\n",
    "        res += 550\n",
    "        return res\n",
    "    elif tariff == 'ultra':\n",
    "        res = np.clip(((row['gb']-30)*150), 0, None)\n",
    "        res += np.clip((row['minutes']-3000), 0, None)\n",
    "        res += np.clip((row['messages']-1000), 0, None)\n",
    "        res += 1950\n",
    "        return res"
   ]
  },
  {
   "cell_type": "markdown",
   "metadata": {},
   "source": [
    "<div class=\"alert alert-warning\">\n",
    "    \n",
    "<b> Комментарий от ревьюера 2 ⚠️</b>\n",
    "    \n",
    "Лучше брать лимиты из таблицы tariffs, иначе оператор может изменить условия тарифов, и нам придется править функцию\n",
    "</div>"
   ]
  },
  {
   "cell_type": "code",
   "execution_count": 32,
   "metadata": {
    "scrolled": true
   },
   "outputs": [],
   "source": [
    "data['payment'] = data.apply(payment, axis=1)"
   ]
  },
  {
   "cell_type": "markdown",
   "metadata": {},
   "source": [
    "Проверим, что при рассчетах получены адекватные цифры. Полученные значения выглядят правдоподобно. Столбец с информацией о платежах заполнен полностью, клиенты платили за каждый месяц пользования связью."
   ]
  },
  {
   "cell_type": "code",
   "execution_count": 33,
   "metadata": {},
   "outputs": [
    {
     "data": {
      "text/plain": [
       "count    3214.000000\n",
       "mean     1529.076229\n",
       "std       798.251091\n",
       "min       550.000000\n",
       "25%       750.000000\n",
       "50%      1653.500000\n",
       "75%      1950.000000\n",
       "max      6770.000000\n",
       "Name: payment, dtype: float64"
      ]
     },
     "execution_count": 33,
     "metadata": {},
     "output_type": "execute_result"
    }
   ],
   "source": [
    "data['payment'].describe()"
   ]
  },
  {
   "cell_type": "markdown",
   "metadata": {},
   "source": [
    "Посмотрим на итоговую таблицу. Все колонки имеют адекватные значения и названия."
   ]
  },
  {
   "cell_type": "code",
   "execution_count": 34,
   "metadata": {
    "scrolled": true
   },
   "outputs": [
    {
     "data": {
      "text/html": [
       "<div>\n",
       "<style scoped>\n",
       "    .dataframe tbody tr th:only-of-type {\n",
       "        vertical-align: middle;\n",
       "    }\n",
       "\n",
       "    .dataframe tbody tr th {\n",
       "        vertical-align: top;\n",
       "    }\n",
       "\n",
       "    .dataframe thead th {\n",
       "        text-align: right;\n",
       "    }\n",
       "</style>\n",
       "<table border=\"1\" class=\"dataframe\">\n",
       "  <thead>\n",
       "    <tr style=\"text-align: right;\">\n",
       "      <th></th>\n",
       "      <th>month</th>\n",
       "      <th>gb</th>\n",
       "      <th>minutes</th>\n",
       "      <th>calls_count</th>\n",
       "      <th>messages</th>\n",
       "      <th>tariff</th>\n",
       "      <th>payment</th>\n",
       "    </tr>\n",
       "    <tr>\n",
       "      <th>user_id</th>\n",
       "      <th></th>\n",
       "      <th></th>\n",
       "      <th></th>\n",
       "      <th></th>\n",
       "      <th></th>\n",
       "      <th></th>\n",
       "      <th></th>\n",
       "    </tr>\n",
       "  </thead>\n",
       "  <tbody>\n",
       "    <tr>\n",
       "      <td>1000</td>\n",
       "      <td>5</td>\n",
       "      <td>3.0</td>\n",
       "      <td>159.0</td>\n",
       "      <td>22.0</td>\n",
       "      <td>22.0</td>\n",
       "      <td>ultra</td>\n",
       "      <td>1950.0</td>\n",
       "    </tr>\n",
       "    <tr>\n",
       "      <td>1000</td>\n",
       "      <td>6</td>\n",
       "      <td>23.0</td>\n",
       "      <td>172.0</td>\n",
       "      <td>43.0</td>\n",
       "      <td>60.0</td>\n",
       "      <td>ultra</td>\n",
       "      <td>1950.0</td>\n",
       "    </tr>\n",
       "    <tr>\n",
       "      <td>1000</td>\n",
       "      <td>7</td>\n",
       "      <td>14.0</td>\n",
       "      <td>340.0</td>\n",
       "      <td>47.0</td>\n",
       "      <td>75.0</td>\n",
       "      <td>ultra</td>\n",
       "      <td>1950.0</td>\n",
       "    </tr>\n",
       "    <tr>\n",
       "      <td>1000</td>\n",
       "      <td>8</td>\n",
       "      <td>14.0</td>\n",
       "      <td>408.0</td>\n",
       "      <td>52.0</td>\n",
       "      <td>81.0</td>\n",
       "      <td>ultra</td>\n",
       "      <td>1950.0</td>\n",
       "    </tr>\n",
       "    <tr>\n",
       "      <td>1000</td>\n",
       "      <td>9</td>\n",
       "      <td>15.0</td>\n",
       "      <td>466.0</td>\n",
       "      <td>58.0</td>\n",
       "      <td>57.0</td>\n",
       "      <td>ultra</td>\n",
       "      <td>1950.0</td>\n",
       "    </tr>\n",
       "  </tbody>\n",
       "</table>\n",
       "</div>"
      ],
      "text/plain": [
       "         month    gb  minutes  calls_count  messages tariff  payment\n",
       "user_id                                                             \n",
       "1000         5   3.0    159.0         22.0      22.0  ultra   1950.0\n",
       "1000         6  23.0    172.0         43.0      60.0  ultra   1950.0\n",
       "1000         7  14.0    340.0         47.0      75.0  ultra   1950.0\n",
       "1000         8  14.0    408.0         52.0      81.0  ultra   1950.0\n",
       "1000         9  15.0    466.0         58.0      57.0  ultra   1950.0"
      ]
     },
     "execution_count": 34,
     "metadata": {},
     "output_type": "execute_result"
    }
   ],
   "source": [
    "data.head()"
   ]
  },
  {
   "cell_type": "markdown",
   "metadata": {},
   "source": [
    "<div class=\"alert alert-success\">\n",
    "    \n",
    "<b> Комментарий от ревьюера 2 ✔️</b>\n",
    "\n",
    "С группировкой данных и расчетом месячных платежей все отлично!\n",
    "\n",
    "</div>"
   ]
  },
  {
   "cell_type": "markdown",
   "metadata": {},
   "source": [
    "### Вывод"
   ]
  },
  {
   "cell_type": "markdown",
   "metadata": {},
   "source": [
    "Для анализа были получены данные, нуждающиеся в минимальной обработке:\n",
    "- Нет некорректных или пропущенных значений, нет дублирующихся строк.\n",
    "- Один столбец (похоже, артефакт предыдущей обработки) явно не нес дополнительной информации. Мы удалили этот столбец, хотя он никак не мешал нашей работе.\n",
    "- Данные, касающиеся дат, были приведены к типу datatime.\n",
    "- Данные, касающиеся времени разговора, были округлены до минут и приведены к целочисленному формату.\n",
    "\n",
    "В ходе подготовки данных были проведены следующие рассчеты:\n",
    "- Клиенты \"Мегалайн\" разделены на две группы в зависимости от выбранного тарифного плана.\n",
    "- Для каждого пользователя данные о количестве минут разговора, смс-сообщениях и пользовании интернет-трафиком в течение календарного месяца были сведены в соответствующие таблицы.\n",
    "- Была рассчитана помесячная прибыль от каждого типа действий для каждого пользователя.\n",
    "- Была рассчитана общая прибыль от каждого клиента."
   ]
  },
  {
   "cell_type": "markdown",
   "metadata": {},
   "source": [
    "## Анализ данных"
   ]
  },
  {
   "cell_type": "markdown",
   "metadata": {},
   "source": [
    "Опишем поведение клиентов оператора, исходя из выборки. Посмотрим, как разговаривают по телефону пользователи тарифов \"смарт\" и \"ультра\"."
   ]
  },
  {
   "cell_type": "markdown",
   "metadata": {},
   "source": [
    "Изучим статистические характеристики (среднее значение, стандартное отклонение, дисперсию, квартили) данных об использованных минутах разговора для двух тарифов. \n",
    "<br>Похоже, пользователи тарифа \"ультра\" любят разговаривать немного больше, чем клиенты тарифа \"смарт\". Средние, квартильные и максимальные значения данных по тарифу \"ультра\" больше, чем по тарифу \"смарт\". Среднее арифметическое по месячной сумме минут разговора  составляет 527 минут, на 109 минут (~25%) больше, чем для тарифа \"смарт\", это значительная разница. \n",
    "<br>Стандартное отклонение также больше для данных по тарифу \"ультра\", это означает,что поведение клиентов данного тарифа более разнообразное.\n",
    "<br>Отметим, что медиана суммарной длительности звонков для пользователей \"смарт\" не превышает бесплатный лимит в 500 минут. Также можно отметить, что 3000 минут разговора, включенные в тариф \"ультра\" остаются непотраченными. Никто из представленных клиентов не говорит по телефону так много."
   ]
  },
  {
   "cell_type": "code",
   "execution_count": 35,
   "metadata": {},
   "outputs": [
    {
     "name": "stdout",
     "output_type": "stream",
     "text": [
      "Тариф \"смарт\"\n",
      "Дисперсия 36203.06665209469\n"
     ]
    },
    {
     "data": {
      "text/plain": [
       "count    2229.000000\n",
       "mean      417.934948\n",
       "std       190.313730\n",
       "min         0.000000\n",
       "25%       282.000000\n",
       "50%       422.000000\n",
       "75%       545.000000\n",
       "max      1435.000000\n",
       "Name: minutes, dtype: float64"
      ]
     },
     "execution_count": 35,
     "metadata": {},
     "output_type": "execute_result"
    }
   ],
   "source": [
    "print('Тариф \"смарт\"\\n'\n",
    "      'Дисперсия',  np.var(data.loc[data['tariff']=='smart']['minutes']))\n",
    "data.loc[data['tariff']=='smart']['minutes'].describe()"
   ]
  },
  {
   "cell_type": "markdown",
   "metadata": {},
   "source": [
    "<div class=\"alert alert-success\">\n",
    "    \n",
    "<b> Комментарий от ревьюера 2 ✔️</b>\n",
    "\n",
    "Кстати, если нас просили посчитать только среднее, дисперсию и стандартное отклонение, можно использовать метод agg, чтобы агрегировать данные\n",
    "    \n",
    "`data.groupby('tariff')['minutes'].agg(['mean','var','std'])`\n",
    "\n",
    "</div>"
   ]
  },
  {
   "cell_type": "code",
   "execution_count": 36,
   "metadata": {},
   "outputs": [
    {
     "name": "stdout",
     "output_type": "stream",
     "text": [
      "Тариф \"ультра\"\n",
      "Дисперсия 100771.2236172022\n"
     ]
    },
    {
     "data": {
      "text/plain": [
       "count     985.000000\n",
       "mean      526.623350\n",
       "std       317.606098\n",
       "min         0.000000\n",
       "25%       284.000000\n",
       "50%       518.000000\n",
       "75%       752.000000\n",
       "max      1673.000000\n",
       "Name: minutes, dtype: float64"
      ]
     },
     "execution_count": 36,
     "metadata": {},
     "output_type": "execute_result"
    }
   ],
   "source": [
    "print('Тариф \"ультра\"\\n'\n",
    "      'Дисперсия',  np.var(data.loc[data['tariff']=='ultra']['minutes']))\n",
    "data.loc[data['tariff']=='ultra']['minutes'].describe()"
   ]
  },
  {
   "cell_type": "markdown",
   "metadata": {},
   "source": [
    "Построим гистограммы для среднего месячного расходования минут разговора для двух тарифов. \n",
    "\n",
    "Из гистограммы по данным тарифа \"смарт\" видно, что значения собраны около отметки в 400-500 минут. Гистограмма по данным тарифа \"ультра\" гораздо шире, чем для тарифа \"смарт\" (и ниже, но это связано с меньшим числом пользователей). Это соотносится с разницей в стандартном отклонении - чем больше отклонение, тем шире пик. \n",
    "<br>В целом форма гистограмм позволяет предположить, что пользователи тарифа \"смарт\" стараются уложиться в бесплатные 500 минут разговора. При этом оставлять предоплаченные минуты невостребованными пользователи этого тарифа также не хотят. Практически никто из представленных 350 меловек не говорит по телефону менее 200 минут в месяц.\n",
    "<br>Пользователи тарифа \"ультра\", напротив, используют мобильную связь как им удобно. Есть клиенты, которые вообще не разговаривают по телефону, или же тратят до 200 минут. Доля таких клиентов в тарифе \"ультра\" значительно выше, чем для тарифа \"смарт\". Также заметное количество клиентов использует по 800 и более минут разговора."
   ]
  },
  {
   "cell_type": "code",
   "execution_count": 37,
   "metadata": {},
   "outputs": [
    {
     "data": {
      "text/plain": [
       "<matplotlib.legend.Legend at 0x7fe4a6933510>"
      ]
     },
     "execution_count": 37,
     "metadata": {},
     "output_type": "execute_result"
    },
    {
     "data": {
      "image/png": "[encoded data removed]",
      "text/plain": [
       "<Figure size 504x360 with 1 Axes>"
      ]
     },
     "metadata": {
      "needs_background": "light"
     },
     "output_type": "display_data"
    }
   ],
   "source": [
    "fig, ax = plt.subplots(figsize=(7, 5))\n",
    "ax.hist(data.loc[data['tariff']=='smart']['minutes'], bins=20, label='smart')\n",
    "ax.hist(data.loc[data['tariff']=='ultra']['minutes'], bins=20, label='ultra', color='red', alpha=0.5)\n",
    "ax.set_xlabel('Использованные минуты за месяц')  \n",
    "ax.set_title('Гистограмма распределения суммарной длительности разговора пользователя за месяц')\n",
    "ax.legend()\n",
    "#data.loc[data['tariff']=='smart']['minutes'].hist()"
   ]
  },
  {
   "cell_type": "markdown",
   "metadata": {},
   "source": [
    "Проведем ту же работу с данными о количестве смс-сообщений для каждого пользователя. Опять же отметим разницу в средних и медианных значениях и в дисперсии для тарифов. Все эти показатели больше для тарифа \"ультра\". То есть клиенты тарифа \"ультра\" в общем чаще отправляют сообщения, при этом их поведение более вариативное."
   ]
  },
  {
   "cell_type": "code",
   "execution_count": 38,
   "metadata": {},
   "outputs": [
    {
     "name": "stdout",
     "output_type": "stream",
     "text": [
      "Тариф \"смарт\"\n",
      "Дисперсия 796.455482917076\n"
     ]
    },
    {
     "data": {
      "text/plain": [
       "count    2229.000000\n",
       "mean       33.384029\n",
       "std        28.227876\n",
       "min         0.000000\n",
       "25%        10.000000\n",
       "50%        28.000000\n",
       "75%        51.000000\n",
       "max       143.000000\n",
       "Name: messages, dtype: float64"
      ]
     },
     "execution_count": 38,
     "metadata": {},
     "output_type": "execute_result"
    }
   ],
   "source": [
    "print('Тариф \"смарт\"\\n'\n",
    "      'Дисперсия',  np.var(data.loc[data['tariff']=='smart']['messages']))\n",
    "data.loc[data['tariff']=='smart']['messages'].describe()"
   ]
  },
  {
   "cell_type": "code",
   "execution_count": 39,
   "metadata": {},
   "outputs": [
    {
     "name": "stdout",
     "output_type": "stream",
     "text": [
      "Тариф \"ультра\"\n",
      "Дисперсия 2282.9460753948824\n"
     ]
    },
    {
     "data": {
      "text/plain": [
       "count    985.000000\n",
       "mean      49.363452\n",
       "std       47.804457\n",
       "min        0.000000\n",
       "25%        6.000000\n",
       "50%       38.000000\n",
       "75%       79.000000\n",
       "max      224.000000\n",
       "Name: messages, dtype: float64"
      ]
     },
     "execution_count": 39,
     "metadata": {},
     "output_type": "execute_result"
    }
   ],
   "source": [
    "print('Тариф \"ультра\"\\n'\n",
    "      'Дисперсия',  np.var(data.loc[data['tariff']=='ultra']['messages']))\n",
    "data.loc[data['tariff']=='ultra']['messages'].describe()"
   ]
  },
  {
   "cell_type": "markdown",
   "metadata": {},
   "source": [
    "На обеих гистограммах выделяется пик около нулевого значения. То есть большое количество клиентов не пользуются услугой отправки смс-сообщений, или пользуются очень редко. И доля таких клиентов не зависит от тарифного плана.\n",
    "На гистограмме для данных по тарифу \"смарт\" заметна явная зависимость между количеством сообщений и количеством пользователей. Много пользователей отправляют по 25-30 сообщений за месяц, далее, чем больше сообщений, тем меньшее количество клиентов имеют такие показатели. Большинство пользователей тарифа \"смарт\" за месяц отправляют не более 60 сообщений (при бесплатном лимите 50), при среднем значении в 32 сообщения, стандартное отклонение составляет 26 сообщений.\n",
    "<br>На гистограмме по данным тарифа \"ультра\" такая зависимост не прослеживается. Пользователи ровно распределены по ежемесячному количеству отправленных сообщений в количестве от 10 до 100. количество клиентов снижается для значений от 100 до 200 смс в месяц. Никто из клиентов в наших данных не отправляет 200 или более сообщений в месяц. Соответственно, в наших данных нет клиента, который превысил бы лимит в 1000 бесплатных сообщений. Эти соображения подтверждаются средним значением в 53 смс в месяц и большим значением дисперсии, 46 для тарифа \"ультра\" против 26 для тарифа \"смарт\"."
   ]
  },
  {
   "cell_type": "code",
   "execution_count": 40,
   "metadata": {},
   "outputs": [
    {
     "data": {
      "text/plain": [
       "<matplotlib.legend.Legend at 0x7fe4a59bb5d0>"
      ]
     },
     "execution_count": 40,
     "metadata": {},
     "output_type": "execute_result"
    },
    {
     "data": {
      "image/png": "[encoded data removed]",
      "text/plain": [
       "<Figure size 504x360 with 1 Axes>"
      ]
     },
     "metadata": {
      "needs_background": "light"
     },
     "output_type": "display_data"
    }
   ],
   "source": [
    "fig, ax = plt.subplots(figsize=(7, 5))\n",
    "ax.hist(data.loc[data['tariff']=='smart']['messages'], bins=20, label='smart')\n",
    "ax.hist(data.loc[data['tariff']=='ultra']['messages'], bins=20, label='ultra', color='red', alpha=0.5)\n",
    "ax.set_xlabel('Отправленные сообщения за месяц')  \n",
    "ax.set_title('Гистограмма распределения количества отправленных сообщений пользователя за месяц')\n",
    "ax.legend()"
   ]
  },
  {
   "cell_type": "markdown",
   "metadata": {},
   "source": [
    "Изучим, как используют мобильный интернет клиенты \"Мегалайн\" с разными тарифными планами. Для данных по использованию интернета мы видим схожую с телефонными разговорами и смс-сообщениями картину. Дисперсия среди данных по тарифу \"ультра\" выше, чем для тарифа \"смарт\". Также среднее и медианное значение для тарифа \"ультра\" выше. Клиенты тарифа \"ультра\" пользуются мобильным трафиком активнее, при этом разброс в значениях между пользователяти тарифа \"ультра\" выше, чем между пользователями \"смарт\"."
   ]
  },
  {
   "cell_type": "code",
   "execution_count": 41,
   "metadata": {},
   "outputs": [
    {
     "name": "stdout",
     "output_type": "stream",
     "text": [
      "Тариф \"смарт\"\n",
      "Дисперсия 33.013887454837445\n"
     ]
    },
    {
     "data": {
      "text/plain": [
       "count    2229.000000\n",
       "mean       16.328847\n",
       "std         5.747061\n",
       "min         0.000000\n",
       "25%        13.000000\n",
       "50%        17.000000\n",
       "75%        20.000000\n",
       "max        38.000000\n",
       "Name: gb, dtype: float64"
      ]
     },
     "execution_count": 41,
     "metadata": {},
     "output_type": "execute_result"
    }
   ],
   "source": [
    "print('Тариф \"смарт\"\\n'\n",
    "      'Дисперсия',  np.var(data.loc[data['tariff']=='smart']['gb']))\n",
    "data.loc[data['tariff']=='smart']['gb'].describe()"
   ]
  },
  {
   "cell_type": "code",
   "execution_count": 42,
   "metadata": {},
   "outputs": [
    {
     "name": "stdout",
     "output_type": "stream",
     "text": [
      "Тариф \"ультра\"\n",
      "Дисперсия 96.99311602978689\n"
     ]
    },
    {
     "data": {
      "text/plain": [
       "count    985.000000\n",
       "mean      19.494416\n",
       "std        9.853511\n",
       "min        0.000000\n",
       "25%       12.000000\n",
       "50%       19.000000\n",
       "75%       27.000000\n",
       "max       49.000000\n",
       "Name: gb, dtype: float64"
      ]
     },
     "execution_count": 42,
     "metadata": {},
     "output_type": "execute_result"
    }
   ],
   "source": [
    "print('Тариф \"ультра\"\\n'\n",
    "      'Дисперсия',  np.var(data.loc[data['tariff']=='ultra']['gb']))\n",
    "data.loc[data['tariff']=='ultra']['gb'].describe()"
   ]
  },
  {
   "cell_type": "markdown",
   "metadata": {},
   "source": [
    "Гистограммы распределения использования интернет-трафика похожи на гистограммы для использования минут разговора. Мы видим кучное распределение около значения бесплатного лимита для тарифа \"смарт\" (синий) и широкий разброс значений для тарифа \"ультра\".\n",
    "Среднее арифметическое ежемесячного использования интернет-трафика для пользователей тарифа \"смарт\" составило 16 Гб, что на 1 Гб выше, чем бесплатный лимит. Для пользователей тарифа \"ультра\" среднее арифметическое составило почти 20 Гб, то есть примерно половина от максимального значения в почти 40 Гб. Только небольшой процент клиентов превышает бесплатный лимит в 30 Гб.\n",
    "Стандартные отклонения значений использования интернет-траффика для тарифов \"смарт\" и \"ультра\" различаются в более чем в два раза. Это значит, что в случае тарифа \"смарт\" значения больше тяготеют к некой точке (конечно, значение бесплатного лимита), чем в случае тарифа \"ультра\"."
   ]
  },
  {
   "cell_type": "code",
   "execution_count": 43,
   "metadata": {},
   "outputs": [
    {
     "data": {
      "text/plain": [
       "<matplotlib.legend.Legend at 0x7fe4a58825d0>"
      ]
     },
     "execution_count": 43,
     "metadata": {},
     "output_type": "execute_result"
    },
    {
     "data": {
      "image/png": "[encoded data removed]",
      "text/plain": [
       "<Figure size 504x360 with 1 Axes>"
      ]
     },
     "metadata": {
      "needs_background": "light"
     },
     "output_type": "display_data"
    }
   ],
   "source": [
    "fig, ax = plt.subplots(figsize=(7, 5))\n",
    "ax.hist(data.loc[data['tariff']=='smart']['gb'], bins=20, label='smart')\n",
    "ax.hist(data.loc[data['tariff']=='ultra']['gb'], bins=20, label='ultra', color='red', alpha=0.5)\n",
    "ax.set_xlabel('Интернет-трафик за месяц')  \n",
    "ax.set_title('Гистограмма распределения использованного трафика пользователя за месяц')\n",
    "ax.legend()"
   ]
  },
  {
   "cell_type": "markdown",
   "metadata": {},
   "source": [
    "<div class=\"alert alert-warning\">\n",
    "    \n",
    "<b> Комментарий от ревьюера ⚠️</b>\n",
    "    \n",
    "Добавь, пожалуйста, на все графики названия, подписи осей и легенду ((если рассматриваешь несколько наборов данных). Можешь посмотреть [тут](https://matplotlib.org/stable/tutorials/introductory/usage.html#the-object-oriented-interface-and-the-pyplot-interface), как их добавлять\n",
    "</div>\n"
   ]
  },
  {
   "cell_type": "markdown",
   "metadata": {},
   "source": [
    "<div class=\"alert alert-info\">\n",
    "Нарисовала графики посредством matplotlib.\n",
    "</div>"
   ]
  },
  {
   "cell_type": "markdown",
   "metadata": {},
   "source": [
    "### Вывод"
   ]
  },
  {
   "cell_type": "markdown",
   "metadata": {},
   "source": [
    "При описании поведения клиентов двух тарифов оператора можно заметить следующие закономерности:\n",
    "- Гистограммы распределения для данных по тарифу \"смарт\" узкие, большинство данных собраны около значения бесплатного лимита. Гистограммы для тарифа \"ультра\" широкие, много маленьких и больших значений. Предположить значение бесплатного лимита по гистограммам нельзя.\n",
    "- Средние значения по количеству отправленных смс-сообщений, минутам разговора и интернет-трафику для тарифа \"смарт\" меньше, чем для тарифа \"ультра\".\n",
    "- Стандартные отклонения всех изученных распределений для тарифа \"смарт\" примерно в два раза меньше, чем для тарифа \"ультра\". \n",
    "\n",
    "Среди частных замечаний можно выделить следующие:\n",
    "- Большое количество клиентов не пользуется услугой отправки смс-сообщений, или пользуется таковой очень редко.\n",
    "- Пользователи тарифа \"смарт\" часто превышают бесплатный лимит по всем трем типам услуг, хотя явно стараются ограничиться именно бесплатным лимитом.\n",
    "- Клиенты тарифа \"ультра\" практически никогда не превышают лимит по количеству смс и минут разговора, но иногда превышают бесплатный лимит использования интернет-трафика.\n",
    "\n",
    "В целом можно предположить, что пользователи тарифа \"смарт\" стараются ограничивать потребление услуг бесплатным лимитом, а польззователи тарифа \"ультра\" используют связь по потребности. Похоже, что распределения по трем типам услуг для тарифа \"ультра\" - это реальные потребности клиентов телеком-компании."
   ]
  },
  {
   "cell_type": "markdown",
   "metadata": {},
   "source": [
    "<div class=\"alert alert-success\">\n",
    "    \n",
    "<b> Комментарий от ревьюера 2 ✔️</b>\n",
    "\n",
    "Ты отлично справилась с анализом данных\n",
    "\n",
    "</div>"
   ]
  },
  {
   "cell_type": "markdown",
   "metadata": {},
   "source": [
    "## Сравнение средней выручки пользователей тарифов «Ультра» и «Смарт» "
   ]
  },
  {
   "cell_type": "markdown",
   "metadata": {},
   "source": [
    "Сформулируем гипотезы, чтобы ответить на вопрос, различается ли средняя выручка пользователей тарифов «Ультра» и «Смарт». Нулевая гипотеза: средние двух совокупностей данных о средней ежемесячной выручке по клиентам тарифов \"смарт\" и \"ультра\" равны между собой. Альтернативная гипотеза: средние двух совокупностей данных о средней ежемесячной выручке по клиентам тарифов \"смарт\" и \"ультра\" **не** равны между собой."
   ]
  },
  {
   "cell_type": "markdown",
   "metadata": {},
   "source": [
    "Для интереса отметим, что пользователи тарифа \"смарт\" из наших данных за год принесли \"Мегалайну\" почти 2.9 млн рублей, а пользователи тарифа \"ультра\" - 2.0 млн рублей."
   ]
  },
  {
   "cell_type": "code",
   "execution_count": 44,
   "metadata": {
    "scrolled": false
   },
   "outputs": [
    {
     "name": "stdout",
     "output_type": "stream",
     "text": [
      "Общий доход от тарифа \"смарт\" 2875351.0\n",
      "Общий доход от тарифа \"ультра\" 2039100.0\n"
     ]
    }
   ],
   "source": [
    "print('Общий доход от тарифа \"смарт\"', data.loc[data['tariff']=='smart']['payment'].sum())\n",
    "print('Общий доход от тарифа \"ультра\"', data.loc[data['tariff']=='ultra']['payment'].sum())"
   ]
  },
  {
   "cell_type": "markdown",
   "metadata": {},
   "source": [
    "Рассмотрим распределение среднемесячной прибыли от пользователей двух тарифных планов на гистограмме. Отметим, что большинство пользователей тарифа \"смарт\" приносит \"Мегалайну\" от 550 (абонентская плата) до 1000 рублей в месяц, далее, при увеличении прибыли количество клиентов снижается. И лишь небольшой процент клиентов приносит 1950 рублей (абонентская плата тарифа \"ультра\") или более.\n",
    "\n",
    "Практически все пользователи тарифа \"ультра\" ограничиваются бесплатным лимитом по услугам, ведь в тариф включено действительно большое количество минут, сообщений и гигабайт. То есть почти все пользователи этого тарифа приносят 1950 рублей в месяц. Небольшое количество клиентов превышают лимит, но в итоге очень редко приносят более 3000 за месяц.  "
   ]
  },
  {
   "cell_type": "code",
   "execution_count": 45,
   "metadata": {
    "scrolled": true
   },
   "outputs": [
    {
     "data": {
      "text/plain": [
       "<matplotlib.legend.Legend at 0x7fe4a57b4e90>"
      ]
     },
     "execution_count": 45,
     "metadata": {},
     "output_type": "execute_result"
    },
    {
     "data": {
      "image/png": "[encoded data removed]",
      "text/plain": [
       "<Figure size 504x360 with 1 Axes>"
      ]
     },
     "metadata": {
      "needs_background": "light"
     },
     "output_type": "display_data"
    }
   ],
   "source": [
    "fig, ax = plt.subplots(figsize=(7, 5))\n",
    "ax.hist(data.loc[data['tariff']=='smart']['payment'], bins=20, label='smart')\n",
    "ax.hist(data.loc[data['tariff']=='ultra']['payment'], bins=20, label='ultra', color='red', alpha=0.5)\n",
    "ax.set_xlabel('Доход за месяц')  \n",
    "ax.set_title('Гистограмма распределения дохода пользователя за месяц')\n",
    "ax.legend()"
   ]
  },
  {
   "cell_type": "markdown",
   "metadata": {},
   "source": [
    "Если мы рассмотрим средние значения помесячной прибыли от клиентов с разными тарифами, то обнаружим значительный разрыв между суммами. Средний пользователь тарифа \"смарт\" приносит 1289 рубля, а средний пользователь тарифа \"ультра\" - 2070 рублей. Отметим большую разницу, примерно в 4 раза, между дисперсиями для распределений. Обратимся к статистическим методам чтобы понять, насколько велика эта разница."
   ]
  },
  {
   "cell_type": "code",
   "execution_count": 46,
   "metadata": {
    "scrolled": false
   },
   "outputs": [
    {
     "name": "stdout",
     "output_type": "stream",
     "text": [
      "Среднее значение помесячной прибыли от пользователей тарифа \"смарт\" 1289.9735307312696\n",
      "Стандартное отклонение 669485.2209234245\n",
      "\n",
      "Среднее значение помесячной прибыли от пользователей тарифа \"ультра\" 2070.1522842639592\n",
      "Стандартное отклонение 141373.07325620347\n"
     ]
    }
   ],
   "source": [
    "print('Среднее значение помесячной прибыли от пользователей тарифа \"смарт\"', data.loc[data['tariff']=='smart']['payment'].mean())\n",
    "print('Стандартное отклонение', np.var(data.loc[data['tariff']=='smart']['payment']))\n",
    "print()\n",
    "print('Среднее значение помесячной прибыли от пользователей тарифа \"ультра\"',data.loc[data['tariff']=='ultra']['payment'].mean())\n",
    "print('Стандартное отклонение', np.var(data.loc[data['tariff']=='ultra']['payment']))"
   ]
  },
  {
   "cell_type": "markdown",
   "metadata": {},
   "source": [
    "Применим статистические методы для оценки равенства средних совокупностей средней месячной прибыли от клиентов с разными тарифными планами. Воспользуемся t-тестом для проверки двух генеральных совокупностей. Не будем забывать, что дисерсии этих совокупностей различны. Получим значения статистики разности и p-value. Согласно полученным значениям, вероятность равенства этих совокупностей составляет около 4e-250, то есть ничтожно мала.\n",
    "\n",
    "Таким образом, нулевую гипотезу о равенстве совокупностей можно отвергнуть. Значит, средняя выручка пользователей тарифов «Ультра» и «Смарт» различаются."
   ]
  },
  {
   "cell_type": "markdown",
   "metadata": {},
   "source": [
    "<div class=\"alert alert-warning\">\n",
    "    \n",
    "<b> Комментарий от ревьюера 2 ⚠️</b>\n",
    "    \n",
    "> Согласно полученным значениям, вероятность равенства этих совокупностей составляет около 4e-250, то есть ничтожно мала.\n",
    "    \n",
    "Не совсем так. Это вероятность получить такие или еще большие различия между средними значениями при верной нулевой гипотезе.\n",
    "    \n",
    "</div>\n"
   ]
  },
  {
   "cell_type": "code",
   "execution_count": 47,
   "metadata": {},
   "outputs": [
    {
     "data": {
      "text/plain": [
       "Ttest_indResult(statistic=-37.019021231454644, pvalue=4.2606313931076085e-250)"
      ]
     },
     "execution_count": 47,
     "metadata": {},
     "output_type": "execute_result"
    }
   ],
   "source": [
    "from scipy import stats as st\n",
    "\n",
    "st.ttest_ind(\n",
    "    data.loc[data['tariff']=='smart']['payment'], \n",
    "    data.loc[data['tariff']=='ultra']['payment'],\n",
    "    equal_var = False\n",
    ")"
   ]
  },
  {
   "cell_type": "markdown",
   "metadata": {},
   "source": [
    "<div class=\"alert alert-warning\">\n",
    "    \n",
    "<b> Комментарий от ревьюера 2 ⚠️</b>\n",
    "    \n",
    "Все библиотеки лучше импортировать в начале файла. Об этом говорится в [стилевом гайде по питону](https://www.python.org/dev/peps/pep-0008/#imports)\n",
    "    \n",
    "    Imports are always put at the top of the file, just after any module comments and docstrings, and before module globals and constants.\n",
    "</div>\n"
   ]
  },
  {
   "cell_type": "markdown",
   "metadata": {},
   "source": [
    "### Вывод"
   ]
  },
  {
   "cell_type": "markdown",
   "metadata": {},
   "source": [
    "- Показано, что средняя выручка пользователей тарифов «Ультра» и «Смарт» различаются.\n",
    "- Помесячный доход от среднего пользователя тарифа \"ультра\" составляет 2070 рублей, а от среднего пользователя тарифа \"смарт\" - значительно меньше, всего 1289 рубля.\n",
    "- Суммарный доход от всех пользователей тарифа \"смарт\" составил почти 2.9 млн рублей, в то время как пользователи тарифа \"ультра\" принесли заметно меньше, 2.0 млн рублей."
   ]
  },
  {
   "cell_type": "markdown",
   "metadata": {},
   "source": [
    "<div class=\"alert alert-success\">\n",
    "    \n",
    "<b> Комментарий от ревьюера 2 ✔️</b>\n",
    "\n",
    "Ты правильно сформулировала гипотезы и выбрала подходящий способ проверки\n",
    "\n",
    "</div>"
   ]
  },
  {
   "cell_type": "markdown",
   "metadata": {},
   "source": [
    "## Сравнение выручки пользователей из Москвы и из других регионов."
   ]
  },
  {
   "cell_type": "markdown",
   "metadata": {},
   "source": [
    "Проанализируем различия меду пользователями из Москвы и из регионов. Сформулируем гипотезы, чтобы ответить на вопрос, различается ли средняя выручка этих групп пользователей. Нулевая гипотеза: средние двух совокупностей данных о средней ежемесячной выручке по клиентам из Москвы и из регионов равны между собой. Альтернативная гипотеза: средние двух совокупностей данных о средней ежемесячной выручке по клиентам из Москвы и из регионов **не** равны между собой."
   ]
  },
  {
   "cell_type": "markdown",
   "metadata": {},
   "source": [
    "Выделим группу клиентов из Москвы."
   ]
  },
  {
   "cell_type": "code",
   "execution_count": 48,
   "metadata": {},
   "outputs": [],
   "source": [
    "users_moscow = users.query('city==\"Москва\"')['user_id'].reset_index(drop=True)"
   ]
  },
  {
   "cell_type": "markdown",
   "metadata": {},
   "source": [
    "Посмотрим соотношение пользователей тарифов \"смарт\" и \"ультра\" среди москвичей и жителей других регионов. Полученные значения в 2.1 и 2.4 различаются не сильно. Можно считать, что поведение москвичей и жителей регионов при выборе тарифа не различается."
   ]
  },
  {
   "cell_type": "code",
   "execution_count": 49,
   "metadata": {},
   "outputs": [
    {
     "name": "stdout",
     "output_type": "stream",
     "text": [
      "Соотношение количества пользователей тарифа \"смарт\" к тарифу \"ультра\" в Москве\n",
      "2.09375\n",
      "Соотношение количества пользователей тарифа \"смарт\" к тарифу \"ультра\" в регионах\n",
      "2.427350427350427\n"
     ]
    }
   ],
   "source": [
    "print('Соотношение количества пользователей тарифа \"смарт\" к тарифу \"ультра\" в Москве')\n",
    "print(users.query('city==\"Москва\" and tariff==\"smart\"').shape[0] / users.query('city==\"Москва\" and tariff==\"ultra\"').shape[0])\n",
    "\n",
    "print('Соотношение количества пользователей тарифа \"смарт\" к тарифу \"ультра\" в регионах')\n",
    "print(users.query('city!=\"Москва\" and tariff==\"smart\"').shape[0] / users.query('city!=\"Москва\" and tariff==\"ultra\"').shape[0])"
   ]
  },
  {
   "cell_type": "markdown",
   "metadata": {},
   "source": [
    "Исходя из вышесказанного, а также из доказанной разницы в доходах от тарифов \"смарт\" и \"ультра\", будет корректным сравнивать прибыль от Москвы и регионов внутри отдельных тарифов."
   ]
  },
  {
   "cell_type": "markdown",
   "metadata": {},
   "source": [
    "Исследуем данные о доходах по пользователям тарифа \"смарт\" из Москвы и регионов."
   ]
  },
  {
   "cell_type": "markdown",
   "metadata": {},
   "source": [
    "Построим гистограммы для групп клиентов из Москвы и регионов. Заметим, что основные закономерности уменьшения количества пользователей с ростом прибыли сохраняется как для группы московских пользователей, так и для клиентов из регионов. "
   ]
  },
  {
   "cell_type": "code",
   "execution_count": 50,
   "metadata": {
    "scrolled": true
   },
   "outputs": [
    {
     "data": {
      "text/plain": [
       "<matplotlib.legend.Legend at 0x7fe4a5717dd0>"
      ]
     },
     "execution_count": 50,
     "metadata": {},
     "output_type": "execute_result"
    },
    {
     "data": {
      "image/png": "[encoded data removed]",
      "text/plain": [
       "<Figure size 504x360 with 1 Axes>"
      ]
     },
     "metadata": {
      "needs_background": "light"
     },
     "output_type": "display_data"
    }
   ],
   "source": [
    "fig, ax = plt.subplots(figsize=(7, 5))\n",
    "ax.hist(data.loc[(~data.index.isin(users_moscow)) & (data['tariff'] =='smart')]['payment'], bins=20, label='Регионы')\n",
    "ax.hist(data.loc[(data.index.isin(users_moscow)) & (data['tariff'] =='smart')]['payment'], bins=20, label='Москва', color='red')\n",
    "ax.set_xlabel('Доход за месяц')  \n",
    "ax.set_title('Гистограмма распределения дохода пользователя тарифа \"смарт\" за месяц')\n",
    "ax.legend()"
   ]
  },
  {
   "cell_type": "markdown",
   "metadata": {},
   "source": [
    "Воспользуемся статистическими методами для оценки равенства выручки для пользователей из Москвы и регионов. Применим t-тест для этих данных. Значение p-value составляет 0.18, то есть вероятность равенства таких совокупностей или более далеких составляет 18%. Это значение превышает общепринятые пороговые значения в 5% и 1%. "
   ]
  },
  {
   "cell_type": "code",
   "execution_count": 51,
   "metadata": {},
   "outputs": [
    {
     "data": {
      "text/plain": [
       "Ttest_indResult(statistic=1.3365422154311812, pvalue=0.18150864159228705)"
      ]
     },
     "execution_count": 51,
     "metadata": {},
     "output_type": "execute_result"
    }
   ],
   "source": [
    "st.ttest_ind(\n",
    "    data.loc[(~data.index.isin(users_moscow)) & (data['tariff'] =='smart')]['payment'], \n",
    "    data.loc[(data.index.isin(users_moscow)) & (data['tariff'] =='smart')]['payment'],\n",
    ")"
   ]
  },
  {
   "cell_type": "markdown",
   "metadata": {},
   "source": [
    "Таким образом, совокупности данных о выручке по Москве и в регионах для тарифа \"смарт\" равны."
   ]
  },
  {
   "cell_type": "markdown",
   "metadata": {},
   "source": [
    "Выделим группу москвичей и жителей регионов среди пользователей тарифа \"ультра\". \n",
    "\n",
    "Гистограмма по данных о доходах от пользоватерей тарифа \"ультра\" отличалась наличием большого столбца около значения 1950 рублей, то есть абонентской платы по тарифу. Такие же гистограммы мы видим для москвичей и жителей регионов, нельзя выделить какие-то особенности для этих групп."
   ]
  },
  {
   "cell_type": "code",
   "execution_count": 52,
   "metadata": {},
   "outputs": [
    {
     "data": {
      "text/plain": [
       "<matplotlib.legend.Legend at 0x7fe4a5620450>"
      ]
     },
     "execution_count": 52,
     "metadata": {},
     "output_type": "execute_result"
    },
    {
     "data": {
      "image/png": "[encoded data removed]",
      "text/plain": [
       "<Figure size 504x360 with 1 Axes>"
      ]
     },
     "metadata": {
      "needs_background": "light"
     },
     "output_type": "display_data"
    }
   ],
   "source": [
    "fig, ax = plt.subplots(figsize=(7, 5))\n",
    "ax.hist(data.loc[(~data.index.isin(users_moscow)) & (data['tariff'] =='ultra')]['payment'], bins=20, label='Регионы')\n",
    "ax.hist(data.loc[(data.index.isin(users_moscow)) & (data['tariff'] =='ultra')]['payment'], bins=20, label='Москва', color='red')\n",
    "ax.set_xlabel('Доход за месяц')  \n",
    "ax.set_title('Гистограмма распределения дохода пользователя тарифа \"ультра\" за месяц')\n",
    "ax.legend()"
   ]
  },
  {
   "cell_type": "markdown",
   "metadata": {},
   "source": [
    "Метод t-теста для совокупностей данных для жителей Москвы и регионов среди пользователей тарифа \"ультра\" показал значение p-value равное 0.86. Для принятия решения об признании нулевой гипотезы ошибочной значениеp-value не должно превышать значения в 0.05.\n",
    "\n",
    "Таким образом, совокупности данных о выручке по Москве и в регионах для тарифа \"ультра\" равны."
   ]
  },
  {
   "cell_type": "code",
   "execution_count": 53,
   "metadata": {},
   "outputs": [
    {
     "data": {
      "text/plain": [
       "Ttest_indResult(statistic=-0.17457722431416178, pvalue=0.8614477943640767)"
      ]
     },
     "execution_count": 53,
     "metadata": {},
     "output_type": "execute_result"
    }
   ],
   "source": [
    "st.ttest_ind(\n",
    "    data.loc[(~data.index.isin(users_moscow)) & (data['tariff'] =='ultra')]['payment'], \n",
    "    data.loc[(data.index.isin(users_moscow)) & (data['tariff'] =='ultra')]['payment'],\n",
    ")"
   ]
  },
  {
   "cell_type": "markdown",
   "metadata": {},
   "source": [
    "### Вывод"
   ]
  },
  {
   "cell_type": "markdown",
   "metadata": {},
   "source": [
    "Средняя выручка пользователей из Москвы не отличается от выручки пользователей из других регионов в рамках отдельных тарифов."
   ]
  },
  {
   "cell_type": "markdown",
   "metadata": {},
   "source": [
    "<div class=\"alert alert-success\">\n",
    "    \n",
    "<b> Комментарий от ревьюера 2 ✔️</b>\n",
    "\n",
    "Все верно\n",
    "\n",
    "</div>"
   ]
  },
  {
   "cell_type": "markdown",
   "metadata": {},
   "source": [
    "## Общий вывод"
   ]
  },
  {
   "cell_type": "markdown",
   "metadata": {},
   "source": [
    "Основной целью данного проекта было определение перспективного тарифа для телеком-компании. В рамках решения этой проблемы была поставлена задача сравнить поведение пользователей тарифов \"смарт\" и \"ультра\" и их выручку по выборке клиентов. \n",
    "- Были получены и изучены файлы с информацией о тарифах, о пользователях и их действиях. Определено, что полученные файлы подходят для анализа выручки и активности клиентов.\n",
    "- Полученные файлы были предобработаны - проверены на наличие повторов, ошибок и выбросов. Данные о дате были приведены к подходящему типу. Информация о времени разговора была приведена к целочисленному типу с округлением вверх, как того требует тарификация «Мегалайна».\n",
    "- Были проведены предварительные рассчеты. Данные о звонках, сообщениях и сессиях использования интернета для каждого пользователя были просуммированы по календарным месяцам и сведены в соответствующие таблицы. Предобработанные данные разделены по тарифному плану.\n",
    "- Для каждого типа активности пользователей была посчитана помесячная выручка, также была рассчитана выручка от каждого клиента за каждый календарный месяц пользования тарифом.\n",
    "- Было проанализировано поведение пользователей, определены особенности использования разных услуг связи. Найдены различия в использовании минут разговора, сообщений и интернет-трафика между пользователями тарифов \"смарт\" и \"ультра\".\n",
    "- Были сопоставлены показатели средней месячной выручки от пользователей разных тарифов. Позазано, что средняя выручка пользователей тарифов «ультра» и «смарт» различаются. \n",
    "- При сравнении выручки клиентов из Москвы и регонов было обнаружено, что средняя выручка пользователей из Москвы **не** отличается от выручки пользователей из других регионов.\n",
    "\n",
    "Еще раз отметитм, что выручка среднего пользователя тарифа \"ультра\" выше выручки среднего пользователя тарифа \"смарт\". Однако, согласно данным из нашей выборки, суммарно за 2018 год пользователи тарифа \"смарт\" принесли на треть больше выручки, чем  пользователя тарифа \"ультра\" из-за значительной разницы в количестве пользователей тарифов."
   ]
  },
  {
   "cell_type": "markdown",
   "metadata": {},
   "source": [
    "<div class=\"alert alert-success\">\n",
    "    \n",
    "<b> Комментарий от ревьюера 2 ✔️</b>\n",
    "\n",
    "Хороший вывод\n",
    "\n",
    "</div>"
   ]
  },
  {
   "cell_type": "markdown",
   "metadata": {},
   "source": [
    "<div class=\"alert alert-success\">\n",
    "    \n",
    "<b> Комментарий от ревьюера ✔️</b>\n",
    "    \n",
    "Спасибо за твою работу! \n",
    "    \n",
    "Измени, пожалуйста, группировку данных, и я смогу проверить проект. Жду твои исправления :)\n",
    "</div>"
   ]
  },
  {
   "cell_type": "markdown",
   "metadata": {},
   "source": [
    "<div class=\"alert alert-success\">\n",
    "<b> Комментарий от ревьюера 2 ✔️</b>\n",
    "\n",
    "Ты хорошо справилась с подготовкой и анализом данных, у тебя получились понятные графики и логичные выводы.\n",
    "    \n",
    "Надеюсь, эта работа была полезна для тебя. Я принимаю проект и желаю удачи в прохождении курса!\n",
    "\n",
    "</div>"
   ]
  }
 ],
 "metadata": {
  "ExecuteTimeLog": [
   {
    "duration": 93,
    "start_time": "2022-01-20T10:48:58.807Z"
   },
   {
    "duration": 802,
    "start_time": "2022-01-20T10:49:05.401Z"
   },
   {
    "duration": 151,
    "start_time": "2022-01-20T10:49:24.242Z"
   },
   {
    "duration": 138,
    "start_time": "2022-01-20T10:51:21.419Z"
   },
   {
    "duration": 99,
    "start_time": "2022-01-20T10:52:47.562Z"
   },
   {
    "duration": 23,
    "start_time": "2022-01-20T10:53:44.521Z"
   },
   {
    "duration": 36,
    "start_time": "2022-01-20T10:54:43.596Z"
   },
   {
    "duration": 47,
    "start_time": "2022-01-20T11:02:27.807Z"
   },
   {
    "duration": 43,
    "start_time": "2022-01-20T11:02:54.007Z"
   },
   {
    "duration": 35,
    "start_time": "2022-01-20T11:03:16.153Z"
   },
   {
    "duration": 23,
    "start_time": "2022-01-20T11:16:20.265Z"
   },
   {
    "duration": 14,
    "start_time": "2022-01-20T11:16:51.913Z"
   },
   {
    "duration": 39,
    "start_time": "2022-01-20T11:17:12.500Z"
   },
   {
    "duration": 46,
    "start_time": "2022-01-20T11:23:55.841Z"
   },
   {
    "duration": 21,
    "start_time": "2022-01-20T11:54:45.063Z"
   },
   {
    "duration": 25,
    "start_time": "2022-01-20T11:54:56.068Z"
   },
   {
    "duration": 141,
    "start_time": "2022-01-20T12:10:52.777Z"
   },
   {
    "duration": 141,
    "start_time": "2022-01-20T12:11:09.803Z"
   },
   {
    "duration": 163,
    "start_time": "2022-01-20T12:11:52.285Z"
   },
   {
    "duration": 155,
    "start_time": "2022-01-20T12:13:55.496Z"
   },
   {
    "duration": 80,
    "start_time": "2022-01-20T13:19:04.209Z"
   },
   {
    "duration": 80,
    "start_time": "2022-01-20T13:19:04.389Z"
   },
   {
    "duration": 94,
    "start_time": "2022-01-20T13:30:11.502Z"
   },
   {
    "duration": 55,
    "start_time": "2022-01-20T13:30:39.672Z"
   },
   {
    "duration": 41,
    "start_time": "2022-01-20T13:30:46.067Z"
   },
   {
    "duration": 25,
    "start_time": "2022-01-20T13:34:08.132Z"
   },
   {
    "duration": 88,
    "start_time": "2022-01-20T13:37:02.640Z"
   },
   {
    "duration": 44,
    "start_time": "2022-01-20T13:37:14.179Z"
   },
   {
    "duration": 5,
    "start_time": "2022-01-20T13:43:00.351Z"
   },
   {
    "duration": 22,
    "start_time": "2022-01-20T13:50:55.525Z"
   },
   {
    "duration": 155,
    "start_time": "2022-01-20T13:50:58.261Z"
   },
   {
    "duration": 130,
    "start_time": "2022-01-20T13:51:04.307Z"
   },
   {
    "duration": 90,
    "start_time": "2022-01-20T13:51:10.885Z"
   },
   {
    "duration": 37,
    "start_time": "2022-01-20T13:51:16.621Z"
   },
   {
    "duration": 61,
    "start_time": "2022-01-20T13:51:23.598Z"
   },
   {
    "duration": 5,
    "start_time": "2022-01-20T14:01:44.180Z"
   },
   {
    "duration": 11,
    "start_time": "2022-01-20T14:02:00.041Z"
   },
   {
    "duration": 348,
    "start_time": "2022-01-20T14:06:58.790Z"
   },
   {
    "duration": 255,
    "start_time": "2022-01-20T14:09:38.760Z"
   },
   {
    "duration": 78,
    "start_time": "2022-01-20T14:12:10.905Z"
   },
   {
    "duration": 315,
    "start_time": "2022-01-20T14:12:15.488Z"
   },
   {
    "duration": 245,
    "start_time": "2022-01-20T14:12:43.291Z"
   },
   {
    "duration": 238,
    "start_time": "2022-01-20T14:13:04.465Z"
   },
   {
    "duration": 315,
    "start_time": "2022-01-20T14:14:19.467Z"
   },
   {
    "duration": 274,
    "start_time": "2022-01-20T14:14:40.905Z"
   },
   {
    "duration": 4,
    "start_time": "2022-01-20T14:15:17.762Z"
   },
   {
    "duration": 233,
    "start_time": "2022-01-20T14:15:37.443Z"
   },
   {
    "duration": 12,
    "start_time": "2022-01-20T14:16:04.008Z"
   },
   {
    "duration": 11,
    "start_time": "2022-01-20T14:16:09.945Z"
   },
   {
    "duration": 146,
    "start_time": "2022-01-20T14:16:58.670Z"
   },
   {
    "duration": 138,
    "start_time": "2022-01-20T14:17:06.156Z"
   },
   {
    "duration": 10,
    "start_time": "2022-01-20T14:17:26.045Z"
   },
   {
    "duration": 10,
    "start_time": "2022-01-20T14:17:47.011Z"
   },
   {
    "duration": 11,
    "start_time": "2022-01-20T14:18:00.005Z"
   },
   {
    "duration": 301,
    "start_time": "2022-01-20T14:25:03.454Z"
   },
   {
    "duration": 13,
    "start_time": "2022-01-20T14:25:09.939Z"
   },
   {
    "duration": 12,
    "start_time": "2022-01-20T14:25:22.221Z"
   },
   {
    "duration": 96,
    "start_time": "2022-01-20T15:35:33.728Z"
   },
   {
    "duration": 249,
    "start_time": "2022-01-20T15:36:02.093Z"
   },
   {
    "duration": 37,
    "start_time": "2022-01-20T15:36:10.081Z"
   },
   {
    "duration": 22,
    "start_time": "2022-01-20T15:36:13.628Z"
   },
   {
    "duration": 47,
    "start_time": "2022-01-20T15:39:14.635Z"
   },
   {
    "duration": 83,
    "start_time": "2022-01-20T15:40:38.172Z"
   },
   {
    "duration": 56,
    "start_time": "2022-01-20T15:43:10.236Z"
   },
   {
    "duration": 259,
    "start_time": "2022-01-20T15:44:54.060Z"
   },
   {
    "duration": 6134,
    "start_time": "2022-01-20T15:45:18.940Z"
   },
   {
    "duration": 324,
    "start_time": "2022-01-20T15:45:24.752Z"
   },
   {
    "duration": 15,
    "start_time": "2022-01-20T15:46:07.172Z"
   },
   {
    "duration": 289,
    "start_time": "2022-01-20T15:46:09.906Z"
   },
   {
    "duration": 31,
    "start_time": "2022-01-20T15:46:25.827Z"
   },
   {
    "duration": 36,
    "start_time": "2022-01-20T15:46:42.402Z"
   },
   {
    "duration": 398,
    "start_time": "2022-01-20T15:49:28.056Z"
   },
   {
    "duration": 16,
    "start_time": "2022-01-20T15:49:35.716Z"
   },
   {
    "duration": 328,
    "start_time": "2022-01-20T15:49:39.005Z"
   },
   {
    "duration": 33,
    "start_time": "2022-01-20T15:49:52.454Z"
   },
   {
    "duration": 35,
    "start_time": "2022-01-20T15:54:47.702Z"
   },
   {
    "duration": 34,
    "start_time": "2022-01-20T15:55:18.518Z"
   },
   {
    "duration": 278,
    "start_time": "2022-01-20T16:04:56.572Z"
   },
   {
    "duration": 5,
    "start_time": "2022-01-20T16:05:02.629Z"
   },
   {
    "duration": 7,
    "start_time": "2022-01-20T16:05:29.443Z"
   },
   {
    "duration": 7,
    "start_time": "2022-01-20T16:06:14.028Z"
   },
   {
    "duration": 75,
    "start_time": "2022-01-20T16:11:48.688Z"
   },
   {
    "duration": 347,
    "start_time": "2022-01-20T16:12:09.010Z"
   },
   {
    "duration": 246,
    "start_time": "2022-01-20T16:12:34.177Z"
   },
   {
    "duration": 231,
    "start_time": "2022-01-20T16:13:16.568Z"
   },
   {
    "duration": 324,
    "start_time": "2022-01-20T16:13:49.617Z"
   },
   {
    "duration": 17,
    "start_time": "2022-01-20T16:40:10.630Z"
   },
   {
    "duration": 1935,
    "start_time": "2022-01-20T16:40:31.000Z"
   },
   {
    "duration": 1648,
    "start_time": "2022-01-20T16:40:40.034Z"
   },
   {
    "duration": 27,
    "start_time": "2022-01-20T16:42:22.561Z"
   },
   {
    "duration": 74,
    "start_time": "2022-01-20T16:44:20.859Z"
   },
   {
    "duration": 77,
    "start_time": "2022-01-20T16:44:28.972Z"
   },
   {
    "duration": 228,
    "start_time": "2022-01-20T16:44:39.483Z"
   },
   {
    "duration": 261,
    "start_time": "2022-01-20T16:45:22.411Z"
   },
   {
    "duration": 7,
    "start_time": "2022-01-20T16:50:45.876Z"
   },
   {
    "duration": 8,
    "start_time": "2022-01-20T16:51:47.138Z"
   },
   {
    "duration": 10,
    "start_time": "2022-01-20T16:53:07.895Z"
   },
   {
    "duration": 268,
    "start_time": "2022-01-20T16:56:41.751Z"
   },
   {
    "duration": 41,
    "start_time": "2022-01-20T16:57:27.931Z"
   },
   {
    "duration": 42,
    "start_time": "2022-01-20T16:59:10.966Z"
   },
   {
    "duration": 47,
    "start_time": "2022-01-20T16:59:24.154Z"
   },
   {
    "duration": 50,
    "start_time": "2022-01-20T16:59:42.463Z"
   },
   {
    "duration": 657,
    "start_time": "2022-01-21T09:28:48.119Z"
   },
   {
    "duration": 160,
    "start_time": "2022-01-21T09:29:27.556Z"
   },
   {
    "duration": 169,
    "start_time": "2022-01-21T09:29:34.680Z"
   },
   {
    "duration": 41,
    "start_time": "2022-01-21T09:29:36.683Z"
   },
   {
    "duration": 138,
    "start_time": "2022-01-21T09:29:47.667Z"
   },
   {
    "duration": 41,
    "start_time": "2022-01-21T09:29:50.557Z"
   },
   {
    "duration": 93,
    "start_time": "2022-01-21T09:30:24.717Z"
   },
   {
    "duration": 20,
    "start_time": "2022-01-21T09:30:27.172Z"
   },
   {
    "duration": 35,
    "start_time": "2022-01-21T09:30:37.503Z"
   },
   {
    "duration": 16,
    "start_time": "2022-01-21T09:30:39.980Z"
   },
   {
    "duration": 65,
    "start_time": "2022-01-21T09:32:18.150Z"
   },
   {
    "duration": 12,
    "start_time": "2022-01-21T09:32:27.014Z"
   },
   {
    "duration": 16,
    "start_time": "2022-01-21T09:32:45.991Z"
   },
   {
    "duration": 12,
    "start_time": "2022-01-21T09:39:04.153Z"
   },
   {
    "duration": 5,
    "start_time": "2022-01-21T09:40:38.611Z"
   },
   {
    "duration": 5,
    "start_time": "2022-01-21T10:05:07.279Z"
   },
   {
    "duration": 5,
    "start_time": "2022-01-21T10:05:24.734Z"
   },
   {
    "duration": 7,
    "start_time": "2022-01-21T10:05:47.098Z"
   },
   {
    "duration": 5,
    "start_time": "2022-01-21T10:06:00.121Z"
   },
   {
    "duration": 49,
    "start_time": "2022-01-21T10:07:11.355Z"
   },
   {
    "duration": 34,
    "start_time": "2022-01-21T10:11:39.917Z"
   },
   {
    "duration": 41,
    "start_time": "2022-01-21T10:12:17.395Z"
   },
   {
    "duration": 18,
    "start_time": "2022-01-21T10:13:15.807Z"
   },
   {
    "duration": 43,
    "start_time": "2022-01-21T10:13:58.383Z"
   },
   {
    "duration": 47,
    "start_time": "2022-01-21T10:14:11.701Z"
   },
   {
    "duration": 33,
    "start_time": "2022-01-21T10:19:36.406Z"
   },
   {
    "duration": 72,
    "start_time": "2022-01-21T10:27:35.643Z"
   },
   {
    "duration": 65,
    "start_time": "2022-01-21T10:28:06.134Z"
   },
   {
    "duration": 15,
    "start_time": "2022-01-21T10:32:18.711Z"
   },
   {
    "duration": 82,
    "start_time": "2022-01-21T10:33:55.548Z"
   },
   {
    "duration": 21,
    "start_time": "2022-01-21T10:34:08.505Z"
   },
   {
    "duration": 20,
    "start_time": "2022-01-21T10:34:33.297Z"
   },
   {
    "duration": 32,
    "start_time": "2022-01-21T10:45:03.462Z"
   },
   {
    "duration": 22,
    "start_time": "2022-01-21T10:45:27.768Z"
   },
   {
    "duration": 19,
    "start_time": "2022-01-21T10:45:44.103Z"
   },
   {
    "duration": 20,
    "start_time": "2022-01-21T10:45:58.535Z"
   },
   {
    "duration": 17,
    "start_time": "2022-01-21T10:46:18.958Z"
   },
   {
    "duration": 18,
    "start_time": "2022-01-21T10:46:32.830Z"
   },
   {
    "duration": 310,
    "start_time": "2022-01-21T10:48:27.800Z"
   },
   {
    "duration": 12,
    "start_time": "2022-01-21T10:48:37.299Z"
   },
   {
    "duration": 247,
    "start_time": "2022-01-21T10:48:56.877Z"
   },
   {
    "duration": 221,
    "start_time": "2022-01-21T10:49:38.529Z"
   },
   {
    "duration": 233,
    "start_time": "2022-01-21T10:49:46.600Z"
   },
   {
    "duration": 253,
    "start_time": "2022-01-21T10:50:09.019Z"
   },
   {
    "duration": 245,
    "start_time": "2022-01-21T10:56:53.027Z"
   },
   {
    "duration": 248,
    "start_time": "2022-01-21T10:58:01.644Z"
   },
   {
    "duration": 80,
    "start_time": "2022-01-21T11:00:15.376Z"
   },
   {
    "duration": 16,
    "start_time": "2022-01-21T11:00:22.294Z"
   },
   {
    "duration": 677,
    "start_time": "2022-01-21T11:25:15.927Z"
   },
   {
    "duration": 158,
    "start_time": "2022-01-21T11:25:19.180Z"
   },
   {
    "duration": 48,
    "start_time": "2022-01-21T11:25:20.893Z"
   },
   {
    "duration": 149,
    "start_time": "2022-01-21T11:25:23.740Z"
   },
   {
    "duration": 43,
    "start_time": "2022-01-21T11:25:24.956Z"
   },
   {
    "duration": 101,
    "start_time": "2022-01-21T11:25:27.614Z"
   },
   {
    "duration": 15,
    "start_time": "2022-01-21T11:25:30.444Z"
   },
   {
    "duration": 36,
    "start_time": "2022-01-21T11:25:32.741Z"
   },
   {
    "duration": 19,
    "start_time": "2022-01-21T11:25:34.917Z"
   },
   {
    "duration": 71,
    "start_time": "2022-01-21T11:25:40.821Z"
   },
   {
    "duration": 12,
    "start_time": "2022-01-21T11:25:45.031Z"
   },
   {
    "duration": 17,
    "start_time": "2022-01-21T11:25:48.277Z"
   },
   {
    "duration": 11,
    "start_time": "2022-01-21T11:25:57.310Z"
   },
   {
    "duration": 54,
    "start_time": "2022-01-21T11:25:59.996Z"
   },
   {
    "duration": 8,
    "start_time": "2022-01-21T11:26:05.134Z"
   },
   {
    "duration": 6,
    "start_time": "2022-01-21T11:26:07.085Z"
   },
   {
    "duration": 7,
    "start_time": "2022-01-21T11:31:57.794Z"
   },
   {
    "duration": 8219,
    "start_time": "2022-01-21T11:32:16.393Z"
   },
   {
    "duration": 1771,
    "start_time": "2022-01-21T11:32:44.515Z"
   },
   {
    "duration": 5,
    "start_time": "2022-01-21T11:33:31.595Z"
   },
   {
    "duration": 238,
    "start_time": "2022-01-21T11:33:58.194Z"
   },
   {
    "duration": 31,
    "start_time": "2022-01-21T11:34:18.850Z"
   },
   {
    "duration": 26,
    "start_time": "2022-01-21T11:34:22.481Z"
   },
   {
    "duration": 45,
    "start_time": "2022-01-21T11:34:24.386Z"
   },
   {
    "duration": 18,
    "start_time": "2022-01-21T11:34:28.618Z"
   },
   {
    "duration": 48,
    "start_time": "2022-01-21T11:34:29.554Z"
   },
   {
    "duration": 296,
    "start_time": "2022-01-21T11:34:32.867Z"
   },
   {
    "duration": 57,
    "start_time": "2022-01-21T11:35:15.762Z"
   },
   {
    "duration": 8,
    "start_time": "2022-01-21T11:35:24.884Z"
   },
   {
    "duration": 57,
    "start_time": "2022-01-21T11:39:56.830Z"
   },
   {
    "duration": 24,
    "start_time": "2022-01-21T11:40:31.510Z"
   },
   {
    "duration": 40,
    "start_time": "2022-01-21T11:48:11.132Z"
   },
   {
    "duration": 25,
    "start_time": "2022-01-21T11:48:39.146Z"
   },
   {
    "duration": 19,
    "start_time": "2022-01-21T11:52:19.054Z"
   },
   {
    "duration": 329,
    "start_time": "2022-01-21T11:55:09.981Z"
   },
   {
    "duration": 16,
    "start_time": "2022-01-21T11:55:16.581Z"
   },
   {
    "duration": 580,
    "start_time": "2022-01-21T11:55:38.948Z"
   },
   {
    "duration": 145,
    "start_time": "2022-01-21T11:55:39.530Z"
   },
   {
    "duration": 41,
    "start_time": "2022-01-21T11:55:39.676Z"
   },
   {
    "duration": 124,
    "start_time": "2022-01-21T11:55:39.718Z"
   },
   {
    "duration": 35,
    "start_time": "2022-01-21T11:55:39.844Z"
   },
   {
    "duration": 89,
    "start_time": "2022-01-21T11:55:39.881Z"
   },
   {
    "duration": 13,
    "start_time": "2022-01-21T11:55:39.971Z"
   },
   {
    "duration": 67,
    "start_time": "2022-01-21T11:55:39.986Z"
   },
   {
    "duration": 25,
    "start_time": "2022-01-21T11:55:40.055Z"
   },
   {
    "duration": 104,
    "start_time": "2022-01-21T11:55:40.082Z"
   },
   {
    "duration": 56,
    "start_time": "2022-01-21T11:55:40.187Z"
   },
   {
    "duration": 39,
    "start_time": "2022-01-21T11:55:40.245Z"
   },
   {
    "duration": 70,
    "start_time": "2022-01-21T11:55:40.286Z"
   },
   {
    "duration": 9,
    "start_time": "2022-01-21T11:55:40.358Z"
   },
   {
    "duration": 15,
    "start_time": "2022-01-21T11:55:40.369Z"
   },
   {
    "duration": 24,
    "start_time": "2022-01-21T11:55:40.386Z"
   },
   {
    "duration": 54,
    "start_time": "2022-01-21T11:55:40.412Z"
   },
   {
    "duration": 4,
    "start_time": "2022-01-21T11:55:40.467Z"
   },
   {
    "duration": 20,
    "start_time": "2022-01-21T11:55:40.473Z"
   },
   {
    "duration": 36,
    "start_time": "2022-01-21T11:55:40.494Z"
   },
   {
    "duration": 28,
    "start_time": "2022-01-21T11:55:40.532Z"
   },
   {
    "duration": 44,
    "start_time": "2022-01-21T11:55:40.561Z"
   },
   {
    "duration": 32,
    "start_time": "2022-01-21T11:55:40.609Z"
   },
   {
    "duration": 44,
    "start_time": "2022-01-21T11:55:40.643Z"
   },
   {
    "duration": 85,
    "start_time": "2022-01-21T11:55:40.689Z"
   },
   {
    "duration": 28,
    "start_time": "2022-01-21T11:55:40.776Z"
   },
   {
    "duration": 39,
    "start_time": "2022-01-21T11:55:40.805Z"
   },
   {
    "duration": 20,
    "start_time": "2022-01-21T11:55:40.846Z"
   },
   {
    "duration": 28,
    "start_time": "2022-01-21T11:55:40.867Z"
   },
   {
    "duration": 5,
    "start_time": "2022-01-21T11:55:40.897Z"
   },
   {
    "duration": 22,
    "start_time": "2022-01-21T11:55:40.903Z"
   },
   {
    "duration": 301,
    "start_time": "2022-01-21T11:55:40.926Z"
   },
   {
    "duration": 18,
    "start_time": "2022-01-21T11:55:41.211Z"
   },
   {
    "duration": 45,
    "start_time": "2022-01-21T11:57:00.205Z"
   },
   {
    "duration": 258,
    "start_time": "2022-01-21T12:20:11.706Z"
   },
   {
    "duration": 293,
    "start_time": "2022-01-21T12:20:31.068Z"
   },
   {
    "duration": 42,
    "start_time": "2022-01-21T12:20:49.534Z"
   },
   {
    "duration": 43,
    "start_time": "2022-01-21T12:21:37.941Z"
   },
   {
    "duration": 273,
    "start_time": "2022-01-21T12:22:41.438Z"
   },
   {
    "duration": 6325,
    "start_time": "2022-01-21T12:23:38.347Z"
   },
   {
    "duration": 44,
    "start_time": "2022-01-21T12:24:12.308Z"
   },
   {
    "duration": 52,
    "start_time": "2022-01-21T12:33:28.795Z"
   },
   {
    "duration": 46,
    "start_time": "2022-01-21T12:34:22.795Z"
   },
   {
    "duration": 77,
    "start_time": "2022-01-21T12:34:44.555Z"
   },
   {
    "duration": 8,
    "start_time": "2022-01-21T12:38:41.187Z"
   },
   {
    "duration": 941,
    "start_time": "2022-01-21T12:40:14.100Z"
   },
   {
    "duration": 223,
    "start_time": "2022-01-21T12:40:22.198Z"
   },
   {
    "duration": 6994,
    "start_time": "2022-01-21T12:42:06.462Z"
   },
   {
    "duration": 4692,
    "start_time": "2022-01-21T12:42:24.127Z"
   },
   {
    "duration": 6,
    "start_time": "2022-01-21T12:43:12.574Z"
   },
   {
    "duration": 4,
    "start_time": "2022-01-21T12:43:47.089Z"
   },
   {
    "duration": 5,
    "start_time": "2022-01-21T12:44:11.960Z"
   },
   {
    "duration": 11,
    "start_time": "2022-01-21T12:44:43.408Z"
   },
   {
    "duration": 6395,
    "start_time": "2022-01-21T12:46:08.617Z"
   },
   {
    "duration": 4,
    "start_time": "2022-01-21T12:46:28.103Z"
   },
   {
    "duration": 12,
    "start_time": "2022-01-21T12:48:55.779Z"
   },
   {
    "duration": 17,
    "start_time": "2022-01-21T12:49:10.451Z"
   },
   {
    "duration": 16,
    "start_time": "2022-01-21T12:49:35.945Z"
   },
   {
    "duration": 20,
    "start_time": "2022-01-21T12:53:03.304Z"
   },
   {
    "duration": 9,
    "start_time": "2022-01-21T12:57:04.432Z"
   },
   {
    "duration": 13,
    "start_time": "2022-01-21T12:57:14.270Z"
   },
   {
    "duration": 325,
    "start_time": "2022-01-21T12:58:04.249Z"
   },
   {
    "duration": 225,
    "start_time": "2022-01-21T12:58:26.537Z"
   },
   {
    "duration": 16,
    "start_time": "2022-01-21T12:59:00.009Z"
   },
   {
    "duration": 3187,
    "start_time": "2022-01-21T12:59:36.824Z"
   },
   {
    "duration": 416,
    "start_time": "2022-01-21T13:03:32.035Z"
   },
   {
    "duration": 848,
    "start_time": "2022-01-21T16:25:32.122Z"
   },
   {
    "duration": 208,
    "start_time": "2022-01-21T16:25:35.952Z"
   },
   {
    "duration": 179,
    "start_time": "2022-01-21T16:25:40.146Z"
   },
   {
    "duration": 119,
    "start_time": "2022-01-21T16:25:46.508Z"
   },
   {
    "duration": 37,
    "start_time": "2022-01-21T16:25:53.771Z"
   },
   {
    "duration": 95,
    "start_time": "2022-01-21T16:26:05.530Z"
   },
   {
    "duration": 15,
    "start_time": "2022-01-21T16:26:08.659Z"
   },
   {
    "duration": 30,
    "start_time": "2022-01-21T16:26:23.605Z"
   },
   {
    "duration": 20,
    "start_time": "2022-01-21T16:26:30.315Z"
   },
   {
    "duration": 93,
    "start_time": "2022-01-21T16:26:35.730Z"
   },
   {
    "duration": 7,
    "start_time": "2022-01-21T16:26:38.312Z"
   },
   {
    "duration": 8,
    "start_time": "2022-01-21T16:26:40.465Z"
   },
   {
    "duration": 42,
    "start_time": "2022-01-21T16:26:50.733Z"
   },
   {
    "duration": 116,
    "start_time": "2022-01-21T16:26:53.316Z"
   },
   {
    "duration": 25,
    "start_time": "2022-01-21T16:27:05.642Z"
   },
   {
    "duration": 76,
    "start_time": "2022-01-21T16:27:07.299Z"
   },
   {
    "duration": 96,
    "start_time": "2022-01-21T16:27:23.905Z"
   },
   {
    "duration": 329,
    "start_time": "2022-01-21T16:27:29.363Z"
   },
   {
    "duration": 67,
    "start_time": "2022-01-21T16:33:11.513Z"
   },
   {
    "duration": 52,
    "start_time": "2022-01-21T16:33:18.790Z"
   },
   {
    "duration": 33,
    "start_time": "2022-01-21T16:33:29.406Z"
   },
   {
    "duration": 31,
    "start_time": "2022-01-21T16:33:30.704Z"
   },
   {
    "duration": 32,
    "start_time": "2022-01-21T16:33:43.575Z"
   },
   {
    "duration": 37,
    "start_time": "2022-01-21T16:34:01.155Z"
   },
   {
    "duration": 27,
    "start_time": "2022-01-21T16:35:14.609Z"
   },
   {
    "duration": 258,
    "start_time": "2022-01-21T16:36:16.179Z"
   },
   {
    "duration": 276,
    "start_time": "2022-01-21T16:37:30.274Z"
   },
   {
    "duration": 237,
    "start_time": "2022-01-21T16:38:35.074Z"
   },
   {
    "duration": 245,
    "start_time": "2022-01-21T16:39:19.836Z"
   },
   {
    "duration": 229,
    "start_time": "2022-01-21T16:48:08.616Z"
   },
   {
    "duration": 276,
    "start_time": "2022-01-21T16:58:07.005Z"
   },
   {
    "duration": 3830,
    "start_time": "2022-01-21T16:58:46.777Z"
   },
   {
    "duration": 7,
    "start_time": "2022-01-21T16:59:58.766Z"
   },
   {
    "duration": 40,
    "start_time": "2022-01-21T17:00:02.685Z"
   },
   {
    "duration": 38,
    "start_time": "2022-01-21T17:00:08.903Z"
   },
   {
    "duration": 259,
    "start_time": "2022-01-21T17:01:13.095Z"
   },
   {
    "duration": 415,
    "start_time": "2022-01-21T17:01:27.357Z"
   },
   {
    "duration": 281,
    "start_time": "2022-01-21T17:01:47.327Z"
   },
   {
    "duration": 252,
    "start_time": "2022-01-21T17:04:42.271Z"
   },
   {
    "duration": 1319,
    "start_time": "2022-01-21T17:05:38.759Z"
   },
   {
    "duration": 311,
    "start_time": "2022-01-21T17:06:46.857Z"
   },
   {
    "duration": 26,
    "start_time": "2022-01-21T17:08:13.456Z"
   },
   {
    "duration": 7,
    "start_time": "2022-01-21T17:08:20.230Z"
   },
   {
    "duration": 253,
    "start_time": "2022-01-21T17:08:31.327Z"
   },
   {
    "duration": 271,
    "start_time": "2022-01-21T17:10:11.129Z"
   },
   {
    "duration": 312,
    "start_time": "2022-01-21T17:12:44.795Z"
   },
   {
    "duration": 337,
    "start_time": "2022-01-21T17:13:02.242Z"
   },
   {
    "duration": 39,
    "start_time": "2022-01-21T17:14:57.924Z"
   },
   {
    "duration": 254,
    "start_time": "2022-01-21T17:17:01.500Z"
   },
   {
    "duration": 104,
    "start_time": "2022-01-21T17:18:11.305Z"
   },
   {
    "duration": 24,
    "start_time": "2022-01-21T17:19:26.624Z"
   },
   {
    "duration": 262,
    "start_time": "2022-01-21T17:20:00.352Z"
   },
   {
    "duration": 94,
    "start_time": "2022-01-21T17:20:10.067Z"
   },
   {
    "duration": 81,
    "start_time": "2022-01-21T17:20:42.936Z"
   },
   {
    "duration": 325,
    "start_time": "2022-01-21T17:20:53.282Z"
   },
   {
    "duration": 3310,
    "start_time": "2022-01-21T17:21:06.931Z"
   },
   {
    "duration": 6457,
    "start_time": "2022-01-21T17:22:30.688Z"
   },
   {
    "duration": 6,
    "start_time": "2022-01-21T17:22:43.387Z"
   },
   {
    "duration": 9,
    "start_time": "2022-01-21T17:22:56.387Z"
   },
   {
    "duration": 89,
    "start_time": "2022-01-21T17:23:15.362Z"
   },
   {
    "duration": 96,
    "start_time": "2022-01-21T17:23:25.005Z"
   },
   {
    "duration": 9,
    "start_time": "2022-01-21T17:24:10.315Z"
   },
   {
    "duration": 24,
    "start_time": "2022-01-21T17:24:33.107Z"
   },
   {
    "duration": 769,
    "start_time": "2022-01-21T17:25:46.506Z"
   },
   {
    "duration": 220,
    "start_time": "2022-01-21T17:25:49.876Z"
   },
   {
    "duration": 180,
    "start_time": "2022-01-21T17:25:56.657Z"
   },
   {
    "duration": 115,
    "start_time": "2022-01-21T17:26:00.171Z"
   },
   {
    "duration": 32,
    "start_time": "2022-01-21T17:26:03.461Z"
   },
   {
    "duration": 95,
    "start_time": "2022-01-21T17:26:12.918Z"
   },
   {
    "duration": 15,
    "start_time": "2022-01-21T17:26:20.989Z"
   },
   {
    "duration": 22,
    "start_time": "2022-01-21T17:26:39.077Z"
   },
   {
    "duration": 17,
    "start_time": "2022-01-21T17:26:54.452Z"
   },
   {
    "duration": 75,
    "start_time": "2022-01-21T17:27:03.237Z"
   },
   {
    "duration": 9,
    "start_time": "2022-01-21T17:27:17.926Z"
   },
   {
    "duration": 7,
    "start_time": "2022-01-21T17:27:19.934Z"
   },
   {
    "duration": 43,
    "start_time": "2022-01-21T17:27:32.606Z"
   },
   {
    "duration": 38,
    "start_time": "2022-01-21T17:27:36.270Z"
   },
   {
    "duration": 72,
    "start_time": "2022-01-21T17:27:40.242Z"
   },
   {
    "duration": 62,
    "start_time": "2022-01-21T17:27:52.494Z"
   },
   {
    "duration": 23,
    "start_time": "2022-01-21T17:28:02.710Z"
   },
   {
    "duration": 67,
    "start_time": "2022-01-21T17:28:04.943Z"
   },
   {
    "duration": 97,
    "start_time": "2022-01-21T17:28:50.992Z"
   },
   {
    "duration": 53,
    "start_time": "2022-01-21T17:29:03.574Z"
   },
   {
    "duration": 34,
    "start_time": "2022-01-21T17:29:09.414Z"
   },
   {
    "duration": 32,
    "start_time": "2022-01-21T17:29:11.550Z"
   },
   {
    "duration": 26,
    "start_time": "2022-01-21T17:29:27.361Z"
   },
   {
    "duration": 22,
    "start_time": "2022-01-21T17:29:42.889Z"
   },
   {
    "duration": 6,
    "start_time": "2022-01-21T17:29:47.199Z"
   },
   {
    "duration": 483,
    "start_time": "2022-01-21T17:29:59.449Z"
   },
   {
    "duration": 330,
    "start_time": "2022-01-21T17:32:27.169Z"
   },
   {
    "duration": 12,
    "start_time": "2022-01-21T17:32:33.249Z"
   },
   {
    "duration": 256,
    "start_time": "2022-01-21T17:32:35.649Z"
   },
   {
    "duration": 318,
    "start_time": "2022-01-21T17:34:25.931Z"
   },
   {
    "duration": 7,
    "start_time": "2022-01-21T17:35:13.642Z"
   },
   {
    "duration": 424,
    "start_time": "2022-01-21T17:41:29.866Z"
   },
   {
    "duration": 769,
    "start_time": "2022-01-21T17:41:49.544Z"
   },
   {
    "duration": 212,
    "start_time": "2022-01-21T17:41:50.316Z"
   },
   {
    "duration": 68,
    "start_time": "2022-01-21T17:41:50.531Z"
   },
   {
    "duration": 197,
    "start_time": "2022-01-21T17:41:50.602Z"
   },
   {
    "duration": 69,
    "start_time": "2022-01-21T17:41:50.801Z"
   },
   {
    "duration": 130,
    "start_time": "2022-01-21T17:41:50.872Z"
   },
   {
    "duration": 19,
    "start_time": "2022-01-21T17:41:51.004Z"
   },
   {
    "duration": 40,
    "start_time": "2022-01-21T17:41:51.033Z"
   },
   {
    "duration": 33,
    "start_time": "2022-01-21T17:41:51.077Z"
   },
   {
    "duration": 143,
    "start_time": "2022-01-21T17:41:51.113Z"
   },
   {
    "duration": 123,
    "start_time": "2022-01-21T17:41:51.259Z"
   },
   {
    "duration": 66,
    "start_time": "2022-01-21T17:41:51.384Z"
   },
   {
    "duration": 103,
    "start_time": "2022-01-21T17:41:51.453Z"
   },
   {
    "duration": 14,
    "start_time": "2022-01-21T17:41:51.558Z"
   },
   {
    "duration": 20,
    "start_time": "2022-01-21T17:41:51.574Z"
   },
   {
    "duration": 39,
    "start_time": "2022-01-21T17:41:51.597Z"
   },
   {
    "duration": 71,
    "start_time": "2022-01-21T17:41:51.638Z"
   },
   {
    "duration": 21,
    "start_time": "2022-01-21T17:41:51.711Z"
   },
   {
    "duration": 6,
    "start_time": "2022-01-21T17:41:51.735Z"
   },
   {
    "duration": 43,
    "start_time": "2022-01-21T17:41:51.744Z"
   },
   {
    "duration": 70,
    "start_time": "2022-01-21T17:41:51.790Z"
   },
   {
    "duration": 87,
    "start_time": "2022-01-21T17:41:51.863Z"
   },
   {
    "duration": 20,
    "start_time": "2022-01-21T17:41:51.955Z"
   },
   {
    "duration": 86,
    "start_time": "2022-01-21T17:41:51.978Z"
   },
   {
    "duration": 108,
    "start_time": "2022-01-21T17:41:52.066Z"
   },
   {
    "duration": 62,
    "start_time": "2022-01-21T17:41:52.176Z"
   },
   {
    "duration": 33,
    "start_time": "2022-01-21T17:41:52.240Z"
   },
   {
    "duration": 31,
    "start_time": "2022-01-21T17:41:52.275Z"
   },
   {
    "duration": 44,
    "start_time": "2022-01-21T17:41:52.309Z"
   },
   {
    "duration": 20,
    "start_time": "2022-01-21T17:41:52.356Z"
   },
   {
    "duration": 15,
    "start_time": "2022-01-21T17:41:52.379Z"
   },
   {
    "duration": 357,
    "start_time": "2022-01-21T17:41:52.397Z"
   },
   {
    "duration": 11,
    "start_time": "2022-01-21T17:41:52.757Z"
   },
   {
    "duration": 248,
    "start_time": "2022-01-21T17:41:52.770Z"
   },
   {
    "duration": 2402,
    "start_time": "2022-01-21T17:41:53.020Z"
   },
   {
    "duration": 9,
    "start_time": "2022-01-21T17:41:55.432Z"
   },
   {
    "duration": 8,
    "start_time": "2022-01-21T17:41:55.444Z"
   },
   {
    "duration": 470,
    "start_time": "2022-01-21T17:41:55.455Z"
   },
   {
    "duration": 137,
    "start_time": "2022-01-21T17:41:55.791Z"
   },
   {
    "duration": 26,
    "start_time": "2022-01-21T17:42:21.081Z"
   },
   {
    "duration": 8,
    "start_time": "2022-01-21T17:42:49.686Z"
   },
   {
    "duration": 327,
    "start_time": "2022-01-21T17:43:17.245Z"
   },
   {
    "duration": 327,
    "start_time": "2022-01-21T17:43:35.597Z"
   },
   {
    "duration": 317,
    "start_time": "2022-01-21T17:47:20.993Z"
   },
   {
    "duration": 7,
    "start_time": "2022-01-21T17:47:45.703Z"
   },
   {
    "duration": 284,
    "start_time": "2022-01-21T17:48:04.219Z"
   },
   {
    "duration": 233,
    "start_time": "2022-01-21T17:48:54.754Z"
   },
   {
    "duration": 298,
    "start_time": "2022-01-21T17:49:00.097Z"
   },
   {
    "duration": 445,
    "start_time": "2022-01-21T17:49:16.787Z"
   },
   {
    "duration": 333,
    "start_time": "2022-01-21T17:49:22.353Z"
   },
   {
    "duration": 989,
    "start_time": "2022-01-21T17:56:21.360Z"
   },
   {
    "duration": 491,
    "start_time": "2022-01-21T17:56:47.709Z"
   },
   {
    "duration": 227,
    "start_time": "2022-01-21T17:56:52.636Z"
   },
   {
    "duration": 301,
    "start_time": "2022-01-21T17:58:15.977Z"
   },
   {
    "duration": 351,
    "start_time": "2022-01-21T17:58:58.846Z"
   },
   {
    "duration": 315,
    "start_time": "2022-01-21T19:30:40.937Z"
   },
   {
    "duration": 258,
    "start_time": "2022-01-21T19:31:34.218Z"
   },
   {
    "duration": 234,
    "start_time": "2022-01-21T19:31:44.486Z"
   },
   {
    "duration": 248,
    "start_time": "2022-01-21T19:33:20.077Z"
   },
   {
    "duration": 256,
    "start_time": "2022-01-21T19:33:31.720Z"
   },
   {
    "duration": 344,
    "start_time": "2022-01-21T19:33:59.933Z"
   },
   {
    "duration": 1639,
    "start_time": "2022-01-21T19:39:49.278Z"
   },
   {
    "duration": 239,
    "start_time": "2022-01-21T19:40:17.416Z"
   },
   {
    "duration": 8,
    "start_time": "2022-01-21T19:45:59.321Z"
   },
   {
    "duration": 259,
    "start_time": "2022-01-21T19:46:10.498Z"
   },
   {
    "duration": 252,
    "start_time": "2022-01-21T19:46:20.722Z"
   },
   {
    "duration": 249,
    "start_time": "2022-01-21T19:46:53.945Z"
   },
   {
    "duration": 287,
    "start_time": "2022-01-21T19:49:41.715Z"
   },
   {
    "duration": 250,
    "start_time": "2022-01-21T19:50:04.714Z"
   },
   {
    "duration": 16,
    "start_time": "2022-01-21T19:50:16.436Z"
   },
   {
    "duration": 16,
    "start_time": "2022-01-21T19:50:25.393Z"
   },
   {
    "duration": 112,
    "start_time": "2022-01-21T19:51:03.351Z"
   },
   {
    "duration": 327,
    "start_time": "2022-01-21T19:51:16.042Z"
   },
   {
    "duration": 420,
    "start_time": "2022-01-21T19:52:09.860Z"
   },
   {
    "duration": 414,
    "start_time": "2022-01-21T19:54:11.307Z"
   },
   {
    "duration": 596,
    "start_time": "2022-01-21T19:57:51.930Z"
   },
   {
    "duration": 614,
    "start_time": "2022-01-21T20:00:03.358Z"
   },
   {
    "duration": 426,
    "start_time": "2022-01-21T20:01:09.254Z"
   },
   {
    "duration": 375,
    "start_time": "2022-01-21T20:01:58.085Z"
   },
   {
    "duration": 9,
    "start_time": "2022-01-21T20:04:02.490Z"
   },
   {
    "duration": 714,
    "start_time": "2022-01-22T08:05:21.016Z"
   },
   {
    "duration": 181,
    "start_time": "2022-01-22T08:05:21.733Z"
   },
   {
    "duration": 73,
    "start_time": "2022-01-22T08:05:21.916Z"
   },
   {
    "duration": 229,
    "start_time": "2022-01-22T08:05:21.992Z"
   },
   {
    "duration": 51,
    "start_time": "2022-01-22T08:05:22.223Z"
   },
   {
    "duration": 123,
    "start_time": "2022-01-22T08:05:22.276Z"
   },
   {
    "duration": 27,
    "start_time": "2022-01-22T08:05:22.401Z"
   },
   {
    "duration": 32,
    "start_time": "2022-01-22T08:05:22.431Z"
   },
   {
    "duration": 25,
    "start_time": "2022-01-22T08:05:22.465Z"
   },
   {
    "duration": 133,
    "start_time": "2022-01-22T08:05:22.492Z"
   },
   {
    "duration": 104,
    "start_time": "2022-01-22T08:05:22.627Z"
   },
   {
    "duration": 52,
    "start_time": "2022-01-22T08:05:22.733Z"
   },
   {
    "duration": 108,
    "start_time": "2022-01-22T08:05:22.787Z"
   },
   {
    "duration": 27,
    "start_time": "2022-01-22T08:05:22.898Z"
   },
   {
    "duration": 20,
    "start_time": "2022-01-22T08:05:22.927Z"
   },
   {
    "duration": 17,
    "start_time": "2022-01-22T08:05:22.950Z"
   },
   {
    "duration": 100,
    "start_time": "2022-01-22T08:05:22.970Z"
   },
   {
    "duration": 7,
    "start_time": "2022-01-22T08:05:23.072Z"
   },
   {
    "duration": 10,
    "start_time": "2022-01-22T08:05:23.081Z"
   },
   {
    "duration": 62,
    "start_time": "2022-01-22T08:05:23.093Z"
   },
   {
    "duration": 35,
    "start_time": "2022-01-22T08:05:23.157Z"
   },
   {
    "duration": 79,
    "start_time": "2022-01-22T08:05:23.195Z"
   },
   {
    "duration": 19,
    "start_time": "2022-01-22T08:05:23.279Z"
   },
   {
    "duration": 74,
    "start_time": "2022-01-22T08:05:23.300Z"
   },
   {
    "duration": 112,
    "start_time": "2022-01-22T08:05:23.377Z"
   },
   {
    "duration": 54,
    "start_time": "2022-01-22T08:05:23.492Z"
   },
   {
    "duration": 30,
    "start_time": "2022-01-22T08:05:23.548Z"
   },
   {
    "duration": 57,
    "start_time": "2022-01-22T08:05:23.580Z"
   },
   {
    "duration": 24,
    "start_time": "2022-01-22T08:05:23.639Z"
   },
   {
    "duration": 22,
    "start_time": "2022-01-22T08:05:23.666Z"
   },
   {
    "duration": 35,
    "start_time": "2022-01-22T08:05:23.691Z"
   },
   {
    "duration": 328,
    "start_time": "2022-01-22T08:05:23.728Z"
   },
   {
    "duration": 11,
    "start_time": "2022-01-22T08:05:24.058Z"
   },
   {
    "duration": 237,
    "start_time": "2022-01-22T08:05:24.071Z"
   },
   {
    "duration": 455,
    "start_time": "2022-01-22T08:05:24.310Z"
   },
   {
    "duration": 10,
    "start_time": "2022-01-22T08:05:24.767Z"
   },
   {
    "duration": 109,
    "start_time": "2022-01-22T08:05:24.779Z"
   },
   {
    "duration": -644,
    "start_time": "2022-01-22T08:05:25.534Z"
   },
   {
    "duration": -644,
    "start_time": "2022-01-22T08:05:25.535Z"
   },
   {
    "duration": -645,
    "start_time": "2022-01-22T08:05:25.537Z"
   },
   {
    "duration": -646,
    "start_time": "2022-01-22T08:05:25.539Z"
   },
   {
    "duration": 393,
    "start_time": "2022-01-22T08:05:44.645Z"
   },
   {
    "duration": 493,
    "start_time": "2022-01-22T08:07:30.816Z"
   },
   {
    "duration": 447,
    "start_time": "2022-01-22T08:07:37.921Z"
   },
   {
    "duration": 2147,
    "start_time": "2022-01-22T08:11:24.754Z"
   },
   {
    "duration": 18,
    "start_time": "2022-01-22T08:22:57.929Z"
   },
   {
    "duration": 24,
    "start_time": "2022-01-22T08:27:59.081Z"
   },
   {
    "duration": 289,
    "start_time": "2022-01-22T08:31:31.541Z"
   },
   {
    "duration": 67,
    "start_time": "2022-01-22T08:31:41.805Z"
   },
   {
    "duration": 25,
    "start_time": "2022-01-22T08:31:45.804Z"
   },
   {
    "duration": 53,
    "start_time": "2022-01-22T08:38:32.493Z"
   },
   {
    "duration": 322,
    "start_time": "2022-01-22T08:38:48.167Z"
   },
   {
    "duration": 67,
    "start_time": "2022-01-22T08:39:31.023Z"
   },
   {
    "duration": 25,
    "start_time": "2022-01-22T08:42:18.968Z"
   },
   {
    "duration": 61,
    "start_time": "2022-01-22T08:44:25.259Z"
   },
   {
    "duration": 24,
    "start_time": "2022-01-22T08:45:13.214Z"
   },
   {
    "duration": 64,
    "start_time": "2022-01-22T08:45:58.686Z"
   },
   {
    "duration": 278,
    "start_time": "2022-01-22T08:46:05.170Z"
   },
   {
    "duration": 26,
    "start_time": "2022-01-22T08:46:21.077Z"
   },
   {
    "duration": 277,
    "start_time": "2022-01-22T08:46:24.020Z"
   },
   {
    "duration": 64,
    "start_time": "2022-01-22T08:46:41.607Z"
   },
   {
    "duration": 27,
    "start_time": "2022-01-22T08:46:46.085Z"
   },
   {
    "duration": 127,
    "start_time": "2022-01-22T08:46:56.266Z"
   },
   {
    "duration": 65,
    "start_time": "2022-01-22T08:47:50.429Z"
   },
   {
    "duration": 545,
    "start_time": "2022-01-22T08:52:32.904Z"
   },
   {
    "duration": 731,
    "start_time": "2022-01-22T08:52:45.295Z"
   },
   {
    "duration": 313,
    "start_time": "2022-01-22T08:53:28.508Z"
   },
   {
    "duration": 68,
    "start_time": "2022-01-22T08:53:49.638Z"
   },
   {
    "duration": 824,
    "start_time": "2022-01-22T08:53:54.048Z"
   },
   {
    "duration": 267,
    "start_time": "2022-01-22T08:54:41.456Z"
   },
   {
    "duration": 70,
    "start_time": "2022-01-22T08:54:52.087Z"
   },
   {
    "duration": 259,
    "start_time": "2022-01-22T08:54:55.129Z"
   },
   {
    "duration": 63,
    "start_time": "2022-01-22T08:55:14.730Z"
   },
   {
    "duration": 548,
    "start_time": "2022-01-22T08:55:16.847Z"
   },
   {
    "duration": 64,
    "start_time": "2022-01-22T08:56:41.908Z"
   },
   {
    "duration": 672,
    "start_time": "2022-01-22T08:57:51.705Z"
   },
   {
    "duration": 68,
    "start_time": "2022-01-22T08:58:03.567Z"
   },
   {
    "duration": 298,
    "start_time": "2022-01-22T08:58:17.091Z"
   },
   {
    "duration": 68,
    "start_time": "2022-01-22T08:59:30.593Z"
   },
   {
    "duration": 482,
    "start_time": "2022-01-22T08:59:36.068Z"
   },
   {
    "duration": 92,
    "start_time": "2022-01-22T09:00:33.317Z"
   },
   {
    "duration": 110,
    "start_time": "2022-01-22T09:02:03.680Z"
   },
   {
    "duration": 55,
    "start_time": "2022-01-22T09:02:51.369Z"
   },
   {
    "duration": 34,
    "start_time": "2022-01-22T09:04:31.127Z"
   },
   {
    "duration": 58,
    "start_time": "2022-01-22T09:04:38.181Z"
   },
   {
    "duration": 33,
    "start_time": "2022-01-22T09:04:41.999Z"
   },
   {
    "duration": 45,
    "start_time": "2022-01-22T09:06:47.183Z"
   },
   {
    "duration": 58,
    "start_time": "2022-01-22T09:07:30.694Z"
   },
   {
    "duration": 7509,
    "start_time": "2022-01-22T09:09:06.302Z"
   },
   {
    "duration": 8189,
    "start_time": "2022-01-22T09:09:31.825Z"
   },
   {
    "duration": 818,
    "start_time": "2022-01-22T09:10:09.165Z"
   },
   {
    "duration": 60,
    "start_time": "2022-01-22T09:10:27.599Z"
   },
   {
    "duration": 56,
    "start_time": "2022-01-22T09:11:20.236Z"
   },
   {
    "duration": 2243,
    "start_time": "2022-01-22T09:11:39.760Z"
   },
   {
    "duration": 284,
    "start_time": "2022-01-22T09:14:34.187Z"
   },
   {
    "duration": 279,
    "start_time": "2022-01-22T09:15:05.395Z"
   },
   {
    "duration": 32,
    "start_time": "2022-01-22T09:16:46.676Z"
   },
   {
    "duration": 85,
    "start_time": "2022-01-22T09:17:01.320Z"
   },
   {
    "duration": 94,
    "start_time": "2022-01-22T09:17:06.152Z"
   },
   {
    "duration": 306,
    "start_time": "2022-01-22T09:17:31.149Z"
   },
   {
    "duration": 142,
    "start_time": "2022-01-22T09:18:17.976Z"
   },
   {
    "duration": 96,
    "start_time": "2022-01-22T09:18:29.750Z"
   },
   {
    "duration": 94,
    "start_time": "2022-01-22T09:18:47.685Z"
   },
   {
    "duration": 30,
    "start_time": "2022-01-22T09:19:12.973Z"
   },
   {
    "duration": 35,
    "start_time": "2022-01-22T09:19:14.294Z"
   },
   {
    "duration": 58,
    "start_time": "2022-01-22T09:19:15.763Z"
   },
   {
    "duration": 27,
    "start_time": "2022-01-22T09:19:21.990Z"
   },
   {
    "duration": 26,
    "start_time": "2022-01-22T09:19:48.565Z"
   },
   {
    "duration": 126,
    "start_time": "2022-01-22T09:19:52.686Z"
   },
   {
    "duration": 90,
    "start_time": "2022-01-22T09:20:03.815Z"
   },
   {
    "duration": 92,
    "start_time": "2022-01-22T09:20:14.534Z"
   },
   {
    "duration": 27,
    "start_time": "2022-01-22T09:20:34.870Z"
   },
   {
    "duration": 27,
    "start_time": "2022-01-22T09:23:25.168Z"
   },
   {
    "duration": 297,
    "start_time": "2022-01-22T09:23:42.610Z"
   },
   {
    "duration": 30,
    "start_time": "2022-01-22T09:25:35.553Z"
   },
   {
    "duration": 14,
    "start_time": "2022-01-22T09:25:48.641Z"
   },
   {
    "duration": 27,
    "start_time": "2022-01-22T09:26:09.204Z"
   },
   {
    "duration": 14,
    "start_time": "2022-01-22T09:28:22.569Z"
   },
   {
    "duration": 275,
    "start_time": "2022-01-22T09:28:46.299Z"
   },
   {
    "duration": 1010,
    "start_time": "2022-01-22T09:30:01.515Z"
   },
   {
    "duration": 272,
    "start_time": "2022-01-22T09:30:47.389Z"
   },
   {
    "duration": 488,
    "start_time": "2022-01-22T09:31:00.515Z"
   },
   {
    "duration": 287,
    "start_time": "2022-01-22T09:31:40.596Z"
   },
   {
    "duration": 25,
    "start_time": "2022-01-22T09:31:47.739Z"
   },
   {
    "duration": 320,
    "start_time": "2022-01-22T09:32:25.472Z"
   },
   {
    "duration": 34,
    "start_time": "2022-01-22T09:32:37.501Z"
   },
   {
    "duration": 299,
    "start_time": "2022-01-22T09:33:13.287Z"
   },
   {
    "duration": 26,
    "start_time": "2022-01-22T09:34:20.686Z"
   },
   {
    "duration": 28,
    "start_time": "2022-01-22T09:36:32.781Z"
   },
   {
    "duration": 257,
    "start_time": "2022-01-22T09:38:56.230Z"
   },
   {
    "duration": 8,
    "start_time": "2022-01-22T09:40:08.498Z"
   },
   {
    "duration": 437,
    "start_time": "2022-01-22T09:40:27.154Z"
   },
   {
    "duration": 12,
    "start_time": "2022-01-22T09:41:55.209Z"
   },
   {
    "duration": 12,
    "start_time": "2022-01-22T09:42:21.545Z"
   },
   {
    "duration": 327,
    "start_time": "2022-01-22T11:40:58.169Z"
   },
   {
    "duration": 325,
    "start_time": "2022-01-22T11:41:16.576Z"
   },
   {
    "duration": 333,
    "start_time": "2022-01-22T11:41:45.780Z"
   },
   {
    "duration": 329,
    "start_time": "2022-01-22T11:41:57.759Z"
   },
   {
    "duration": 27,
    "start_time": "2022-01-22T11:45:39.554Z"
   },
   {
    "duration": 37,
    "start_time": "2022-01-22T11:47:47.734Z"
   },
   {
    "duration": 7853,
    "start_time": "2022-01-22T11:48:37.531Z"
   },
   {
    "duration": 36,
    "start_time": "2022-01-22T11:48:56.365Z"
   },
   {
    "duration": 390,
    "start_time": "2022-01-22T11:49:09.922Z"
   },
   {
    "duration": 29,
    "start_time": "2022-01-22T11:53:12.913Z"
   },
   {
    "duration": 38,
    "start_time": "2022-01-22T11:54:51.039Z"
   },
   {
    "duration": 7468,
    "start_time": "2022-01-22T11:55:26.642Z"
   },
   {
    "duration": 370,
    "start_time": "2022-01-22T11:55:46.059Z"
   },
   {
    "duration": 76,
    "start_time": "2022-01-22T11:57:50.963Z"
   },
   {
    "duration": 697,
    "start_time": "2022-01-22T12:43:18.953Z"
   },
   {
    "duration": 187,
    "start_time": "2022-01-22T12:43:19.653Z"
   },
   {
    "duration": 57,
    "start_time": "2022-01-22T12:43:19.842Z"
   },
   {
    "duration": 183,
    "start_time": "2022-01-22T12:43:19.901Z"
   },
   {
    "duration": 69,
    "start_time": "2022-01-22T12:43:20.086Z"
   },
   {
    "duration": 118,
    "start_time": "2022-01-22T12:43:20.157Z"
   },
   {
    "duration": 17,
    "start_time": "2022-01-22T12:43:20.277Z"
   },
   {
    "duration": 45,
    "start_time": "2022-01-22T12:43:20.298Z"
   },
   {
    "duration": 26,
    "start_time": "2022-01-22T12:43:20.345Z"
   },
   {
    "duration": 130,
    "start_time": "2022-01-22T12:43:20.374Z"
   },
   {
    "duration": 90,
    "start_time": "2022-01-22T12:43:20.507Z"
   },
   {
    "duration": 68,
    "start_time": "2022-01-22T12:43:20.599Z"
   },
   {
    "duration": 94,
    "start_time": "2022-01-22T12:43:20.669Z"
   },
   {
    "duration": 357,
    "start_time": "2022-01-22T12:43:20.765Z"
   },
   {
    "duration": -592,
    "start_time": "2022-01-22T12:43:21.717Z"
   },
   {
    "duration": -594,
    "start_time": "2022-01-22T12:43:21.720Z"
   },
   {
    "duration": -595,
    "start_time": "2022-01-22T12:43:21.723Z"
   },
   {
    "duration": -596,
    "start_time": "2022-01-22T12:43:21.725Z"
   },
   {
    "duration": -596,
    "start_time": "2022-01-22T12:43:21.727Z"
   },
   {
    "duration": -642,
    "start_time": "2022-01-22T12:43:21.774Z"
   },
   {
    "duration": -644,
    "start_time": "2022-01-22T12:43:21.777Z"
   },
   {
    "duration": -644,
    "start_time": "2022-01-22T12:43:21.779Z"
   },
   {
    "duration": -646,
    "start_time": "2022-01-22T12:43:21.782Z"
   },
   {
    "duration": -646,
    "start_time": "2022-01-22T12:43:21.784Z"
   },
   {
    "duration": -647,
    "start_time": "2022-01-22T12:43:21.786Z"
   },
   {
    "duration": -648,
    "start_time": "2022-01-22T12:43:21.789Z"
   },
   {
    "duration": -649,
    "start_time": "2022-01-22T12:43:21.791Z"
   },
   {
    "duration": -650,
    "start_time": "2022-01-22T12:43:21.793Z"
   },
   {
    "duration": -651,
    "start_time": "2022-01-22T12:43:21.796Z"
   },
   {
    "duration": -652,
    "start_time": "2022-01-22T12:43:21.798Z"
   },
   {
    "duration": -653,
    "start_time": "2022-01-22T12:43:21.800Z"
   },
   {
    "duration": -654,
    "start_time": "2022-01-22T12:43:21.803Z"
   },
   {
    "duration": -654,
    "start_time": "2022-01-22T12:43:21.805Z"
   },
   {
    "duration": -655,
    "start_time": "2022-01-22T12:43:21.807Z"
   },
   {
    "duration": -656,
    "start_time": "2022-01-22T12:43:21.809Z"
   },
   {
    "duration": -656,
    "start_time": "2022-01-22T12:43:21.811Z"
   },
   {
    "duration": -659,
    "start_time": "2022-01-22T12:43:21.815Z"
   },
   {
    "duration": -660,
    "start_time": "2022-01-22T12:43:21.818Z"
   },
   {
    "duration": -662,
    "start_time": "2022-01-22T12:43:21.821Z"
   },
   {
    "duration": -663,
    "start_time": "2022-01-22T12:43:21.824Z"
   },
   {
    "duration": -664,
    "start_time": "2022-01-22T12:43:21.826Z"
   },
   {
    "duration": -664,
    "start_time": "2022-01-22T12:43:21.828Z"
   },
   {
    "duration": -666,
    "start_time": "2022-01-22T12:43:21.831Z"
   },
   {
    "duration": -666,
    "start_time": "2022-01-22T12:43:21.833Z"
   },
   {
    "duration": -617,
    "start_time": "2022-01-22T12:43:21.840Z"
   },
   {
    "duration": -618,
    "start_time": "2022-01-22T12:43:21.843Z"
   },
   {
    "duration": -619,
    "start_time": "2022-01-22T12:43:21.845Z"
   },
   {
    "duration": -621,
    "start_time": "2022-01-22T12:43:21.848Z"
   },
   {
    "duration": 19,
    "start_time": "2022-01-22T12:44:11.725Z"
   },
   {
    "duration": 21,
    "start_time": "2022-01-22T12:44:26.200Z"
   },
   {
    "duration": 29,
    "start_time": "2022-01-22T12:44:29.664Z"
   },
   {
    "duration": 71,
    "start_time": "2022-01-22T12:44:34.010Z"
   },
   {
    "duration": 8,
    "start_time": "2022-01-22T12:44:35.574Z"
   },
   {
    "duration": 7,
    "start_time": "2022-01-22T12:44:36.926Z"
   },
   {
    "duration": 35,
    "start_time": "2022-01-22T12:44:39.617Z"
   },
   {
    "duration": 34,
    "start_time": "2022-01-22T12:44:41.860Z"
   },
   {
    "duration": 61,
    "start_time": "2022-01-22T12:44:43.469Z"
   },
   {
    "duration": 23,
    "start_time": "2022-01-22T12:44:46.416Z"
   },
   {
    "duration": 27,
    "start_time": "2022-01-22T12:44:48.068Z"
   },
   {
    "duration": 132,
    "start_time": "2022-01-22T12:44:50.222Z"
   },
   {
    "duration": 21,
    "start_time": "2022-01-22T12:44:52.672Z"
   },
   {
    "duration": 66,
    "start_time": "2022-01-22T12:44:54.181Z"
   },
   {
    "duration": 452,
    "start_time": "2022-01-22T12:45:16.671Z"
   },
   {
    "duration": 437,
    "start_time": "2022-01-22T12:45:19.734Z"
   },
   {
    "duration": 89,
    "start_time": "2022-01-22T12:45:32.415Z"
   },
   {
    "duration": 119,
    "start_time": "2022-01-22T12:45:35.754Z"
   },
   {
    "duration": 58,
    "start_time": "2022-01-22T12:45:41.543Z"
   },
   {
    "duration": 36,
    "start_time": "2022-01-22T12:45:45.935Z"
   },
   {
    "duration": 39,
    "start_time": "2022-01-22T12:45:48.356Z"
   },
   {
    "duration": 58,
    "start_time": "2022-01-22T12:45:49.271Z"
   },
   {
    "duration": 29,
    "start_time": "2022-01-22T12:46:36.599Z"
   },
   {
    "duration": 8,
    "start_time": "2022-01-22T12:46:37.836Z"
   },
   {
    "duration": 415,
    "start_time": "2022-01-22T12:46:39.624Z"
   },
   {
    "duration": 34,
    "start_time": "2022-01-22T12:46:41.410Z"
   },
   {
    "duration": 354,
    "start_time": "2022-01-22T12:46:43.304Z"
   },
   {
    "duration": 36,
    "start_time": "2022-01-22T12:46:45.589Z"
   },
   {
    "duration": 400,
    "start_time": "2022-01-22T12:46:47.997Z"
   },
   {
    "duration": 415,
    "start_time": "2022-01-22T12:49:07.251Z"
   },
   {
    "duration": 36,
    "start_time": "2022-01-22T12:53:37.746Z"
   },
   {
    "duration": 6,
    "start_time": "2022-01-22T12:58:53.167Z"
   },
   {
    "duration": 337,
    "start_time": "2022-01-22T13:00:09.654Z"
   },
   {
    "duration": 346,
    "start_time": "2022-01-22T13:12:45.167Z"
   },
   {
    "duration": 455,
    "start_time": "2022-01-22T13:13:39.283Z"
   },
   {
    "duration": 10,
    "start_time": "2022-01-22T13:13:49.993Z"
   },
   {
    "duration": 9,
    "start_time": "2022-01-22T13:14:29.498Z"
   },
   {
    "duration": 8,
    "start_time": "2022-01-22T13:15:09.432Z"
   },
   {
    "duration": 7,
    "start_time": "2022-01-22T13:15:43.773Z"
   },
   {
    "duration": 38,
    "start_time": "2022-01-22T13:28:43.316Z"
   },
   {
    "duration": 36,
    "start_time": "2022-01-22T13:28:48.760Z"
   },
   {
    "duration": 7,
    "start_time": "2022-01-22T13:29:19.753Z"
   },
   {
    "duration": 31,
    "start_time": "2022-01-22T13:31:16.100Z"
   },
   {
    "duration": 9,
    "start_time": "2022-01-22T13:31:46.100Z"
   },
   {
    "duration": 9,
    "start_time": "2022-01-22T13:32:14.872Z"
   },
   {
    "duration": 100,
    "start_time": "2022-01-22T13:33:21.109Z"
   },
   {
    "duration": 19,
    "start_time": "2022-01-22T13:33:37.079Z"
   },
   {
    "duration": 33,
    "start_time": "2022-01-22T13:35:59.093Z"
   },
   {
    "duration": 11,
    "start_time": "2022-01-22T13:36:38.578Z"
   },
   {
    "duration": 11,
    "start_time": "2022-01-22T13:37:10.759Z"
   },
   {
    "duration": 90,
    "start_time": "2022-01-22T13:44:19.232Z"
   },
   {
    "duration": 7,
    "start_time": "2022-01-22T13:44:28.808Z"
   },
   {
    "duration": 5648,
    "start_time": "2022-01-22T13:45:21.264Z"
   },
   {
    "duration": 394,
    "start_time": "2022-01-22T13:45:51.524Z"
   },
   {
    "duration": 341,
    "start_time": "2022-01-22T13:46:22.931Z"
   },
   {
    "duration": 8,
    "start_time": "2022-01-22T13:47:10.498Z"
   },
   {
    "duration": 6,
    "start_time": "2022-01-22T13:48:19.243Z"
   },
   {
    "duration": 8,
    "start_time": "2022-01-22T13:48:30.484Z"
   },
   {
    "duration": 591,
    "start_time": "2022-01-25T08:45:28.390Z"
   },
   {
    "duration": 136,
    "start_time": "2022-01-25T08:45:38.400Z"
   },
   {
    "duration": 40,
    "start_time": "2022-01-25T08:45:41.502Z"
   },
   {
    "duration": 119,
    "start_time": "2022-01-25T08:46:16.448Z"
   },
   {
    "duration": 38,
    "start_time": "2022-01-25T08:46:21.268Z"
   },
   {
    "duration": 81,
    "start_time": "2022-01-25T08:46:27.350Z"
   },
   {
    "duration": 13,
    "start_time": "2022-01-25T08:46:29.686Z"
   },
   {
    "duration": 32,
    "start_time": "2022-01-25T08:46:46.400Z"
   },
   {
    "duration": 20,
    "start_time": "2022-01-25T08:46:48.863Z"
   },
   {
    "duration": 82,
    "start_time": "2022-01-25T08:47:19.322Z"
   },
   {
    "duration": 53,
    "start_time": "2022-01-25T08:47:19.902Z"
   },
   {
    "duration": 37,
    "start_time": "2022-01-25T08:47:20.555Z"
   },
   {
    "duration": 56,
    "start_time": "2022-01-25T08:47:48.952Z"
   },
   {
    "duration": 12,
    "start_time": "2022-01-25T08:47:59.697Z"
   },
   {
    "duration": 15,
    "start_time": "2022-01-25T08:48:18.489Z"
   },
   {
    "duration": 12,
    "start_time": "2022-01-25T08:48:40.219Z"
   },
   {
    "duration": 48,
    "start_time": "2022-01-25T08:51:29.066Z"
   },
   {
    "duration": 5,
    "start_time": "2022-01-25T08:54:49.144Z"
   },
   {
    "duration": 5,
    "start_time": "2022-01-25T08:54:49.700Z"
   },
   {
    "duration": 31,
    "start_time": "2022-01-25T08:55:08.738Z"
   },
   {
    "duration": 28,
    "start_time": "2022-01-25T08:55:19.494Z"
   },
   {
    "duration": 42,
    "start_time": "2022-01-25T08:55:20.162Z"
   },
   {
    "duration": 15,
    "start_time": "2022-01-25T08:55:43.565Z"
   },
   {
    "duration": 16,
    "start_time": "2022-01-25T08:55:52.480Z"
   },
   {
    "duration": 16,
    "start_time": "2022-01-25T08:56:19.034Z"
   },
   {
    "duration": 45,
    "start_time": "2022-01-25T08:56:20.105Z"
   },
   {
    "duration": 261,
    "start_time": "2022-01-25T08:56:23.122Z"
   },
   {
    "duration": 385,
    "start_time": "2022-01-25T08:57:07.260Z"
   },
   {
    "duration": 40,
    "start_time": "2022-01-25T08:57:12.780Z"
   },
   {
    "duration": 268,
    "start_time": "2022-01-25T08:57:15.324Z"
   },
   {
    "duration": 65,
    "start_time": "2022-01-25T09:02:47.036Z"
   },
   {
    "duration": 68,
    "start_time": "2022-01-25T09:02:52.352Z"
   },
   {
    "duration": 32,
    "start_time": "2022-01-25T09:13:46.162Z"
   },
   {
    "duration": 19,
    "start_time": "2022-01-25T09:16:34.989Z"
   },
   {
    "duration": 32,
    "start_time": "2022-01-25T09:18:04.686Z"
   },
   {
    "duration": 33,
    "start_time": "2022-01-25T09:23:24.072Z"
   },
   {
    "duration": 18,
    "start_time": "2022-01-25T09:44:06.744Z"
   },
   {
    "duration": 7,
    "start_time": "2022-01-25T09:44:22.109Z"
   },
   {
    "duration": 256,
    "start_time": "2022-01-25T09:44:23.819Z"
   },
   {
    "duration": 225,
    "start_time": "2022-01-25T09:44:49.403Z"
   },
   {
    "duration": 232,
    "start_time": "2022-01-25T09:45:02.263Z"
   },
   {
    "duration": 228,
    "start_time": "2022-01-25T09:45:10.231Z"
   },
   {
    "duration": 202,
    "start_time": "2022-01-25T09:45:38.733Z"
   },
   {
    "duration": 20,
    "start_time": "2022-01-25T09:55:31.456Z"
   },
   {
    "duration": 5,
    "start_time": "2022-01-25T10:01:43.120Z"
   },
   {
    "duration": 110,
    "start_time": "2022-01-25T10:17:27.803Z"
   },
   {
    "duration": 100,
    "start_time": "2022-01-25T10:17:51.359Z"
   },
   {
    "duration": 3,
    "start_time": "2022-01-25T10:18:03.741Z"
   },
   {
    "duration": 103,
    "start_time": "2022-01-25T10:18:17.762Z"
   },
   {
    "duration": 132,
    "start_time": "2022-01-25T10:18:56.368Z"
   },
   {
    "duration": 4,
    "start_time": "2022-01-25T10:19:05.752Z"
   },
   {
    "duration": 4,
    "start_time": "2022-01-25T10:20:18.100Z"
   },
   {
    "duration": 107,
    "start_time": "2022-01-25T10:24:08.055Z"
   },
   {
    "duration": 5,
    "start_time": "2022-01-25T10:24:15.693Z"
   },
   {
    "duration": 5,
    "start_time": "2022-01-25T10:24:35.837Z"
   },
   {
    "duration": 7,
    "start_time": "2022-01-25T10:25:29.918Z"
   },
   {
    "duration": 7,
    "start_time": "2022-01-25T10:26:39.444Z"
   },
   {
    "duration": 6,
    "start_time": "2022-01-25T10:27:00.605Z"
   },
   {
    "duration": 196,
    "start_time": "2022-01-25T11:09:50.904Z"
   },
   {
    "duration": 207,
    "start_time": "2022-01-25T11:10:14.890Z"
   },
   {
    "duration": 31,
    "start_time": "2022-01-25T11:11:26.222Z"
   },
   {
    "duration": 222,
    "start_time": "2022-01-25T11:11:31.912Z"
   },
   {
    "duration": 214,
    "start_time": "2022-01-25T11:11:47.942Z"
   },
   {
    "duration": 15350,
    "start_time": "2022-01-25T11:17:59.441Z"
   },
   {
    "duration": 258,
    "start_time": "2022-01-25T11:18:14.537Z"
   },
   {
    "duration": 21,
    "start_time": "2022-01-25T11:18:21.862Z"
   },
   {
    "duration": 206,
    "start_time": "2022-01-25T11:18:24.158Z"
   },
   {
    "duration": 9138,
    "start_time": "2022-01-25T11:18:26.839Z"
   },
   {
    "duration": 7,
    "start_time": "2022-01-25T11:19:19.639Z"
   },
   {
    "duration": 6,
    "start_time": "2022-01-25T11:20:51.121Z"
   },
   {
    "duration": 8,
    "start_time": "2022-01-25T11:39:02.263Z"
   },
   {
    "duration": 313,
    "start_time": "2022-01-25T15:05:47.784Z"
   },
   {
    "duration": 2380,
    "start_time": "2022-01-25T16:11:59.809Z"
   },
   {
    "duration": 219,
    "start_time": "2022-01-25T16:12:02.192Z"
   },
   {
    "duration": 78,
    "start_time": "2022-01-25T16:12:02.415Z"
   },
   {
    "duration": 180,
    "start_time": "2022-01-25T16:12:02.496Z"
   },
   {
    "duration": 55,
    "start_time": "2022-01-25T16:12:02.679Z"
   },
   {
    "duration": 132,
    "start_time": "2022-01-25T16:12:02.736Z"
   },
   {
    "duration": 18,
    "start_time": "2022-01-25T16:12:02.870Z"
   },
   {
    "duration": 62,
    "start_time": "2022-01-25T16:12:02.892Z"
   },
   {
    "duration": 27,
    "start_time": "2022-01-25T16:12:02.958Z"
   },
   {
    "duration": 142,
    "start_time": "2022-01-25T16:12:02.987Z"
   },
   {
    "duration": 114,
    "start_time": "2022-01-25T16:12:03.131Z"
   },
   {
    "duration": 73,
    "start_time": "2022-01-25T16:12:03.249Z"
   },
   {
    "duration": 113,
    "start_time": "2022-01-25T16:12:03.325Z"
   },
   {
    "duration": 14,
    "start_time": "2022-01-25T16:12:03.441Z"
   },
   {
    "duration": 30,
    "start_time": "2022-01-25T16:12:03.457Z"
   },
   {
    "duration": 25,
    "start_time": "2022-01-25T16:12:03.489Z"
   },
   {
    "duration": 95,
    "start_time": "2022-01-25T16:12:03.516Z"
   },
   {
    "duration": 6,
    "start_time": "2022-01-25T16:12:03.614Z"
   },
   {
    "duration": 7,
    "start_time": "2022-01-25T16:12:03.622Z"
   },
   {
    "duration": 64,
    "start_time": "2022-01-25T16:12:03.631Z"
   },
   {
    "duration": 38,
    "start_time": "2022-01-25T16:12:03.698Z"
   },
   {
    "duration": 82,
    "start_time": "2022-01-25T16:12:03.739Z"
   },
   {
    "duration": 46,
    "start_time": "2022-01-25T16:12:03.828Z"
   },
   {
    "duration": 27,
    "start_time": "2022-01-25T16:12:03.879Z"
   },
   {
    "duration": 165,
    "start_time": "2022-01-25T16:12:03.909Z"
   },
   {
    "duration": 22,
    "start_time": "2022-01-25T16:12:04.076Z"
   },
   {
    "duration": 80,
    "start_time": "2022-01-25T16:12:04.101Z"
   },
   {
    "duration": 614,
    "start_time": "2022-01-25T16:12:04.184Z"
   },
   {
    "duration": 171,
    "start_time": "2022-01-25T16:12:04.801Z"
   },
   {
    "duration": 197,
    "start_time": "2022-01-25T16:12:04.975Z"
   },
   {
    "duration": 60,
    "start_time": "2022-01-25T16:12:05.174Z"
   },
   {
    "duration": 57,
    "start_time": "2022-01-25T16:12:05.237Z"
   },
   {
    "duration": 78,
    "start_time": "2022-01-25T16:12:05.296Z"
   },
   {
    "duration": 70,
    "start_time": "2022-01-25T16:12:05.376Z"
   },
   {
    "duration": 60,
    "start_time": "2022-01-25T16:12:05.448Z"
   },
   {
    "duration": 536,
    "start_time": "2022-01-25T16:12:05.511Z"
   },
   {
    "duration": 22,
    "start_time": "2022-01-25T16:12:06.050Z"
   },
   {
    "duration": 38,
    "start_time": "2022-01-25T16:12:06.074Z"
   },
   {
    "duration": 428,
    "start_time": "2022-01-25T16:12:06.114Z"
   },
   {
    "duration": 10,
    "start_time": "2022-01-25T16:12:06.545Z"
   },
   {
    "duration": 42,
    "start_time": "2022-01-25T16:12:06.570Z"
   },
   {
    "duration": 447,
    "start_time": "2022-01-25T16:12:06.614Z"
   },
   {
    "duration": 9,
    "start_time": "2022-01-25T16:12:07.068Z"
   },
   {
    "duration": 111,
    "start_time": "2022-01-25T16:12:07.080Z"
   },
   {
    "duration": 6,
    "start_time": "2022-01-25T16:12:07.193Z"
   },
   {
    "duration": 428,
    "start_time": "2022-01-25T16:12:07.202Z"
   },
   {
    "duration": 456,
    "start_time": "2022-01-25T16:12:07.634Z"
   },
   {
    "duration": 9,
    "start_time": "2022-01-25T16:12:08.093Z"
   },
   {
    "duration": 16,
    "start_time": "2022-01-25T16:12:08.105Z"
   },
   {
    "duration": 388,
    "start_time": "2022-01-25T16:12:08.124Z"
   },
   {
    "duration": 450,
    "start_time": "2022-01-25T16:12:08.515Z"
   },
   {
    "duration": 498,
    "start_time": "2022-01-25T16:12:08.470Z"
   },
   {
    "duration": 496,
    "start_time": "2022-01-25T16:12:08.473Z"
   },
   {
    "duration": 496,
    "start_time": "2022-01-25T16:12:08.476Z"
   },
   {
    "duration": 494,
    "start_time": "2022-01-25T16:12:08.480Z"
   },
   {
    "duration": 481,
    "start_time": "2022-01-25T16:12:08.495Z"
   },
   {
    "duration": 480,
    "start_time": "2022-01-25T16:12:08.498Z"
   },
   {
    "duration": 480,
    "start_time": "2022-01-25T16:12:08.500Z"
   },
   {
    "duration": 387,
    "start_time": "2022-01-25T16:23:21.321Z"
   },
   {
    "duration": 430,
    "start_time": "2022-01-25T16:24:07.346Z"
   },
   {
    "duration": 420,
    "start_time": "2022-01-25T16:24:25.580Z"
   },
   {
    "duration": 6,
    "start_time": "2022-01-25T16:34:36.459Z"
   },
   {
    "duration": 89,
    "start_time": "2022-01-25T16:35:49.450Z"
   },
   {
    "duration": 6,
    "start_time": "2022-01-25T16:35:57.433Z"
   },
   {
    "duration": 492,
    "start_time": "2022-01-25T16:40:48.359Z"
   },
   {
    "duration": 382,
    "start_time": "2022-01-25T16:41:30.578Z"
   },
   {
    "duration": 357,
    "start_time": "2022-01-25T16:43:35.853Z"
   },
   {
    "duration": 251,
    "start_time": "2022-01-25T16:46:52.304Z"
   },
   {
    "duration": 9,
    "start_time": "2022-01-25T16:46:59.317Z"
   },
   {
    "duration": 10,
    "start_time": "2022-01-25T16:47:08.791Z"
   },
   {
    "duration": 7,
    "start_time": "2022-01-25T16:47:15.601Z"
   },
   {
    "duration": 9,
    "start_time": "2022-01-25T16:47:24.947Z"
   },
   {
    "duration": 7,
    "start_time": "2022-01-25T16:47:44.152Z"
   },
   {
    "duration": 8,
    "start_time": "2022-01-25T16:47:49.050Z"
   },
   {
    "duration": 6,
    "start_time": "2022-01-25T17:07:08.715Z"
   },
   {
    "duration": 7,
    "start_time": "2022-01-25T17:08:58.010Z"
   },
   {
    "duration": 12,
    "start_time": "2022-01-25T17:23:18.890Z"
   },
   {
    "duration": 12,
    "start_time": "2022-01-25T17:23:33.058Z"
   },
   {
    "duration": 9,
    "start_time": "2022-01-25T17:23:59.125Z"
   },
   {
    "duration": 7,
    "start_time": "2022-01-25T17:24:11.835Z"
   },
   {
    "duration": 9,
    "start_time": "2022-01-25T17:24:28.279Z"
   },
   {
    "duration": 9,
    "start_time": "2022-01-25T17:25:10.639Z"
   },
   {
    "duration": 9,
    "start_time": "2022-01-25T17:45:18.024Z"
   },
   {
    "duration": 281,
    "start_time": "2022-01-25T17:45:21.246Z"
   },
   {
    "duration": 10,
    "start_time": "2022-01-25T17:45:40.344Z"
   },
   {
    "duration": 6,
    "start_time": "2022-01-25T17:45:56.297Z"
   },
   {
    "duration": 14,
    "start_time": "2022-01-25T17:45:58.808Z"
   },
   {
    "duration": 327,
    "start_time": "2022-01-25T17:46:01.309Z"
   },
   {
    "duration": 7,
    "start_time": "2022-01-25T17:46:16.780Z"
   },
   {
    "duration": 13,
    "start_time": "2022-01-25T17:51:49.680Z"
   },
   {
    "duration": 16,
    "start_time": "2022-01-25T17:52:14.049Z"
   },
   {
    "duration": 571,
    "start_time": "2022-01-25T19:41:43.058Z"
   },
   {
    "duration": 146,
    "start_time": "2022-01-25T19:41:43.631Z"
   },
   {
    "duration": 51,
    "start_time": "2022-01-25T19:41:43.780Z"
   },
   {
    "duration": 132,
    "start_time": "2022-01-25T19:41:43.833Z"
   },
   {
    "duration": 50,
    "start_time": "2022-01-25T19:41:43.967Z"
   },
   {
    "duration": 88,
    "start_time": "2022-01-25T19:41:44.018Z"
   },
   {
    "duration": 16,
    "start_time": "2022-01-25T19:41:44.107Z"
   },
   {
    "duration": 37,
    "start_time": "2022-01-25T19:41:44.125Z"
   },
   {
    "duration": 19,
    "start_time": "2022-01-25T19:41:44.164Z"
   },
   {
    "duration": 105,
    "start_time": "2022-01-25T19:41:44.185Z"
   },
   {
    "duration": 71,
    "start_time": "2022-01-25T19:41:44.292Z"
   },
   {
    "duration": 51,
    "start_time": "2022-01-25T19:41:44.365Z"
   },
   {
    "duration": 59,
    "start_time": "2022-01-25T19:41:44.417Z"
   },
   {
    "duration": 10,
    "start_time": "2022-01-25T19:41:44.478Z"
   },
   {
    "duration": 36,
    "start_time": "2022-01-25T19:41:44.489Z"
   },
   {
    "duration": 11,
    "start_time": "2022-01-25T19:41:44.527Z"
   },
   {
    "duration": 50,
    "start_time": "2022-01-25T19:41:44.539Z"
   },
   {
    "duration": 22,
    "start_time": "2022-01-25T19:41:44.590Z"
   },
   {
    "duration": 4,
    "start_time": "2022-01-25T19:41:44.614Z"
   },
   {
    "duration": 33,
    "start_time": "2022-01-25T19:41:44.620Z"
   },
   {
    "duration": 31,
    "start_time": "2022-01-25T19:41:44.655Z"
   },
   {
    "duration": 66,
    "start_time": "2022-01-25T19:41:44.688Z"
   },
   {
    "duration": 16,
    "start_time": "2022-01-25T19:41:44.757Z"
   },
   {
    "duration": 17,
    "start_time": "2022-01-25T19:41:44.776Z"
   },
   {
    "duration": 81,
    "start_time": "2022-01-25T19:41:44.812Z"
   },
   {
    "duration": 32,
    "start_time": "2022-01-25T19:41:44.895Z"
   },
   {
    "duration": 44,
    "start_time": "2022-01-25T19:41:44.929Z"
   },
   {
    "duration": 311,
    "start_time": "2022-01-25T19:41:44.975Z"
   },
   {
    "duration": 75,
    "start_time": "2022-01-25T19:41:45.288Z"
   },
   {
    "duration": 77,
    "start_time": "2022-01-25T19:41:45.365Z"
   },
   {
    "duration": 36,
    "start_time": "2022-01-25T19:41:45.443Z"
   },
   {
    "duration": 32,
    "start_time": "2022-01-25T19:41:45.480Z"
   },
   {
    "duration": 31,
    "start_time": "2022-01-25T19:41:45.514Z"
   },
   {
    "duration": 33,
    "start_time": "2022-01-25T19:41:45.546Z"
   },
   {
    "duration": 42,
    "start_time": "2022-01-25T19:41:45.580Z"
   },
   {
    "duration": 291,
    "start_time": "2022-01-25T19:41:45.623Z"
   },
   {
    "duration": 7,
    "start_time": "2022-01-25T19:41:45.915Z"
   },
   {
    "duration": 24,
    "start_time": "2022-01-25T19:41:45.923Z"
   },
   {
    "duration": 276,
    "start_time": "2022-01-25T19:41:45.949Z"
   },
   {
    "duration": 6,
    "start_time": "2022-01-25T19:41:46.226Z"
   },
   {
    "duration": 22,
    "start_time": "2022-01-25T19:41:46.234Z"
   },
   {
    "duration": 261,
    "start_time": "2022-01-25T19:41:46.257Z"
   },
   {
    "duration": 6,
    "start_time": "2022-01-25T19:41:46.519Z"
   },
   {
    "duration": 63,
    "start_time": "2022-01-25T19:41:46.527Z"
   },
   {
    "duration": 21,
    "start_time": "2022-01-25T19:41:46.591Z"
   },
   {
    "duration": 226,
    "start_time": "2022-01-25T19:41:46.614Z"
   },
   {
    "duration": 6,
    "start_time": "2022-01-25T19:41:46.842Z"
   },
   {
    "duration": 585,
    "start_time": "2022-01-25T19:41:46.850Z"
   },
   {
    "duration": 623,
    "start_time": "2022-01-25T19:41:46.814Z"
   },
   {
    "duration": 621,
    "start_time": "2022-01-25T19:41:46.817Z"
   },
   {
    "duration": 618,
    "start_time": "2022-01-25T19:41:46.821Z"
   },
   {
    "duration": 615,
    "start_time": "2022-01-25T19:41:46.824Z"
   },
   {
    "duration": 612,
    "start_time": "2022-01-25T19:41:46.828Z"
   },
   {
    "duration": 610,
    "start_time": "2022-01-25T19:41:46.831Z"
   },
   {
    "duration": 601,
    "start_time": "2022-01-25T19:41:46.841Z"
   },
   {
    "duration": 598,
    "start_time": "2022-01-25T19:41:46.845Z"
   },
   {
    "duration": 594,
    "start_time": "2022-01-25T19:41:46.849Z"
   },
   {
    "duration": 591,
    "start_time": "2022-01-25T19:41:46.853Z"
   },
   {
    "duration": 588,
    "start_time": "2022-01-25T19:41:46.857Z"
   },
   {
    "duration": 4,
    "start_time": "2022-01-25T19:42:11.641Z"
   },
   {
    "duration": 6,
    "start_time": "2022-01-25T19:42:24.565Z"
   },
   {
    "duration": 9,
    "start_time": "2022-01-25T19:43:13.533Z"
   },
   {
    "duration": 237,
    "start_time": "2022-01-25T19:48:36.910Z"
   },
   {
    "duration": 204,
    "start_time": "2022-01-25T19:49:02.186Z"
   },
   {
    "duration": 236,
    "start_time": "2022-01-25T19:51:16.926Z"
   },
   {
    "duration": 4,
    "start_time": "2022-01-25T19:58:01.657Z"
   },
   {
    "duration": 8,
    "start_time": "2022-01-25T20:03:55.209Z"
   },
   {
    "duration": 194,
    "start_time": "2022-01-25T20:07:44.360Z"
   },
   {
    "duration": 288,
    "start_time": "2022-01-25T20:11:21.394Z"
   },
   {
    "duration": 184,
    "start_time": "2022-01-25T20:11:33.750Z"
   },
   {
    "duration": 5,
    "start_time": "2022-01-25T20:14:19.831Z"
   },
   {
    "duration": 1012,
    "start_time": "2022-01-26T08:41:04.018Z"
   },
   {
    "duration": 253,
    "start_time": "2022-01-26T08:41:05.033Z"
   },
   {
    "duration": 106,
    "start_time": "2022-01-26T08:41:05.291Z"
   },
   {
    "duration": 209,
    "start_time": "2022-01-26T08:41:05.399Z"
   },
   {
    "duration": 69,
    "start_time": "2022-01-26T08:41:05.611Z"
   },
   {
    "duration": 135,
    "start_time": "2022-01-26T08:41:05.683Z"
   },
   {
    "duration": 18,
    "start_time": "2022-01-26T08:41:05.820Z"
   },
   {
    "duration": 43,
    "start_time": "2022-01-26T08:41:05.856Z"
   },
   {
    "duration": 29,
    "start_time": "2022-01-26T08:41:05.902Z"
   },
   {
    "duration": 151,
    "start_time": "2022-01-26T08:41:05.934Z"
   },
   {
    "duration": 126,
    "start_time": "2022-01-26T08:41:06.088Z"
   },
   {
    "duration": 78,
    "start_time": "2022-01-26T08:41:06.217Z"
   },
   {
    "duration": 109,
    "start_time": "2022-01-26T08:41:06.298Z"
   },
   {
    "duration": 13,
    "start_time": "2022-01-26T08:41:06.410Z"
   },
   {
    "duration": 41,
    "start_time": "2022-01-26T08:41:06.426Z"
   },
   {
    "duration": 23,
    "start_time": "2022-01-26T08:41:06.469Z"
   },
   {
    "duration": 97,
    "start_time": "2022-01-26T08:41:06.494Z"
   },
   {
    "duration": 6,
    "start_time": "2022-01-26T08:41:06.594Z"
   },
   {
    "duration": 14,
    "start_time": "2022-01-26T08:41:06.603Z"
   },
   {
    "duration": 57,
    "start_time": "2022-01-26T08:41:06.619Z"
   },
   {
    "duration": 39,
    "start_time": "2022-01-26T08:41:06.679Z"
   },
   {
    "duration": 89,
    "start_time": "2022-01-26T08:41:06.720Z"
   },
   {
    "duration": 39,
    "start_time": "2022-01-26T08:41:06.815Z"
   },
   {
    "duration": 28,
    "start_time": "2022-01-26T08:41:06.859Z"
   },
   {
    "duration": 182,
    "start_time": "2022-01-26T08:41:06.889Z"
   },
   {
    "duration": 20,
    "start_time": "2022-01-26T08:41:07.075Z"
   },
   {
    "duration": 97,
    "start_time": "2022-01-26T08:41:07.098Z"
   },
   {
    "duration": 553,
    "start_time": "2022-01-26T08:41:07.198Z"
   },
   {
    "duration": 128,
    "start_time": "2022-01-26T08:41:07.759Z"
   },
   {
    "duration": 138,
    "start_time": "2022-01-26T08:41:07.889Z"
   },
   {
    "duration": 71,
    "start_time": "2022-01-26T08:41:08.030Z"
   },
   {
    "duration": 46,
    "start_time": "2022-01-26T08:41:08.104Z"
   },
   {
    "duration": 59,
    "start_time": "2022-01-26T08:41:08.159Z"
   },
   {
    "duration": 84,
    "start_time": "2022-01-26T08:41:08.220Z"
   },
   {
    "duration": 53,
    "start_time": "2022-01-26T08:41:08.306Z"
   },
   {
    "duration": 526,
    "start_time": "2022-01-26T08:41:08.362Z"
   },
   {
    "duration": 12,
    "start_time": "2022-01-26T08:41:08.890Z"
   },
   {
    "duration": 62,
    "start_time": "2022-01-26T08:41:08.904Z"
   },
   {
    "duration": 447,
    "start_time": "2022-01-26T08:41:08.969Z"
   },
   {
    "duration": 11,
    "start_time": "2022-01-26T08:41:09.419Z"
   },
   {
    "duration": 74,
    "start_time": "2022-01-26T08:41:09.434Z"
   },
   {
    "duration": 429,
    "start_time": "2022-01-26T08:41:09.511Z"
   },
   {
    "duration": 20,
    "start_time": "2022-01-26T08:41:09.948Z"
   },
   {
    "duration": 118,
    "start_time": "2022-01-26T08:41:09.971Z"
   },
   {
    "duration": 7,
    "start_time": "2022-01-26T08:41:10.092Z"
   },
   {
    "duration": 433,
    "start_time": "2022-01-26T08:41:10.101Z"
   },
   {
    "duration": 14,
    "start_time": "2022-01-26T08:41:10.537Z"
   },
   {
    "duration": 432,
    "start_time": "2022-01-26T08:41:10.554Z"
   },
   {
    "duration": 9,
    "start_time": "2022-01-26T08:41:10.988Z"
   },
   {
    "duration": 24,
    "start_time": "2022-01-26T08:41:11.000Z"
   },
   {
    "duration": 407,
    "start_time": "2022-01-26T08:41:11.027Z"
   },
   {
    "duration": 17,
    "start_time": "2022-01-26T08:41:11.436Z"
   },
   {
    "duration": 26,
    "start_time": "2022-01-26T08:41:11.456Z"
   },
   {
    "duration": 338,
    "start_time": "2022-01-26T08:41:11.485Z"
   },
   {
    "duration": 23,
    "start_time": "2022-01-26T08:41:11.826Z"
   },
   {
    "duration": 112,
    "start_time": "2022-01-26T08:41:11.857Z"
   },
   {
    "duration": 1187,
    "start_time": "2022-01-26T08:41:10.784Z"
   },
   {
    "duration": 1184,
    "start_time": "2022-01-26T08:41:10.789Z"
   },
   {
    "duration": 1181,
    "start_time": "2022-01-26T08:41:10.793Z"
   },
   {
    "duration": 116,
    "start_time": "2022-01-26T09:45:38.508Z"
   },
   {
    "duration": 7,
    "start_time": "2022-01-26T09:45:53.487Z"
   },
   {
    "duration": 5,
    "start_time": "2022-01-26T09:48:50.222Z"
   },
   {
    "duration": 741,
    "start_time": "2022-01-26T09:48:56.093Z"
   },
   {
    "duration": 7,
    "start_time": "2022-01-26T09:49:07.376Z"
   },
   {
    "duration": 899,
    "start_time": "2022-01-26T10:31:04.025Z"
   },
   {
    "duration": 216,
    "start_time": "2022-01-26T10:31:04.928Z"
   },
   {
    "duration": 60,
    "start_time": "2022-01-26T10:31:05.147Z"
   },
   {
    "duration": 200,
    "start_time": "2022-01-26T10:31:05.210Z"
   },
   {
    "duration": 69,
    "start_time": "2022-01-26T10:31:05.412Z"
   },
   {
    "duration": 123,
    "start_time": "2022-01-26T10:31:05.484Z"
   },
   {
    "duration": 18,
    "start_time": "2022-01-26T10:31:05.610Z"
   },
   {
    "duration": 46,
    "start_time": "2022-01-26T10:31:05.649Z"
   },
   {
    "duration": 35,
    "start_time": "2022-01-26T10:31:05.698Z"
   },
   {
    "duration": 128,
    "start_time": "2022-01-26T10:31:05.735Z"
   },
   {
    "duration": 112,
    "start_time": "2022-01-26T10:31:05.866Z"
   },
   {
    "duration": 73,
    "start_time": "2022-01-26T10:31:05.981Z"
   },
   {
    "duration": 102,
    "start_time": "2022-01-26T10:31:06.056Z"
   },
   {
    "duration": 14,
    "start_time": "2022-01-26T10:31:06.161Z"
   },
   {
    "duration": 20,
    "start_time": "2022-01-26T10:31:06.177Z"
   },
   {
    "duration": 9,
    "start_time": "2022-01-26T10:31:06.200Z"
   },
   {
    "duration": 52,
    "start_time": "2022-01-26T10:31:06.211Z"
   },
   {
    "duration": 86,
    "start_time": "2022-01-26T10:31:06.265Z"
   },
   {
    "duration": 8,
    "start_time": "2022-01-26T10:31:06.353Z"
   },
   {
    "duration": 23,
    "start_time": "2022-01-26T10:31:06.363Z"
   },
   {
    "duration": 41,
    "start_time": "2022-01-26T10:31:06.389Z"
   },
   {
    "duration": 44,
    "start_time": "2022-01-26T10:31:06.433Z"
   },
   {
    "duration": 85,
    "start_time": "2022-01-26T10:31:06.482Z"
   },
   {
    "duration": 26,
    "start_time": "2022-01-26T10:31:06.570Z"
   },
   {
    "duration": 50,
    "start_time": "2022-01-26T10:31:06.598Z"
   },
   {
    "duration": 152,
    "start_time": "2022-01-26T10:31:06.651Z"
   },
   {
    "duration": 21,
    "start_time": "2022-01-26T10:31:06.806Z"
   },
   {
    "duration": 82,
    "start_time": "2022-01-26T10:31:06.830Z"
   },
   {
    "duration": 503,
    "start_time": "2022-01-26T10:31:06.914Z"
   },
   {
    "duration": 120,
    "start_time": "2022-01-26T10:31:07.419Z"
   },
   {
    "duration": 144,
    "start_time": "2022-01-26T10:31:07.548Z"
   },
   {
    "duration": 73,
    "start_time": "2022-01-26T10:31:07.695Z"
   },
   {
    "duration": 36,
    "start_time": "2022-01-26T10:31:07.771Z"
   },
   {
    "duration": 77,
    "start_time": "2022-01-26T10:31:07.810Z"
   },
   {
    "duration": 80,
    "start_time": "2022-01-26T10:31:07.889Z"
   },
   {
    "duration": 38,
    "start_time": "2022-01-26T10:31:07.971Z"
   },
   {
    "duration": 531,
    "start_time": "2022-01-26T10:31:08.012Z"
   },
   {
    "duration": 11,
    "start_time": "2022-01-26T10:31:08.549Z"
   },
   {
    "duration": 40,
    "start_time": "2022-01-26T10:31:08.563Z"
   },
   {
    "duration": 450,
    "start_time": "2022-01-26T10:31:08.606Z"
   },
   {
    "duration": 11,
    "start_time": "2022-01-26T10:31:09.059Z"
   },
   {
    "duration": 38,
    "start_time": "2022-01-26T10:31:09.072Z"
   },
   {
    "duration": 452,
    "start_time": "2022-01-26T10:31:09.113Z"
   },
   {
    "duration": 9,
    "start_time": "2022-01-26T10:31:09.568Z"
   },
   {
    "duration": 110,
    "start_time": "2022-01-26T10:31:09.580Z"
   },
   {
    "duration": 7,
    "start_time": "2022-01-26T10:31:09.693Z"
   },
   {
    "duration": 376,
    "start_time": "2022-01-26T10:31:09.703Z"
   },
   {
    "duration": 8,
    "start_time": "2022-01-26T10:31:10.082Z"
   },
   {
    "duration": 469,
    "start_time": "2022-01-26T10:31:10.092Z"
   },
   {
    "duration": 8,
    "start_time": "2022-01-26T10:31:10.563Z"
   },
   {
    "duration": 15,
    "start_time": "2022-01-26T10:31:10.574Z"
   },
   {
    "duration": 405,
    "start_time": "2022-01-26T10:31:10.592Z"
   },
   {
    "duration": 6,
    "start_time": "2022-01-26T10:31:11.000Z"
   },
   {
    "duration": 16,
    "start_time": "2022-01-26T10:31:11.008Z"
   },
   {
    "duration": 356,
    "start_time": "2022-01-26T10:31:11.026Z"
   },
   {
    "duration": 6,
    "start_time": "2022-01-26T10:31:11.385Z"
   },
   {
    "duration": 1003,
    "start_time": "2022-02-03T15:38:26.404Z"
   },
   {
    "duration": 213,
    "start_time": "2022-02-03T15:38:27.410Z"
   },
   {
    "duration": 66,
    "start_time": "2022-02-03T15:38:27.626Z"
   },
   {
    "duration": 200,
    "start_time": "2022-02-03T15:38:27.695Z"
   },
   {
    "duration": 63,
    "start_time": "2022-02-03T15:38:27.898Z"
   },
   {
    "duration": 128,
    "start_time": "2022-02-03T15:38:27.964Z"
   },
   {
    "duration": 31,
    "start_time": "2022-02-03T15:38:28.094Z"
   },
   {
    "duration": 77,
    "start_time": "2022-02-03T15:38:28.129Z"
   },
   {
    "duration": 28,
    "start_time": "2022-02-03T15:38:28.209Z"
   },
   {
    "duration": 176,
    "start_time": "2022-02-03T15:38:28.239Z"
   },
   {
    "duration": 115,
    "start_time": "2022-02-03T15:38:28.417Z"
   },
   {
    "duration": 55,
    "start_time": "2022-02-03T15:38:28.535Z"
   },
   {
    "duration": 99,
    "start_time": "2022-02-03T15:38:28.593Z"
   },
   {
    "duration": 14,
    "start_time": "2022-02-03T15:38:28.694Z"
   },
   {
    "duration": 20,
    "start_time": "2022-02-03T15:38:28.724Z"
   },
   {
    "duration": 6,
    "start_time": "2022-02-03T15:38:28.746Z"
   },
   {
    "duration": 20,
    "start_time": "2022-02-03T15:38:28.756Z"
   },
   {
    "duration": 103,
    "start_time": "2022-02-03T15:38:28.778Z"
   },
   {
    "duration": 7,
    "start_time": "2022-02-03T15:38:28.883Z"
   },
   {
    "duration": 13,
    "start_time": "2022-02-03T15:38:28.892Z"
   },
   {
    "duration": 37,
    "start_time": "2022-02-03T15:38:28.924Z"
   },
   {
    "duration": 38,
    "start_time": "2022-02-03T15:38:28.964Z"
   },
   {
    "duration": 67,
    "start_time": "2022-02-03T15:38:29.027Z"
   },
   {
    "duration": 39,
    "start_time": "2022-02-03T15:38:29.098Z"
   },
   {
    "duration": 26,
    "start_time": "2022-02-03T15:38:29.139Z"
   },
   {
    "duration": 166,
    "start_time": "2022-02-03T15:38:29.168Z"
   },
   {
    "duration": 20,
    "start_time": "2022-02-03T15:38:29.337Z"
   },
   {
    "duration": 88,
    "start_time": "2022-02-03T15:38:29.359Z"
   },
   {
    "duration": 548,
    "start_time": "2022-02-03T15:38:29.449Z"
   },
   {
    "duration": 114,
    "start_time": "2022-02-03T15:38:29.999Z"
   },
   {
    "duration": 139,
    "start_time": "2022-02-03T15:38:30.123Z"
   },
   {
    "duration": 69,
    "start_time": "2022-02-03T15:38:30.264Z"
   },
   {
    "duration": 36,
    "start_time": "2022-02-03T15:38:30.335Z"
   },
   {
    "duration": 77,
    "start_time": "2022-02-03T15:38:30.373Z"
   },
   {
    "duration": 79,
    "start_time": "2022-02-03T15:38:30.452Z"
   },
   {
    "duration": 36,
    "start_time": "2022-02-03T15:38:30.534Z"
   },
   {
    "duration": 490,
    "start_time": "2022-02-03T15:38:30.573Z"
   },
   {
    "duration": 10,
    "start_time": "2022-02-03T15:38:31.066Z"
   },
   {
    "duration": 59,
    "start_time": "2022-02-03T15:38:31.078Z"
   },
   {
    "duration": 423,
    "start_time": "2022-02-03T15:38:31.139Z"
   },
   {
    "duration": 9,
    "start_time": "2022-02-03T15:38:31.564Z"
   },
   {
    "duration": 66,
    "start_time": "2022-02-03T15:38:31.577Z"
   },
   {
    "duration": 421,
    "start_time": "2022-02-03T15:38:31.646Z"
   },
   {
    "duration": 10,
    "start_time": "2022-02-03T15:38:32.071Z"
   },
   {
    "duration": 105,
    "start_time": "2022-02-03T15:38:32.084Z"
   },
   {
    "duration": 6,
    "start_time": "2022-02-03T15:38:32.192Z"
   },
   {
    "duration": 398,
    "start_time": "2022-02-03T15:38:32.200Z"
   },
   {
    "duration": 22,
    "start_time": "2022-02-03T15:38:32.601Z"
   },
   {
    "duration": 455,
    "start_time": "2022-02-03T15:38:32.625Z"
   },
   {
    "duration": 8,
    "start_time": "2022-02-03T15:38:33.082Z"
   },
   {
    "duration": 30,
    "start_time": "2022-02-03T15:38:33.093Z"
   },
   {
    "duration": 416,
    "start_time": "2022-02-03T15:38:33.125Z"
   },
   {
    "duration": 7,
    "start_time": "2022-02-03T15:38:33.543Z"
   },
   {
    "duration": 16,
    "start_time": "2022-02-03T15:38:33.552Z"
   },
   {
    "duration": 356,
    "start_time": "2022-02-03T15:38:33.570Z"
   },
   {
    "duration": 6,
    "start_time": "2022-02-03T15:38:33.929Z"
   },
   {
    "duration": 844,
    "start_time": "2022-02-03T16:54:06.096Z"
   },
   {
    "duration": 205,
    "start_time": "2022-02-03T16:54:06.942Z"
   },
   {
    "duration": 77,
    "start_time": "2022-02-03T16:54:07.150Z"
   },
   {
    "duration": 179,
    "start_time": "2022-02-03T16:54:07.230Z"
   },
   {
    "duration": 66,
    "start_time": "2022-02-03T16:54:07.411Z"
   },
   {
    "duration": 127,
    "start_time": "2022-02-03T16:54:07.480Z"
   },
   {
    "duration": 22,
    "start_time": "2022-02-03T16:54:07.609Z"
   },
   {
    "duration": 69,
    "start_time": "2022-02-03T16:54:07.636Z"
   },
   {
    "duration": 26,
    "start_time": "2022-02-03T16:54:07.708Z"
   },
   {
    "duration": 136,
    "start_time": "2022-02-03T16:54:07.736Z"
   },
   {
    "duration": 114,
    "start_time": "2022-02-03T16:54:07.875Z"
   },
   {
    "duration": 68,
    "start_time": "2022-02-03T16:54:07.992Z"
   },
   {
    "duration": 99,
    "start_time": "2022-02-03T16:54:08.063Z"
   },
   {
    "duration": 15,
    "start_time": "2022-02-03T16:54:08.165Z"
   },
   {
    "duration": 43,
    "start_time": "2022-02-03T16:54:08.183Z"
   },
   {
    "duration": 8,
    "start_time": "2022-02-03T16:54:08.228Z"
   },
   {
    "duration": 22,
    "start_time": "2022-02-03T16:54:08.238Z"
   },
   {
    "duration": 101,
    "start_time": "2022-02-03T16:54:08.263Z"
   },
   {
    "duration": 6,
    "start_time": "2022-02-03T16:54:08.367Z"
   },
   {
    "duration": 8,
    "start_time": "2022-02-03T16:54:08.376Z"
   },
   {
    "duration": 63,
    "start_time": "2022-02-03T16:54:08.386Z"
   },
   {
    "duration": 40,
    "start_time": "2022-02-03T16:54:08.452Z"
   },
   {
    "duration": 84,
    "start_time": "2022-02-03T16:54:08.499Z"
   },
   {
    "duration": 40,
    "start_time": "2022-02-03T16:54:08.586Z"
   },
   {
    "duration": 27,
    "start_time": "2022-02-03T16:54:08.628Z"
   },
   {
    "duration": 164,
    "start_time": "2022-02-03T16:54:08.657Z"
   },
   {
    "duration": 20,
    "start_time": "2022-02-03T16:54:08.824Z"
   },
   {
    "duration": 78,
    "start_time": "2022-02-03T16:54:08.847Z"
   },
   {
    "duration": 563,
    "start_time": "2022-02-03T16:54:08.927Z"
   },
   {
    "duration": 116,
    "start_time": "2022-02-03T16:54:09.492Z"
   },
   {
    "duration": 132,
    "start_time": "2022-02-03T16:54:09.611Z"
   },
   {
    "duration": 56,
    "start_time": "2022-02-03T16:54:09.745Z"
   },
   {
    "duration": 46,
    "start_time": "2022-02-03T16:54:09.804Z"
   },
   {
    "duration": 79,
    "start_time": "2022-02-03T16:54:09.853Z"
   },
   {
    "duration": 63,
    "start_time": "2022-02-03T16:54:09.935Z"
   },
   {
    "duration": 36,
    "start_time": "2022-02-03T16:54:10.024Z"
   },
   {
    "duration": 484,
    "start_time": "2022-02-03T16:54:10.063Z"
   },
   {
    "duration": 11,
    "start_time": "2022-02-03T16:54:10.550Z"
   },
   {
    "duration": 67,
    "start_time": "2022-02-03T16:54:10.564Z"
   },
   {
    "duration": 404,
    "start_time": "2022-02-03T16:54:10.634Z"
   },
   {
    "duration": 18,
    "start_time": "2022-02-03T16:54:11.041Z"
   },
   {
    "duration": 42,
    "start_time": "2022-02-03T16:54:11.062Z"
   },
   {
    "duration": 410,
    "start_time": "2022-02-03T16:54:11.124Z"
   },
   {
    "duration": 9,
    "start_time": "2022-02-03T16:54:11.536Z"
   },
   {
    "duration": 110,
    "start_time": "2022-02-03T16:54:11.548Z"
   },
   {
    "duration": 6,
    "start_time": "2022-02-03T16:54:11.660Z"
   },
   {
    "duration": 378,
    "start_time": "2022-02-03T16:54:11.668Z"
   },
   {
    "duration": 10,
    "start_time": "2022-02-03T16:54:12.048Z"
   },
   {
    "duration": 471,
    "start_time": "2022-02-03T16:54:12.060Z"
   },
   {
    "duration": 9,
    "start_time": "2022-02-03T16:54:12.533Z"
   },
   {
    "duration": 13,
    "start_time": "2022-02-03T16:54:12.545Z"
   },
   {
    "duration": 409,
    "start_time": "2022-02-03T16:54:12.560Z"
   },
   {
    "duration": 7,
    "start_time": "2022-02-03T16:54:12.971Z"
   },
   {
    "duration": 12,
    "start_time": "2022-02-03T16:54:12.981Z"
   },
   {
    "duration": 354,
    "start_time": "2022-02-03T16:54:12.996Z"
   },
   {
    "duration": 6,
    "start_time": "2022-02-03T16:54:13.352Z"
   },
   {
    "duration": 103,
    "start_time": "2022-02-03T21:21:01.239Z"
   },
   {
    "duration": 358,
    "start_time": "2022-02-03T21:21:08.047Z"
   },
   {
    "duration": 579,
    "start_time": "2022-02-03T21:21:21.002Z"
   },
   {
    "duration": 142,
    "start_time": "2022-02-03T21:21:26.382Z"
   },
   {
    "duration": 67,
    "start_time": "2022-02-03T21:21:28.786Z"
   },
   {
    "duration": 124,
    "start_time": "2022-02-03T21:21:33.177Z"
   },
   {
    "duration": 39,
    "start_time": "2022-02-03T21:21:35.598Z"
   },
   {
    "duration": 83,
    "start_time": "2022-02-03T21:21:42.058Z"
   },
   {
    "duration": 67,
    "start_time": "2022-02-03T21:21:46.863Z"
   },
   {
    "duration": 65,
    "start_time": "2022-02-03T21:21:56.035Z"
   },
   {
    "duration": 11,
    "start_time": "2022-02-03T21:22:00.193Z"
   },
   {
    "duration": 15,
    "start_time": "2022-02-03T21:22:12.074Z"
   },
   {
    "duration": 330,
    "start_time": "2022-02-03T21:22:54.199Z"
   },
   {
    "duration": 17,
    "start_time": "2022-02-03T21:23:18.643Z"
   },
   {
    "duration": 312,
    "start_time": "2022-02-03T21:23:25.802Z"
   },
   {
    "duration": 420,
    "start_time": "2022-02-03T21:23:43.067Z"
   },
   {
    "duration": 13,
    "start_time": "2022-02-03T21:24:01.189Z"
   },
   {
    "duration": 11,
    "start_time": "2022-02-03T21:24:53.399Z"
   },
   {
    "duration": 15,
    "start_time": "2022-02-03T21:27:49.725Z"
   },
   {
    "duration": 11,
    "start_time": "2022-02-03T21:28:25.601Z"
   },
   {
    "duration": 325,
    "start_time": "2022-02-03T21:29:42.361Z"
   },
   {
    "duration": 16,
    "start_time": "2022-02-03T21:29:46.560Z"
   },
   {
    "duration": 13,
    "start_time": "2022-02-03T21:30:30.202Z"
   },
   {
    "duration": 46,
    "start_time": "2022-02-03T21:31:16.213Z"
   },
   {
    "duration": 18,
    "start_time": "2022-02-03T21:31:22.060Z"
   },
   {
    "duration": 10,
    "start_time": "2022-02-03T21:31:45.444Z"
   },
   {
    "duration": 13,
    "start_time": "2022-02-03T21:31:52.480Z"
   },
   {
    "duration": 11,
    "start_time": "2022-02-03T21:33:14.948Z"
   },
   {
    "duration": 15,
    "start_time": "2022-02-03T21:33:44.653Z"
   },
   {
    "duration": 17,
    "start_time": "2022-02-03T21:34:05.744Z"
   },
   {
    "duration": 18,
    "start_time": "2022-02-03T21:34:08.650Z"
   },
   {
    "duration": 8,
    "start_time": "2022-02-03T21:35:04.729Z"
   },
   {
    "duration": 14,
    "start_time": "2022-02-03T21:35:08.293Z"
   },
   {
    "duration": 1328,
    "start_time": "2022-02-03T21:35:38.199Z"
   },
   {
    "duration": 6,
    "start_time": "2022-02-03T21:35:42.072Z"
   },
   {
    "duration": 9,
    "start_time": "2022-02-03T21:35:48.802Z"
   },
   {
    "duration": 12,
    "start_time": "2022-02-03T21:37:30.300Z"
   },
   {
    "duration": 14,
    "start_time": "2022-02-03T21:38:48.419Z"
   },
   {
    "duration": 331,
    "start_time": "2022-02-03T21:48:25.000Z"
   },
   {
    "duration": 301,
    "start_time": "2022-02-03T21:48:35.494Z"
   },
   {
    "duration": 16,
    "start_time": "2022-02-03T21:48:46.691Z"
   },
   {
    "duration": 22,
    "start_time": "2022-02-03T21:48:52.176Z"
   },
   {
    "duration": 16,
    "start_time": "2022-02-03T21:50:24.255Z"
   },
   {
    "duration": 34,
    "start_time": "2022-02-03T21:51:28.713Z"
   },
   {
    "duration": 104,
    "start_time": "2022-02-03T21:52:37.985Z"
   },
   {
    "duration": 27,
    "start_time": "2022-02-03T21:52:48.409Z"
   },
   {
    "duration": 23,
    "start_time": "2022-02-03T21:53:14.957Z"
   },
   {
    "duration": 27,
    "start_time": "2022-02-03T21:53:21.002Z"
   },
   {
    "duration": 315,
    "start_time": "2022-02-03T21:58:03.326Z"
   },
   {
    "duration": 29,
    "start_time": "2022-02-03T21:58:39.787Z"
   },
   {
    "duration": 50,
    "start_time": "2022-02-03T22:00:01.381Z"
   },
   {
    "duration": 16,
    "start_time": "2022-02-03T22:00:39.858Z"
   },
   {
    "duration": 20,
    "start_time": "2022-02-03T22:00:42.762Z"
   },
   {
    "duration": 28,
    "start_time": "2022-02-03T22:00:46.583Z"
   },
   {
    "duration": 47,
    "start_time": "2022-02-03T22:01:59.516Z"
   },
   {
    "duration": 23,
    "start_time": "2022-02-03T22:02:33.899Z"
   },
   {
    "duration": 22,
    "start_time": "2022-02-03T22:02:48.341Z"
   },
   {
    "duration": 48,
    "start_time": "2022-02-03T22:03:47.458Z"
   },
   {
    "duration": 348,
    "start_time": "2022-02-03T22:06:35.859Z"
   },
   {
    "duration": 12,
    "start_time": "2022-02-03T22:07:11.117Z"
   },
   {
    "duration": 529,
    "start_time": "2022-02-03T22:21:00.226Z"
   },
   {
    "duration": 521,
    "start_time": "2022-02-03T22:24:12.875Z"
   },
   {
    "duration": 581,
    "start_time": "2022-02-03T22:42:14.693Z"
   },
   {
    "duration": 147,
    "start_time": "2022-02-03T22:42:18.985Z"
   },
   {
    "duration": 122,
    "start_time": "2022-02-03T22:42:23.004Z"
   },
   {
    "duration": 85,
    "start_time": "2022-02-03T22:42:27.121Z"
   },
   {
    "duration": 46,
    "start_time": "2022-02-03T22:42:30.637Z"
   },
   {
    "duration": 69,
    "start_time": "2022-02-03T22:42:38.386Z"
   },
   {
    "duration": 11,
    "start_time": "2022-02-03T22:42:42.216Z"
   },
   {
    "duration": 15,
    "start_time": "2022-02-03T22:42:49.864Z"
   },
   {
    "duration": 49,
    "start_time": "2022-02-03T22:43:07.198Z"
   },
   {
    "duration": 19,
    "start_time": "2022-02-03T22:44:23.240Z"
   },
   {
    "duration": 37,
    "start_time": "2022-02-03T22:45:08.910Z"
   },
   {
    "duration": 8,
    "start_time": "2022-02-03T22:45:12.477Z"
   },
   {
    "duration": 7,
    "start_time": "2022-02-03T22:46:24.554Z"
   },
   {
    "duration": 32,
    "start_time": "2022-02-03T22:46:49.815Z"
   },
   {
    "duration": 6,
    "start_time": "2022-02-03T22:46:54.187Z"
   },
   {
    "duration": 25,
    "start_time": "2022-02-03T22:47:53.970Z"
   },
   {
    "duration": 8,
    "start_time": "2022-02-03T22:47:57.385Z"
   },
   {
    "duration": 26,
    "start_time": "2022-02-03T22:48:21.492Z"
   },
   {
    "duration": 28,
    "start_time": "2022-02-03T22:48:53.170Z"
   },
   {
    "duration": 18,
    "start_time": "2022-02-03T22:48:54.597Z"
   },
   {
    "duration": 16,
    "start_time": "2022-02-03T22:49:32.571Z"
   },
   {
    "duration": 8,
    "start_time": "2022-02-03T22:49:42.714Z"
   },
   {
    "duration": 8,
    "start_time": "2022-02-03T22:51:13.383Z"
   },
   {
    "duration": 6,
    "start_time": "2022-02-03T22:51:30.097Z"
   },
   {
    "duration": 6,
    "start_time": "2022-02-03T22:51:40.578Z"
   },
   {
    "duration": 4,
    "start_time": "2022-02-03T22:51:49.944Z"
   },
   {
    "duration": 413,
    "start_time": "2022-02-03T22:53:47.748Z"
   },
   {
    "duration": 303,
    "start_time": "2022-02-03T22:53:57.862Z"
   },
   {
    "duration": 11,
    "start_time": "2022-02-03T22:57:44.669Z"
   },
   {
    "duration": 318,
    "start_time": "2022-02-03T23:01:41.910Z"
   },
   {
    "duration": 307,
    "start_time": "2022-02-03T23:02:32.677Z"
   },
   {
    "duration": 8,
    "start_time": "2022-02-03T23:03:38.848Z"
   },
   {
    "duration": 10,
    "start_time": "2022-02-03T23:03:50.990Z"
   },
   {
    "duration": 7,
    "start_time": "2022-02-03T23:06:38.819Z"
   },
   {
    "duration": 10,
    "start_time": "2022-02-03T23:06:41.420Z"
   },
   {
    "duration": 4,
    "start_time": "2022-02-03T23:12:53.749Z"
   },
   {
    "duration": 8,
    "start_time": "2022-02-03T23:12:55.428Z"
   },
   {
    "duration": 4,
    "start_time": "2022-02-03T23:13:02.956Z"
   },
   {
    "duration": 9,
    "start_time": "2022-02-03T23:13:06.219Z"
   },
   {
    "duration": 307,
    "start_time": "2022-02-04T06:39:41.949Z"
   },
   {
    "duration": 771,
    "start_time": "2022-02-04T06:39:55.359Z"
   },
   {
    "duration": 221,
    "start_time": "2022-02-04T06:39:58.891Z"
   },
   {
    "duration": 64,
    "start_time": "2022-02-04T06:40:01.289Z"
   },
   {
    "duration": 211,
    "start_time": "2022-02-04T06:40:06.487Z"
   },
   {
    "duration": 126,
    "start_time": "2022-02-04T06:40:11.575Z"
   },
   {
    "duration": 43,
    "start_time": "2022-02-04T06:40:14.732Z"
   },
   {
    "duration": 95,
    "start_time": "2022-02-04T06:40:21.201Z"
   },
   {
    "duration": 15,
    "start_time": "2022-02-04T06:40:24.402Z"
   },
   {
    "duration": 21,
    "start_time": "2022-02-04T06:40:31.961Z"
   },
   {
    "duration": 77,
    "start_time": "2022-02-04T06:40:50.285Z"
   },
   {
    "duration": 60,
    "start_time": "2022-02-04T06:40:56.412Z"
   },
   {
    "duration": 34,
    "start_time": "2022-02-04T06:40:57.570Z"
   },
   {
    "duration": 29,
    "start_time": "2022-02-04T06:40:58.252Z"
   },
   {
    "duration": 22,
    "start_time": "2022-02-04T06:41:02.093Z"
   },
   {
    "duration": 11,
    "start_time": "2022-02-04T06:41:06.421Z"
   },
   {
    "duration": 4,
    "start_time": "2022-02-04T06:41:38.250Z"
   },
   {
    "duration": 6,
    "start_time": "2022-02-04T06:41:43.462Z"
   },
   {
    "duration": 5,
    "start_time": "2022-02-04T06:41:44.479Z"
   },
   {
    "duration": 14,
    "start_time": "2022-02-04T06:41:46.959Z"
   },
   {
    "duration": 40,
    "start_time": "2022-02-04T06:46:55.709Z"
   },
   {
    "duration": 24,
    "start_time": "2022-02-04T06:46:56.684Z"
   },
   {
    "duration": 22,
    "start_time": "2022-02-04T06:46:57.382Z"
   },
   {
    "duration": 15,
    "start_time": "2022-02-04T06:47:01.571Z"
   },
   {
    "duration": 9,
    "start_time": "2022-02-04T06:47:04.237Z"
   },
   {
    "duration": 8,
    "start_time": "2022-02-04T06:47:14.841Z"
   },
   {
    "duration": 4,
    "start_time": "2022-02-04T06:47:16.126Z"
   },
   {
    "duration": 15,
    "start_time": "2022-02-04T06:47:22.362Z"
   },
   {
    "duration": 4,
    "start_time": "2022-02-04T06:47:39.773Z"
   },
   {
    "duration": 4,
    "start_time": "2022-02-04T06:48:00.272Z"
   },
   {
    "duration": 6,
    "start_time": "2022-02-04T06:48:01.202Z"
   },
   {
    "duration": 5,
    "start_time": "2022-02-04T06:48:02.058Z"
   },
   {
    "duration": 14,
    "start_time": "2022-02-04T06:48:05.709Z"
   },
   {
    "duration": 77,
    "start_time": "2022-02-04T06:56:23.433Z"
   },
   {
    "duration": 82,
    "start_time": "2022-02-04T06:56:46.786Z"
   },
   {
    "duration": 87,
    "start_time": "2022-02-04T06:57:06.891Z"
   },
   {
    "duration": 266,
    "start_time": "2022-02-04T06:57:17.688Z"
   },
   {
    "duration": 14,
    "start_time": "2022-02-04T06:57:26.129Z"
   },
   {
    "duration": 248,
    "start_time": "2022-02-04T06:57:42.848Z"
   },
   {
    "duration": 845,
    "start_time": "2022-02-04T07:37:50.442Z"
   },
   {
    "duration": 214,
    "start_time": "2022-02-04T07:37:52.932Z"
   },
   {
    "duration": 188,
    "start_time": "2022-02-04T07:37:57.498Z"
   },
   {
    "duration": 132,
    "start_time": "2022-02-04T07:38:00.794Z"
   },
   {
    "duration": 38,
    "start_time": "2022-02-04T07:38:03.869Z"
   },
   {
    "duration": 94,
    "start_time": "2022-02-04T07:38:08.954Z"
   },
   {
    "duration": 16,
    "start_time": "2022-02-04T07:38:12.484Z"
   },
   {
    "duration": 20,
    "start_time": "2022-02-04T07:38:20.632Z"
   },
   {
    "duration": 74,
    "start_time": "2022-02-04T07:38:26.017Z"
   },
   {
    "duration": 59,
    "start_time": "2022-02-04T07:38:33.454Z"
   },
   {
    "duration": 34,
    "start_time": "2022-02-04T07:38:34.645Z"
   },
   {
    "duration": 27,
    "start_time": "2022-02-04T07:38:37.257Z"
   },
   {
    "duration": 16,
    "start_time": "2022-02-04T07:38:40.946Z"
   },
   {
    "duration": 9,
    "start_time": "2022-02-04T07:39:03.967Z"
   },
   {
    "duration": 4,
    "start_time": "2022-02-04T07:39:06.417Z"
   },
   {
    "duration": 4,
    "start_time": "2022-02-04T07:39:11.702Z"
   },
   {
    "duration": 7,
    "start_time": "2022-02-04T07:39:13.358Z"
   },
   {
    "duration": 6,
    "start_time": "2022-02-04T07:39:14.579Z"
   },
   {
    "duration": 13,
    "start_time": "2022-02-04T07:39:16.112Z"
   },
   {
    "duration": 320,
    "start_time": "2022-02-04T07:39:28.628Z"
   },
   {
    "duration": 244,
    "start_time": "2022-02-04T07:39:40.912Z"
   },
   {
    "duration": 290,
    "start_time": "2022-02-04T07:39:59.679Z"
   },
   {
    "duration": 5,
    "start_time": "2022-02-04T07:40:12.762Z"
   },
   {
    "duration": 43,
    "start_time": "2022-02-04T07:41:25.042Z"
   },
   {
    "duration": 25,
    "start_time": "2022-02-04T07:41:25.674Z"
   },
   {
    "duration": 23,
    "start_time": "2022-02-04T07:41:26.224Z"
   },
   {
    "duration": 6,
    "start_time": "2022-02-04T07:41:32.772Z"
   },
   {
    "duration": 4,
    "start_time": "2022-02-04T07:41:33.291Z"
   },
   {
    "duration": 4,
    "start_time": "2022-02-04T07:41:36.197Z"
   },
   {
    "duration": 6,
    "start_time": "2022-02-04T07:41:36.742Z"
   },
   {
    "duration": 5,
    "start_time": "2022-02-04T07:41:37.295Z"
   },
   {
    "duration": 13,
    "start_time": "2022-02-04T07:41:39.047Z"
   },
   {
    "duration": 244,
    "start_time": "2022-02-04T07:41:41.543Z"
   },
   {
    "duration": 3,
    "start_time": "2022-02-04T07:43:05.084Z"
   },
   {
    "duration": 265,
    "start_time": "2022-02-04T07:48:26.131Z"
   },
   {
    "duration": 73,
    "start_time": "2022-02-04T07:48:37.838Z"
   },
   {
    "duration": 4,
    "start_time": "2022-02-04T07:49:05.617Z"
   },
   {
    "duration": 4163,
    "start_time": "2022-02-04T07:49:08.700Z"
   },
   {
    "duration": 14,
    "start_time": "2022-02-04T07:49:53.610Z"
   },
   {
    "duration": 4,
    "start_time": "2022-02-04T07:49:59.875Z"
   },
   {
    "duration": 355,
    "start_time": "2022-02-04T07:50:07.283Z"
   },
   {
    "duration": 36,
    "start_time": "2022-02-04T07:50:23.475Z"
   },
   {
    "duration": 25,
    "start_time": "2022-02-04T07:50:24.205Z"
   },
   {
    "duration": 23,
    "start_time": "2022-02-04T07:50:24.715Z"
   },
   {
    "duration": 15,
    "start_time": "2022-02-04T07:50:28.346Z"
   },
   {
    "duration": 6,
    "start_time": "2022-02-04T07:50:33.093Z"
   },
   {
    "duration": 8,
    "start_time": "2022-02-04T07:50:33.987Z"
   },
   {
    "duration": 5,
    "start_time": "2022-02-04T07:50:36.871Z"
   },
   {
    "duration": 6,
    "start_time": "2022-02-04T07:50:39.989Z"
   },
   {
    "duration": 5,
    "start_time": "2022-02-04T07:50:42.026Z"
   },
   {
    "duration": 14,
    "start_time": "2022-02-04T07:50:42.762Z"
   },
   {
    "duration": 3,
    "start_time": "2022-02-04T07:50:50.954Z"
   },
   {
    "duration": 4,
    "start_time": "2022-02-04T07:50:51.780Z"
   },
   {
    "duration": 4039,
    "start_time": "2022-02-04T07:50:53.159Z"
   },
   {
    "duration": 151,
    "start_time": "2022-02-04T07:52:21.012Z"
   },
   {
    "duration": 16,
    "start_time": "2022-02-04T07:52:28.008Z"
   },
   {
    "duration": 3,
    "start_time": "2022-02-04T07:52:44.434Z"
   },
   {
    "duration": 100,
    "start_time": "2022-02-04T07:52:50.117Z"
   },
   {
    "duration": 16,
    "start_time": "2022-02-04T07:52:51.354Z"
   },
   {
    "duration": 4,
    "start_time": "2022-02-04T08:04:36.995Z"
   },
   {
    "duration": 6,
    "start_time": "2022-02-04T08:04:38.099Z"
   },
   {
    "duration": 620,
    "start_time": "2022-02-04T08:04:39.210Z"
   },
   {
    "duration": 122,
    "start_time": "2022-02-04T08:06:23.239Z"
   },
   {
    "duration": 4,
    "start_time": "2022-02-04T08:07:02.898Z"
   },
   {
    "duration": 664,
    "start_time": "2022-02-04T08:07:04.141Z"
   },
   {
    "duration": 5,
    "start_time": "2022-02-04T08:08:50.128Z"
   },
   {
    "duration": 223,
    "start_time": "2022-02-04T08:08:51.045Z"
   },
   {
    "duration": 15,
    "start_time": "2022-02-04T08:08:54.311Z"
   },
   {
    "duration": 5,
    "start_time": "2022-02-04T08:09:56.734Z"
   },
   {
    "duration": 236,
    "start_time": "2022-02-04T08:10:01.240Z"
   },
   {
    "duration": 15,
    "start_time": "2022-02-04T08:10:02.511Z"
   },
   {
    "duration": 3,
    "start_time": "2022-02-04T08:13:45.320Z"
   },
   {
    "duration": 7,
    "start_time": "2022-02-04T08:13:45.970Z"
   },
   {
    "duration": 526,
    "start_time": "2022-02-04T08:13:46.669Z"
   },
   {
    "duration": 15,
    "start_time": "2022-02-04T08:13:48.037Z"
   },
   {
    "duration": 19,
    "start_time": "2022-02-04T08:13:55.738Z"
   },
   {
    "duration": 7,
    "start_time": "2022-02-04T08:18:00.969Z"
   },
   {
    "duration": 825,
    "start_time": "2022-02-04T08:18:03.115Z"
   },
   {
    "duration": 19,
    "start_time": "2022-02-04T08:18:04.597Z"
   },
   {
    "duration": 7,
    "start_time": "2022-02-04T08:20:48.231Z"
   },
   {
    "duration": 850,
    "start_time": "2022-02-04T08:20:49.690Z"
   },
   {
    "duration": 18,
    "start_time": "2022-02-04T08:20:51.833Z"
   },
   {
    "duration": 9,
    "start_time": "2022-02-04T08:22:02.809Z"
   },
   {
    "duration": 994,
    "start_time": "2022-02-04T08:22:16.078Z"
   },
   {
    "duration": 18,
    "start_time": "2022-02-04T08:22:19.027Z"
   },
   {
    "duration": 10,
    "start_time": "2022-02-04T08:22:32.891Z"
   },
   {
    "duration": 89,
    "start_time": "2022-02-04T08:29:00.712Z"
   },
   {
    "duration": 84,
    "start_time": "2022-02-04T08:29:03.765Z"
   },
   {
    "duration": 12,
    "start_time": "2022-02-04T08:30:48.649Z"
   },
   {
    "duration": 13,
    "start_time": "2022-02-04T08:40:39.998Z"
   },
   {
    "duration": 410,
    "start_time": "2022-02-04T08:41:00.660Z"
   },
   {
    "duration": 14,
    "start_time": "2022-02-04T08:43:39.860Z"
   },
   {
    "duration": 35,
    "start_time": "2022-02-04T08:53:31.461Z"
   },
   {
    "duration": 300,
    "start_time": "2022-02-04T09:22:19.447Z"
   },
   {
    "duration": 273,
    "start_time": "2022-02-04T09:22:35.390Z"
   },
   {
    "duration": 309,
    "start_time": "2022-02-04T09:24:19.346Z"
   },
   {
    "duration": 376,
    "start_time": "2022-02-04T09:24:40.556Z"
   },
   {
    "duration": 437,
    "start_time": "2022-02-04T09:26:53.177Z"
   },
   {
    "duration": 436,
    "start_time": "2022-02-04T09:27:35.576Z"
   },
   {
    "duration": 476,
    "start_time": "2022-02-04T09:27:41.617Z"
   },
   {
    "duration": 461,
    "start_time": "2022-02-04T09:27:59.211Z"
   },
   {
    "duration": 462,
    "start_time": "2022-02-04T09:28:40.666Z"
   },
   {
    "duration": 493,
    "start_time": "2022-02-04T09:30:01.022Z"
   },
   {
    "duration": 478,
    "start_time": "2022-02-04T09:31:01.265Z"
   },
   {
    "duration": 562,
    "start_time": "2022-02-04T09:31:19.986Z"
   },
   {
    "duration": 255,
    "start_time": "2022-02-04T09:46:09.039Z"
   },
   {
    "duration": 18,
    "start_time": "2022-02-04T09:46:25.756Z"
   },
   {
    "duration": 17,
    "start_time": "2022-02-04T09:46:45.264Z"
   },
   {
    "duration": 17,
    "start_time": "2022-02-04T09:48:08.706Z"
   },
   {
    "duration": 18,
    "start_time": "2022-02-04T09:49:33.319Z"
   },
   {
    "duration": 17,
    "start_time": "2022-02-04T09:50:22.227Z"
   },
   {
    "duration": 886,
    "start_time": "2022-02-04T09:55:47.625Z"
   },
   {
    "duration": 212,
    "start_time": "2022-02-04T09:55:48.514Z"
   },
   {
    "duration": 58,
    "start_time": "2022-02-04T09:55:48.733Z"
   },
   {
    "duration": 191,
    "start_time": "2022-02-04T09:55:48.794Z"
   },
   {
    "duration": 66,
    "start_time": "2022-02-04T09:55:48.987Z"
   },
   {
    "duration": 116,
    "start_time": "2022-02-04T09:55:49.056Z"
   },
   {
    "duration": 18,
    "start_time": "2022-02-04T09:55:49.175Z"
   },
   {
    "duration": 39,
    "start_time": "2022-02-04T09:55:49.197Z"
   },
   {
    "duration": 27,
    "start_time": "2022-02-04T09:55:49.239Z"
   },
   {
    "duration": 158,
    "start_time": "2022-02-04T09:55:49.269Z"
   },
   {
    "duration": 99,
    "start_time": "2022-02-04T09:55:49.433Z"
   },
   {
    "duration": 59,
    "start_time": "2022-02-04T09:55:49.534Z"
   },
   {
    "duration": 115,
    "start_time": "2022-02-04T09:55:49.595Z"
   },
   {
    "duration": 21,
    "start_time": "2022-02-04T09:55:49.712Z"
   },
   {
    "duration": 21,
    "start_time": "2022-02-04T09:55:49.736Z"
   },
   {
    "duration": 9,
    "start_time": "2022-02-04T09:55:49.759Z"
   },
   {
    "duration": 21,
    "start_time": "2022-02-04T09:55:49.770Z"
   },
   {
    "duration": 101,
    "start_time": "2022-02-04T09:55:49.793Z"
   },
   {
    "duration": 5,
    "start_time": "2022-02-04T09:55:49.896Z"
   },
   {
    "duration": 9,
    "start_time": "2022-02-04T09:55:49.904Z"
   },
   {
    "duration": 62,
    "start_time": "2022-02-04T09:55:49.915Z"
   },
   {
    "duration": 25,
    "start_time": "2022-02-04T09:55:49.979Z"
   },
   {
    "duration": 43,
    "start_time": "2022-02-04T09:55:50.010Z"
   },
   {
    "duration": 14,
    "start_time": "2022-02-04T09:55:50.057Z"
   },
   {
    "duration": 14,
    "start_time": "2022-02-04T09:55:50.074Z"
   },
   {
    "duration": 11,
    "start_time": "2022-02-04T09:55:50.090Z"
   },
   {
    "duration": 5,
    "start_time": "2022-02-04T09:55:50.132Z"
   },
   {
    "duration": 6,
    "start_time": "2022-02-04T09:55:50.140Z"
   },
   {
    "duration": 15,
    "start_time": "2022-02-04T09:55:50.148Z"
   },
   {
    "duration": 15,
    "start_time": "2022-02-04T09:55:50.165Z"
   },
   {
    "duration": 10,
    "start_time": "2022-02-04T09:55:50.182Z"
   },
   {
    "duration": 19,
    "start_time": "2022-02-04T09:55:50.195Z"
   },
   {
    "duration": 9,
    "start_time": "2022-02-04T09:55:50.233Z"
   },
   {
    "duration": 9,
    "start_time": "2022-02-04T09:55:50.244Z"
   },
   {
    "duration": 8,
    "start_time": "2022-02-04T09:55:50.255Z"
   },
   {
    "duration": 530,
    "start_time": "2022-02-04T09:55:50.265Z"
   },
   {
    "duration": 10,
    "start_time": "2022-02-04T09:55:50.797Z"
   },
   {
    "duration": 389,
    "start_time": "2022-02-04T09:55:50.809Z"
   },
   {
    "duration": -96,
    "start_time": "2022-02-04T09:55:51.297Z"
   },
   {
    "duration": -137,
    "start_time": "2022-02-04T09:55:51.340Z"
   },
   {
    "duration": -141,
    "start_time": "2022-02-04T09:55:51.345Z"
   },
   {
    "duration": -144,
    "start_time": "2022-02-04T09:55:51.350Z"
   },
   {
    "duration": -147,
    "start_time": "2022-02-04T09:55:51.354Z"
   },
   {
    "duration": -149,
    "start_time": "2022-02-04T09:55:51.358Z"
   },
   {
    "duration": -151,
    "start_time": "2022-02-04T09:55:51.362Z"
   },
   {
    "duration": -153,
    "start_time": "2022-02-04T09:55:51.365Z"
   },
   {
    "duration": -155,
    "start_time": "2022-02-04T09:55:51.369Z"
   },
   {
    "duration": -156,
    "start_time": "2022-02-04T09:55:51.372Z"
   },
   {
    "duration": -158,
    "start_time": "2022-02-04T09:55:51.375Z"
   },
   {
    "duration": -159,
    "start_time": "2022-02-04T09:55:51.378Z"
   },
   {
    "duration": -160,
    "start_time": "2022-02-04T09:55:51.381Z"
   },
   {
    "duration": -161,
    "start_time": "2022-02-04T09:55:51.384Z"
   },
   {
    "duration": -163,
    "start_time": "2022-02-04T09:55:51.387Z"
   },
   {
    "duration": -163,
    "start_time": "2022-02-04T09:55:51.389Z"
   },
   {
    "duration": -164,
    "start_time": "2022-02-04T09:55:51.392Z"
   },
   {
    "duration": -164,
    "start_time": "2022-02-04T09:55:51.395Z"
   },
   {
    "duration": -165,
    "start_time": "2022-02-04T09:55:51.398Z"
   },
   {
    "duration": -166,
    "start_time": "2022-02-04T09:55:51.401Z"
   },
   {
    "duration": -173,
    "start_time": "2022-02-04T09:55:51.410Z"
   },
   {
    "duration": -176,
    "start_time": "2022-02-04T09:55:51.414Z"
   },
   {
    "duration": -177,
    "start_time": "2022-02-04T09:55:51.417Z"
   },
   {
    "duration": -180,
    "start_time": "2022-02-04T09:55:51.421Z"
   },
   {
    "duration": -181,
    "start_time": "2022-02-04T09:55:51.424Z"
   },
   {
    "duration": -184,
    "start_time": "2022-02-04T09:55:51.428Z"
   },
   {
    "duration": 18,
    "start_time": "2022-02-04T10:00:36.529Z"
   },
   {
    "duration": 17,
    "start_time": "2022-02-04T10:00:37.898Z"
   },
   {
    "duration": 488,
    "start_time": "2022-02-04T10:01:37.915Z"
   },
   {
    "duration": 18,
    "start_time": "2022-02-04T10:01:43.295Z"
   },
   {
    "duration": 17,
    "start_time": "2022-02-04T10:01:44.252Z"
   },
   {
    "duration": 449,
    "start_time": "2022-02-04T10:03:44.623Z"
   },
   {
    "duration": 17,
    "start_time": "2022-02-04T10:26:40.053Z"
   },
   {
    "duration": 16,
    "start_time": "2022-02-04T10:27:17.881Z"
   },
   {
    "duration": 467,
    "start_time": "2022-02-04T10:35:02.709Z"
   },
   {
    "duration": 1337,
    "start_time": "2022-02-04T10:53:50.248Z"
   },
   {
    "duration": 32,
    "start_time": "2022-02-04T10:53:51.589Z"
   },
   {
    "duration": 203,
    "start_time": "2022-02-04T10:53:51.624Z"
   },
   {
    "duration": 60,
    "start_time": "2022-02-04T10:53:51.832Z"
   },
   {
    "duration": 189,
    "start_time": "2022-02-04T10:53:51.894Z"
   },
   {
    "duration": 76,
    "start_time": "2022-02-04T10:53:52.086Z"
   },
   {
    "duration": 134,
    "start_time": "2022-02-04T10:53:52.164Z"
   },
   {
    "duration": 31,
    "start_time": "2022-02-04T10:53:52.302Z"
   },
   {
    "duration": 39,
    "start_time": "2022-02-04T10:53:52.336Z"
   },
   {
    "duration": 27,
    "start_time": "2022-02-04T10:53:52.377Z"
   },
   {
    "duration": 161,
    "start_time": "2022-02-04T10:53:52.407Z"
   },
   {
    "duration": 137,
    "start_time": "2022-02-04T10:53:52.570Z"
   },
   {
    "duration": 75,
    "start_time": "2022-02-04T10:53:52.709Z"
   },
   {
    "duration": 121,
    "start_time": "2022-02-04T10:53:52.786Z"
   },
   {
    "duration": 37,
    "start_time": "2022-02-04T10:53:52.909Z"
   },
   {
    "duration": 24,
    "start_time": "2022-02-04T10:53:52.949Z"
   },
   {
    "duration": 8,
    "start_time": "2022-02-04T10:53:52.975Z"
   },
   {
    "duration": 55,
    "start_time": "2022-02-04T10:53:52.985Z"
   },
   {
    "duration": 106,
    "start_time": "2022-02-04T10:53:53.042Z"
   },
   {
    "duration": 16,
    "start_time": "2022-02-04T10:53:53.151Z"
   },
   {
    "duration": 22,
    "start_time": "2022-02-04T10:53:53.171Z"
   },
   {
    "duration": 83,
    "start_time": "2022-02-04T10:53:53.196Z"
   },
   {
    "duration": 33,
    "start_time": "2022-02-04T10:53:53.287Z"
   },
   {
    "duration": 66,
    "start_time": "2022-02-04T10:53:53.325Z"
   },
   {
    "duration": 19,
    "start_time": "2022-02-04T10:53:53.394Z"
   },
   {
    "duration": 24,
    "start_time": "2022-02-04T10:53:53.416Z"
   },
   {
    "duration": 27,
    "start_time": "2022-02-04T10:53:53.443Z"
   },
   {
    "duration": 25,
    "start_time": "2022-02-04T10:53:53.476Z"
   },
   {
    "duration": 34,
    "start_time": "2022-02-04T10:53:53.504Z"
   },
   {
    "duration": 17,
    "start_time": "2022-02-04T10:53:53.541Z"
   },
   {
    "duration": 47,
    "start_time": "2022-02-04T10:53:53.561Z"
   },
   {
    "duration": 50,
    "start_time": "2022-02-04T10:53:53.611Z"
   },
   {
    "duration": 809,
    "start_time": "2022-02-04T10:53:53.664Z"
   },
   {
    "duration": 12,
    "start_time": "2022-02-04T10:53:54.476Z"
   },
   {
    "duration": 16,
    "start_time": "2022-02-04T10:53:54.492Z"
   },
   {
    "duration": 19,
    "start_time": "2022-02-04T10:53:54.531Z"
   },
   {
    "duration": 22,
    "start_time": "2022-02-04T10:53:54.553Z"
   },
   {
    "duration": 626,
    "start_time": "2022-02-04T10:53:54.578Z"
   },
   {
    "duration": 36,
    "start_time": "2022-02-04T10:53:55.207Z"
   },
   {
    "duration": 26,
    "start_time": "2022-02-04T10:53:55.246Z"
   },
   {
    "duration": 519,
    "start_time": "2022-02-04T10:53:55.275Z"
   },
   {
    "duration": 17,
    "start_time": "2022-02-04T10:53:55.797Z"
   },
   {
    "duration": 18,
    "start_time": "2022-02-04T10:53:55.832Z"
   },
   {
    "duration": 570,
    "start_time": "2022-02-04T10:53:55.852Z"
   },
   {
    "duration": 399,
    "start_time": "2022-02-04T10:53:56.425Z"
   },
   {
    "duration": -75,
    "start_time": "2022-02-04T10:53:56.902Z"
   },
   {
    "duration": -78,
    "start_time": "2022-02-04T10:53:56.907Z"
   },
   {
    "duration": -82,
    "start_time": "2022-02-04T10:53:56.912Z"
   },
   {
    "duration": -100,
    "start_time": "2022-02-04T10:53:56.932Z"
   },
   {
    "duration": -105,
    "start_time": "2022-02-04T10:53:56.938Z"
   },
   {
    "duration": -107,
    "start_time": "2022-02-04T10:53:56.942Z"
   },
   {
    "duration": -109,
    "start_time": "2022-02-04T10:53:56.945Z"
   },
   {
    "duration": -111,
    "start_time": "2022-02-04T10:53:56.948Z"
   },
   {
    "duration": -112,
    "start_time": "2022-02-04T10:53:56.950Z"
   },
   {
    "duration": -113,
    "start_time": "2022-02-04T10:53:56.953Z"
   },
   {
    "duration": -115,
    "start_time": "2022-02-04T10:53:56.956Z"
   },
   {
    "duration": -117,
    "start_time": "2022-02-04T10:53:56.959Z"
   },
   {
    "duration": -118,
    "start_time": "2022-02-04T10:53:56.962Z"
   },
   {
    "duration": 7174,
    "start_time": "2022-02-04T10:56:00.166Z"
   },
   {
    "duration": 549,
    "start_time": "2022-02-04T10:56:38.273Z"
   },
   {
    "duration": 12,
    "start_time": "2022-02-04T10:56:41.162Z"
   },
   {
    "duration": 19,
    "start_time": "2022-02-04T10:56:48.479Z"
   },
   {
    "duration": 12,
    "start_time": "2022-02-04T10:57:10.139Z"
   },
   {
    "duration": 462,
    "start_time": "2022-02-04T10:58:49.002Z"
   },
   {
    "duration": 82,
    "start_time": "2022-02-04T11:00:20.156Z"
   },
   {
    "duration": 18,
    "start_time": "2022-02-04T11:00:49.365Z"
   },
   {
    "duration": 12,
    "start_time": "2022-02-04T11:01:42.107Z"
   },
   {
    "duration": 8,
    "start_time": "2022-02-04T11:05:54.513Z"
   },
   {
    "duration": 258,
    "start_time": "2022-02-04T11:06:09.746Z"
   },
   {
    "duration": 253,
    "start_time": "2022-02-04T11:06:29.530Z"
   },
   {
    "duration": 252,
    "start_time": "2022-02-04T11:06:44.215Z"
   },
   {
    "duration": 6251,
    "start_time": "2022-02-04T11:06:58.805Z"
   },
   {
    "duration": 286,
    "start_time": "2022-02-04T11:07:29.534Z"
   },
   {
    "duration": 40,
    "start_time": "2022-02-04T11:07:41.052Z"
   },
   {
    "duration": 283,
    "start_time": "2022-02-04T11:08:45.290Z"
   },
   {
    "duration": 384,
    "start_time": "2022-02-04T11:09:17.709Z"
   },
   {
    "duration": 316,
    "start_time": "2022-02-04T11:09:49.626Z"
   },
   {
    "duration": 81,
    "start_time": "2022-02-04T11:13:08.393Z"
   },
   {
    "duration": 1482,
    "start_time": "2022-02-04T11:13:12.737Z"
   },
   {
    "duration": 2438,
    "start_time": "2022-02-04T11:14:00.461Z"
   },
   {
    "duration": 2345,
    "start_time": "2022-02-04T11:14:07.076Z"
   },
   {
    "duration": 263,
    "start_time": "2022-02-04T11:14:25.308Z"
   },
   {
    "duration": 280,
    "start_time": "2022-02-04T11:14:28.601Z"
   },
   {
    "duration": 1383,
    "start_time": "2022-02-04T11:14:41.622Z"
   },
   {
    "duration": 31,
    "start_time": "2022-02-04T11:14:43.007Z"
   },
   {
    "duration": 228,
    "start_time": "2022-02-04T11:14:43.042Z"
   },
   {
    "duration": 101,
    "start_time": "2022-02-04T11:14:43.274Z"
   },
   {
    "duration": 267,
    "start_time": "2022-02-04T11:14:43.378Z"
   },
   {
    "duration": 84,
    "start_time": "2022-02-04T11:14:43.648Z"
   },
   {
    "duration": 119,
    "start_time": "2022-02-04T11:14:43.734Z"
   },
   {
    "duration": 18,
    "start_time": "2022-02-04T11:14:43.857Z"
   },
   {
    "duration": 38,
    "start_time": "2022-02-04T11:14:43.878Z"
   },
   {
    "duration": 36,
    "start_time": "2022-02-04T11:14:43.919Z"
   },
   {
    "duration": 149,
    "start_time": "2022-02-04T11:14:43.958Z"
   },
   {
    "duration": 112,
    "start_time": "2022-02-04T11:14:44.110Z"
   },
   {
    "duration": 62,
    "start_time": "2022-02-04T11:14:44.233Z"
   },
   {
    "duration": 107,
    "start_time": "2022-02-04T11:14:44.298Z"
   },
   {
    "duration": 30,
    "start_time": "2022-02-04T11:14:44.407Z"
   },
   {
    "duration": 21,
    "start_time": "2022-02-04T11:14:44.440Z"
   },
   {
    "duration": 7,
    "start_time": "2022-02-04T11:14:44.463Z"
   },
   {
    "duration": 19,
    "start_time": "2022-02-04T11:14:44.473Z"
   },
   {
    "duration": 109,
    "start_time": "2022-02-04T11:14:44.494Z"
   },
   {
    "duration": 27,
    "start_time": "2022-02-04T11:14:44.605Z"
   },
   {
    "duration": 7,
    "start_time": "2022-02-04T11:14:44.634Z"
   },
   {
    "duration": 52,
    "start_time": "2022-02-04T11:14:44.643Z"
   },
   {
    "duration": 46,
    "start_time": "2022-02-04T11:14:44.700Z"
   },
   {
    "duration": 24,
    "start_time": "2022-02-04T11:14:44.749Z"
   },
   {
    "duration": 14,
    "start_time": "2022-02-04T11:14:44.775Z"
   },
   {
    "duration": 10,
    "start_time": "2022-02-04T11:14:44.791Z"
   },
   {
    "duration": 7,
    "start_time": "2022-02-04T11:14:44.833Z"
   },
   {
    "duration": 4,
    "start_time": "2022-02-04T11:14:44.842Z"
   },
   {
    "duration": 13,
    "start_time": "2022-02-04T11:14:44.849Z"
   },
   {
    "duration": 10,
    "start_time": "2022-02-04T11:14:44.864Z"
   },
   {
    "duration": 10,
    "start_time": "2022-02-04T11:14:44.877Z"
   },
   {
    "duration": 43,
    "start_time": "2022-02-04T11:14:44.890Z"
   },
   {
    "duration": 902,
    "start_time": "2022-02-04T11:14:44.936Z"
   },
   {
    "duration": 15,
    "start_time": "2022-02-04T11:14:45.841Z"
   },
   {
    "duration": 20,
    "start_time": "2022-02-04T11:14:45.859Z"
   },
   {
    "duration": 52,
    "start_time": "2022-02-04T11:14:45.882Z"
   },
   {
    "duration": 17,
    "start_time": "2022-02-04T11:14:45.937Z"
   },
   {
    "duration": 522,
    "start_time": "2022-02-04T11:14:45.956Z"
   },
   {
    "duration": 18,
    "start_time": "2022-02-04T11:14:46.480Z"
   },
   {
    "duration": 35,
    "start_time": "2022-02-04T11:14:46.501Z"
   },
   {
    "duration": 464,
    "start_time": "2022-02-04T11:14:46.539Z"
   },
   {
    "duration": 29,
    "start_time": "2022-02-04T11:14:47.006Z"
   },
   {
    "duration": 17,
    "start_time": "2022-02-04T11:14:47.038Z"
   },
   {
    "duration": 488,
    "start_time": "2022-02-04T11:14:47.058Z"
   },
   {
    "duration": 11,
    "start_time": "2022-02-04T11:14:47.549Z"
   },
   {
    "duration": 471,
    "start_time": "2022-02-04T11:14:47.562Z"
   },
   {
    "duration": 21,
    "start_time": "2022-02-04T11:14:48.036Z"
   },
   {
    "duration": 18,
    "start_time": "2022-02-04T11:14:48.060Z"
   },
   {
    "duration": 10,
    "start_time": "2022-02-04T11:14:48.081Z"
   },
   {
    "duration": 461,
    "start_time": "2022-02-04T11:14:48.093Z"
   },
   {
    "duration": -65,
    "start_time": "2022-02-04T11:14:48.622Z"
   },
   {
    "duration": -66,
    "start_time": "2022-02-04T11:14:48.625Z"
   },
   {
    "duration": -73,
    "start_time": "2022-02-04T11:14:48.634Z"
   },
   {
    "duration": -75,
    "start_time": "2022-02-04T11:14:48.638Z"
   },
   {
    "duration": -76,
    "start_time": "2022-02-04T11:14:48.641Z"
   },
   {
    "duration": -77,
    "start_time": "2022-02-04T11:14:48.644Z"
   },
   {
    "duration": -89,
    "start_time": "2022-02-04T11:14:48.658Z"
   },
   {
    "duration": -91,
    "start_time": "2022-02-04T11:14:48.662Z"
   },
   {
    "duration": 16,
    "start_time": "2022-02-04T11:15:52.526Z"
   },
   {
    "duration": 266,
    "start_time": "2022-02-04T11:16:13.313Z"
   },
   {
    "duration": 2537,
    "start_time": "2022-02-04T11:16:20.203Z"
   },
   {
    "duration": 24,
    "start_time": "2022-02-04T11:16:36.622Z"
   },
   {
    "duration": 305,
    "start_time": "2022-02-04T11:19:43.768Z"
   },
   {
    "duration": 278,
    "start_time": "2022-02-04T11:20:08.999Z"
   },
   {
    "duration": 257,
    "start_time": "2022-02-04T11:20:23.987Z"
   },
   {
    "duration": 27,
    "start_time": "2022-02-04T11:21:15.691Z"
   },
   {
    "duration": 101,
    "start_time": "2022-02-04T11:22:48.944Z"
   },
   {
    "duration": 25,
    "start_time": "2022-02-04T11:23:00.085Z"
   },
   {
    "duration": 620,
    "start_time": "2022-02-04T11:23:14.126Z"
   },
   {
    "duration": 477,
    "start_time": "2022-02-04T11:23:39.323Z"
   },
   {
    "duration": 553,
    "start_time": "2022-02-04T11:23:57.838Z"
   },
   {
    "duration": 445,
    "start_time": "2022-02-04T11:24:37.950Z"
   },
   {
    "duration": 555,
    "start_time": "2022-02-04T11:25:42.196Z"
   },
   {
    "duration": 460,
    "start_time": "2022-02-04T11:27:01.917Z"
   },
   {
    "duration": 12,
    "start_time": "2022-02-04T11:27:59.449Z"
   },
   {
    "duration": 13,
    "start_time": "2022-02-04T11:29:32.252Z"
   },
   {
    "duration": 317,
    "start_time": "2022-02-04T11:30:14.123Z"
   },
   {
    "duration": 35,
    "start_time": "2022-02-04T11:36:47.367Z"
   },
   {
    "duration": 267,
    "start_time": "2022-02-04T11:36:59.673Z"
   },
   {
    "duration": 284,
    "start_time": "2022-02-04T11:37:03.405Z"
   },
   {
    "duration": 10,
    "start_time": "2022-02-04T11:37:12.412Z"
   },
   {
    "duration": 15,
    "start_time": "2022-02-04T11:38:02.149Z"
   },
   {
    "duration": 267,
    "start_time": "2022-02-04T11:38:34.111Z"
   },
   {
    "duration": 17,
    "start_time": "2022-02-04T11:38:49.202Z"
   },
   {
    "duration": 15,
    "start_time": "2022-02-04T11:40:24.706Z"
   },
   {
    "duration": 17,
    "start_time": "2022-02-04T11:40:36.033Z"
   },
   {
    "duration": 19,
    "start_time": "2022-02-04T11:40:59.924Z"
   },
   {
    "duration": 14,
    "start_time": "2022-02-04T11:41:24.873Z"
   },
   {
    "duration": 22,
    "start_time": "2022-02-04T11:41:39.465Z"
   },
   {
    "duration": 1399,
    "start_time": "2022-02-04T11:48:55.596Z"
   },
   {
    "duration": 35,
    "start_time": "2022-02-04T11:48:56.998Z"
   },
   {
    "duration": 322,
    "start_time": "2022-02-04T11:48:57.037Z"
   },
   {
    "duration": 72,
    "start_time": "2022-02-04T11:48:57.362Z"
   },
   {
    "duration": 181,
    "start_time": "2022-02-04T11:48:57.436Z"
   },
   {
    "duration": 65,
    "start_time": "2022-02-04T11:48:57.619Z"
   },
   {
    "duration": 128,
    "start_time": "2022-02-04T11:48:57.686Z"
   },
   {
    "duration": 23,
    "start_time": "2022-02-04T11:48:57.818Z"
   },
   {
    "duration": 40,
    "start_time": "2022-02-04T11:48:57.844Z"
   },
   {
    "duration": 26,
    "start_time": "2022-02-04T11:48:57.886Z"
   },
   {
    "duration": 145,
    "start_time": "2022-02-04T11:48:57.932Z"
   },
   {
    "duration": 112,
    "start_time": "2022-02-04T11:48:58.080Z"
   },
   {
    "duration": 77,
    "start_time": "2022-02-04T11:48:58.194Z"
   },
   {
    "duration": 105,
    "start_time": "2022-02-04T11:48:58.273Z"
   },
   {
    "duration": 14,
    "start_time": "2022-02-04T11:48:58.381Z"
   },
   {
    "duration": 43,
    "start_time": "2022-02-04T11:48:58.397Z"
   },
   {
    "duration": 6,
    "start_time": "2022-02-04T11:48:58.442Z"
   },
   {
    "duration": 18,
    "start_time": "2022-02-04T11:48:58.450Z"
   },
   {
    "duration": 117,
    "start_time": "2022-02-04T11:48:58.470Z"
   },
   {
    "duration": 6,
    "start_time": "2022-02-04T11:48:58.589Z"
   },
   {
    "duration": 8,
    "start_time": "2022-02-04T11:48:58.597Z"
   },
   {
    "duration": 75,
    "start_time": "2022-02-04T11:48:58.607Z"
   },
   {
    "duration": 47,
    "start_time": "2022-02-04T11:48:58.689Z"
   },
   {
    "duration": 26,
    "start_time": "2022-02-04T11:48:58.739Z"
   },
   {
    "duration": 14,
    "start_time": "2022-02-04T11:48:58.768Z"
   },
   {
    "duration": 12,
    "start_time": "2022-02-04T11:48:58.785Z"
   },
   {
    "duration": 37,
    "start_time": "2022-02-04T11:48:58.800Z"
   },
   {
    "duration": 5,
    "start_time": "2022-02-04T11:48:58.840Z"
   },
   {
    "duration": 7,
    "start_time": "2022-02-04T11:48:58.847Z"
   },
   {
    "duration": 10,
    "start_time": "2022-02-04T11:48:58.857Z"
   },
   {
    "duration": 11,
    "start_time": "2022-02-04T11:48:58.870Z"
   },
   {
    "duration": 48,
    "start_time": "2022-02-04T11:48:58.884Z"
   },
   {
    "duration": 515,
    "start_time": "2022-02-04T11:48:58.935Z"
   },
   {
    "duration": 10,
    "start_time": "2022-02-04T11:48:59.452Z"
   },
   {
    "duration": 24,
    "start_time": "2022-02-04T11:48:59.465Z"
   },
   {
    "duration": 22,
    "start_time": "2022-02-04T11:48:59.491Z"
   },
   {
    "duration": 22,
    "start_time": "2022-02-04T11:48:59.532Z"
   },
   {
    "duration": 544,
    "start_time": "2022-02-04T11:48:59.556Z"
   },
   {
    "duration": 32,
    "start_time": "2022-02-04T11:49:00.102Z"
   },
   {
    "duration": 17,
    "start_time": "2022-02-04T11:49:00.136Z"
   },
   {
    "duration": 497,
    "start_time": "2022-02-04T11:49:00.156Z"
   },
   {
    "duration": 20,
    "start_time": "2022-02-04T11:49:00.655Z"
   },
   {
    "duration": 56,
    "start_time": "2022-02-04T11:49:00.678Z"
   },
   {
    "duration": 756,
    "start_time": "2022-02-04T11:49:00.737Z"
   },
   {
    "duration": 14,
    "start_time": "2022-02-04T11:49:01.496Z"
   },
   {
    "duration": 723,
    "start_time": "2022-02-04T11:49:01.513Z"
   },
   {
    "duration": 24,
    "start_time": "2022-02-04T11:49:02.239Z"
   },
   {
    "duration": 15,
    "start_time": "2022-02-04T11:49:02.266Z"
   },
   {
    "duration": 11,
    "start_time": "2022-02-04T11:49:02.284Z"
   },
   {
    "duration": 33,
    "start_time": "2022-02-04T11:49:02.334Z"
   },
   {
    "duration": 643,
    "start_time": "2022-02-04T11:49:02.371Z"
   },
   {
    "duration": 26,
    "start_time": "2022-02-04T11:49:03.017Z"
   },
   {
    "duration": 494,
    "start_time": "2022-02-04T11:49:03.046Z"
   },
   {
    "duration": 14,
    "start_time": "2022-02-04T11:49:03.543Z"
   },
   {
    "duration": 7,
    "start_time": "2022-02-04T11:58:06.177Z"
   },
   {
    "duration": 1156,
    "start_time": "2022-02-05T07:18:30.976Z"
   },
   {
    "duration": 30,
    "start_time": "2022-02-05T07:18:32.134Z"
   },
   {
    "duration": 185,
    "start_time": "2022-02-05T07:18:32.167Z"
   },
   {
    "duration": 60,
    "start_time": "2022-02-05T07:18:32.355Z"
   },
   {
    "duration": 148,
    "start_time": "2022-02-05T07:18:32.417Z"
   },
   {
    "duration": 61,
    "start_time": "2022-02-05T07:18:32.567Z"
   },
   {
    "duration": 108,
    "start_time": "2022-02-05T07:18:32.630Z"
   },
   {
    "duration": 17,
    "start_time": "2022-02-05T07:18:32.742Z"
   },
   {
    "duration": 38,
    "start_time": "2022-02-05T07:18:32.763Z"
   },
   {
    "duration": 21,
    "start_time": "2022-02-05T07:18:32.803Z"
   },
   {
    "duration": 121,
    "start_time": "2022-02-05T07:18:32.825Z"
   },
   {
    "duration": 69,
    "start_time": "2022-02-05T07:18:32.948Z"
   },
   {
    "duration": 49,
    "start_time": "2022-02-05T07:18:33.018Z"
   },
   {
    "duration": 87,
    "start_time": "2022-02-05T07:18:33.069Z"
   },
   {
    "duration": 11,
    "start_time": "2022-02-05T07:18:33.158Z"
   },
   {
    "duration": 35,
    "start_time": "2022-02-05T07:18:33.171Z"
   },
   {
    "duration": 4,
    "start_time": "2022-02-05T07:18:33.209Z"
   },
   {
    "duration": 60,
    "start_time": "2022-02-05T07:18:33.215Z"
   },
   {
    "duration": 5,
    "start_time": "2022-02-05T07:18:33.276Z"
   },
   {
    "duration": 24,
    "start_time": "2022-02-05T07:18:33.283Z"
   },
   {
    "duration": 38,
    "start_time": "2022-02-05T07:18:33.310Z"
   },
   {
    "duration": 19,
    "start_time": "2022-02-05T07:18:33.350Z"
   },
   {
    "duration": 39,
    "start_time": "2022-02-05T07:18:33.373Z"
   },
   {
    "duration": 11,
    "start_time": "2022-02-05T07:18:33.415Z"
   },
   {
    "duration": 12,
    "start_time": "2022-02-05T07:18:33.427Z"
   },
   {
    "duration": 11,
    "start_time": "2022-02-05T07:18:33.441Z"
   },
   {
    "duration": 3,
    "start_time": "2022-02-05T07:18:33.453Z"
   },
   {
    "duration": 11,
    "start_time": "2022-02-05T07:18:33.458Z"
   },
   {
    "duration": 12,
    "start_time": "2022-02-05T07:18:33.471Z"
   },
   {
    "duration": 23,
    "start_time": "2022-02-05T07:18:33.485Z"
   },
   {
    "duration": 6,
    "start_time": "2022-02-05T07:18:33.510Z"
   },
   {
    "duration": 294,
    "start_time": "2022-02-05T07:18:33.518Z"
   },
   {
    "duration": 8,
    "start_time": "2022-02-05T07:18:33.814Z"
   },
   {
    "duration": 12,
    "start_time": "2022-02-05T07:18:33.823Z"
   },
   {
    "duration": 22,
    "start_time": "2022-02-05T07:18:33.837Z"
   },
   {
    "duration": 12,
    "start_time": "2022-02-05T07:18:33.861Z"
   },
   {
    "duration": 356,
    "start_time": "2022-02-05T07:18:33.874Z"
   },
   {
    "duration": 12,
    "start_time": "2022-02-05T07:18:34.232Z"
   },
   {
    "duration": 13,
    "start_time": "2022-02-05T07:18:34.246Z"
   },
   {
    "duration": 325,
    "start_time": "2022-02-05T07:18:34.261Z"
   },
   {
    "duration": 26,
    "start_time": "2022-02-05T07:18:34.588Z"
   },
   {
    "duration": 12,
    "start_time": "2022-02-05T07:18:34.616Z"
   },
   {
    "duration": 311,
    "start_time": "2022-02-05T07:18:34.630Z"
   },
   {
    "duration": 7,
    "start_time": "2022-02-05T07:18:34.943Z"
   },
   {
    "duration": 302,
    "start_time": "2022-02-05T07:18:34.952Z"
   },
   {
    "duration": 12,
    "start_time": "2022-02-05T07:18:35.256Z"
   },
   {
    "duration": 9,
    "start_time": "2022-02-05T07:18:35.269Z"
   },
   {
    "duration": 30,
    "start_time": "2022-02-05T07:18:35.279Z"
   },
   {
    "duration": 22,
    "start_time": "2022-02-05T07:18:35.311Z"
   },
   {
    "duration": 339,
    "start_time": "2022-02-05T07:18:35.335Z"
   },
   {
    "duration": 10,
    "start_time": "2022-02-05T07:18:35.676Z"
   },
   {
    "duration": 319,
    "start_time": "2022-02-05T07:18:35.688Z"
   },
   {
    "duration": 9,
    "start_time": "2022-02-05T07:18:36.009Z"
   },
   {
    "duration": 16,
    "start_time": "2022-02-05T07:21:18.870Z"
   },
   {
    "duration": 20,
    "start_time": "2022-02-05T07:22:34.704Z"
   },
   {
    "duration": 348,
    "start_time": "2022-02-05T07:23:19.865Z"
   },
   {
    "duration": 259,
    "start_time": "2022-02-05T07:23:35.487Z"
   },
   {
    "duration": 27,
    "start_time": "2022-02-05T07:25:20.862Z"
   },
   {
    "duration": 15,
    "start_time": "2022-02-05T07:26:02.832Z"
   },
   {
    "duration": 7,
    "start_time": "2022-02-05T07:30:26.395Z"
   },
   {
    "duration": 14,
    "start_time": "2022-02-05T07:33:03.854Z"
   }
  ],
  "kernelspec": {
   "display_name": "Python 3 (ipykernel)",
   "language": "python",
   "name": "python3"
  },
  "language_info": {
   "codemirror_mode": {
    "name": "ipython",
    "version": 3
   },
   "file_extension": ".py",
   "mimetype": "text/x-python",
   "name": "python",
   "nbconvert_exporter": "python",
   "pygments_lexer": "ipython3",
   "version": "3.9.5"
  },
  "toc": {
   "base_numbering": 1,
   "nav_menu": {
    "height": "368px",
    "width": "160px"
   },
   "number_sections": true,
   "sideBar": true,
   "skip_h1_title": true,
   "title_cell": "Table of Contents",
   "title_sidebar": "Contents",
   "toc_cell": false,
   "toc_position": {
    "height": "calc(100% - 180px)",
    "left": "10px",
    "top": "150px",
    "width": "289.6px"
   },
   "toc_section_display": true,
   "toc_window_display": false
  }
 },
 "nbformat": 4,
 "nbformat_minor": 2
}
