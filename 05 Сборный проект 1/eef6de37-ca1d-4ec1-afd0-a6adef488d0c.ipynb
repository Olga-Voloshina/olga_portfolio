{
 "cells": [
  {
   "cell_type": "markdown",
   "metadata": {},
   "source": [
    "<div style=\"border-radius: 15px; border: 3px solid indigo; padding: 15px; \">\n",
    "<b> Комментарий ревьюера</b>\n",
    "    \n",
    "Привет! Прошу прощения за задержку ревью 🙏 Понимаю, что это принесло много неудобств, но скоро все будет в норме. \n",
    "    \n",
    "    \n",
    "    \n",
    "Меня зовут Светлана Носова, я проверяла твой прошлый проект и буду проверять этот.  \n",
    "\n",
    "Напомню про цветовую разметку:\n",
    "    \n",
    "    \n",
    "<div class=\"alert alert-success\" style=\"border-radius: 15px; box-shadow: 4px 4px 4px; border: 1px solid \">\n",
    "\n",
    "Зеленым с пометкой ✔️ отмечены отличные решения и идеи, которые можно и нужно использовать в будущем.\n",
    "</div>\n",
    "    \n",
    "<div class=\"alert alert-warning\" style=\"border-radius: 15px; box-shadow: 4px 4px 4px; border: 1px solid \">\n",
    "\n",
    "Желтым с пометкой ⚠️ отмечено то, что можно или нужно оптимизировать, в зависимости от контекста.</div>    \n",
    "    \n",
    "<div class=\"alert alert-danger\" style=\"border-radius: 15px; box-shadow: 4px 4px 4px; border: 1px solid \">\n",
    "\n",
    "Красным с пометкой ❌ обозначены пропущенные пункты задания и ошибки, которые обязательно надо будет исправить, чтобы результаты были верные.</div> \n",
    "    \n",
    "Снова**ответы на мои комментарии или доработки по моим рекомендациям попрошу выделить каким-нибудь цветом, кроме трех перечисленных.**\n",
    "Также я попрошу тебя **не менять и не передвигать мои комментарии**, чтобы при последующей проверке мне было проще ориентироваться.\n",
    "    \n",
    "        \n",
    "<hr>\n",
    "    \n",
    "<font color= 'dodgerblue'>**По проекту:**</font> на первый взгляд, работа сделана хорошо. Структура хорошая, код оформлен аккуратно. Однако я не могу провести полноценную проверку, т.к. указан локальный путь к файлу. Подправь, пожалуйста. Тем не менее, я пробежалась по работе и пару недочетов все же нашла. Так что можешь вносить правки уже сейчас. \n",
    "</div>"
   ]
  },
  {
   "cell_type": "markdown",
   "metadata": {},
   "source": [
    "<div class=\"alert alert-block alert-info\">\n",
    "    Светлана, доброе время суток! Да, действительно, делала проект локально, и остался старый путь к файлу. Хорошо, что эта ошибка была в самом начале, здесь не сработали почти никакие графики, что я рисовала у себя. Пришлось все править. Особенно расстраивает, что при помощи ylabel нельзя подписать ось y((( Пожалуйста, сообщи, если гистограммы в последнем пункте построятся, я не теряю надежды.\n",
    "</div>"
   ]
  },
  {
   "cell_type": "markdown",
   "metadata": {},
   "source": [
    "<div style=\"border-radius: 15px; border: 3px solid indigo; padding: 15px;\">\n",
    "<b> Комментарий ревьюера 2</b>\n",
    "    \n",
    "Спасибо за корректировки. Я оставила новые комментарии с цифрой 2, а со старых сняла заголовки, чтобы  не мешали. Ситуацию с рейтингами прокомментировала, гистограммы тоже. Не встречалась с такой проблемой при вызове гистограммы для ax, поэтому пока не могу дать ответ на вопрос о том, почему графики так выглядят. Пока предложила альтернативный вариант. Думаю, он тебе понравится даже больше. Что касается графиков, попробуй задать вопрос преподавателям. Может, кто-то из них встречался с этой проблемой и знает решение. Я попробовала проверить разные варианты, но не сработало. Возможно, дело в версиях библиотек.\n",
    "    \n",
    "    \n",
    "    \n",
    "Что касается проекта, то  я могу его принять, поскольку вопросов больше нет. Желаю успехов в дальнейшем обучении :)\n",
    "    \n",
    "\n",
    "    \n",
    "</div>"
   ]
  },
  {
   "cell_type": "markdown",
   "metadata": {},
   "source": [
    "**Введение**"
   ]
  },
  {
   "cell_type": "markdown",
   "metadata": {},
   "source": [
    "Интернет-магазин «Стримчик», который продаёт по всему миру компьютерные игры, ставит задачу выявить закономерности, определяющие успешность игры. Это позволит сделать ставку на потенциально популярный продукт и спланировать рекламные кампании.\n",
    "<br>Из открытых источников доступны данные о продажах игр, оценки пользователей и экспертов, жанры и платформы.  Представим, что сейчас декабрь 2016 г., и нужно запланировать кампанию на 2017-й, то есть будем использовать данные до 2016 года.\n",
    "<br>Отработаем принцип работы с данными для состваления прогнозов на последующие года. \n"
   ]
  },
  {
   "cell_type": "markdown",
   "metadata": {},
   "source": [
    "## Общая информация"
   ]
  },
  {
   "cell_type": "markdown",
   "metadata": {},
   "source": [
    "Откроем файл с данными о продажах игр за период до 2016 года. Воспользуемся библиотекой pandas для работы с базой данных."
   ]
  },
  {
   "cell_type": "code",
   "execution_count": 1,
   "metadata": {},
   "outputs": [],
   "source": [
    "from scipy import stats as st\n",
    "import pandas as pd\n",
    "import numpy as np\n",
    "import matplotlib as mpl\n",
    "import matplotlib.pyplot as plt"
   ]
  },
  {
   "cell_type": "code",
   "execution_count": 2,
   "metadata": {
    "scrolled": true
   },
   "outputs": [
    {
     "data": {
      "text/html": [
       "<div>\n",
       "<style scoped>\n",
       "    .dataframe tbody tr th:only-of-type {\n",
       "        vertical-align: middle;\n",
       "    }\n",
       "\n",
       "    .dataframe tbody tr th {\n",
       "        vertical-align: top;\n",
       "    }\n",
       "\n",
       "    .dataframe thead th {\n",
       "        text-align: right;\n",
       "    }\n",
       "</style>\n",
       "<table border=\"1\" class=\"dataframe\">\n",
       "  <thead>\n",
       "    <tr style=\"text-align: right;\">\n",
       "      <th></th>\n",
       "      <th>Name</th>\n",
       "      <th>Platform</th>\n",
       "      <th>Year_of_Release</th>\n",
       "      <th>Genre</th>\n",
       "      <th>NA_sales</th>\n",
       "      <th>EU_sales</th>\n",
       "      <th>JP_sales</th>\n",
       "      <th>Other_sales</th>\n",
       "      <th>Critic_Score</th>\n",
       "      <th>User_Score</th>\n",
       "      <th>Rating</th>\n",
       "    </tr>\n",
       "  </thead>\n",
       "  <tbody>\n",
       "    <tr>\n",
       "      <td>0</td>\n",
       "      <td>Wii Sports</td>\n",
       "      <td>Wii</td>\n",
       "      <td>2006.0</td>\n",
       "      <td>Sports</td>\n",
       "      <td>41.36</td>\n",
       "      <td>28.96</td>\n",
       "      <td>3.77</td>\n",
       "      <td>8.45</td>\n",
       "      <td>76.0</td>\n",
       "      <td>8</td>\n",
       "      <td>E</td>\n",
       "    </tr>\n",
       "    <tr>\n",
       "      <td>1</td>\n",
       "      <td>Super Mario Bros.</td>\n",
       "      <td>NES</td>\n",
       "      <td>1985.0</td>\n",
       "      <td>Platform</td>\n",
       "      <td>29.08</td>\n",
       "      <td>3.58</td>\n",
       "      <td>6.81</td>\n",
       "      <td>0.77</td>\n",
       "      <td>NaN</td>\n",
       "      <td>NaN</td>\n",
       "      <td>NaN</td>\n",
       "    </tr>\n",
       "    <tr>\n",
       "      <td>2</td>\n",
       "      <td>Mario Kart Wii</td>\n",
       "      <td>Wii</td>\n",
       "      <td>2008.0</td>\n",
       "      <td>Racing</td>\n",
       "      <td>15.68</td>\n",
       "      <td>12.76</td>\n",
       "      <td>3.79</td>\n",
       "      <td>3.29</td>\n",
       "      <td>82.0</td>\n",
       "      <td>8.3</td>\n",
       "      <td>E</td>\n",
       "    </tr>\n",
       "    <tr>\n",
       "      <td>3</td>\n",
       "      <td>Wii Sports Resort</td>\n",
       "      <td>Wii</td>\n",
       "      <td>2009.0</td>\n",
       "      <td>Sports</td>\n",
       "      <td>15.61</td>\n",
       "      <td>10.93</td>\n",
       "      <td>3.28</td>\n",
       "      <td>2.95</td>\n",
       "      <td>80.0</td>\n",
       "      <td>8</td>\n",
       "      <td>E</td>\n",
       "    </tr>\n",
       "    <tr>\n",
       "      <td>4</td>\n",
       "      <td>Pokemon Red/Pokemon Blue</td>\n",
       "      <td>GB</td>\n",
       "      <td>1996.0</td>\n",
       "      <td>Role-Playing</td>\n",
       "      <td>11.27</td>\n",
       "      <td>8.89</td>\n",
       "      <td>10.22</td>\n",
       "      <td>1.00</td>\n",
       "      <td>NaN</td>\n",
       "      <td>NaN</td>\n",
       "      <td>NaN</td>\n",
       "    </tr>\n",
       "  </tbody>\n",
       "</table>\n",
       "</div>"
      ],
      "text/plain": [
       "                       Name Platform  Year_of_Release         Genre  NA_sales  \\\n",
       "0                Wii Sports      Wii           2006.0        Sports     41.36   \n",
       "1         Super Mario Bros.      NES           1985.0      Platform     29.08   \n",
       "2            Mario Kart Wii      Wii           2008.0        Racing     15.68   \n",
       "3         Wii Sports Resort      Wii           2009.0        Sports     15.61   \n",
       "4  Pokemon Red/Pokemon Blue       GB           1996.0  Role-Playing     11.27   \n",
       "\n",
       "   EU_sales  JP_sales  Other_sales  Critic_Score User_Score Rating  \n",
       "0     28.96      3.77         8.45          76.0          8      E  \n",
       "1      3.58      6.81         0.77           NaN        NaN    NaN  \n",
       "2     12.76      3.79         3.29          82.0        8.3      E  \n",
       "3     10.93      3.28         2.95          80.0          8      E  \n",
       "4      8.89     10.22         1.00           NaN        NaN    NaN  "
      ]
     },
     "execution_count": 2,
     "metadata": {},
     "output_type": "execute_result"
    }
   ],
   "source": [
    "data = pd.read_csv('/datasets/games.csv')\n",
    "data.head()"
   ]
  },
  {
   "cell_type": "markdown",
   "metadata": {},
   "source": [
    "Файл открывается корректно, мы видим таблицу с пронумерованными строками и столбцами, имеющими понятные названия. Рассмотрим структуру данных."
   ]
  },
  {
   "cell_type": "code",
   "execution_count": 3,
   "metadata": {
    "scrolled": true
   },
   "outputs": [
    {
     "name": "stdout",
     "output_type": "stream",
     "text": [
      "<class 'pandas.core.frame.DataFrame'>\n",
      "RangeIndex: 16715 entries, 0 to 16714\n",
      "Data columns (total 11 columns):\n",
      "Name               16713 non-null object\n",
      "Platform           16715 non-null object\n",
      "Year_of_Release    16446 non-null float64\n",
      "Genre              16713 non-null object\n",
      "NA_sales           16715 non-null float64\n",
      "EU_sales           16715 non-null float64\n",
      "JP_sales           16715 non-null float64\n",
      "Other_sales        16715 non-null float64\n",
      "Critic_Score       8137 non-null float64\n",
      "User_Score         10014 non-null object\n",
      "Rating             9949 non-null object\n",
      "dtypes: float64(6), object(5)\n",
      "memory usage: 1.4+ MB\n"
     ]
    }
   ],
   "source": [
    "data.info()"
   ]
  },
  {
   "cell_type": "markdown",
   "metadata": {},
   "source": [
    "Можно отметить следующее:\n",
    "- колонки 'Name', 'Platform', 'Genre' и 'Rating' содержат данные строкового типа, как и ожидается. Колонка 'User_Score' также содержит данные строкового типа, хотя ожидается число от 0 до 10.\n",
    "- Колонки, касающиеся продаж копий и колонка 'Critic_Score' содержат данные числового типа, что соответствует информации в них. Данные в колонке 'Year_of_Release' также числового типа, что в целом соответствует логике, но лучше будет привести данные к целочисленному типу.\n",
    "- Названия колонок содержат заглавные буквы, что не соответствует общепринятым правилам.\n",
    "- В колонках с данными о рейтинге и оценке значительное количество значений пропущены. Также пропущено небольшое количество значений в колонке 'Year_of_Release'.\n",
    "- Пропущено по два значения в колонках 'Name' и 'Genre'."
   ]
  },
  {
   "cell_type": "markdown",
   "metadata": {},
   "source": [
    "Оценим данные из колонк с информацией численного типа."
   ]
  },
  {
   "cell_type": "code",
   "execution_count": 4,
   "metadata": {
    "scrolled": true
   },
   "outputs": [
    {
     "data": {
      "text/html": [
       "<div>\n",
       "<style scoped>\n",
       "    .dataframe tbody tr th:only-of-type {\n",
       "        vertical-align: middle;\n",
       "    }\n",
       "\n",
       "    .dataframe tbody tr th {\n",
       "        vertical-align: top;\n",
       "    }\n",
       "\n",
       "    .dataframe thead th {\n",
       "        text-align: right;\n",
       "    }\n",
       "</style>\n",
       "<table border=\"1\" class=\"dataframe\">\n",
       "  <thead>\n",
       "    <tr style=\"text-align: right;\">\n",
       "      <th></th>\n",
       "      <th>Year_of_Release</th>\n",
       "      <th>NA_sales</th>\n",
       "      <th>EU_sales</th>\n",
       "      <th>JP_sales</th>\n",
       "      <th>Other_sales</th>\n",
       "      <th>Critic_Score</th>\n",
       "    </tr>\n",
       "  </thead>\n",
       "  <tbody>\n",
       "    <tr>\n",
       "      <td>count</td>\n",
       "      <td>16446.000000</td>\n",
       "      <td>16715.000000</td>\n",
       "      <td>16715.000000</td>\n",
       "      <td>16715.000000</td>\n",
       "      <td>16715.000000</td>\n",
       "      <td>8137.000000</td>\n",
       "    </tr>\n",
       "    <tr>\n",
       "      <td>mean</td>\n",
       "      <td>2006.484616</td>\n",
       "      <td>0.263377</td>\n",
       "      <td>0.145060</td>\n",
       "      <td>0.077617</td>\n",
       "      <td>0.047342</td>\n",
       "      <td>68.967679</td>\n",
       "    </tr>\n",
       "    <tr>\n",
       "      <td>std</td>\n",
       "      <td>5.877050</td>\n",
       "      <td>0.813604</td>\n",
       "      <td>0.503339</td>\n",
       "      <td>0.308853</td>\n",
       "      <td>0.186731</td>\n",
       "      <td>13.938165</td>\n",
       "    </tr>\n",
       "    <tr>\n",
       "      <td>min</td>\n",
       "      <td>1980.000000</td>\n",
       "      <td>0.000000</td>\n",
       "      <td>0.000000</td>\n",
       "      <td>0.000000</td>\n",
       "      <td>0.000000</td>\n",
       "      <td>13.000000</td>\n",
       "    </tr>\n",
       "    <tr>\n",
       "      <td>25%</td>\n",
       "      <td>2003.000000</td>\n",
       "      <td>0.000000</td>\n",
       "      <td>0.000000</td>\n",
       "      <td>0.000000</td>\n",
       "      <td>0.000000</td>\n",
       "      <td>60.000000</td>\n",
       "    </tr>\n",
       "    <tr>\n",
       "      <td>50%</td>\n",
       "      <td>2007.000000</td>\n",
       "      <td>0.080000</td>\n",
       "      <td>0.020000</td>\n",
       "      <td>0.000000</td>\n",
       "      <td>0.010000</td>\n",
       "      <td>71.000000</td>\n",
       "    </tr>\n",
       "    <tr>\n",
       "      <td>75%</td>\n",
       "      <td>2010.000000</td>\n",
       "      <td>0.240000</td>\n",
       "      <td>0.110000</td>\n",
       "      <td>0.040000</td>\n",
       "      <td>0.030000</td>\n",
       "      <td>79.000000</td>\n",
       "    </tr>\n",
       "    <tr>\n",
       "      <td>max</td>\n",
       "      <td>2016.000000</td>\n",
       "      <td>41.360000</td>\n",
       "      <td>28.960000</td>\n",
       "      <td>10.220000</td>\n",
       "      <td>10.570000</td>\n",
       "      <td>98.000000</td>\n",
       "    </tr>\n",
       "  </tbody>\n",
       "</table>\n",
       "</div>"
      ],
      "text/plain": [
       "       Year_of_Release      NA_sales      EU_sales      JP_sales  \\\n",
       "count     16446.000000  16715.000000  16715.000000  16715.000000   \n",
       "mean       2006.484616      0.263377      0.145060      0.077617   \n",
       "std           5.877050      0.813604      0.503339      0.308853   \n",
       "min        1980.000000      0.000000      0.000000      0.000000   \n",
       "25%        2003.000000      0.000000      0.000000      0.000000   \n",
       "50%        2007.000000      0.080000      0.020000      0.000000   \n",
       "75%        2010.000000      0.240000      0.110000      0.040000   \n",
       "max        2016.000000     41.360000     28.960000     10.220000   \n",
       "\n",
       "        Other_sales  Critic_Score  \n",
       "count  16715.000000   8137.000000  \n",
       "mean       0.047342     68.967679  \n",
       "std        0.186731     13.938165  \n",
       "min        0.000000     13.000000  \n",
       "25%        0.000000     60.000000  \n",
       "50%        0.010000     71.000000  \n",
       "75%        0.030000     79.000000  \n",
       "max       10.570000     98.000000  "
      ]
     },
     "execution_count": 4,
     "metadata": {},
     "output_type": "execute_result"
    }
   ],
   "source": [
    "data.describe()"
   ]
  },
  {
   "cell_type": "markdown",
   "metadata": {},
   "source": [
    "- В датасете есть игры от 1980 года выпуска до 2016, половина из них вышли в последние 10 лет.\n",
    "- Согласно данным о продажах, лишь небольшой процент игр достигает отметки в 1 млн проданных копий. Большой процент игр в датасете имеет нулевые значения в колонках о продажах (продано менее 10 тысяч копий в каждой из локаций).\n",
    "- Более половины игр имеют высокую оценку от критиков, более 70 пунктов."
   ]
  },
  {
   "cell_type": "markdown",
   "metadata": {},
   "source": [
    "### Вывод"
   ]
  },
  {
   "cell_type": "markdown",
   "metadata": {},
   "source": [
    "Перед нами данные о продажах, оценках и рейтинге компьютерных игр в период от 1980 до 2016 года. Для каждой игры, за очень редким исключением, указаны название, платформа и жанр. В целом, информация в таблице адекватная, строковые значения расшифровываются верно, численные значения выглядят правдоподобно. Данные нуждаются в предварительной обработке, такой как анализ и замена пропущенных значений, приведение данных к нужным типам и др.\n",
    "\n",
    "\n",
    "Данные подходят для выявления закономерностей, определяющих успешность игры. "
   ]
  },
  {
   "cell_type": "markdown",
   "metadata": {},
   "source": [
    "<div class=\"alert alert-success\" style=\"border-radius: 15px; box-shadow: 4px 4px 4px; border: 1px solid \">\n",
    "<b> Комментарий ревьюера ✔️</b>\n",
    "    \n",
    "Хорошее введение.     \n",
    "   \n",
    "</div>"
   ]
  },
  {
   "cell_type": "markdown",
   "metadata": {},
   "source": [
    "## Подготовка данных"
   ]
  },
  {
   "cell_type": "markdown",
   "metadata": {},
   "source": [
    "Итак, мы обнаружили, что имеющиеся данные нуждаются в предварительной обработке. Начнем с косметических процедур. Заменим названия столбцов, приведем к \"змеиному\" регистру."
   ]
  },
  {
   "cell_type": "code",
   "execution_count": 5,
   "metadata": {
    "scrolled": false
   },
   "outputs": [],
   "source": [
    "data.columns = [i.lower() for i in list(data.columns)]"
   ]
  },
  {
   "cell_type": "markdown",
   "metadata": {},
   "source": [
    "<div class=\"alert alert-success\" style=\"border-radius: 15px; box-shadow: 4px 4px 4px; border: 1px solid \">\n",
    "<h2> Комментарий ревьюера ✔️</h2>\n",
    "    \n",
    "Вот так тоже сработает:\n",
    "</div>\n",
    "\n",
    "```python\n",
    "\n",
    "data.columns = data.columns.str.lower()\n",
    "```"
   ]
  },
  {
   "cell_type": "markdown",
   "metadata": {},
   "source": [
    "Сразу рассмотрим строки с отсутствующим значение названия игры. Пропущенные значения в этих данных недопустимы, так как мы будем использовать их для группировки.\n",
    "<br> Обе игры вышли на платформе GEN в 1993 году. В этих же строках обнаружились пропуски в столбзе 'genre'. Восстановить значения по имеющимся данным не представляется возможным, быстрый поиск в интернете не дал результатов. Придется удалить эти строки и убрать из рассмотрения популярную игру (более 2 млн проданных копий)."
   ]
  },
  {
   "cell_type": "code",
   "execution_count": 6,
   "metadata": {
    "scrolled": false
   },
   "outputs": [
    {
     "data": {
      "text/html": [
       "<div>\n",
       "<style scoped>\n",
       "    .dataframe tbody tr th:only-of-type {\n",
       "        vertical-align: middle;\n",
       "    }\n",
       "\n",
       "    .dataframe tbody tr th {\n",
       "        vertical-align: top;\n",
       "    }\n",
       "\n",
       "    .dataframe thead th {\n",
       "        text-align: right;\n",
       "    }\n",
       "</style>\n",
       "<table border=\"1\" class=\"dataframe\">\n",
       "  <thead>\n",
       "    <tr style=\"text-align: right;\">\n",
       "      <th></th>\n",
       "      <th>name</th>\n",
       "      <th>platform</th>\n",
       "      <th>year_of_release</th>\n",
       "      <th>genre</th>\n",
       "      <th>na_sales</th>\n",
       "      <th>eu_sales</th>\n",
       "      <th>jp_sales</th>\n",
       "      <th>other_sales</th>\n",
       "      <th>critic_score</th>\n",
       "      <th>user_score</th>\n",
       "      <th>rating</th>\n",
       "    </tr>\n",
       "  </thead>\n",
       "  <tbody>\n",
       "    <tr>\n",
       "      <td>659</td>\n",
       "      <td>NaN</td>\n",
       "      <td>GEN</td>\n",
       "      <td>1993.0</td>\n",
       "      <td>NaN</td>\n",
       "      <td>1.78</td>\n",
       "      <td>0.53</td>\n",
       "      <td>0.00</td>\n",
       "      <td>0.08</td>\n",
       "      <td>NaN</td>\n",
       "      <td>NaN</td>\n",
       "      <td>NaN</td>\n",
       "    </tr>\n",
       "    <tr>\n",
       "      <td>14244</td>\n",
       "      <td>NaN</td>\n",
       "      <td>GEN</td>\n",
       "      <td>1993.0</td>\n",
       "      <td>NaN</td>\n",
       "      <td>0.00</td>\n",
       "      <td>0.00</td>\n",
       "      <td>0.03</td>\n",
       "      <td>0.00</td>\n",
       "      <td>NaN</td>\n",
       "      <td>NaN</td>\n",
       "      <td>NaN</td>\n",
       "    </tr>\n",
       "  </tbody>\n",
       "</table>\n",
       "</div>"
      ],
      "text/plain": [
       "      name platform  year_of_release genre  na_sales  eu_sales  jp_sales  \\\n",
       "659    NaN      GEN           1993.0   NaN      1.78      0.53      0.00   \n",
       "14244  NaN      GEN           1993.0   NaN      0.00      0.00      0.03   \n",
       "\n",
       "       other_sales  critic_score user_score rating  \n",
       "659           0.08           NaN        NaN    NaN  \n",
       "14244         0.00           NaN        NaN    NaN  "
      ]
     },
     "execution_count": 6,
     "metadata": {},
     "output_type": "execute_result"
    }
   ],
   "source": [
    "data[data['name'].isna()]"
   ]
  },
  {
   "cell_type": "code",
   "execution_count": 7,
   "metadata": {
    "scrolled": false
   },
   "outputs": [],
   "source": [
    "data = data.dropna(subset=['name'])"
   ]
  },
  {
   "cell_type": "markdown",
   "metadata": {},
   "source": [
    "Обработаем столбцы, которые требуют замены типа данных.\n",
    "В первую очередь, это столбец 'user_score'. В столбце, помимо числовых значений, встречается аббревиатура tbd. Эта пометка означает, что рейтинг на данный момент не выставлен, то есть можно смело удалять эти значения (заменять на NaN). В столбце остались только числовые данные, приведем их к типу float. "
   ]
  },
  {
   "cell_type": "code",
   "execution_count": 8,
   "metadata": {
    "scrolled": true
   },
   "outputs": [
    {
     "name": "stdout",
     "output_type": "stream",
     "text": [
      "['8' nan '8.3' '8.5' '6.6' '8.4' '8.6' '7.7' '6.3' '7.4' '8.2' '9' '7.9'\n",
      " '8.1' '8.7' '7.1' '3.4' '5.3' '4.8' '3.2' '8.9' '6.4' '7.8' '7.5' '2.6'\n",
      " '7.2' '9.2' '7' '7.3' '4.3' '7.6' '5.7' '5' '9.1' '6.5' 'tbd' '8.8' '6.9'\n",
      " '9.4' '6.8' '6.1' '6.7' '5.4' '4' '4.9' '4.5' '9.3' '6.2' '4.2' '6' '3.7'\n",
      " '4.1' '5.8' '5.6' '5.5' '4.4' '4.6' '5.9' '3.9' '3.1' '2.9' '5.2' '3.3'\n",
      " '4.7' '5.1' '3.5' '2.5' '1.9' '3' '2.7' '2.2' '2' '9.5' '2.1' '3.6' '2.8'\n",
      " '1.8' '3.8' '0' '1.6' '9.6' '2.4' '1.7' '1.1' '0.3' '1.5' '0.7' '1.2'\n",
      " '2.3' '0.5' '1.3' '0.2' '0.6' '1.4' '0.9' '1' '9.7']\n"
     ]
    }
   ],
   "source": [
    "print(data['user_score'].unique())\n",
    "\n",
    "data.loc[data['user_score']=='tbd', 'user_score'] = np.nan\n",
    "data['user_score'] = data['user_score'].astype('float')"
   ]
  },
  {
   "cell_type": "markdown",
   "metadata": {},
   "source": [
    "<div class=\"alert alert-success\" style=\"border-radius: 15px; box-shadow: 4px 4px 4px; border: 1px solid \">\n",
    "<b> Комментарий ревьюера ✔️</b>\n",
    "    \n",
    "Верно. По сути, это и есть Nan-ы.</div>"
   ]
  },
  {
   "cell_type": "markdown",
   "metadata": {},
   "source": [
    "Для приведения данных из столбца 'year_of_release' к целочисленному типу нужно заполнить пропущенные значения. Заполнить пропуски в годе выпуска игры можно ориентируясь на время выпуска этой игры на других платформах. Для заполнения оставшихся пропусков будем ориентироваться на время существования платформы.\n",
    "<br>После заполнения пропусков приведем данные к целочисленному типу."
   ]
  },
  {
   "cell_type": "code",
   "execution_count": 9,
   "metadata": {
    "scrolled": true
   },
   "outputs": [],
   "source": [
    "data['year_of_release'] = data['year_of_release'].fillna(data.groupby('name')['year_of_release'].transform('median'))"
   ]
  },
  {
   "cell_type": "code",
   "execution_count": 10,
   "metadata": {},
   "outputs": [],
   "source": [
    "data['year_of_release'] = data['year_of_release'].fillna(data.groupby('platform')['year_of_release'].transform('median'))"
   ]
  },
  {
   "cell_type": "code",
   "execution_count": 11,
   "metadata": {},
   "outputs": [],
   "source": [
    "data['year_of_release'] = data['year_of_release'].round().astype('int')"
   ]
  },
  {
   "cell_type": "markdown",
   "metadata": {},
   "source": [
    "Предположим, что одна и та же игра на разных платформах получает примерно одинаковые оценки от критиков и пользователей. Заполним пропущенные значения в этих столбцах, если это возможно.\n",
    "<br>Заполнять все пропуски одинаковыми значениями (средними или медианными) не следует. Это сильно повлияет на значение коэффициента корреляции между оценками и другими данными. "
   ]
  },
  {
   "cell_type": "code",
   "execution_count": 12,
   "metadata": {},
   "outputs": [],
   "source": [
    "data['user_score'] = data['user_score'].fillna(data.groupby('name')['user_score'].transform('median'))"
   ]
  },
  {
   "cell_type": "code",
   "execution_count": 13,
   "metadata": {},
   "outputs": [],
   "source": [
    "data['critic_score'] = data['critic_score'].fillna(data.groupby('name')['critic_score'].transform('median'))"
   ]
  },
  {
   "cell_type": "markdown",
   "metadata": {},
   "source": [
    "<div class=\"alert alert-warning\" style=\"border-radius: 15px; box-shadow: 4px 4px 4px; border: 1px solid \">\n",
    "<b> Комментарий ревьюера  ⚠️</b>\n",
    "    \n",
    "Одна и та же игра на разных консолях может быть небом и землей. Не говоря уже о случаях, когда игру перевыпускают спустя сколько-то лет. Критики часто подвержены влиянию крупных организаций, часто им невыгодно ставить низкую оценку и часто они оценивают уже популярные игры. Уместна ли замена пропусков для такой сложной вещи как оценка? Даже при том, что это медиана. </div>"
   ]
  },
  {
   "cell_type": "markdown",
   "metadata": {},
   "source": [
    "<div class=\"alert alert-block alert-info\">\n",
    "Заполняем по максимуму! В принципе, оценка пользователей сама по себе рандомайзер. В целом, согласна что заполнять пропуски в оценках не очень корректно. Заполнено не так много значений, думаю можно оставить.\n",
    "</div>"
   ]
  },
  {
   "cell_type": "markdown",
   "metadata": {},
   "source": [
    "<div class=\"alert alert-warning\" style=\"border-radius: 15px; box-shadow: 4px 4px 4px; border: 1px solid \">\n",
    "<h2> Комментарий ревьюера 2 ⚠️</h2>\n",
    "    \n",
    "Но и не сказать, что мало. Получилось, что половина выборки получена искусственно. Это некритично для текущей задачи, но внимание я на это все же обращаю :) </div>"
   ]
  },
  {
   "cell_type": "markdown",
   "metadata": {},
   "source": [
    "Изучим уникальные значения в столбце 'rating'. Встречается значение RP, которое означает, что рейтинг не выставлен. Можно удалить эти значения. Теоретически, можно найти дополнительную информацию об играх в интернете и заполнить пропуски. На основе имеющегося датасета заполнять пропуски в этом столбце бессмысленно."
   ]
  },
  {
   "cell_type": "code",
   "execution_count": 14,
   "metadata": {},
   "outputs": [
    {
     "data": {
      "text/plain": [
       "array(['E', nan, 'M', 'T', 'E10+', 'K-A', 'AO', 'EC', 'RP'], dtype=object)"
      ]
     },
     "execution_count": 14,
     "metadata": {},
     "output_type": "execute_result"
    }
   ],
   "source": [
    "data['rating'].unique()"
   ]
  },
  {
   "cell_type": "code",
   "execution_count": 15,
   "metadata": {},
   "outputs": [],
   "source": [
    "data.loc[data['rating']=='RP', 'rating'] = np.nan"
   ]
  },
  {
   "cell_type": "markdown",
   "metadata": {},
   "source": [
    "Заполним пропущенные значения для тех игр, для которых есть информация о рейтинге при выходе на других платформах."
   ]
  },
  {
   "cell_type": "code",
   "execution_count": 16,
   "metadata": {},
   "outputs": [],
   "source": [
    "data['rating'] = data['rating'].fillna(data.groupby('name')['rating'].transform('first'))"
   ]
  },
  {
   "cell_type": "code",
   "execution_count": 17,
   "metadata": {},
   "outputs": [
    {
     "data": {
      "text/plain": [
       "array(['E', nan, 'M', 'T', 'E10+', 'K-A', 'AO', 'EC'], dtype=object)"
      ]
     },
     "execution_count": 17,
     "metadata": {},
     "output_type": "execute_result"
    }
   ],
   "source": [
    "data['rating'].unique()"
   ]
  },
  {
   "cell_type": "markdown",
   "metadata": {},
   "source": [
    "Мы заполнили все пропущенные значения, какие возможно. Рассмотрим, как выглядит информация по таблице сейчас. Отметим, что столбцы с информацией о рейтинге и годе выхода заполнены полностью. Небольшая часть пропусков в стольбцах с отзывами критиков и покупателей были заменены на значения, но эти столбцы по-прежнему заполнены примерно наполовину."
   ]
  },
  {
   "cell_type": "code",
   "execution_count": 18,
   "metadata": {},
   "outputs": [
    {
     "name": "stdout",
     "output_type": "stream",
     "text": [
      "<class 'pandas.core.frame.DataFrame'>\n",
      "Int64Index: 16713 entries, 0 to 16714\n",
      "Data columns (total 11 columns):\n",
      "name               16713 non-null object\n",
      "platform           16713 non-null object\n",
      "year_of_release    16713 non-null int64\n",
      "genre              16713 non-null object\n",
      "na_sales           16713 non-null float64\n",
      "eu_sales           16713 non-null float64\n",
      "jp_sales           16713 non-null float64\n",
      "other_sales        16713 non-null float64\n",
      "critic_score       9098 non-null float64\n",
      "user_score         8689 non-null float64\n",
      "rating             10384 non-null object\n",
      "dtypes: float64(6), int64(1), object(4)\n",
      "memory usage: 1.5+ MB\n"
     ]
    }
   ],
   "source": [
    "data.info()"
   ]
  },
  {
   "cell_type": "markdown",
   "metadata": {},
   "source": [
    "Для дальейшей работы будет логичным посчитайть суммарные продажи во всех регионах. Создадим столбец с такой информацией и заглянем в статистику по нему. Заметим, что менее 25% игр превысили планку в 0.5 млн проданных копий."
   ]
  },
  {
   "cell_type": "code",
   "execution_count": 19,
   "metadata": {},
   "outputs": [
    {
     "data": {
      "text/plain": [
       "count    16713.000000\n",
       "mean         0.533315\n",
       "std          1.548282\n",
       "min          0.000000\n",
       "25%          0.060000\n",
       "50%          0.170000\n",
       "75%          0.470000\n",
       "max         82.540000\n",
       "Name: sum_sales, dtype: float64"
      ]
     },
     "execution_count": 19,
     "metadata": {},
     "output_type": "execute_result"
    }
   ],
   "source": [
    "data['sum_sales'] = data['na_sales'] + data['eu_sales'] + data['jp_sales'] + data['other_sales']\n",
    "data['sum_sales'].describe()"
   ]
  },
  {
   "cell_type": "markdown",
   "metadata": {},
   "source": [
    "<div class=\"alert alert-success\" style=\"border-radius: 15px; box-shadow: 4px 4px 4px; border: 1px solid \">\n",
    "<b> Комментарий ревьюера ✔️</b>\n",
    "    \n",
    "Можно еще взять метод **sum** с аргументом **axis=1**.\n",
    "    \n",
    "</div>\n",
    "\n",
    "```python\n",
    "\n",
    "\n",
    "df['total_sales'] = df[['na_sales','eu_sales','jp_sales','other_sales']].sum(axis=1)\n",
    "```"
   ]
  },
  {
   "cell_type": "markdown",
   "metadata": {},
   "source": [
    "### Вывод"
   ]
  },
  {
   "cell_type": "markdown",
   "metadata": {},
   "source": [
    "Полученные данные обработаны для дальнейшей работы:\n",
    "- Названия столбцов приведены к общепринятому стилю.\n",
    "- Удалены строки с пропущенным значением названия игры.\n",
    "- Данные об отзывах пользователей приведены к численному типу.\n",
    "- Полностью заполнены пропуски в столбце о годе выхода игры.\n",
    "- В столбцах об отзывах критиков и пользователей заполнены значения там, где это возможно.\n",
    "- Добавлен столбец и информацией о продажах по миру."
   ]
  },
  {
   "cell_type": "markdown",
   "metadata": {},
   "source": [
    "## Исследовательский анализ данных"
   ]
  },
  {
   "cell_type": "markdown",
   "metadata": {},
   "source": [
    "### Динамика количества выпущенных игр по годам"
   ]
  },
  {
   "cell_type": "markdown",
   "metadata": {},
   "source": [
    "Посмотрим, сколько игр выпускалось в разные годы. Заметим, что до 1995 года выпускалось совсем немного компьютерных игр. С 1995 года количество новых игр стало стремительно расти. К 2008 году количество выпускаемых игр достигло максимума, и к 2013 году упало болле чем в два раза, сравнявшись с показателями на 2001 год."
   ]
  },
  {
   "cell_type": "code",
   "execution_count": 20,
   "metadata": {
    "scrolled": false
   },
   "outputs": [
    {
     "data": {
      "text/plain": [
       "<matplotlib.axes._subplots.AxesSubplot at 0x7f9eb6e08690>"
      ]
     },
     "execution_count": 20,
     "metadata": {},
     "output_type": "execute_result"
    },
    {
     "data": {
      "image/png": "[encoded data removed]",
      "text/plain": [
       "<Figure size 432x288 with 1 Axes>"
      ]
     },
     "metadata": {
      "needs_background": "light"
     },
     "output_type": "display_data"
    }
   ],
   "source": [
    "data.groupby('year_of_release')['name'].count().plot(\n",
    "    style='*-', \n",
    "    #ylabel='Количество выпущенных игр', \n",
    "    title='Количество выпущенных игр по годам',\n",
    "    grid=True\n",
    ")"
   ]
  },
  {
   "cell_type": "markdown",
   "metadata": {},
   "source": [
    "<div class=\"alert alert-success\" style=\"border-radius: 15px; box-shadow: 4px 4px 4px; border: 1px solid \">\n",
    "<h2> Комментарий ревьюера 2 ✔️</h2>\n",
    "    \n",
    "Отличная визуализация. \n",
    "</div>\n"
   ]
  },
  {
   "cell_type": "markdown",
   "metadata": {},
   "source": [
    "Посмотрим, что происходило с продажами игр. Среднее значение суммарных продаж менялось от года к году, достигая максимумов в 1985 и 1990 годах. Но к 1995 году этот показатель значительно снизился и далее постоянно имел низкие значения. Вкупе с предыдущим графиком, это можно интерпретировать так. До 1995 года выходило мало игр, но все они раскупались. С 1995 года каждый год выходит большое количество игр, но большинство из них имеют очень маленькие продажи."
   ]
  },
  {
   "cell_type": "code",
   "execution_count": 21,
   "metadata": {
    "scrolled": true
   },
   "outputs": [
    {
     "data": {
      "text/plain": [
       "<matplotlib.axes._subplots.AxesSubplot at 0x7f9eadd5c610>"
      ]
     },
     "execution_count": 21,
     "metadata": {},
     "output_type": "execute_result"
    },
    {
     "data": {
      "image/png": "[encoded data removed]",
      "text/plain": [
       "<Figure size 432x288 with 1 Axes>"
      ]
     },
     "metadata": {
      "needs_background": "light"
     },
     "output_type": "display_data"
    }
   ],
   "source": [
    "data.groupby('year_of_release')['sum_sales'].mean().plot(\n",
    "    style='*-', \n",
    "    #ylabel='Среднее количество проданных копий игры', \n",
    "    title='Среднее количество проданных копий игры по году выпуска'\n",
    ")"
   ]
  },
  {
   "cell_type": "markdown",
   "metadata": {},
   "source": [
    "Поведение графиков до 1995 года и после сильно меняется. Мы не можем использовать данные до 1995 года для прогнозирования."
   ]
  },
  {
   "cell_type": "markdown",
   "metadata": {},
   "source": [
    "Выделим два периода времени: с 1995 по 2016, когда игры обрели настоящую популярность, и с 2013 года по 2016, когда ситуация на рынке максимально близка к актуальной (на 2017 год). По \"популярному\" периоду будем изучать общие закономерности в продажах игр. По \"актуальному\" можно судить о последних тенденциях на рынке компьютерных игр."
   ]
  },
  {
   "cell_type": "code",
   "execution_count": 22,
   "metadata": {},
   "outputs": [],
   "source": [
    "data_popular = data.query('year_of_release>1995')\n",
    "data_act = data.query('year_of_release>2012')"
   ]
  },
  {
   "cell_type": "markdown",
   "metadata": {},
   "source": [
    "<div class=\"alert alert-success\" style=\"border-radius: 15px; box-shadow: 4px 4px 4px; border: 1px solid \">\n",
    "<b> Комментарий ревьюера ✔️</b>\n",
    "    \n",
    "Соглашусь с выбором периода. </div>\n"
   ]
  },
  {
   "cell_type": "markdown",
   "metadata": {},
   "source": [
    "### Суммарные продажи компьютерных игр для различных платформ"
   ]
  },
  {
   "cell_type": "markdown",
   "metadata": {},
   "source": [
    "Компьютерные игры выпускаются для различных платформ, и показатели продаж по платформам - один из ключевых параметров для прогноза успешности игры. Посмотрим, как меняются продажи по платформам. Рассмотрим данные за два временных периода. За все время популярности компьютерных игр наиболее успешными были платформы группы PS, особенно PS2, а также X360, Wii и DS. В последние годы опять же популярны платформы PS, третья и четвертая, платформу X360 заменила XOne, также популярна 3DS. Платформы Wii и WiiU уходят на второй план."
   ]
  },
  {
   "cell_type": "code",
   "execution_count": 23,
   "metadata": {
    "scrolled": false
   },
   "outputs": [
    {
     "data": {
      "text/plain": [
       "<matplotlib.axes._subplots.AxesSubplot at 0x7f9eb65269d0>"
      ]
     },
     "execution_count": 23,
     "metadata": {},
     "output_type": "execute_result"
    },
    {
     "data": {
      "image/png": "[encoded data removed]",
      "text/plain": [
       "<Figure size 432x288 with 1 Axes>"
      ]
     },
     "metadata": {
      "needs_background": "light"
     },
     "output_type": "display_data"
    }
   ],
   "source": [
    "data_popular.groupby('platform')['sum_sales'].sum().sort_values(ascending = False).reset_index().plot(\n",
    "    x='platform',\n",
    "    kind='bar',\n",
    "    #ylabel='Продажи, млн копий',\n",
    "    title='Суммарные продажи по платформам'\n",
    ")"
   ]
  },
  {
   "cell_type": "code",
   "execution_count": 24,
   "metadata": {},
   "outputs": [
    {
     "data": {
      "text/plain": [
       "<matplotlib.axes._subplots.AxesSubplot at 0x7f9eadcee4d0>"
      ]
     },
     "execution_count": 24,
     "metadata": {},
     "output_type": "execute_result"
    },
    {
     "data": {
      "image/png": "[encoded data removed]",
      "text/plain": [
       "<Figure size 432x288 with 1 Axes>"
      ]
     },
     "metadata": {
      "needs_background": "light"
     },
     "output_type": "display_data"
    }
   ],
   "source": [
    "data_act.groupby('platform')['sum_sales'].sum().sort_values(ascending = False).reset_index().plot(\n",
    "    x='platform',\n",
    "    kind='bar',\n",
    "    #ylabel='Продажи, млн копий',\n",
    "    title='Суммарные продажи по платформам за актуальный период'\n",
    ")"
   ]
  },
  {
   "cell_type": "markdown",
   "metadata": {},
   "source": [
    "### Распределение объемов продаж по годам для отдельных платформ"
   ]
  },
  {
   "cell_type": "markdown",
   "metadata": {},
   "source": [
    "Построим распределение по годам для платформ с наибольшими суммарными продажами. Выберем выдающуюся шестерку платформ по данным за все года и лучшую пятерку по \"актуальному\" периоду времени. Количество платформ выбрано при анализе предыдущих диаграмм."
   ]
  },
  {
   "cell_type": "code",
   "execution_count": 25,
   "metadata": {
    "scrolled": true
   },
   "outputs": [
    {
     "data": {
      "text/plain": [
       "['PS2', 'X360', 'PS3', 'Wii', 'DS', 'PS']"
      ]
     },
     "execution_count": 25,
     "metadata": {},
     "output_type": "execute_result"
    }
   ],
   "source": [
    "platform_best = data_popular.groupby('platform')['sum_sales'].sum().sort_values(ascending = False).index[:6].tolist()\n",
    "platform_best"
   ]
  },
  {
   "cell_type": "code",
   "execution_count": 26,
   "metadata": {},
   "outputs": [
    {
     "data": {
      "text/plain": [
       "['PS4', 'PS3', 'XOne', '3DS', 'X360']"
      ]
     },
     "execution_count": 26,
     "metadata": {},
     "output_type": "execute_result"
    }
   ],
   "source": [
    "platform_best_act = data_act.groupby('platform')['sum_sales'].sum().sort_values(ascending = False).index[:5].tolist()\n",
    "platform_best_act"
   ]
  },
  {
   "cell_type": "markdown",
   "metadata": {},
   "source": [
    "Отберем данные, касающиеся этих платформ. Эти данные будем использовать для построения графиков."
   ]
  },
  {
   "cell_type": "code",
   "execution_count": 27,
   "metadata": {},
   "outputs": [],
   "source": [
    "data_best_act = data_act.query('platform in @platform_best_act')\n",
    "data_best = data.query('platform in @platform_best')"
   ]
  },
  {
   "cell_type": "code",
   "execution_count": 28,
   "metadata": {
    "scrolled": true
   },
   "outputs": [
    {
     "data": {
      "text/plain": [
       "<matplotlib.axes._subplots.AxesSubplot at 0x7f9eadb1d9d0>"
      ]
     },
     "execution_count": 28,
     "metadata": {},
     "output_type": "execute_result"
    },
    {
     "data": {
      "image/png": "[encoded data removed]",
      "text/plain": [
       "<Figure size 432x288 with 1 Axes>"
      ]
     },
     "metadata": {
      "needs_background": "light"
     },
     "output_type": "display_data"
    }
   ],
   "source": [
    "pd.pivot_table(data_best, values='sum_sales', index='year_of_release', columns='platform', aggfunc='sum').plot(\n",
    "    #ylabel='Продажи, млн копий',\n",
    "    title='Продажи по годам для лучших платформ'\n",
    ")"
   ]
  },
  {
   "cell_type": "markdown",
   "metadata": {},
   "source": [
    "При рассмотрении графиков распределение по годам для платформ с наибольшими суммарными продажами за весь период с 1995 года, можно заметить некую законометность в распределении продаж по годам. Это жизненные циклы платформ. Платформа выходит на рынок, набирают популярность, затем устаревают и исчезают с рынка. Этот цикл длится около 10 лет. "
   ]
  },
  {
   "cell_type": "code",
   "execution_count": 29,
   "metadata": {},
   "outputs": [
    {
     "data": {
      "text/plain": [
       "<matplotlib.axes._subplots.AxesSubplot at 0x7f9eadab6510>"
      ]
     },
     "execution_count": 29,
     "metadata": {},
     "output_type": "execute_result"
    },
    {
     "data": {
      "image/png": "[encoded data removed]",
      "text/plain": [
       "<Figure size 432x288 with 1 Axes>"
      ]
     },
     "metadata": {
      "needs_background": "light"
     },
     "output_type": "display_data"
    }
   ],
   "source": [
    "pd.pivot_table(data_best_act, values='sum_sales', index='year_of_release', columns='platform', aggfunc='sum').plot(\n",
    "    #ylabel='Продажи, млн копий',\n",
    "    title='Продажи по годам для лучших платформ за актуальный период'\n",
    ")"
   ]
  },
  {
   "cell_type": "markdown",
   "metadata": {},
   "source": [
    "Посмотрим на жизненные циклы платформ, актуальных на период с 2013 по 2016 годы. Отметим, что с 2013 года не появлялось новых платформ. Этот период пришелся на конец жизненного цикла платформ PS3, X360 и 3DS. Самые свежие из успешных платформ - XOne и PS4, мы видим пик их жизненного цикла. "
   ]
  },
  {
   "cell_type": "markdown",
   "metadata": {},
   "source": [
    "<div class=\"alert alert-success\" style=\"border-radius: 15px; box-shadow: 4px 4px 4px; border: 1px solid \">\n",
    "<h2> Комментарий ревьюера 2 ✔️</h2>\n",
    "    \n",
    "Похоже, что для 3DS конец еще не наступил. Взглянем на сводную:</div>\n"
   ]
  },
  {
   "cell_type": "code",
   "execution_count": 65,
   "metadata": {},
   "outputs": [
    {
     "data": {
      "text/html": [
       "<div>\n",
       "<style scoped>\n",
       "    .dataframe tbody tr th:only-of-type {\n",
       "        vertical-align: middle;\n",
       "    }\n",
       "\n",
       "    .dataframe tbody tr th {\n",
       "        vertical-align: top;\n",
       "    }\n",
       "\n",
       "    .dataframe thead th {\n",
       "        text-align: right;\n",
       "    }\n",
       "</style>\n",
       "<table border=\"1\" class=\"dataframe\">\n",
       "  <thead>\n",
       "    <tr style=\"text-align: right;\">\n",
       "      <th>platform</th>\n",
       "      <th>3DS</th>\n",
       "      <th>DS</th>\n",
       "      <th>PC</th>\n",
       "      <th>PS3</th>\n",
       "      <th>PS4</th>\n",
       "      <th>PSP</th>\n",
       "      <th>PSV</th>\n",
       "      <th>Wii</th>\n",
       "      <th>WiiU</th>\n",
       "      <th>X360</th>\n",
       "      <th>XOne</th>\n",
       "    </tr>\n",
       "    <tr>\n",
       "      <th>year_of_release</th>\n",
       "      <th></th>\n",
       "      <th></th>\n",
       "      <th></th>\n",
       "      <th></th>\n",
       "      <th></th>\n",
       "      <th></th>\n",
       "      <th></th>\n",
       "      <th></th>\n",
       "      <th></th>\n",
       "      <th></th>\n",
       "      <th></th>\n",
       "    </tr>\n",
       "  </thead>\n",
       "  <tbody>\n",
       "    <tr>\n",
       "      <td>2015</td>\n",
       "      <td>27.78</td>\n",
       "      <td>NaN</td>\n",
       "      <td>8.52</td>\n",
       "      <td>16.82</td>\n",
       "      <td>118.90</td>\n",
       "      <td>0.12</td>\n",
       "      <td>6.25</td>\n",
       "      <td>1.14</td>\n",
       "      <td>16.35</td>\n",
       "      <td>11.96</td>\n",
       "      <td>60.14</td>\n",
       "    </tr>\n",
       "    <tr>\n",
       "      <td>2016</td>\n",
       "      <td>15.14</td>\n",
       "      <td>NaN</td>\n",
       "      <td>5.25</td>\n",
       "      <td>3.60</td>\n",
       "      <td>69.25</td>\n",
       "      <td>NaN</td>\n",
       "      <td>4.25</td>\n",
       "      <td>0.18</td>\n",
       "      <td>4.60</td>\n",
       "      <td>1.52</td>\n",
       "      <td>26.15</td>\n",
       "    </tr>\n",
       "  </tbody>\n",
       "</table>\n",
       "</div>"
      ],
      "text/plain": [
       "platform           3DS  DS    PC    PS3     PS4   PSP   PSV   Wii   WiiU  \\\n",
       "year_of_release                                                            \n",
       "2015             27.78 NaN  8.52  16.82  118.90  0.12  6.25  1.14  16.35   \n",
       "2016             15.14 NaN  5.25   3.60   69.25   NaN  4.25  0.18   4.60   \n",
       "\n",
       "platform          X360   XOne  \n",
       "year_of_release                \n",
       "2015             11.96  60.14  \n",
       "2016              1.52  26.15  "
      ]
     },
     "execution_count": 65,
     "metadata": {},
     "output_type": "execute_result"
    }
   ],
   "source": [
    "# КОД РЕВЬЮЕРА\n",
    "\n",
    "data_act.pivot_table(index='year_of_release', columns='platform', values='sum_sales', aggfunc='sum').loc[[2015, 2016]]"
   ]
  },
  {
   "cell_type": "markdown",
   "metadata": {},
   "source": [
    "<div class=\"alert alert-success\" style=\"border-radius: 15px; box-shadow: 4px 4px 4px; border: 1px solid \">\n",
    "<h2> Комментарий ревьюера 2 ✔️</h2>\n",
    "    \n",
    "Как видишь, 15 млн копий. Можно также рассмотреть и ПК, потому что у компьютеров своя аудитория, а комплектующие поменять нетрудно. \n",
    "    \n",
    "    \n",
    "Кроме того, я не думаю, что все продажи падают. Не забывай, что мы изображаем продажи игр, выпущенных в эти года. Не проданных, а выпущенных. Игры 2014-2016 еще не набрали так много продаж, как игры 2012 года, например. Правда, такие консоли, как X360, это уже не спасет. </div>"
   ]
  },
  {
   "cell_type": "markdown",
   "metadata": {},
   "source": [
    "### Медианы и средние продаж для платформ"
   ]
  },
  {
   "cell_type": "markdown",
   "metadata": {},
   "source": [
    "Проанализируем глобальным продажам игр в разбивке по платформам при помощи графика «ящик с усами». Для реализации возможностей этого метода уберем с графика (но не из данных) \"летающие точки\". Рассмотрим данные только за актуальный период времени. "
   ]
  },
  {
   "cell_type": "code",
   "execution_count": 30,
   "metadata": {
    "scrolled": false
   },
   "outputs": [
    {
     "name": "stderr",
     "output_type": "stream",
     "text": [
      "/opt/conda/lib/python3.7/site-packages/numpy/core/_asarray.py:83: VisibleDeprecationWarning: Creating an ndarray from ragged nested sequences (which is a list-or-tuple of lists-or-tuples-or ndarrays with different lengths or shapes) is deprecated. If you meant to do this, you must specify 'dtype=object' when creating the ndarray\n",
      "  return array(a, dtype, copy=False, order=order)\n"
     ]
    },
    {
     "data": {
      "text/plain": [
       "<matplotlib.axes._subplots.AxesSubplot at 0x7f9ead9e0a90>"
      ]
     },
     "execution_count": 30,
     "metadata": {},
     "output_type": "execute_result"
    },
    {
     "data": {
      "image/png": "[encoded data removed]",
      "text/plain": [
       "<Figure size 720x360 with 1 Axes>"
      ]
     },
     "metadata": {
      "needs_background": "light"
     },
     "output_type": "display_data"
    }
   ],
   "source": [
    "pd.pivot_table(data_act, values='sum_sales', index='name', columns='platform').boxplot(\n",
    "    showfliers=False, \n",
    "    patch_artist=True, \n",
    "    showmeans=True,\n",
    "    figsize=(10,5))"
   ]
  },
  {
   "cell_type": "markdown",
   "metadata": {},
   "source": [
    "Для начала отметим большую разницу между средними и медианными значениями для всех платформ. В некоторых случаях среднее значение выше значения третьего квартиля. Такая разница обусловлена влиянием \"летающих точек\". Также отметим, что медианы находятся далеко внизу от середины \"усов\". Похоже, очень большой процент игр имеет очень низкие продажи.\n",
    "\n",
    "Отметим несколько особенностей:\n",
    "- Самое высокое медианное значение продаж у игр на платформе X360. За актуальный период времени медианная игра на платформе была продана 250 тысяч раз. \n",
    "- Среди лидирующих платформ самыми низкими медианными продажами обладает 3DS. \n",
    "- Платформы Wii и WiiU, которые показывают не самые высокие продажи за актуальный период, обладают высокими значениями медианы, среднего и третьего квартиля. Их показатели сравнимы с таковыми для лучших платформ.\n",
    "- Показатели медианы, квартилей и размах усов для платформ XOne и PS4 сравнимы, для XOne все показатели немножко ниже. Эти две платформы являются перспективными, так как находятся в середине жизненного цикла на 2016 год."
   ]
  },
  {
   "cell_type": "markdown",
   "metadata": {},
   "source": [
    "Для реальной оценки ситуации посмотрим как выглядят те же данные с летающими точками. "
   ]
  },
  {
   "cell_type": "code",
   "execution_count": 31,
   "metadata": {
    "scrolled": false
   },
   "outputs": [
    {
     "name": "stderr",
     "output_type": "stream",
     "text": [
      "/opt/conda/lib/python3.7/site-packages/numpy/core/_asarray.py:83: VisibleDeprecationWarning: Creating an ndarray from ragged nested sequences (which is a list-or-tuple of lists-or-tuples-or ndarrays with different lengths or shapes) is deprecated. If you meant to do this, you must specify 'dtype=object' when creating the ndarray\n",
      "  return array(a, dtype, copy=False, order=order)\n"
     ]
    },
    {
     "data": {
      "text/plain": [
       "<matplotlib.axes._subplots.AxesSubplot at 0x7f9ead9d8990>"
      ]
     },
     "execution_count": 31,
     "metadata": {},
     "output_type": "execute_result"
    },
    {
     "data": {
      "image/png": "[encoded data removed]",
      "text/plain": [
       "<Figure size 720x360 with 1 Axes>"
      ]
     },
     "metadata": {
      "needs_background": "light"
     },
     "output_type": "display_data"
    }
   ],
   "source": [
    "pd.pivot_table(data_act, values='sum_sales', index='name', columns='platform').boxplot(\n",
    "    patch_artist=True, \n",
    "    showmeans=True,\n",
    "    figsize=(10,5))"
   ]
  },
  {
   "cell_type": "markdown",
   "metadata": {},
   "source": [
    "Оказывается, метод считает выбросами большое количество точек. Бросается в глаза разница значений на оси y для графиков с выбросами и без. Количество проданных копий для некоторых игр достигает значения в 15 и 20 млн копий, в то время как \"усы\" не достигают и значения в 1.75 млн копий. Значение третьего квартиля для всех платформ не превышает значения 0.8 млн копий, медианы находятся в пределах 0.25 млн копий. То есть продажи средних и популярных игр различаются более чем на порядок."
   ]
  },
  {
   "cell_type": "markdown",
   "metadata": {
    "scrolled": true
   },
   "source": [
    "Посмотрим на примере платформы PS4, какую часть прибыли составляют продажи популярных игр. "
   ]
  },
  {
   "cell_type": "code",
   "execution_count": 32,
   "metadata": {},
   "outputs": [
    {
     "name": "stdout",
     "output_type": "stream",
     "text": [
      "Суммарные продажи платформы PS4 в млн копий\n",
      "314.14\n",
      "Из них за счет игр с высокими продажами\n",
      "208.9\n"
     ]
    }
   ],
   "source": [
    "print('Суммарные продажи платформы PS4 в млн копий')\n",
    "print(data_act.query('platform==\"PS4\"')['sum_sales'].sum())\n",
    "print('Из них за счет игр с высокими продажами')\n",
    "print(data_act.query('platform==\"PS4\" and sum_sales>=1.75')['sum_sales'].sum())"
   ]
  },
  {
   "cell_type": "markdown",
   "metadata": {},
   "source": [
    "Из ~300 млн проданных копий ~200 приходится на игры, которые не входят в \"усы\" графика \"ящик с усами\". При подсчете продаж по платформам ключевыми являются именно продажи суперпопулярных игр, чьи продажи не вписываются в \"3 сигмы\" нормального распределения по всей платформе."
   ]
  },
  {
   "cell_type": "markdown",
   "metadata": {},
   "source": [
    "<div class=\"alert alert-success\" style=\"border-radius: 15px; box-shadow: 4px 4px 4px; border: 1px solid \">\n",
    "<h2> Комментарий ревьюера 2  ✔️</h2>\n",
    "    \n",
    "Верно. Выбросы это какие-то популярные игры. И это очень показательная штука. Посмотри на 3DS. Маленький ящик и много выбросов. Это говорит о том, что большАя часть объема продаж делается за счет этих выбросов. В то же время у XOne ситуация иная: большой бокс, длинный ус и мало выбросов. Это свидетельствует о том, что на XOne покупают самые разные игры, причем, в немалом количестве. \n",
    "</div>"
   ]
  },
  {
   "cell_type": "markdown",
   "metadata": {},
   "source": [
    "### Влияние отзывов покупателей и критиков на продажи игр "
   ]
  },
  {
   "cell_type": "markdown",
   "metadata": {},
   "source": [
    "Посмотрим, как влияют на продажи внутри популярной платформы PS4 отзывы пользователей и критиков. Пострим диаграмму рассеяния и посчитаем корреляцию между отзывами и продажами. "
   ]
  },
  {
   "cell_type": "code",
   "execution_count": 33,
   "metadata": {
    "scrolled": false
   },
   "outputs": [
    {
     "name": "stdout",
     "output_type": "stream",
     "text": [
      "Коэффициент Пирсона\n",
      "-0.02086201340247838\n"
     ]
    },
    {
     "data": {
      "image/png": "[encoded data removed]",
      "text/plain": [
       "<Figure size 432x288 with 1 Axes>"
      ]
     },
     "metadata": {
      "needs_background": "light"
     },
     "output_type": "display_data"
    }
   ],
   "source": [
    "data_act.loc[data_act['platform']=='PS4'].plot(\n",
    "    kind='scatter', \n",
    "    x='sum_sales', \n",
    "    y='user_score',\n",
    "    title='Влияние отзывов покупателей на продажи игр платформы PS4',\n",
    "    alpha=0.5\n",
    ")\n",
    "print('Коэффициент Пирсона')\n",
    "print(data_act.query('platform==\"PS4\"') ['sum_sales'].corr(data_act.query('platform==\"PS4\"')['user_score']))"
   ]
  },
  {
   "cell_type": "markdown",
   "metadata": {},
   "source": [
    "Коэффициент Пирсона и диаграмма рассеяния не показывают явной связи между отзывами покупателей и продажами. Единственное, игры с очень плохими отзывами (меньше 3 из 10) не показывают высоких продаж."
   ]
  },
  {
   "cell_type": "code",
   "execution_count": 34,
   "metadata": {},
   "outputs": [
    {
     "name": "stdout",
     "output_type": "stream",
     "text": [
      "Коэффициент Пирсона\n",
      "0.39088993631173546\n"
     ]
    },
    {
     "data": {
      "image/png": "[encoded data removed]",
      "text/plain": [
       "<Figure size 432x288 with 1 Axes>"
      ]
     },
     "metadata": {
      "needs_background": "light"
     },
     "output_type": "display_data"
    }
   ],
   "source": [
    "data_act.loc[data_act['platform']=='PS4'].plot(\n",
    "    kind='scatter', \n",
    "    x='sum_sales', \n",
    "    y='critic_score',\n",
    "    title='Влияние отзывов критиков на продажи игр платформы PS4',\n",
    "    alpha=0.5\n",
    ")\n",
    "print('Коэффициент Пирсона')\n",
    "print(data_act.query('platform==\"PS4\"') ['sum_sales'].corr(data_act.query('platform==\"PS4\"')['critic_score']))"
   ]
  },
  {
   "cell_type": "markdown",
   "metadata": {},
   "source": [
    "Между продажами и отзывами критиков прослеживается некоторая связь, коэффециент корреляции почти 0.4. Игры с низкими оценками (до 50) не показывают высоких продаж. Высокие оценки критиков не являются залогом успеха, но игры с оценками выше 90 из 100 практически не рискуют оказаться с нулевыми или низкими продажами."
   ]
  },
  {
   "cell_type": "markdown",
   "metadata": {},
   "source": [
    "Таким образом, на оценки критиков можно ориентироваться при прогнозировании успешности игры. Оценки пользователей не показательны при анализе успешности игры, но не стоит забывать, что низкие оценки пользователей (ниже 3) гарантируют низкие продажи.\n",
    "\n",
    "Что насчет данных по другим платформам? Проверим, повторится ли картина. Проверим платформы 'XOne' и '3DS', и для интереса возьмем данные по самой популярной 'PS2' за весь период времени."
   ]
  },
  {
   "cell_type": "code",
   "execution_count": 35,
   "metadata": {},
   "outputs": [
    {
     "data": {
      "text/plain": [
       "<matplotlib.collections.PathCollection at 0x7f9ead564910>"
      ]
     },
     "execution_count": 35,
     "metadata": {},
     "output_type": "execute_result"
    },
    {
     "data": {
      "image/png": "[encoded data removed]",
      "text/plain": [
       "<Figure size 1080x360 with 3 Axes>"
      ]
     },
     "metadata": {
      "needs_background": "light"
     },
     "output_type": "display_data"
    }
   ],
   "source": [
    "fig, [ax1, ax2, ax3] = plt.subplots(1, 3, sharey=True, figsize=(15, 5))\n",
    "fig.suptitle('Оценки пользователей')\n",
    "ax1.set_title('XOne')\n",
    "ax1.set_xlabel('Суммарные продажи')\n",
    "ax1.set_ylabel('Оценки пользователей')\n",
    "ax1.scatter(\n",
    "    data_act.loc[data_act['platform']=='XOne']['sum_sales'],\n",
    "    data_act.loc[data_act['platform']=='XOne']['user_score']\n",
    ")\n",
    "ax2.set_title('3DS')\n",
    "ax2.set_xlabel('Суммарные продажи')\n",
    "ax2.scatter(\n",
    "    data_act.loc[data_act['platform']=='3DS']['sum_sales'],\n",
    "    data_act.loc[data_act['platform']=='3DS']['user_score']\n",
    ")\n",
    "ax3.set_title('PS2')\n",
    "ax3.set_xlabel('Суммарные продажи')\n",
    "ax3.scatter(\n",
    "    data.loc[data['platform']=='PS2']['sum_sales'],\n",
    "    data.loc[data['platform']=='PS2']['user_score']\n",
    ")"
   ]
  },
  {
   "cell_type": "code",
   "execution_count": 36,
   "metadata": {},
   "outputs": [
    {
     "name": "stdout",
     "output_type": "stream",
     "text": [
      "XOne -0.09647011599165727\n",
      "3DS 0.29115733509473846\n",
      "PS2 0.17877935533966616\n"
     ]
    }
   ],
   "source": [
    "print('XOne',\n",
    "    data_act.query('platform==\"XOne\"')['sum_sales'].corr(data_act.query('platform==\"XOne\"')['user_score'])\n",
    ")\n",
    "print('3DS',\n",
    "    data_act.query('platform==\"3DS\"')['sum_sales'].corr(data_act.query('platform==\"3DS\"')['user_score'])\n",
    ")\n",
    "print('PS2',\n",
    "    data.query('platform==\"PS2\"')['sum_sales'].corr(data.query('platform==\"PS2\"')['user_score'])\n",
    ")"
   ]
  },
  {
   "cell_type": "markdown",
   "metadata": {},
   "source": [
    "На данных за актуальный период для платформы 'XOne' мы опять же не видим корреляции между оценками покупателей и продажами. Пользователи платформы '3DS' более разборчивы, но зависимость все же невыразительна, многие игры с высокими рейтингами продаются плохо. Некоторое совпадение оценок пользователей и высоких продаж можно найти. Например, если рассматривать данные для 'PS2' за весь период времени, можно обнаружить, что  суперпопулярные игры не имели оценок ниже 8.\n",
    "\n",
    "В целом, можно утверждать, что при прогнозировании продаж игры нельзя опираться на отзывы покупателей."
   ]
  },
  {
   "cell_type": "code",
   "execution_count": 37,
   "metadata": {
    "scrolled": false
   },
   "outputs": [
    {
     "data": {
      "text/plain": [
       "<matplotlib.collections.PathCollection at 0x7f9ead463dd0>"
      ]
     },
     "execution_count": 37,
     "metadata": {},
     "output_type": "execute_result"
    },
    {
     "data": {
      "image/png": "[encoded data removed]",
      "text/plain": [
       "<Figure size 1080x360 with 3 Axes>"
      ]
     },
     "metadata": {
      "needs_background": "light"
     },
     "output_type": "display_data"
    }
   ],
   "source": [
    "fig, [ax1, ax2, ax3] = plt.subplots(1, 3, sharey=True, figsize=(15, 5))\n",
    "fig.suptitle('Оценки критиков')\n",
    "ax1.set_title('XOne')\n",
    "ax1.set_xlabel('Суммарные продажи')\n",
    "ax1.set_ylabel('Оценки критиков')\n",
    "ax1.scatter(\n",
    "    data_act.loc[data_act['platform']=='XOne']['sum_sales'],\n",
    "    data_act.loc[data_act['platform']=='XOne']['critic_score']\n",
    ")\n",
    "ax2.set_title('3DS')\n",
    "ax2.set_xlabel('Суммарные продажи')\n",
    "ax2.scatter(\n",
    "    data_act.loc[data_act['platform']=='3DS']['sum_sales'],\n",
    "    data_act.loc[data_act['platform']=='3DS']['critic_score']\n",
    ")\n",
    "ax3.set_title('PS2')\n",
    "ax3.set_xlabel('Суммарные продажи')\n",
    "ax3.scatter(\n",
    "    data.loc[data['platform']=='PS2']['sum_sales'],\n",
    "    data.loc[data['platform']=='PS2']['critic_score']\n",
    ")"
   ]
  },
  {
   "cell_type": "code",
   "execution_count": 38,
   "metadata": {},
   "outputs": [
    {
     "name": "stdout",
     "output_type": "stream",
     "text": [
      "XOne 0.3743835104785388\n",
      "3DS 0.34587556854546786\n",
      "PS2 0.3870513190595589\n"
     ]
    }
   ],
   "source": [
    "print('XOne',\n",
    "    data_act.query('platform==\"XOne\"')['sum_sales'].corr(data_act.query('platform==\"XOne\"')['critic_score'])\n",
    ")\n",
    "print('3DS',\n",
    "    data_act.query('platform==\"3DS\"')['sum_sales'].corr(data_act.query('platform==\"3DS\"')['critic_score'])\n",
    ")\n",
    "print('PS2',\n",
    "    data.query('platform==\"PS2\"')['sum_sales'].corr(data.query('platform==\"PS2\"')['critic_score'])\n",
    ")"
   ]
  },
  {
   "cell_type": "markdown",
   "metadata": {},
   "source": [
    "Как и для 'PS4' платформы, так и для других платформ, прослеживается некоторая связь между оценкой критиков и продажами, коэффициент Пирсона держался около 0.35-0.4. Основное ядро игр с высокими продажами концентрируется около оценки 80, все игры с оценками более 95 имеют высокие продажи. Коэффикиент корреляции не очень убедительный, но некоторые прогнозы по оценке критиков делать можно. "
   ]
  },
  {
   "cell_type": "markdown",
   "metadata": {},
   "source": [
    "<div class=\"alert alert-danger\" style=\"border-radius: 15px; box-shadow: 4px 4px 4px; border: 1px solid \">\n",
    "<b> Комментарий ревьюера  ❌</b>\n",
    "    \n",
    "Нас просят сравнить полученный результат с результатами по другим платформам. Здесь используется вся таблица, даже без среза PS4. В итоге коэфф-ты будут накладываться. Рассмотри просто несколько консолей отдельно, код можно зациклить. </div>\n",
    "<div class=\"alert alert-success\" style=\"border-radius: 15px; box-shadow: 4px 4px 4px; border: 1px solid \">\n",
    "<h2> Комментарий ревьюера 2  ✔️</h2>\n",
    "    \n",
    "Отлично. По графикам всегда все лучше видно. Или почти всегда :)</div>"
   ]
  },
  {
   "cell_type": "markdown",
   "metadata": {},
   "source": [
    "<div class=\"alert alert-block alert-info\">\n",
    "    Для сравнения решила построить графики\n",
    "</div>"
   ]
  },
  {
   "cell_type": "markdown",
   "metadata": {},
   "source": [
    "### Распределение игр по жанрам"
   ]
  },
  {
   "cell_type": "markdown",
   "metadata": {},
   "source": [
    "Посмотрим на общее распределение игр по жанрам. Построим диаграмму рассеяния. Заметим, что почти в каждом жанре есть несколько суперпопулярных игр. Самая продаваемая игра в каждом жанре лидирует с большим отрывом от остальных. \n",
    "\n",
    "Самым высоким показателем продаж обладает игра жанра 'Action'. В жанрах 'Puzzle', 'Adventure' и 'Strategy' нет игр с очень высокими продажами."
   ]
  },
  {
   "cell_type": "code",
   "execution_count": 39,
   "metadata": {},
   "outputs": [
    {
     "data": {
      "text/plain": [
       "<matplotlib.collections.PathCollection at 0x7f9ead623d90>"
      ]
     },
     "execution_count": 39,
     "metadata": {},
     "output_type": "execute_result"
    },
    {
     "data": {
      "image/png": "[encoded data removed]",
      "text/plain": [
       "<Figure size 1080x360 with 1 Axes>"
      ]
     },
     "metadata": {
      "needs_background": "light"
     },
     "output_type": "display_data"
    }
   ],
   "source": [
    "fig, ax = plt.subplots(figsize=(15, 5))\n",
    "ax.scatter(\n",
    "    x=data_act['genre'], \n",
    "    y=data_act['sum_sales']\n",
    ")\n"
   ]
  },
  {
   "cell_type": "markdown",
   "metadata": {},
   "source": [
    "Рассмотрим, сколько продано копий игр в сумме для каждого жанра. Самым популярным является жанр 'Action', за ним со значительным отрывом идет жанр 'Shooter'. Затем идут жанры 'Sports' и 'Role-Playing', они одинаково популярны, и их продажи вдвое меньше чем продажи жанра 'Action'. Самые низкие суммарные продажи у стратегий и паззлов."
   ]
  },
  {
   "cell_type": "code",
   "execution_count": 40,
   "metadata": {
    "scrolled": false
   },
   "outputs": [
    {
     "data": {
      "text/plain": [
       "<matplotlib.axes._subplots.AxesSubplot at 0x7f9ead3cee90>"
      ]
     },
     "execution_count": 40,
     "metadata": {},
     "output_type": "execute_result"
    },
    {
     "data": {
      "image/png": "[encoded data removed]",
      "text/plain": [
       "<Figure size 1080x360 with 1 Axes>"
      ]
     },
     "metadata": {
      "needs_background": "light"
     },
     "output_type": "display_data"
    }
   ],
   "source": [
    "data_act.groupby('genre')['sum_sales'].sum().sort_values(ascending=False).reset_index().plot(\n",
    "    x='genre', \n",
    "    y='sum_sales', \n",
    "    kind='bar',\n",
    "    title='Суммарные продажи игр по жанрам',\n",
    "    figsize=(15,5)\n",
    ")"
   ]
  },
  {
   "cell_type": "markdown",
   "metadata": {},
   "source": [
    "Для оценки среднего значения продаж игр в жанре построим соответствующий график. Отметим следующее:\n",
    "- Здесь жанр 'Action' оказался в середине списка. В этом жанре выпускается много игр (в 4 раза больше чем шутеров за актуальный период!), но продажи каждой отдельной игры невысоки.\n",
    "- Жанр 'Shooter' лидирует с большим отрывом. Средний \"шутер\" продается более 1.2 млн раз.\n",
    "- Неплохие показатели средних продаж у спортивных игр и платформеров - 0.7 и 0.6 млн копий на игру.\n",
    "- Хуже всех продаются паззлы, стратегии и приключения - менее 0.2 млн копий на игру. \n",
    "- Остальные жанры показывают среднюю продажу в ~0.5 млн копий."
   ]
  },
  {
   "cell_type": "code",
   "execution_count": 41,
   "metadata": {
    "scrolled": false
   },
   "outputs": [
    {
     "data": {
      "text/plain": [
       "<matplotlib.axes._subplots.AxesSubplot at 0x7f9ead286090>"
      ]
     },
     "execution_count": 41,
     "metadata": {},
     "output_type": "execute_result"
    },
    {
     "data": {
      "image/png": "[encoded data removed]",
      "text/plain": [
       "<Figure size 1080x360 with 1 Axes>"
      ]
     },
     "metadata": {
      "needs_background": "light"
     },
     "output_type": "display_data"
    }
   ],
   "source": [
    "data_act.groupby('genre')['sum_sales'].mean().sort_values(ascending=False).reset_index().plot(\n",
    "    x='genre', \n",
    "    y='sum_sales', \n",
    "    kind='bar',\n",
    "    title='Средние продажи игр по жанрам',\n",
    "    grid=True,\n",
    "    figsize=(15,5)\n",
    ")"
   ]
  },
  {
   "cell_type": "code",
   "execution_count": 42,
   "metadata": {
    "scrolled": false
   },
   "outputs": [
    {
     "data": {
      "text/plain": [
       "<matplotlib.axes._subplots.AxesSubplot at 0x7f9ead19f490>"
      ]
     },
     "execution_count": 42,
     "metadata": {},
     "output_type": "execute_result"
    },
    {
     "data": {
      "image/png": "[encoded data removed]",
      "text/plain": [
       "<Figure size 1080x360 with 1 Axes>"
      ]
     },
     "metadata": {
      "needs_background": "light"
     },
     "output_type": "display_data"
    }
   ],
   "source": [
    "data_act.groupby('genre')['name'].count().sort_values(ascending=False).reset_index().plot(\n",
    "    x='genre', \n",
    "    y='name', \n",
    "    kind='bar',\n",
    "    title='Количество выпущенных игр по жанрам',\n",
    "    grid=True,\n",
    "    figsize=(15,5)\n",
    ")"
   ]
  },
  {
   "cell_type": "markdown",
   "metadata": {},
   "source": [
    "В целом, игры жанров 'Shooter' и 'Sports' популярны в актуальный период времени. Также хорошие показатели имеют жанры 'Platform' и 'Role-Playing'. Выпускается и покупается много игр в жанре 'Action', но в продажи средней игры не очень хорошие. Жанры 'Puzzle', 'Adventure' и 'Strategy' имеют низкие показатели продаж."
   ]
  },
  {
   "cell_type": "markdown",
   "metadata": {},
   "source": [
    "<div class=\"alert alert-success \" style=\"border-radius: 15px; box-shadow: 4px 4px 4px; border: 1px solid \">\n",
    "<h2> Комментарий ревьюера 2 ✔️</h2>\n",
    "    \n",
    "Правильно делаешь, что рассматриваешь и средние продажи тоже. Жанр может брать объемы количеством.</div>"
   ]
  },
  {
   "cell_type": "markdown",
   "metadata": {},
   "source": [
    "### Вывод"
   ]
  },
  {
   "cell_type": "markdown",
   "metadata": {},
   "source": [
    "Провели исследовательский анализ данных о продажах компьютерных игр.\n",
    "- Исследована динамика количества выпущенных игр по времени. Показано, что до 1995 года выпускалось мало игр, пик производства приходится на 2008-2009 годы, к 2013 количество выпускаетых игр в год снизилось и оставалось стабильным. \n",
    "- Изучение суммарных продаж игр для различных платформ позволило выделить наиболее успешные группы платформ. Больше всего продаж у платформы группы PS, также популярны XBox, Wii и DS. В последние годы наиболее продаваемыми оказались игры на платформах PS4 и XOne, также популярна 3DS.\n",
    "- При исследовании распределения объемов продаж по годам для отдельных платформ, было обнаружено, что игровые платформы имеют жизненный цикл. Этот цикл длится около 10 лет, после 6-7 лет от выпуска платформы её продажи начинают стремительно падать. На момент исследования только две популярные платформы находятся на середине жизненного цикла - PS4 и XOne.\n",
    "- Анализ статистических показателей продаж игр по платформам показал, что основную выручку для каждой платформы делают несколько суперпопулярных игр. Большое количество игр, выпущенных даже на самых популярных платформах, продается очень плохо. Для самых лучших платформ продажи медианной игры за актуальный период времени составляют около 0.25 млн копий. \n",
    "- Показано, что отзывы покупателей никак не связаны с продажами игр. На основе отзывов критиков можно делать некоторые прогнозы о продажах игр. \n",
    "- Выявлены наиболее популярные жанры - 'Action', 'Shooter', 'Sports', 'Role-Playing'. Следует отметить, что высокие показатели продаж жанр 'Action' обусловлены огромным количеством выпущенных игр и хорошими продажами нескольких избранных игр. То есть отдельная игра жанра 'Action' будет успешна с маленькой вероятностью, при большой популярности жанра в целом."
   ]
  },
  {
   "cell_type": "markdown",
   "metadata": {},
   "source": [
    "## Особенности рынка для разных регионов"
   ]
  },
  {
   "cell_type": "markdown",
   "metadata": {},
   "source": [
    "### Популярные платформы для разных регионов"
   ]
  },
  {
   "cell_type": "markdown",
   "metadata": {},
   "source": [
    "Для пользователей каждого региона (NA, EU, JP) определим топ-5 платформ."
   ]
  },
  {
   "cell_type": "code",
   "execution_count": 43,
   "metadata": {},
   "outputs": [
    {
     "data": {
      "text/plain": [
       "['PS4', 'XOne', 'X360', 'PS3', '3DS']"
      ]
     },
     "execution_count": 43,
     "metadata": {},
     "output_type": "execute_result"
    }
   ],
   "source": [
    "platform_best_na = data_act.groupby('platform')['na_sales'].sum().sort_values(ascending = False).index[:5].tolist()\n",
    "platform_best_na"
   ]
  },
  {
   "cell_type": "code",
   "execution_count": 44,
   "metadata": {
    "scrolled": true
   },
   "outputs": [
    {
     "data": {
      "text/plain": [
       "<matplotlib.axes._subplots.AxesSubplot at 0x7f9eb6aa8950>"
      ]
     },
     "execution_count": 44,
     "metadata": {},
     "output_type": "execute_result"
    },
    {
     "data": {
      "image/png": "[encoded data removed]",
      "text/plain": [
       "<Figure size 432x288 with 1 Axes>"
      ]
     },
     "metadata": {
      "needs_background": "light"
     },
     "output_type": "display_data"
    }
   ],
   "source": [
    "data_act.groupby('platform')['na_sales'].sum().sort_values(ascending = False).reset_index().plot(x='platform', kind='bar') #ylabel='sales')"
   ]
  },
  {
   "cell_type": "markdown",
   "metadata": {},
   "source": [
    "В зоне Северной Америки наиболее популярны платформы Play Station (PS3 и PS4), XBox ('XOne', 'X360'). Разница в продажах между этими производителями невелика. Платформа 3DS входит в пятерку лидеров, но продажи на этой платформе в 3 раза ниже, чем на лидирующей."
   ]
  },
  {
   "cell_type": "code",
   "execution_count": 45,
   "metadata": {},
   "outputs": [
    {
     "data": {
      "text/plain": [
       "['PS4', 'PS3', 'XOne', 'X360', '3DS']"
      ]
     },
     "execution_count": 45,
     "metadata": {},
     "output_type": "execute_result"
    }
   ],
   "source": [
    "platform_best_eu = data_act.groupby('platform')['eu_sales'].sum().sort_values(ascending = False).index[:5].tolist()\n",
    "platform_best_eu"
   ]
  },
  {
   "cell_type": "code",
   "execution_count": 46,
   "metadata": {
    "scrolled": true
   },
   "outputs": [
    {
     "data": {
      "text/plain": [
       "<matplotlib.axes._subplots.AxesSubplot at 0x7f9ead17d190>"
      ]
     },
     "execution_count": 46,
     "metadata": {},
     "output_type": "execute_result"
    },
    {
     "data": {
      "image/png": "[encoded data removed]",
      "text/plain": [
       "<Figure size 432x288 with 1 Axes>"
      ]
     },
     "metadata": {
      "needs_background": "light"
     },
     "output_type": "display_data"
    }
   ],
   "source": [
    "data_act.groupby('platform')['eu_sales'].sum().sort_values(ascending = False).reset_index().plot(x='platform', kind='bar') #, ylabel='sales')"
   ]
  },
  {
   "cell_type": "markdown",
   "metadata": {},
   "source": [
    "В европейской зоне платформа PS4 уходит в большой отрыв. Продажи для этой платформы почти втрое выше, чем для конкурирующей XOne. Предыдущие модели PS3 и X360 также входят в пятерку лидеров, и XBox снова проигрывает Play Station. Замыкает пятерку лидеров 3DS. PC идет шестым, и также довольно популярен в Европе."
   ]
  },
  {
   "cell_type": "code",
   "execution_count": 47,
   "metadata": {},
   "outputs": [
    {
     "data": {
      "text/plain": [
       "['3DS', 'PS3', 'PSV', 'PS4', 'WiiU']"
      ]
     },
     "execution_count": 47,
     "metadata": {},
     "output_type": "execute_result"
    }
   ],
   "source": [
    "platform_best_jp = data_act.groupby('platform')['jp_sales'].sum().sort_values(ascending = False).index[:5].tolist()\n",
    "platform_best_jp"
   ]
  },
  {
   "cell_type": "code",
   "execution_count": 48,
   "metadata": {},
   "outputs": [
    {
     "data": {
      "text/plain": [
       "<matplotlib.axes._subplots.AxesSubplot at 0x7f9ead0fd590>"
      ]
     },
     "execution_count": 48,
     "metadata": {},
     "output_type": "execute_result"
    },
    {
     "data": {
      "image/png": "[encoded data removed]",
      "text/plain": [
       "<Figure size 432x288 with 1 Axes>"
      ]
     },
     "metadata": {
      "needs_background": "light"
     },
     "output_type": "display_data"
    }
   ],
   "source": [
    "data_act.groupby('platform')['jp_sales'].sum().sort_values(ascending = False).reset_index().plot(x='platform', kind='bar')#, ylabel='sales')"
   ]
  },
  {
   "cell_type": "markdown",
   "metadata": {},
   "source": [
    "На японском рынке бесспорным лидером является 3DS. Имеют некоторую популярность и платформы группы PS. Отметим PSV, которая в других рейтингах была в хвосте, в Японии оказалась на третьем месте по продажам. Замыкает пятёрку лидеров WiiU."
   ]
  },
  {
   "cell_type": "markdown",
   "metadata": {},
   "source": [
    "<div class=\"alert alert-success\" style=\"border-radius: 15px; box-shadow: 4px 4px 4px; border: 1px solid \">\n",
    "<h2> Комментарий ревьюера 2 ✔️</h2>\n",
    "    \n",
    "Похоже, что японцы больше любят портативные консоли и родной рынок. Игры на иксбоксы там продвигать точно не стоит :)\n",
    "</div>"
   ]
  },
  {
   "cell_type": "markdown",
   "metadata": {},
   "source": [
    "### Популярные жанры для разных регионов"
   ]
  },
  {
   "cell_type": "markdown",
   "metadata": {},
   "source": [
    "Сравним продажи игр разных жанров для различных географических зон."
   ]
  },
  {
   "cell_type": "code",
   "execution_count": 49,
   "metadata": {},
   "outputs": [
    {
     "data": {
      "text/plain": [
       "['Action', 'Shooter', 'Sports', 'Role-Playing', 'Misc']"
      ]
     },
     "execution_count": 49,
     "metadata": {},
     "output_type": "execute_result"
    }
   ],
   "source": [
    "data_act.groupby('genre')['na_sales'].sum().sort_values(ascending = False).index[:5].tolist()"
   ]
  },
  {
   "cell_type": "code",
   "execution_count": 50,
   "metadata": {
    "scrolled": true
   },
   "outputs": [
    {
     "data": {
      "text/plain": [
       "<matplotlib.axes._subplots.AxesSubplot at 0x7f9eae412b10>"
      ]
     },
     "execution_count": 50,
     "metadata": {},
     "output_type": "execute_result"
    },
    {
     "data": {
      "image/png": "[encoded data removed]",
      "text/plain": [
       "<Figure size 432x288 with 1 Axes>"
      ]
     },
     "metadata": {
      "needs_background": "light"
     },
     "output_type": "display_data"
    }
   ],
   "source": [
    "data_act.groupby('genre')['na_sales'].sum().sort_values(ascending = False).reset_index().plot(x='genre', kind='bar')#, ylabel='sales')"
   ]
  },
  {
   "cell_type": "markdown",
   "metadata": {},
   "source": [
    "В Северной Америке покупают больше всего игр жанров 'Action' и 'Shooter'. Весьма популярны жанры 'Sports' и 'Role-Playing'. Наименьшей популярностью пользуются симуляции, стратегии и паззлы."
   ]
  },
  {
   "cell_type": "code",
   "execution_count": 51,
   "metadata": {
    "scrolled": true
   },
   "outputs": [
    {
     "data": {
      "text/plain": [
       "['Action', 'Shooter', 'Sports', 'Role-Playing', 'Racing']"
      ]
     },
     "execution_count": 51,
     "metadata": {},
     "output_type": "execute_result"
    }
   ],
   "source": [
    "data_act.groupby('genre')['eu_sales'].sum().sort_values(ascending = False).index[:5].tolist()"
   ]
  },
  {
   "cell_type": "code",
   "execution_count": 52,
   "metadata": {
    "scrolled": true
   },
   "outputs": [
    {
     "data": {
      "text/plain": [
       "<matplotlib.axes._subplots.AxesSubplot at 0x7f9ead00f690>"
      ]
     },
     "execution_count": 52,
     "metadata": {},
     "output_type": "execute_result"
    },
    {
     "data": {
      "image/png": "[encoded data removed]",
      "text/plain": [
       "<Figure size 432x288 with 1 Axes>"
      ]
     },
     "metadata": {
      "needs_background": "light"
     },
     "output_type": "display_data"
    }
   ],
   "source": [
    "data_act.groupby('genre')['eu_sales'].sum().sort_values(ascending = False).reset_index().plot(x='genre', kind='bar')#, ylabel='sales')"
   ]
  },
  {
   "cell_type": "markdown",
   "metadata": {},
   "source": [
    "На европейском рынке ситуация примерно такая же, как и на североамериканском. Четверка лидирующих жанров точно такая же - 'Action', 'Shooter', 'Sports', 'Role-Playing'. Замыкают рейтинг опять же стратегии и паззлы."
   ]
  },
  {
   "cell_type": "code",
   "execution_count": 53,
   "metadata": {
    "scrolled": true
   },
   "outputs": [
    {
     "data": {
      "text/plain": [
       "['Role-Playing', 'Action', 'Misc', 'Fighting', 'Shooter']"
      ]
     },
     "execution_count": 53,
     "metadata": {},
     "output_type": "execute_result"
    }
   ],
   "source": [
    "data_act.groupby('genre')['jp_sales'].sum().sort_values(ascending = False).index[:5].tolist()"
   ]
  },
  {
   "cell_type": "code",
   "execution_count": 54,
   "metadata": {
    "scrolled": true
   },
   "outputs": [
    {
     "data": {
      "text/plain": [
       "<matplotlib.axes._subplots.AxesSubplot at 0x7f9eb6933050>"
      ]
     },
     "execution_count": 54,
     "metadata": {},
     "output_type": "execute_result"
    },
    {
     "data": {
      "image/png": "[encoded data removed]",
      "text/plain": [
       "<Figure size 432x288 with 1 Axes>"
      ]
     },
     "metadata": {
      "needs_background": "light"
     },
     "output_type": "display_data"
    }
   ],
   "source": [
    "data_act.groupby('genre')['jp_sales'].sum().sort_values(ascending = False).reset_index().plot(x='genre', kind='bar')# ylabel='sales')"
   ]
  },
  {
   "cell_type": "markdown",
   "metadata": {},
   "source": [
    "Иначе выглядит распределение продаж в Японии. Здесь лидирующую позицию занимает 'Role-Playing'. 'Action' также очень популярен, занимает вторую позицию в рейтинге. Остальные жанры сильно проигрывают этим двум, например жанр  'Shooter', оказавшийся на пятом месте продается почти на порядок хуже лидера. 'Sports' также не пользуется особым спросом. Единственное, стратегии и паззлы замыкают список, как и в остальном мире."
   ]
  },
  {
   "cell_type": "markdown",
   "metadata": {},
   "source": [
    "### Влияет ли рейтинг ESRB на продажи в отдельном регионе?"
   ]
  },
  {
   "cell_type": "markdown",
   "metadata": {},
   "source": [
    "Изучим, как влияет рейтинг игры на её продажи в различных географических зонах.\n",
    "\n",
    "Оставим небольшую шпаргалку по рейтингам, которые встречаются в наших данных на актуальный период времени. Пропущенные значения заполним значением 'NR' - no rating, без рейтинга. \n",
    "- «E» («Everyone») — «Для всех»: Содержание вполне подходит для возрастной категории от 6 лет. \n",
    "- «E10+» («Everyone 10 and older») — «Для всех от 10 лет и старше»\n",
    "- «T» («Teen») — «Подросткам»: Игра подходит для лиц от 13 лет.\n",
    "- «M» («Mature») — «Для взрослых»: Материалы игры не подходят для подростков младше 17 лет."
   ]
  },
  {
   "cell_type": "markdown",
   "metadata": {},
   "source": [
    "<div class=\"alert alert-danger\" style=\"border-radius: 15px; box-shadow: 4px 4px 4px; border: 1px solid\">\n",
    "<b> Комментарий ревьюера  ❌</b>\n",
    "    \n",
    "Здесь необходимо рассмотреть также и отсутствующий возрастной рейтинг, предварительно заменив его на маркерное значение. Например, на *Нет рейтинга*. Эта задача является отличным примером того, что даже пропущенные значения могут нести в себе важную информацию. Не забудь прокомментировать результат и выдвинуть предположение о причинах разницы распределений, если она будет.\n",
    "</div>"
   ]
  },
  {
   "cell_type": "markdown",
   "metadata": {},
   "source": [
    "<div class=\"alert alert-block alert-info\">\n",
    "    Добавила. Но у меня нет никаких идей насчет игр без рейтинга. Для таких игр сложно определить соответствие критериям? Их в принципе не рассматривает ESRB?\n",
    "</div>"
   ]
  },
  {
   "cell_type": "code",
   "execution_count": 55,
   "metadata": {},
   "outputs": [
    {
     "name": "stderr",
     "output_type": "stream",
     "text": [
      "/opt/conda/lib/python3.7/site-packages/ipykernel_launcher.py:1: SettingWithCopyWarning: \n",
      "A value is trying to be set on a copy of a slice from a DataFrame.\n",
      "Try using .loc[row_indexer,col_indexer] = value instead\n",
      "\n",
      "See the caveats in the documentation: http://pandas.pydata.org/pandas-docs/stable/user_guide/indexing.html#returning-a-view-versus-a-copy\n",
      "  \"\"\"Entry point for launching an IPython kernel.\n"
     ]
    }
   ],
   "source": [
    "data_act['rating'] = data_act['rating'].fillna('NR')"
   ]
  },
  {
   "cell_type": "markdown",
   "metadata": {},
   "source": [
    "<div class=\"alert alert-success\" style=\"border-radius: 15px; box-shadow: 4px 4px 4px; border: 1px solid \">\n",
    "<h2> Комментарий ревьюера 2 ✔️</h2>\n",
    "    \n",
    "Кстати, предупреждения можно отключать:    \n",
    "</div>\n",
    "\n",
    "```python\n",
    "\n",
    "import warnings\n",
    "warnings.filterwarnings('ignore')\n",
    "```"
   ]
  },
  {
   "cell_type": "code",
   "execution_count": 56,
   "metadata": {
    "scrolled": false
   },
   "outputs": [
    {
     "data": {
      "text/plain": [
       "array(['M', 'NR', 'E', 'T', 'E10+'], dtype=object)"
      ]
     },
     "execution_count": 56,
     "metadata": {},
     "output_type": "execute_result"
    }
   ],
   "source": [
    "data_act['rating'].unique()"
   ]
  },
  {
   "cell_type": "code",
   "execution_count": 57,
   "metadata": {
    "scrolled": true
   },
   "outputs": [
    {
     "data": {
      "text/plain": [
       "<matplotlib.axes._subplots.AxesSubplot at 0x7f9eace8d2d0>"
      ]
     },
     "execution_count": 57,
     "metadata": {},
     "output_type": "execute_result"
    },
    {
     "data": {
      "image/png": "[encoded data removed]",
      "text/plain": [
       "<Figure size 432x288 with 1 Axes>"
      ]
     },
     "metadata": {
      "needs_background": "light"
     },
     "output_type": "display_data"
    }
   ],
   "source": [
    "data_act.groupby('rating')['na_sales'].sum().sort_values(ascending = False).reset_index().plot(x='rating', kind='bar')#, ylabel='sales')"
   ]
  },
  {
   "cell_type": "markdown",
   "metadata": {},
   "source": [
    "На североамериканском рынке игры рейтинга 'M' продаются вдвое лучше, чем игры любого другого рейтинга. На втором месте безобидные игры с рейтингом 'E'."
   ]
  },
  {
   "cell_type": "code",
   "execution_count": 58,
   "metadata": {},
   "outputs": [
    {
     "data": {
      "text/plain": [
       "<matplotlib.axes._subplots.AxesSubplot at 0x7f9eace082d0>"
      ]
     },
     "execution_count": 58,
     "metadata": {},
     "output_type": "execute_result"
    },
    {
     "data": {
      "image/png": "[encoded data removed]",
      "text/plain": [
       "<Figure size 432x288 with 1 Axes>"
      ]
     },
     "metadata": {
      "needs_background": "light"
     },
     "output_type": "display_data"
    }
   ],
   "source": [
    "data_act.groupby('rating')['eu_sales'].sum().sort_values(ascending = False).reset_index().plot(x='rating', kind='bar')#, ylabel='sales')"
   ]
  },
  {
   "cell_type": "markdown",
   "metadata": {},
   "source": [
    "Игры рейтинга 'M' также очень популярны в Европе. На втором месте опять же рейтинг 'E', но его позиции убедительнее, чем для североамериканского рынка."
   ]
  },
  {
   "cell_type": "code",
   "execution_count": 59,
   "metadata": {
    "scrolled": true
   },
   "outputs": [
    {
     "data": {
      "text/plain": [
       "<matplotlib.axes._subplots.AxesSubplot at 0x7f9eacd8c7d0>"
      ]
     },
     "execution_count": 59,
     "metadata": {},
     "output_type": "execute_result"
    },
    {
     "data": {
      "image/png": "[encoded data removed]",
      "text/plain": [
       "<Figure size 432x288 with 1 Axes>"
      ]
     },
     "metadata": {
      "needs_background": "light"
     },
     "output_type": "display_data"
    }
   ],
   "source": [
    "data_act.groupby('rating')['jp_sales'].sum().sort_values(ascending = False).reset_index().plot(x='rating', kind='bar')#, ylabel='sales')"
   ]
  },
  {
   "cell_type": "markdown",
   "metadata": {},
   "source": [
    "В Японии на первом месте оказался рейтинг 'NR', игры без рейтинга. После игр без рейтинга идут игры с рейтингом 'T', в других регионах рейтинг 'T' в рейтинге продаж на последнем месте. На втором и третьем месте расположились игры рейтингов 'E' и 'M', хотя их продажи примерно одинаковые.  "
   ]
  },
  {
   "cell_type": "markdown",
   "metadata": {},
   "source": [
    "<div class=\"alert alert-success\" style=\"border-radius: 15px; box-shadow: 4px 4px 4px; border: 1px solid \">\n",
    "<h2> Комментарий ревьюера 2 ✔️</h2>\n",
    "\n",
    "Япония снова отличилась. Скорее всего, дело тут в том, что ESRB работает только на территории СА, в Японии есть аналогичная организация: CERO. Я думаю, что, с одной стороны, иностранным играм они (ESRB) не присваивают рейтинги, поскольку на них уже есть маркировка. Чтобы не было конфликта, так сказать. Так что вполне возможно, что часть игр это продукция Японии или же это корейские игры (там тоже своя организация). С другой стороны, раз они продают игры на своем рынке, то присвоение рейтинга может быть обязательным. Значит, дело еще может быть в том, что наша таблица это склейка двух таблиц: продажи на Западе и на Востоке. Так или иначе, это очень показательный пример. И именно разница в рынках (восточный и западный) наталкивает на мысль о неслучайности пропусков.\n",
    "\n",
    "</div>"
   ]
  },
  {
   "cell_type": "markdown",
   "metadata": {},
   "source": [
    "### Вывод"
   ]
  },
  {
   "cell_type": "markdown",
   "metadata": {},
   "source": [
    "В общем,можно сказать, что японский рынок игр сильно отличается от североамериканского и европейского. Европейский и североамериканский рынки в целом схожи, не считая небольших различий. Выделим некоторые частности.\n",
    "- В Северной Америке Play Station и XBox одинаково популярны, в Европе Play Station популярнее XBox. Для Японии есть свой лидер - 3DS, с ним конкурирует Play Station, а XBox практически не продается.\n",
    "- В Северной Америке и Европе самыми популярными жанрами являются 'Action', 'Shooter' и 'Sports'. В Японии наиболее популярным жанром является 'Role-Playing', который в других регионах был четвертым по продажам. Жанр 'Action' в Японии также оченть популярен.\n",
    "- В Северной Америке и Европе лучше всего продаются игры рейтинга 'M', а в Японии лидируют по продажам игры без рейтинга."
   ]
  },
  {
   "cell_type": "markdown",
   "metadata": {},
   "source": [
    "## Проверка гипотез"
   ]
  },
  {
   "cell_type": "markdown",
   "metadata": {},
   "source": [
    "Нам нужно сравнить пользовательские оценки платформ XOne и PC. Сформулируем нулевую гипотезу следующим образом: средние пользовательские рейтинги платформ Xbox One и PC одинаковые. Альтернативная гипотеза, соответственно, средние пользовательские рейтинги платформ Xbox One и PC разные.\n",
    "\n",
    "Воспользуемся статистическим инструментом t-тест для оценки одинаковости двух совокупностей. Для иллюстрации построим гистограммы."
   ]
  },
  {
   "cell_type": "code",
   "execution_count": 60,
   "metadata": {},
   "outputs": [
    {
     "data": {
      "text/plain": [
       "Ttest_indResult(statistic=array([-2.15505833]), pvalue=array([0.03181256]))"
      ]
     },
     "execution_count": 60,
     "metadata": {},
     "output_type": "execute_result"
    }
   ],
   "source": [
    "results = st.ttest_ind(\n",
    "    data_act.loc[data_act['platform']=='PC', ['user_score']].dropna(), \n",
    "    data_act.loc[data_act['platform']=='XOne', ['user_score']].dropna())\n",
    "\n",
    "results"
   ]
  },
  {
   "cell_type": "markdown",
   "metadata": {},
   "source": [
    "Статистика разности, полученная при использовании метода t-теста, составила ~2 сигма, уровень значимости для этой статистики составил ~0.03. То есть вероятность получить такие или еще большие различия между средними значениями при верной нулевой гипотезе составляет 3%. Возьмем пороговое значение pvalue в 1%. В таком случае мы не можем отвергнуть нулевую гипотезу. То есть пользовательские рейтинги платформ Xbox One и PC одинаковые."
   ]
  },
  {
   "cell_type": "code",
   "execution_count": 61,
   "metadata": {},
   "outputs": [
    {
     "name": "stderr",
     "output_type": "stream",
     "text": [
      "/opt/conda/lib/python3.7/site-packages/matplotlib/axes/_axes.py:6721: RuntimeWarning: All-NaN slice encountered\n",
      "  xmin = min(xmin, np.nanmin(xi))\n",
      "/opt/conda/lib/python3.7/site-packages/matplotlib/axes/_axes.py:6722: RuntimeWarning: All-NaN slice encountered\n",
      "  xmax = max(xmax, np.nanmax(xi))\n"
     ]
    },
    {
     "data": {
      "text/plain": [
       "<matplotlib.legend.Legend at 0x7f9eaa1731d0>"
      ]
     },
     "execution_count": 61,
     "metadata": {},
     "output_type": "execute_result"
    },
    {
     "data": {
      "image/png": "[encoded data removed]",
      "text/plain": [
       "<Figure size 504x360 with 1 Axes>"
      ]
     },
     "metadata": {
      "needs_background": "light"
     },
     "output_type": "display_data"
    }
   ],
   "source": [
    "fig, ax = plt.subplots(figsize=(7, 5))\n",
    "\n",
    "ax.hist(data_act.loc[data_act['platform']=='PC', ['user_score']], bins=20, label='PC', alpha=0.75)\n",
    "ax.hist(data_act.loc[data_act['platform']=='XOne', ['user_score']], bins=20, label='XOne', alpha=0.5)\n",
    "ax.set_xlabel('Оценка пользователей')  \n",
    "ax.set_ylabel('Кол-во игр')\n",
    "ax.legend()"
   ]
  },
  {
   "cell_type": "markdown",
   "metadata": {},
   "source": [
    "<div class=\"alert alert-success\" style=\"border-radius: 15px; box-shadow: 4px 4px 4px; border: 1px solid \">\n",
    "<h2> Комментарий ревьюера 2 ✔️</h2>\n",
    "    \n",
    "Думаю, причина такого поведения кроется в реализации метода hist для объекта ax. С данными все в порядке: </div>"
   ]
  },
  {
   "cell_type": "code",
   "execution_count": 90,
   "metadata": {},
   "outputs": [
    {
     "data": {
      "text/plain": [
       "array([[<matplotlib.axes._subplots.AxesSubplot object at 0x7f9e8ebeda90>]],\n",
       "      dtype=object)"
      ]
     },
     "execution_count": 90,
     "metadata": {},
     "output_type": "execute_result"
    },
    {
     "data": {
      "image/png": "[encoded data removed]",
      "text/plain": [
       "<Figure size 432x288 with 1 Axes>"
      ]
     },
     "metadata": {
      "needs_background": "light"
     },
     "output_type": "display_data"
    }
   ],
   "source": [
    "# КОД РЕВЬЮЕРА\n",
    "\n",
    "data_act.loc[data_act['platform']=='PC', ['user_score']].hist()"
   ]
  },
  {
   "cell_type": "markdown",
   "metadata": {},
   "source": [
    "<div class=\"alert alert-success\" style=\"border-radius: 15px; box-shadow: 4px 4px 4px; border: 1px solid \">\n",
    "<h2> Комментарий ревьюера 2 ✔️</h2>\n",
    "    \n",
    "Кстати, можно в группировке сделать: </div>"
   ]
  },
  {
   "cell_type": "code",
   "execution_count": 83,
   "metadata": {},
   "outputs": [
    {
     "data": {
      "image/png": "[encoded data removed]",
      "text/plain": [
       "<Figure size 432x288 with 1 Axes>"
      ]
     },
     "metadata": {
      "needs_background": "light"
     },
     "output_type": "display_data"
    }
   ],
   "source": [
    "# КОД РЕВЬЮЕРА\n",
    "\n",
    "data_act.query('platform in (\"PC\", \"XOne\")').groupby('platform')['user_score'].plot.hist(legend=True, alpha=0.6)\n",
    "\n",
    "plt.title('Заголовок')\n",
    "plt.xlabel('Подпись')\n",
    "plt.ylabel('Подпись')\n",
    "\n",
    "plt.show()"
   ]
  },
  {
   "cell_type": "markdown",
   "metadata": {},
   "source": [
    "Другой задачей было сравнить пользовательские рейтинги жанров Action (англ. «действие», экшен-игры) и Sports (англ. «спортивные соревнования»). Нулевую гипотезу сформулируем следующим образом: средние пользовательские рейтинги жанров Action и Sports равны. Альтернативная гипотеза - средние пользовательские рейтинги жанров Action и Sports разные. Для проверки гипотез воспользуемся t-тестом, для иллюстрации построим гистограммы."
   ]
  },
  {
   "cell_type": "code",
   "execution_count": 62,
   "metadata": {},
   "outputs": [
    {
     "data": {
      "text/plain": [
       "Ttest_indResult(statistic=array([13.14423939]), pvalue=array([4.28416431e-35]))"
      ]
     },
     "execution_count": 62,
     "metadata": {},
     "output_type": "execute_result"
    }
   ],
   "source": [
    "results = st.ttest_ind(\n",
    "    data_act.loc[data_act['genre']=='Action', ['user_score']].dropna(), \n",
    "    data_act.loc[data_act['genre']=='Sports', ['user_score']].dropna())\n",
    "\n",
    "results"
   ]
  },
  {
   "cell_type": "markdown",
   "metadata": {},
   "source": [
    "Статистика разности, полученная при использовании метода t-теста, составила более 13 стандартных отклонений, уровень значимости для этой статистики составил 4е-35. То есть вероятность получить такие или еще большие различия между средними значениями при верной нулевой гипотезе ничтожно мала. Возьмем пороговое значение pvalue в 1%, и отвергнем нулевую гипотезу. Таким образом, мы показали, что средние пользовательские рейтинги жанров Action и Sports разные."
   ]
  },
  {
   "cell_type": "code",
   "execution_count": 63,
   "metadata": {},
   "outputs": [
    {
     "data": {
      "text/plain": [
       "<matplotlib.legend.Legend at 0x7f9eabe286d0>"
      ]
     },
     "execution_count": 63,
     "metadata": {},
     "output_type": "execute_result"
    },
    {
     "data": {
      "image/png": "[encoded data removed]",
      "text/plain": [
       "<Figure size 504x360 with 1 Axes>"
      ]
     },
     "metadata": {
      "needs_background": "light"
     },
     "output_type": "display_data"
    }
   ],
   "source": [
    "fig, ax = plt.subplots(figsize=(7, 5))\n",
    "ax.hist(data_act.loc[data_act['genre']=='Action', ['user_score']], bins=20, label='Action', alpha=0.75)\n",
    "ax.hist(data_act.loc[data_act['genre']=='Sports', ['user_score']], bins=20, label='Sports', alpha=0.75)\n",
    "ax.set_xlabel('Оценка пользователей')  \n",
    "ax.set_ylabel('Кол-во игр')\n",
    "ax.legend()\n"
   ]
  },
  {
   "cell_type": "markdown",
   "metadata": {},
   "source": [
    "### Вывод"
   ]
  },
  {
   "cell_type": "markdown",
   "metadata": {},
   "source": [
    "- Сравнили пользовательские оценки для игр разных платформ на примере XOne и PC. Приняли, что средние пользовательские рейтинги платформ Xbox One и PC одинаковые. \n",
    "- Изучили, как отзываются пользователи об играх разных жанров на примере жанров 'Action' и 'Sports'. Обнаружили, что средние пользовательские рейтинги жанров 'Action' и 'Sports' разные."
   ]
  },
  {
   "cell_type": "markdown",
   "metadata": {},
   "source": [
    "## Общий вывод"
   ]
  },
  {
   "cell_type": "markdown",
   "metadata": {},
   "source": [
    "Перед нами была поставлена задача изучить информацию о рынке компьютерных игр и выделить закономерности, полезные для прогнозирования продаж игр в последующие года. Для решения поставленной задачи были предприняты следующие шаги:\n",
    "- Получены данные о продажах, оценках и рейтинге компьютерных игр в период от 1980 до 2016 года. Обнаружено, что имеющиеся данные подходят для выявления ситуации на рынке игр. Посчитано и добавлено в датасет количество проданных копий игры по миру.\n",
    "- Информация о компьютерных играх была предобработана для дальнейшего анализа: часть пропусков заполнена подходящими значениями, данные приведены к нужному типу.\n",
    "- Провели исследовательский анализ данных, в ходе которого обнаружены следующие закономерности:\n",
    "    - Компьютерные игры начали массово выпускаться с 1995 года, пик производства пришелся на 2008 год, к 2013 году производство снизилось и оставалось стабильным. Выделен актуальный период времени для прогнозирования продаж на 20017 год - с 2013 года.\n",
    "    - Игровые платформы имеют жизненный цикл. Этот цикл длится около 10 лет, после 6-7 лет от выпуска платформы её продажи падают.\n",
    "    - Выделены наиболее успешные за все время популярности компьютерных игр группы платформ, определены наиболее перспективные платформы на момент исследования (конец 2016 года) - PS4 и XOne.\n",
    "    - Показано, что основную выручку для каждой платформы делают несколько суперпопулярных игр. Медианные значения продаж игры для самых успешных платформ составляет около 0.25 млн копий.\n",
    "    - Показано, что отзывы покупателей никак не связаны с продажами игр, а на отзывы критиков можно ориентироваться при прогнозировании продаж.\n",
    "    - Выявлены наиболее популярные жанры - 'Action', 'Shooter', 'Sports', 'Role-Playing'.\n",
    "- Изучены особенности рынка компьютерных игр для разных географических зон. Можно представить портрет успешных игр актуального периода для различных локаций следующим образом.\n",
    "    - Популярная игра в Европе имеет рейтинг 'M', жанр 'Action', 'Shooter' и 'Sports' и выходит на платформе PS4.\n",
    "    - Для американского рынка подходит такая же игра, экшн, шутер или спортивная, рейтинга 'M', но может выпускаться как на платформе PS4, так и на XOne.\n",
    "    - В японии портрет успешной игры отличается радикально. Самым популярным жанром является 'Role-Playing', также успешной может быть игра жанра 'Action'. Игры с высокими продажами не имеют рейтинга и выходят на платформе 3DS. \n",
    "- Было проверено несколько гипотез, касающихся вопроса различий в пользовательских оценках для разных групп игр.\n",
    "    - Была принята гипотеза о равенстве пользовательских оценок платформ XOne и PC.\n",
    "    - Обнаружено, что средние пользовательские рейтинги жанров 'Action' и 'Sports' разные."
   ]
  },
  {
   "cell_type": "markdown",
   "metadata": {},
   "source": [
    "<div class=\"alert alert-success\" style=\"border-radius: 15px; box-shadow: 4px 4px 4px; border: 1px solid \">\n",
    "<h2> Комментарий ревьюера 2 ✔️</h2>\n",
    "    \n",
    "Все отлично :)</div>"
   ]
  }
 ],
 "metadata": {
  "ExecuteTimeLog": [
   {
    "duration": 1383,
    "start_time": "2022-02-13T07:47:41.742Z"
   },
   {
    "duration": 3033,
    "start_time": "2022-02-13T07:47:43.129Z"
   },
   {
    "duration": -5058,
    "start_time": "2022-02-13T07:47:51.227Z"
   },
   {
    "duration": -5058,
    "start_time": "2022-02-13T07:47:51.229Z"
   },
   {
    "duration": -5057,
    "start_time": "2022-02-13T07:47:51.230Z"
   },
   {
    "duration": -5056,
    "start_time": "2022-02-13T07:47:51.232Z"
   },
   {
    "duration": -5056,
    "start_time": "2022-02-13T07:47:51.234Z"
   },
   {
    "duration": -5056,
    "start_time": "2022-02-13T07:47:51.236Z"
   },
   {
    "duration": -5055,
    "start_time": "2022-02-13T07:47:51.238Z"
   },
   {
    "duration": -5055,
    "start_time": "2022-02-13T07:47:51.240Z"
   },
   {
    "duration": -5054,
    "start_time": "2022-02-13T07:47:51.242Z"
   },
   {
    "duration": -5053,
    "start_time": "2022-02-13T07:47:51.243Z"
   },
   {
    "duration": -5053,
    "start_time": "2022-02-13T07:47:51.245Z"
   },
   {
    "duration": -5051,
    "start_time": "2022-02-13T07:47:51.246Z"
   },
   {
    "duration": -5054,
    "start_time": "2022-02-13T07:47:51.251Z"
   },
   {
    "duration": -5054,
    "start_time": "2022-02-13T07:47:51.253Z"
   },
   {
    "duration": -5067,
    "start_time": "2022-02-13T07:47:51.268Z"
   },
   {
    "duration": -5065,
    "start_time": "2022-02-13T07:47:51.269Z"
   },
   {
    "duration": -5048,
    "start_time": "2022-02-13T07:47:51.271Z"
   },
   {
    "duration": -5048,
    "start_time": "2022-02-13T07:47:51.273Z"
   },
   {
    "duration": -5046,
    "start_time": "2022-02-13T07:47:51.274Z"
   },
   {
    "duration": -5046,
    "start_time": "2022-02-13T07:47:51.276Z"
   },
   {
    "duration": -5045,
    "start_time": "2022-02-13T07:47:51.277Z"
   },
   {
    "duration": -5044,
    "start_time": "2022-02-13T07:47:51.278Z"
   },
   {
    "duration": -5044,
    "start_time": "2022-02-13T07:47:51.280Z"
   },
   {
    "duration": -5043,
    "start_time": "2022-02-13T07:47:51.281Z"
   },
   {
    "duration": -5043,
    "start_time": "2022-02-13T07:47:51.285Z"
   },
   {
    "duration": -5043,
    "start_time": "2022-02-13T07:47:51.287Z"
   },
   {
    "duration": -5090,
    "start_time": "2022-02-13T07:47:51.335Z"
   },
   {
    "duration": -5115,
    "start_time": "2022-02-13T07:47:51.363Z"
   },
   {
    "duration": -5116,
    "start_time": "2022-02-13T07:47:51.365Z"
   },
   {
    "duration": -5162,
    "start_time": "2022-02-13T07:47:51.413Z"
   },
   {
    "duration": -5174,
    "start_time": "2022-02-13T07:47:51.427Z"
   },
   {
    "duration": -5173,
    "start_time": "2022-02-13T07:47:51.429Z"
   },
   {
    "duration": -5173,
    "start_time": "2022-02-13T07:47:51.430Z"
   },
   {
    "duration": -5173,
    "start_time": "2022-02-13T07:47:51.432Z"
   },
   {
    "duration": -5172,
    "start_time": "2022-02-13T07:47:51.433Z"
   },
   {
    "duration": -5171,
    "start_time": "2022-02-13T07:47:51.434Z"
   },
   {
    "duration": -5171,
    "start_time": "2022-02-13T07:47:51.436Z"
   },
   {
    "duration": -5114,
    "start_time": "2022-02-13T07:47:51.437Z"
   },
   {
    "duration": -5114,
    "start_time": "2022-02-13T07:47:51.439Z"
   },
   {
    "duration": -5113,
    "start_time": "2022-02-13T07:47:51.440Z"
   },
   {
    "duration": -5113,
    "start_time": "2022-02-13T07:47:51.442Z"
   },
   {
    "duration": -5163,
    "start_time": "2022-02-13T07:47:51.495Z"
   },
   {
    "duration": -5163,
    "start_time": "2022-02-13T07:47:51.497Z"
   },
   {
    "duration": -5163,
    "start_time": "2022-02-13T07:47:51.499Z"
   },
   {
    "duration": -5166,
    "start_time": "2022-02-13T07:47:51.504Z"
   },
   {
    "duration": -5165,
    "start_time": "2022-02-13T07:47:51.505Z"
   },
   {
    "duration": -5166,
    "start_time": "2022-02-13T07:47:51.507Z"
   },
   {
    "duration": -5176,
    "start_time": "2022-02-13T07:47:51.519Z"
   },
   {
    "duration": -5175,
    "start_time": "2022-02-13T07:47:51.521Z"
   },
   {
    "duration": -5175,
    "start_time": "2022-02-13T07:47:51.523Z"
   },
   {
    "duration": -5176,
    "start_time": "2022-02-13T07:47:51.526Z"
   },
   {
    "duration": -5176,
    "start_time": "2022-02-13T07:47:51.528Z"
   },
   {
    "duration": -5176,
    "start_time": "2022-02-13T07:47:51.530Z"
   },
   {
    "duration": -5176,
    "start_time": "2022-02-13T07:47:51.532Z"
   },
   {
    "duration": -5176,
    "start_time": "2022-02-13T07:47:51.534Z"
   },
   {
    "duration": -5176,
    "start_time": "2022-02-13T07:47:51.536Z"
   },
   {
    "duration": -5177,
    "start_time": "2022-02-13T07:47:51.538Z"
   },
   {
    "duration": -5115,
    "start_time": "2022-02-13T07:47:51.539Z"
   },
   {
    "duration": 425,
    "start_time": "2022-02-13T14:44:00.051Z"
   },
   {
    "duration": 1398,
    "start_time": "2022-02-13T14:44:03.419Z"
   },
   {
    "duration": 66,
    "start_time": "2022-02-13T14:44:06.830Z"
   },
   {
    "duration": 1408,
    "start_time": "2022-02-13T17:19:06.454Z"
   },
   {
    "duration": 63,
    "start_time": "2022-02-13T17:19:09.168Z"
   },
   {
    "duration": 1366,
    "start_time": "2022-02-13T17:31:03.686Z"
   },
   {
    "duration": 67,
    "start_time": "2022-02-13T17:31:05.054Z"
   },
   {
    "duration": 36,
    "start_time": "2022-02-13T17:31:05.124Z"
   },
   {
    "duration": 148,
    "start_time": "2022-02-13T17:31:05.163Z"
   },
   {
    "duration": 148,
    "start_time": "2022-02-13T17:31:05.314Z"
   },
   {
    "duration": 135,
    "start_time": "2022-02-13T17:31:05.464Z"
   },
   {
    "duration": 199,
    "start_time": "2022-02-13T17:31:05.602Z"
   },
   {
    "duration": 163,
    "start_time": "2022-02-13T17:31:05.806Z"
   },
   {
    "duration": 106,
    "start_time": "2022-02-13T17:31:05.973Z"
   },
   {
    "duration": 177,
    "start_time": "2022-02-13T17:31:06.081Z"
   },
   {
    "duration": 113,
    "start_time": "2022-02-13T17:31:06.261Z"
   },
   {
    "duration": 137,
    "start_time": "2022-02-13T17:31:06.376Z"
   },
   {
    "duration": 109,
    "start_time": "2022-02-13T17:31:06.515Z"
   },
   {
    "duration": 107,
    "start_time": "2022-02-13T17:31:06.627Z"
   },
   {
    "duration": 160,
    "start_time": "2022-02-13T17:31:06.736Z"
   },
   {
    "duration": 168,
    "start_time": "2022-02-13T17:31:06.899Z"
   },
   {
    "duration": 107,
    "start_time": "2022-02-13T17:31:07.070Z"
   },
   {
    "duration": 111,
    "start_time": "2022-02-13T17:31:07.180Z"
   },
   {
    "duration": 130,
    "start_time": "2022-02-13T17:31:07.294Z"
   },
   {
    "duration": 755,
    "start_time": "2022-02-13T17:31:07.426Z"
   },
   {
    "duration": -2408,
    "start_time": "2022-02-13T17:31:10.595Z"
   },
   {
    "duration": -2411,
    "start_time": "2022-02-13T17:31:10.599Z"
   },
   {
    "duration": -2411,
    "start_time": "2022-02-13T17:31:10.602Z"
   },
   {
    "duration": -2412,
    "start_time": "2022-02-13T17:31:10.605Z"
   },
   {
    "duration": -2413,
    "start_time": "2022-02-13T17:31:10.608Z"
   },
   {
    "duration": -2414,
    "start_time": "2022-02-13T17:31:10.611Z"
   },
   {
    "duration": -2415,
    "start_time": "2022-02-13T17:31:10.614Z"
   },
   {
    "duration": -2416,
    "start_time": "2022-02-13T17:31:10.617Z"
   },
   {
    "duration": -2416,
    "start_time": "2022-02-13T17:31:10.620Z"
   },
   {
    "duration": -2418,
    "start_time": "2022-02-13T17:31:10.624Z"
   },
   {
    "duration": -2422,
    "start_time": "2022-02-13T17:31:10.631Z"
   },
   {
    "duration": -2423,
    "start_time": "2022-02-13T17:31:10.634Z"
   },
   {
    "duration": -2424,
    "start_time": "2022-02-13T17:31:10.637Z"
   },
   {
    "duration": -2424,
    "start_time": "2022-02-13T17:31:10.639Z"
   },
   {
    "duration": -2426,
    "start_time": "2022-02-13T17:31:10.643Z"
   },
   {
    "duration": -2426,
    "start_time": "2022-02-13T17:31:10.645Z"
   },
   {
    "duration": -2379,
    "start_time": "2022-02-13T17:31:10.649Z"
   },
   {
    "duration": -2380,
    "start_time": "2022-02-13T17:31:10.652Z"
   },
   {
    "duration": -2381,
    "start_time": "2022-02-13T17:31:10.655Z"
   },
   {
    "duration": -2382,
    "start_time": "2022-02-13T17:31:10.658Z"
   },
   {
    "duration": -2383,
    "start_time": "2022-02-13T17:31:10.661Z"
   },
   {
    "duration": -2384,
    "start_time": "2022-02-13T17:31:10.664Z"
   },
   {
    "duration": -2385,
    "start_time": "2022-02-13T17:31:10.667Z"
   },
   {
    "duration": -2390,
    "start_time": "2022-02-13T17:31:10.674Z"
   },
   {
    "duration": -2391,
    "start_time": "2022-02-13T17:31:10.677Z"
   },
   {
    "duration": -2391,
    "start_time": "2022-02-13T17:31:10.680Z"
   },
   {
    "duration": -2415,
    "start_time": "2022-02-13T17:31:10.705Z"
   },
   {
    "duration": -2429,
    "start_time": "2022-02-13T17:31:10.720Z"
   },
   {
    "duration": -2430,
    "start_time": "2022-02-13T17:31:10.723Z"
   },
   {
    "duration": -2432,
    "start_time": "2022-02-13T17:31:10.726Z"
   },
   {
    "duration": -2434,
    "start_time": "2022-02-13T17:31:10.730Z"
   },
   {
    "duration": -2461,
    "start_time": "2022-02-13T17:31:10.759Z"
   },
   {
    "duration": -2463,
    "start_time": "2022-02-13T17:31:10.762Z"
   },
   {
    "duration": -2464,
    "start_time": "2022-02-13T17:31:10.765Z"
   },
   {
    "duration": -2467,
    "start_time": "2022-02-13T17:31:10.769Z"
   },
   {
    "duration": -2467,
    "start_time": "2022-02-13T17:31:10.771Z"
   },
   {
    "duration": -2469,
    "start_time": "2022-02-13T17:31:10.774Z"
   },
   {
    "duration": -2473,
    "start_time": "2022-02-13T17:31:10.779Z"
   },
   {
    "duration": -2476,
    "start_time": "2022-02-13T17:31:10.784Z"
   },
   {
    "duration": -2416,
    "start_time": "2022-02-13T17:31:10.787Z"
   },
   {
    "duration": 324,
    "start_time": "2022-02-13T17:32:14.376Z"
   },
   {
    "duration": 560,
    "start_time": "2022-02-13T17:32:20.565Z"
   },
   {
    "duration": 321,
    "start_time": "2022-02-13T17:32:25.542Z"
   },
   {
    "duration": 14,
    "start_time": "2022-02-13T17:32:37.944Z"
   },
   {
    "duration": 503,
    "start_time": "2022-02-13T17:32:58.025Z"
   },
   {
    "duration": 462,
    "start_time": "2022-02-13T17:33:04.336Z"
   },
   {
    "duration": 451,
    "start_time": "2022-02-13T17:33:12.155Z"
   },
   {
    "duration": 10,
    "start_time": "2022-02-13T17:33:22.792Z"
   },
   {
    "duration": 9,
    "start_time": "2022-02-13T17:33:24.096Z"
   },
   {
    "duration": 12,
    "start_time": "2022-02-13T17:33:28.172Z"
   },
   {
    "duration": 578,
    "start_time": "2022-02-13T17:33:29.247Z"
   },
   {
    "duration": 486,
    "start_time": "2022-02-13T17:33:35.741Z"
   },
   {
    "duration": 406,
    "start_time": "2022-02-13T17:33:57.395Z"
   },
   {
    "duration": 548,
    "start_time": "2022-02-13T17:34:13.291Z"
   },
   {
    "duration": 551,
    "start_time": "2022-02-13T17:34:24.039Z"
   },
   {
    "duration": 15,
    "start_time": "2022-02-13T17:34:30.624Z"
   },
   {
    "duration": 419,
    "start_time": "2022-02-13T17:34:34.694Z"
   },
   {
    "duration": 462,
    "start_time": "2022-02-13T17:34:41.727Z"
   },
   {
    "duration": 453,
    "start_time": "2022-02-13T17:34:52.427Z"
   },
   {
    "duration": 437,
    "start_time": "2022-02-13T17:40:21.957Z"
   },
   {
    "duration": 556,
    "start_time": "2022-02-13T17:43:25.118Z"
   },
   {
    "duration": 81,
    "start_time": "2022-02-13T17:48:29.277Z"
   },
   {
    "duration": 345,
    "start_time": "2022-02-13T17:48:36.963Z"
   },
   {
    "duration": 321,
    "start_time": "2022-02-13T17:49:05.834Z"
   },
   {
    "duration": 255,
    "start_time": "2022-02-13T17:49:12.015Z"
   },
   {
    "duration": 301,
    "start_time": "2022-02-13T17:49:26.823Z"
   },
   {
    "duration": 619,
    "start_time": "2022-02-13T17:50:55.901Z"
   },
   {
    "duration": 693,
    "start_time": "2022-02-13T17:51:06.821Z"
   },
   {
    "duration": 619,
    "start_time": "2022-02-13T17:51:14.452Z"
   },
   {
    "duration": 815,
    "start_time": "2022-02-13T17:55:19.141Z"
   },
   {
    "duration": 802,
    "start_time": "2022-02-13T17:56:25.193Z"
   },
   {
    "duration": 942,
    "start_time": "2022-02-13T17:58:15.392Z"
   },
   {
    "duration": 12,
    "start_time": "2022-02-13T17:58:48.471Z"
   },
   {
    "duration": 511,
    "start_time": "2022-02-13T17:58:56.669Z"
   },
   {
    "duration": 90,
    "start_time": "2022-02-13T17:59:20.781Z"
   },
   {
    "duration": 344,
    "start_time": "2022-02-13T17:59:31.980Z"
   },
   {
    "duration": 581,
    "start_time": "2022-02-13T17:59:43.539Z"
   },
   {
    "duration": 9,
    "start_time": "2022-02-13T17:59:46.299Z"
   },
   {
    "duration": 9,
    "start_time": "2022-02-13T17:59:51.847Z"
   },
   {
    "duration": 817,
    "start_time": "2022-02-13T18:00:41.044Z"
   },
   {
    "duration": 914,
    "start_time": "2022-02-13T18:01:30.465Z"
   },
   {
    "duration": 989,
    "start_time": "2022-02-13T18:02:14.768Z"
   },
   {
    "duration": 922,
    "start_time": "2022-02-13T18:03:55.061Z"
   },
   {
    "duration": 1147,
    "start_time": "2022-02-13T18:07:24.064Z"
   },
   {
    "duration": 946,
    "start_time": "2022-02-13T18:07:32.247Z"
   },
   {
    "duration": 1252,
    "start_time": "2022-02-13T18:10:31.081Z"
   },
   {
    "duration": 968,
    "start_time": "2022-02-13T18:10:59.270Z"
   },
   {
    "duration": 956,
    "start_time": "2022-02-13T18:14:48.977Z"
   },
   {
    "duration": 977,
    "start_time": "2022-02-13T18:18:19.333Z"
   },
   {
    "duration": 929,
    "start_time": "2022-02-13T18:18:30.495Z"
   },
   {
    "duration": 918,
    "start_time": "2022-02-13T18:19:36.624Z"
   },
   {
    "duration": 1168,
    "start_time": "2022-02-13T18:20:07.036Z"
   },
   {
    "duration": 85,
    "start_time": "2022-02-13T18:32:44.014Z"
   },
   {
    "duration": 46,
    "start_time": "2022-02-13T18:33:02.960Z"
   },
   {
    "duration": 37,
    "start_time": "2022-02-13T18:34:07.262Z"
   },
   {
    "duration": 321,
    "start_time": "2022-02-13T18:36:10.041Z"
   },
   {
    "duration": 648,
    "start_time": "2022-02-13T18:36:18.554Z"
   },
   {
    "duration": 337,
    "start_time": "2022-02-13T18:36:34.858Z"
   },
   {
    "duration": 10,
    "start_time": "2022-02-13T18:36:42.625Z"
   },
   {
    "duration": 583,
    "start_time": "2022-02-13T18:36:43.727Z"
   },
   {
    "duration": 359,
    "start_time": "2022-02-13T18:36:56.450Z"
   },
   {
    "duration": 7,
    "start_time": "2022-02-13T18:38:41.053Z"
   },
   {
    "duration": 548,
    "start_time": "2022-02-13T18:38:48.110Z"
   },
   {
    "duration": 265,
    "start_time": "2022-02-13T18:39:00.582Z"
   },
   {
    "duration": 7,
    "start_time": "2022-02-13T18:39:45.639Z"
   },
   {
    "duration": 8,
    "start_time": "2022-02-13T18:40:01.260Z"
   },
   {
    "duration": 264,
    "start_time": "2022-02-13T18:40:16.113Z"
   },
   {
    "duration": 278,
    "start_time": "2022-02-13T18:40:39.728Z"
   },
   {
    "duration": 269,
    "start_time": "2022-02-13T18:41:05.035Z"
   },
   {
    "duration": 6,
    "start_time": "2022-02-13T18:41:42.180Z"
   },
   {
    "duration": 1394,
    "start_time": "2022-02-13T18:42:10.561Z"
   },
   {
    "duration": 61,
    "start_time": "2022-02-13T18:42:11.958Z"
   },
   {
    "duration": 251,
    "start_time": "2022-02-13T18:42:12.022Z"
   },
   {
    "duration": 321,
    "start_time": "2022-02-13T18:42:12.277Z"
   },
   {
    "duration": 258,
    "start_time": "2022-02-13T18:42:12.601Z"
   },
   {
    "duration": 274,
    "start_time": "2022-02-13T18:42:12.865Z"
   },
   {
    "duration": 303,
    "start_time": "2022-02-13T18:42:13.142Z"
   },
   {
    "duration": 330,
    "start_time": "2022-02-13T18:42:13.450Z"
   },
   {
    "duration": 347,
    "start_time": "2022-02-13T18:42:13.783Z"
   },
   {
    "duration": 200,
    "start_time": "2022-02-13T18:42:14.133Z"
   },
   {
    "duration": 292,
    "start_time": "2022-02-13T18:42:14.336Z"
   },
   {
    "duration": 182,
    "start_time": "2022-02-13T18:42:14.631Z"
   },
   {
    "duration": 354,
    "start_time": "2022-02-13T18:42:14.816Z"
   },
   {
    "duration": 239,
    "start_time": "2022-02-13T18:42:15.172Z"
   },
   {
    "duration": 335,
    "start_time": "2022-02-13T18:42:15.413Z"
   },
   {
    "duration": 241,
    "start_time": "2022-02-13T18:42:15.751Z"
   },
   {
    "duration": 243,
    "start_time": "2022-02-13T18:42:15.995Z"
   },
   {
    "duration": 182,
    "start_time": "2022-02-13T18:42:16.241Z"
   },
   {
    "duration": 214,
    "start_time": "2022-02-13T18:42:16.426Z"
   },
   {
    "duration": 482,
    "start_time": "2022-02-13T18:42:16.643Z"
   },
   {
    "duration": 503,
    "start_time": "2022-02-13T18:42:17.128Z"
   },
   {
    "duration": 13,
    "start_time": "2022-02-13T18:42:17.634Z"
   },
   {
    "duration": 611,
    "start_time": "2022-02-13T18:42:17.671Z"
   },
   {
    "duration": 347,
    "start_time": "2022-02-13T18:42:18.286Z"
   },
   {
    "duration": 56,
    "start_time": "2022-02-13T18:42:18.636Z"
   },
   {
    "duration": 206,
    "start_time": "2022-02-13T18:42:18.695Z"
   },
   {
    "duration": 235,
    "start_time": "2022-02-13T18:42:18.904Z"
   },
   {
    "duration": 590,
    "start_time": "2022-02-13T18:42:19.142Z"
   },
   {
    "duration": 400,
    "start_time": "2022-02-13T18:42:19.736Z"
   },
   {
    "duration": 593,
    "start_time": "2022-02-13T18:42:20.139Z"
   },
   {
    "duration": 667,
    "start_time": "2022-02-13T18:42:20.734Z"
   },
   {
    "duration": 13,
    "start_time": "2022-02-13T18:42:21.405Z"
   },
   {
    "duration": 697,
    "start_time": "2022-02-13T18:42:21.422Z"
   },
   {
    "duration": 508,
    "start_time": "2022-02-13T18:42:22.122Z"
   },
   {
    "duration": 987,
    "start_time": "2022-02-13T18:42:22.632Z"
   },
   {
    "duration": 51,
    "start_time": "2022-02-13T18:42:23.622Z"
   },
   {
    "duration": 1156,
    "start_time": "2022-02-13T18:42:23.676Z"
   },
   {
    "duration": 46,
    "start_time": "2022-02-13T18:42:24.835Z"
   },
   {
    "duration": 586,
    "start_time": "2022-02-13T18:42:24.883Z"
   },
   {
    "duration": -2327,
    "start_time": "2022-02-13T18:42:27.798Z"
   },
   {
    "duration": -2328,
    "start_time": "2022-02-13T18:42:27.801Z"
   },
   {
    "duration": -2330,
    "start_time": "2022-02-13T18:42:27.804Z"
   },
   {
    "duration": -2331,
    "start_time": "2022-02-13T18:42:27.807Z"
   },
   {
    "duration": -2333,
    "start_time": "2022-02-13T18:42:27.810Z"
   },
   {
    "duration": -2333,
    "start_time": "2022-02-13T18:42:27.812Z"
   },
   {
    "duration": -2335,
    "start_time": "2022-02-13T18:42:27.815Z"
   },
   {
    "duration": -2337,
    "start_time": "2022-02-13T18:42:27.818Z"
   },
   {
    "duration": -2339,
    "start_time": "2022-02-13T18:42:27.821Z"
   },
   {
    "duration": -2340,
    "start_time": "2022-02-13T18:42:27.824Z"
   },
   {
    "duration": -2342,
    "start_time": "2022-02-13T18:42:27.827Z"
   },
   {
    "duration": -2344,
    "start_time": "2022-02-13T18:42:27.830Z"
   },
   {
    "duration": -2346,
    "start_time": "2022-02-13T18:42:27.833Z"
   },
   {
    "duration": -2346,
    "start_time": "2022-02-13T18:42:27.835Z"
   },
   {
    "duration": -2348,
    "start_time": "2022-02-13T18:42:27.838Z"
   },
   {
    "duration": -2349,
    "start_time": "2022-02-13T18:42:27.841Z"
   },
   {
    "duration": -2368,
    "start_time": "2022-02-13T18:42:27.861Z"
   },
   {
    "duration": -2369,
    "start_time": "2022-02-13T18:42:27.864Z"
   },
   {
    "duration": -2371,
    "start_time": "2022-02-13T18:42:27.867Z"
   },
   {
    "duration": -2372,
    "start_time": "2022-02-13T18:42:27.870Z"
   },
   {
    "duration": -2375,
    "start_time": "2022-02-13T18:42:27.874Z"
   },
   {
    "duration": -2376,
    "start_time": "2022-02-13T18:42:27.876Z"
   },
   {
    "duration": -2379,
    "start_time": "2022-02-13T18:42:27.880Z"
   },
   {
    "duration": -2380,
    "start_time": "2022-02-13T18:42:27.883Z"
   },
   {
    "duration": 414,
    "start_time": "2022-02-13T18:43:25.910Z"
   },
   {
    "duration": 273,
    "start_time": "2022-02-13T18:44:38.914Z"
   },
   {
    "duration": 48330,
    "start_time": "2022-02-13T18:46:20.443Z"
   },
   {
    "duration": 781,
    "start_time": "2022-02-13T18:47:29.906Z"
   },
   {
    "duration": 337,
    "start_time": "2022-02-13T18:47:42.271Z"
   },
   {
    "duration": 417,
    "start_time": "2022-02-13T18:50:29.477Z"
   },
   {
    "duration": 489,
    "start_time": "2022-02-13T18:50:59.380Z"
   },
   {
    "duration": 461,
    "start_time": "2022-02-13T18:52:52.242Z"
   },
   {
    "duration": 307,
    "start_time": "2022-02-13T18:53:16.608Z"
   },
   {
    "duration": 707,
    "start_time": "2022-02-13T18:53:23.966Z"
   },
   {
    "duration": 780,
    "start_time": "2022-02-13T18:53:29.511Z"
   },
   {
    "duration": 15,
    "start_time": "2022-02-13T18:54:17.619Z"
   },
   {
    "duration": 353,
    "start_time": "2022-02-13T18:54:18.617Z"
   },
   {
    "duration": 9,
    "start_time": "2022-02-13T18:54:23.573Z"
   },
   {
    "duration": 342,
    "start_time": "2022-02-13T18:54:24.437Z"
   },
   {
    "duration": 10,
    "start_time": "2022-02-13T18:54:28.363Z"
   },
   {
    "duration": 420,
    "start_time": "2022-02-13T18:54:29.197Z"
   },
   {
    "duration": 10,
    "start_time": "2022-02-13T18:54:32.636Z"
   },
   {
    "duration": 366,
    "start_time": "2022-02-13T18:54:33.299Z"
   },
   {
    "duration": 16,
    "start_time": "2022-02-13T18:54:36.601Z"
   },
   {
    "duration": 546,
    "start_time": "2022-02-13T18:54:37.400Z"
   },
   {
    "duration": 583,
    "start_time": "2022-02-13T18:54:57.886Z"
   },
   {
    "duration": 11,
    "start_time": "2022-02-13T18:55:17.841Z"
   },
   {
    "duration": 533,
    "start_time": "2022-02-13T18:55:25.722Z"
   },
   {
    "duration": 348,
    "start_time": "2022-02-13T18:55:40.925Z"
   },
   {
    "duration": 6,
    "start_time": "2022-02-13T18:55:49.188Z"
   },
   {
    "duration": 7,
    "start_time": "2022-02-13T18:55:50.499Z"
   },
   {
    "duration": 276,
    "start_time": "2022-02-13T18:55:55.905Z"
   },
   {
    "duration": 279,
    "start_time": "2022-02-13T18:56:03.249Z"
   },
   {
    "duration": 277,
    "start_time": "2022-02-13T18:56:07.807Z"
   },
   {
    "duration": 19,
    "start_time": "2022-02-13T18:56:13.052Z"
   },
   {
    "duration": 15875,
    "start_time": "2022-02-13T18:56:17.964Z"
   },
   {
    "duration": 44874,
    "start_time": "2022-02-13T19:01:59.365Z"
   },
   {
    "duration": 39,
    "start_time": "2022-02-13T19:02:44.244Z"
   },
   {
    "duration": 30132,
    "start_time": "2022-02-13T19:03:45.575Z"
   },
   {
    "duration": 106002,
    "start_time": "2022-02-13T19:05:55.956Z"
   },
   {
    "duration": 967,
    "start_time": "2022-02-14T14:33:07.233Z"
   },
   {
    "duration": 44,
    "start_time": "2022-02-14T14:33:08.202Z"
   },
   {
    "duration": 11,
    "start_time": "2022-02-14T14:33:08.249Z"
   },
   {
    "duration": 27,
    "start_time": "2022-02-14T14:33:08.262Z"
   },
   {
    "duration": 3,
    "start_time": "2022-02-14T14:33:08.291Z"
   },
   {
    "duration": 43,
    "start_time": "2022-02-14T14:33:08.296Z"
   },
   {
    "duration": 8,
    "start_time": "2022-02-14T14:33:08.341Z"
   },
   {
    "duration": 11,
    "start_time": "2022-02-14T14:33:08.352Z"
   },
   {
    "duration": 18,
    "start_time": "2022-02-14T14:33:08.365Z"
   },
   {
    "duration": 6,
    "start_time": "2022-02-14T14:33:08.384Z"
   },
   {
    "duration": 3,
    "start_time": "2022-02-14T14:33:08.392Z"
   },
   {
    "duration": 50,
    "start_time": "2022-02-14T14:33:08.397Z"
   },
   {
    "duration": 15,
    "start_time": "2022-02-14T14:33:08.449Z"
   },
   {
    "duration": 4,
    "start_time": "2022-02-14T14:33:08.466Z"
   },
   {
    "duration": 6,
    "start_time": "2022-02-14T14:33:08.472Z"
   },
   {
    "duration": 19,
    "start_time": "2022-02-14T14:33:08.480Z"
   },
   {
    "duration": 32,
    "start_time": "2022-02-14T14:33:08.500Z"
   },
   {
    "duration": 16,
    "start_time": "2022-02-14T14:33:08.534Z"
   },
   {
    "duration": 11,
    "start_time": "2022-02-14T14:33:08.552Z"
   },
   {
    "duration": 220,
    "start_time": "2022-02-14T14:33:08.564Z"
   },
   {
    "duration": 233,
    "start_time": "2022-02-14T14:33:08.787Z"
   },
   {
    "duration": 16,
    "start_time": "2022-02-14T14:33:09.022Z"
   },
   {
    "duration": 277,
    "start_time": "2022-02-14T14:33:09.041Z"
   },
   {
    "duration": 204,
    "start_time": "2022-02-14T14:33:09.321Z"
   },
   {
    "duration": 6,
    "start_time": "2022-02-14T14:33:09.527Z"
   },
   {
    "duration": 10,
    "start_time": "2022-02-14T14:33:09.535Z"
   },
   {
    "duration": 9,
    "start_time": "2022-02-14T14:33:09.547Z"
   },
   {
    "duration": 235,
    "start_time": "2022-02-14T14:33:09.558Z"
   },
   {
    "duration": 227,
    "start_time": "2022-02-14T14:33:09.794Z"
   },
   {
    "duration": 331,
    "start_time": "2022-02-14T14:33:10.023Z"
   },
   {
    "duration": 386,
    "start_time": "2022-02-14T14:33:10.355Z"
   },
   {
    "duration": 9,
    "start_time": "2022-02-14T14:33:10.742Z"
   },
   {
    "duration": 317,
    "start_time": "2022-02-14T14:33:10.753Z"
   },
   {
    "duration": 281,
    "start_time": "2022-02-14T14:33:11.072Z"
   },
   {
    "duration": 640,
    "start_time": "2022-02-14T14:33:11.354Z"
   },
   {
    "duration": 34,
    "start_time": "2022-02-14T14:33:11.996Z"
   },
   {
    "duration": 829,
    "start_time": "2022-02-14T14:33:12.032Z"
   },
   {
    "duration": 25,
    "start_time": "2022-02-14T14:33:12.863Z"
   },
   {
    "duration": 397,
    "start_time": "2022-02-14T14:33:12.890Z"
   },
   {
    "duration": 265,
    "start_time": "2022-02-14T14:33:13.289Z"
   },
   {
    "duration": 274,
    "start_time": "2022-02-14T14:33:13.556Z"
   },
   {
    "duration": 350,
    "start_time": "2022-02-14T14:33:13.832Z"
   },
   {
    "duration": 6,
    "start_time": "2022-02-14T14:33:14.184Z"
   },
   {
    "duration": 195,
    "start_time": "2022-02-14T14:33:14.192Z"
   },
   {
    "duration": 6,
    "start_time": "2022-02-14T14:33:14.389Z"
   },
   {
    "duration": 203,
    "start_time": "2022-02-14T14:33:14.397Z"
   },
   {
    "duration": 6,
    "start_time": "2022-02-14T14:33:14.602Z"
   },
   {
    "duration": 193,
    "start_time": "2022-02-14T14:33:14.610Z"
   },
   {
    "duration": 7,
    "start_time": "2022-02-14T14:33:14.804Z"
   },
   {
    "duration": 205,
    "start_time": "2022-02-14T14:33:14.812Z"
   },
   {
    "duration": 15,
    "start_time": "2022-02-14T14:33:15.019Z"
   },
   {
    "duration": 207,
    "start_time": "2022-02-14T14:33:15.036Z"
   },
   {
    "duration": 7,
    "start_time": "2022-02-14T14:33:15.245Z"
   },
   {
    "duration": 204,
    "start_time": "2022-02-14T14:33:15.253Z"
   },
   {
    "duration": 5,
    "start_time": "2022-02-14T14:33:15.459Z"
   },
   {
    "duration": 7,
    "start_time": "2022-02-14T14:33:15.465Z"
   },
   {
    "duration": 170,
    "start_time": "2022-02-14T14:33:15.474Z"
   },
   {
    "duration": 163,
    "start_time": "2022-02-14T14:33:15.646Z"
   },
   {
    "duration": 157,
    "start_time": "2022-02-14T14:33:15.811Z"
   },
   {
    "duration": 11,
    "start_time": "2022-02-14T14:33:15.969Z"
   },
   {
    "duration": 20507,
    "start_time": "2022-02-14T14:33:15.981Z"
   },
   {
    "duration": 12,
    "start_time": "2022-02-14T14:33:36.490Z"
   },
   {
    "duration": 47850,
    "start_time": "2022-02-14T14:33:36.504Z"
   },
   {
    "duration": 1917,
    "start_time": "2022-02-14T14:58:45.846Z"
   },
   {
    "duration": 20,
    "start_time": "2022-02-14T14:58:55.134Z"
   },
   {
    "duration": 55,
    "start_time": "2022-02-14T15:58:02.062Z"
   },
   {
    "duration": 10,
    "start_time": "2022-02-14T15:58:06.450Z"
   },
   {
    "duration": 181,
    "start_time": "2022-02-14T15:58:13.341Z"
   },
   {
    "duration": 222,
    "start_time": "2022-02-14T15:59:38.084Z"
   },
   {
    "duration": 20,
    "start_time": "2022-02-14T15:59:45.549Z"
   },
   {
    "duration": 7,
    "start_time": "2022-02-14T15:59:57.469Z"
   },
   {
    "duration": 8,
    "start_time": "2022-02-14T16:00:05.023Z"
   },
   {
    "duration": 24,
    "start_time": "2022-02-14T16:00:09.495Z"
   },
   {
    "duration": 6,
    "start_time": "2022-02-14T16:00:16.345Z"
   },
   {
    "duration": 207,
    "start_time": "2022-02-14T16:00:23.724Z"
   },
   {
    "duration": 396,
    "start_time": "2022-02-14T16:01:14.777Z"
   },
   {
    "duration": 393,
    "start_time": "2022-02-14T16:01:22.037Z"
   },
   {
    "duration": 378,
    "start_time": "2022-02-14T16:01:37.568Z"
   },
   {
    "duration": 1404,
    "start_time": "2022-02-14T16:01:53.911Z"
   },
   {
    "duration": 218,
    "start_time": "2022-02-14T16:01:59.648Z"
   },
   {
    "duration": 221,
    "start_time": "2022-02-14T16:02:18.342Z"
   },
   {
    "duration": 215,
    "start_time": "2022-02-14T16:02:25.421Z"
   },
   {
    "duration": 220,
    "start_time": "2022-02-14T16:02:30.837Z"
   },
   {
    "duration": 10731,
    "start_time": "2022-02-14T16:04:44.381Z"
   },
   {
    "duration": 185,
    "start_time": "2022-02-14T16:05:56.550Z"
   },
   {
    "duration": 9781,
    "start_time": "2022-02-14T16:07:08.911Z"
   },
   {
    "duration": 322,
    "start_time": "2022-02-14T16:07:49.736Z"
   },
   {
    "duration": 19033,
    "start_time": "2022-02-14T16:08:06.466Z"
   },
   {
    "duration": 200,
    "start_time": "2022-02-14T16:09:24.375Z"
   },
   {
    "duration": 332,
    "start_time": "2022-02-14T16:11:11.434Z"
   }
  ],
  "kernelspec": {
   "display_name": "Python 3 (ipykernel)",
   "language": "python",
   "name": "python3"
  },
  "language_info": {
   "codemirror_mode": {
    "name": "ipython",
    "version": 3
   },
   "file_extension": ".py",
   "mimetype": "text/x-python",
   "name": "python",
   "nbconvert_exporter": "python",
   "pygments_lexer": "ipython3",
   "version": "3.9.5"
  },
  "toc": {
   "base_numbering": 1,
   "nav_menu": {},
   "number_sections": true,
   "sideBar": true,
   "skip_h1_title": true,
   "title_cell": "Table of Contents",
   "title_sidebar": "Contents",
   "toc_cell": false,
   "toc_position": {},
   "toc_section_display": true,
   "toc_window_display": true
  }
 },
 "nbformat": 4,
 "nbformat_minor": 2
}
